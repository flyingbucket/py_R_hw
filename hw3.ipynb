{
 "cells": [
  {
   "cell_type": "markdown",
   "metadata": {},
   "source": [
    "#hw3"
   ]
  },
  {
   "cell_type": "code",
   "execution_count": 1,
   "metadata": {},
   "outputs": [
    {
     "data": {
      "text/plain": [
       "{'brand': 'subaru', 'model': 'outback', 'color': 'blue', 'tow_package': True}"
      ]
     },
     "execution_count": 1,
     "metadata": {},
     "output_type": "execute_result"
    }
   ],
   "source": [
    "# 1. 汽车：编写一个函数，将一辆汽车的信息存储在一个字典中。这个函数总是接受制造商和型号，还接受任意数量的关键字实参。\n",
    "# 这样调用这个函数：提供必不可少的信息，以及两个名称—值对，如颜色和选装配件。这个函数必须能够像下面这样进行调用：\n",
    "# car = make_car('subaru', 'outback', color='blue', tow_package=True)\n",
    "\n",
    "def make_car(brand,model,**car_info):\n",
    "    car={}\n",
    "    car['brand']=brand\n",
    "    car['model']=model\n",
    "    for key,val in car_info.items():\n",
    "        car[key]=val\n",
    "    return car\n",
    "car = make_car('subaru', 'outback', color='blue', tow_package=True)\n",
    "car # 交互式打印\n"
   ]
  },
  {
   "cell_type": "code",
   "execution_count": 7,
   "metadata": {},
   "outputs": [
    {
     "name": "stdout",
     "output_type": "stream",
     "text": [
      "KFC\n",
      "fast food\n",
      "restaurant name: KFC, cuisine type: fast food\n",
      "KFC is open now\n"
     ]
    }
   ],
   "source": [
    "# 2. 餐馆：创建一个名为Restaurant 的类，其方法__init__()设置两个属性：restaurant_name 和cuisine_type。\n",
    "# 创建一个名为describe_restaurant()的方法和一个名为open_restaurant()的方法，其中前者打印前述两项信息，\n",
    "# 而后者打印一条消息，指出餐馆正在营业。\n",
    "# 根据这个类创建一个名为restaurant 的实例，分别打印其两个属性，再调用前述两个方法。\n",
    "class Restaurant():\n",
    "    def __init__(self,name,type,number_served=0):\n",
    "        self.restaurant_name=name\n",
    "        self.cuisine_type=type\n",
    "        self.number_served=number_served\n",
    "\n",
    "    def describe_restaurant(self):\n",
    "        print(f\"restaurant name: {self.restaurant_name}, cuisine type: {self.cuisine_type}\")\n",
    "    \n",
    "    def open_restaurant(self):\n",
    "        print(f\"{self.restaurant_name} is open now\")\n",
    "    \n",
    "    def set_number_served(self,number):\n",
    "        self.number_served=number\n",
    "    \n",
    "    def increment_number_served(self,number):\n",
    "        self.number_served+=number\n",
    "\n",
    "restaurant = Restaurant('KFC','fast food')\n",
    "print(restaurant.restaurant_name)\n",
    "print(restaurant.cuisine_type)\n",
    "restaurant.describe_restaurant()\n",
    "restaurant.open_restaurant()\n"
   ]
  },
  {
   "cell_type": "code",
   "execution_count": 3,
   "metadata": {},
   "outputs": [
    {
     "name": "stdout",
     "output_type": "stream",
     "text": [
      "restaurant name: KFC, cuisine type: fast food\n",
      "restaurant name: McDonald, cuisine type: fast food\n",
      "restaurant name: Pizza Hut, cuisine type: Italian food\n"
     ]
    }
   ],
   "source": [
    "# 3. 三家餐馆：根据你为完成练习2而编写的类创建三个实例，并对每个实例调用方法describe_restaurant()。\n",
    "restaurant1 = Restaurant('KFC','fast food')\n",
    "restaurant2 = Restaurant('McDonald','fast food')\n",
    "restaurant3 = Restaurant('Pizza Hut','Italian food')\n",
    "restaurant1.describe_restaurant()\n",
    "restaurant2.describe_restaurant()\n",
    "restaurant3.describe_restaurant()"
   ]
  },
  {
   "cell_type": "code",
   "execution_count": 9,
   "metadata": {},
   "outputs": [
    {
     "name": "stdout",
     "output_type": "stream",
     "text": [
      "first name: Tom, last name: Lee\n",
      "login_attempts: 0\n",
      "age: 10\n",
      "gender: F\n",
      "Hello, Tom Lee\n",
      "\n",
      "first name: Jerry, last name: Lee\n",
      "login_attempts: 0\n",
      "hobby: running\n",
      "Hello, Jerry Lee\n",
      "\n"
     ]
    }
   ],
   "source": [
    "# 4.用户：创建一个名为User 的类，其中包含属性first_name 和last_name，还有用户简介通常会存储的其他几个属性。\n",
    "# 在类User 中定义一个名为describe_user()的方法，它打印用户信息摘要；\n",
    "# 再定义一个名为greet_user()的方法，它向用户发出个性化的问候。\n",
    "# 创建多个表示不同用户的实例，并对每个实例都调用上述两个方法。\n",
    "class User():\n",
    "    def __init__(self,first_name,last_name,login_attempts=0,**user_info):\n",
    "        self.first_name=first_name\n",
    "        self.last_name=last_name\n",
    "        self.login_attempts=login_attempts\n",
    "        self.__dict__.update(user_info)\n",
    "        \n",
    "    \n",
    "    def describe_user(self):\n",
    "        print(f\"first name: {self.first_name}, last name: {self.last_name}\")\n",
    "        for key in self.__dict__.keys():\n",
    "            if key not in ['first_name','last_name']:\n",
    "                print(f\"{key}: {getattr(self,key)}\")\n",
    "    \n",
    "    def greet_user(self):\n",
    "        print(f\"Hello, {self.first_name} {self.last_name}\\n\")\n",
    "\n",
    "    def increment_login_attempts(self):\n",
    "        self.login_attempts+=1\n",
    "    \n",
    "    def reset_login_attempts(self): \n",
    "        self.login_attempts=0\n",
    "        \n",
    "user1 = User('Tom','Lee',age=10,gender='F')\n",
    "user2 = User('Jerry','Lee',hobby='running')\n",
    "user1.describe_user()\n",
    "user1.greet_user()\n",
    "user2.describe_user()\n",
    "user2.greet_user()"
   ]
  },
  {
   "cell_type": "code",
   "execution_count": null,
   "metadata": {},
   "outputs": [
    {
     "name": "stdout",
     "output_type": "stream",
     "text": [
      "0\n",
      "10\n",
      "30\n"
     ]
    }
   ],
   "source": [
    "# 5. 就餐人数：在为完成练习2 而编写的程序中，添加一个名为number_served的属性，并将其默认值设置为0。\n",
    "# 根据这个类创建一个名为restaurant 的实例；打印有多少人在这家餐馆就餐过，然后修改这个值并再次打印它。\n",
    "# 添加一个名为set_number_served()的方法，它让你能够设置就餐人数。调用这个方法并向它传递一个值，\n",
    "# 然后再次打印这个值。添加一个名为increment_number_served()的方法，它让你能够将就餐人数递增。\n",
    "# 调用这个方法并向它传递一个这样的值：你认为这家餐馆每天可能接待的就餐人数。\n",
    "\n",
    "\n",
    "# 题目要求的属性和方法在第二题处添加了，没有在这个cell重新定义类，需要先运行第二题的cell\n",
    "\n",
    "restaurant = Restaurant('KFC','fast food')\n",
    "print(restaurant.number_served)\n",
    "restaurant.set_number_served(10)\n",
    "print(restaurant.number_served)\n",
    "restaurant.increment_number_served(20)\n",
    "print(restaurant.number_served)"
   ]
  },
  {
   "cell_type": "code",
   "execution_count": 10,
   "metadata": {},
   "outputs": [
    {
     "name": "stdout",
     "output_type": "stream",
     "text": [
      "0\n",
      "5\n",
      "0\n"
     ]
    }
   ],
   "source": [
    "# 6. 尝试登录次数：在为完成练习4 而编写的User 类中，添加一个名为login_attempts 的属性。\n",
    "# 编写一个名为increment_login_attempts()的方法，它将属性login_attempts 的值加1。\n",
    "# 再编写一个名为reset_login_attempts()的方法，它将属性login_attempts 的值重置为0。\n",
    "# 根据User 类创建一个实例，再调用方法increment_login_attempts()多次。\n",
    "# 打印属性login_attempts 的值，确认它被正确地递增；然后，调用方法reset_login_attempts()，\n",
    "# 并再次打印属性login_attempts 的值，确认它被重置为0。\n",
    "\n",
    "# 题目要求的属性和方法在第四题处添加了，没有在这个cell重新定义类，需要先运行第四题的cell\n",
    "user3=User('Tom','Smith')\n",
    "print(user3.login_attempts)\n",
    "for i in range(5):\n",
    "    user3.increment_login_attempts()\n",
    "print(user3.login_attempts)\n",
    "user3.reset_login_attempts()\n",
    "print(user3.login_attempts)"
   ]
  }
 ],
 "metadata": {
  "kernelspec": {
   "display_name": "base",
   "language": "python",
   "name": "python3"
  },
  "language_info": {
   "codemirror_mode": {
    "name": "ipython",
    "version": 3
   },
   "file_extension": ".py",
   "mimetype": "text/x-python",
   "name": "python",
   "nbconvert_exporter": "python",
   "pygments_lexer": "ipython3",
   "version": "3.12.7"
  }
 },
 "nbformat": 4,
 "nbformat_minor": 2
}

{
 "cells": [
  {
   "cell_type": "markdown",
   "id": "86e7cc44",
   "metadata": {},
   "source": [
    "# hw4"
   ]
  },
  {
   "cell_type": "markdown",
   "id": "1f682258",
   "metadata": {},
   "source": [
    "#1.\u51b0\u6dc7\u6dcb\u5c0f\u5e97\uff1a\u51b0\u6dc7\u6dcb\u5c0f\u5e97\u662f\u4e00\u79cd\u7279\u6b8a\u7684\u9910\u9986\u3002\u7f16\u5199\u4e00\u4e2a\u540d\u4e3aIceCreamStand \u7684\n",
    "\u7c7b\uff0c\u8ba9\u5b83\u7ee7\u627f\u4f60\u4e3a\u5b8c\u6210\u7b2c\u4e09\u6b21\u4f5c\u4e1a\u7ec3\u4e602 \u6216\u7ec3\u4e605 \u800c\u7f16\u5199\u7684Restaurant \u7c7b\u3002\u8fd9\u4e24\u4e2a\u7248\u672c\u7684\n",
    "Restaurant \u7c7b\u90fd\u53ef\u4ee5\uff0c\u6311\u9009\u4f60\u66f4\u559c\u6b22\u7684\u90a3\u4e2a\u5373\u53ef\u3002\u6dfb\u52a0\u4e00\u4e2a\u540d\u4e3aflavors \u7684\u5c5e\u6027\uff0c\u7528\u4e8e\n",
    "\u5b58\u50a8\u4e00\u4e2a\u7531\u5404\u79cd\u53e3\u5473\u7684\u51b0\u6dc7\u6dcb\u7ec4\u6210\u7684\u5217\u8868\u3002\u7f16\u5199\u4e00\u4e2a\u663e\u793a\u8fd9\u4e9b\u51b0\u6dc7\u6dcb\u7684\u65b9\u6cd5\u3002\u521b\u5efa\u4e00\u4e2a\n",
    "IceCreamStand \u5b9e\u4f8b\uff0c\u5e76\u8c03\u7528\u8fd9\u4e2a\u65b9\u6cd5\u3002"
   ]
  },
  {
   "cell_type": "code",
   "execution_count": 1,
   "id": "a06d8842",
   "metadata": {
    "title": "cell 1"
   },
   "outputs": [
    {
     "name": "stdout",
     "output_type": "stream",
     "text": [
      "['coco', 'strawberry']\n"
     ]
    }
   ],
   "source": [
    "\n",
    "\n",
    "class Restaurant:\n",
    "    def __init__(self, name, type, number_served=0):\n",
    "        self.restaurant_name = name\n",
    "        self.cuisine_type = type\n",
    "        self.number_served = number_served\n",
    "\n",
    "    def describe_restaurant(self):\n",
    "        print(\n",
    "            f\"restaurant name: {self.restaurant_name}, cuisine type: {self.cuisine_type}\"\n",
    "        )\n",
    "\n",
    "    def open_restaurant(self):\n",
    "        print(f\"{self.restaurant_name} is open now\")\n",
    "\n",
    "    def set_number_served(self, number):\n",
    "        self.number_served = number\n",
    "\n",
    "    def increment_number_served(self, number):\n",
    "        self.number_served += number\n",
    "\n",
    "\n",
    "class IceCreamStand(Restaurant):\n",
    "    def __init__(self, name, type, flavors, number_served=0):\n",
    "        super().__init__(name, type, number_served)\n",
    "        self.flavors = flavors\n",
    "\n",
    "    def get_flavors(self):\n",
    "        print(self.flavors)\n",
    "\n",
    "\n",
    "ice_cream_stand = IceCreamStand(\"DQ\", \"ice_cream\", [\"coco\", \"strawberry\"])\n",
    "ice_cream_stand.get_flavors()"
   ]
  },
  {
   "cell_type": "markdown",
   "id": "0a3cb7db",
   "metadata": {
    "lines_to_next_cell": 2
   },
   "source": [
    "2.\u7ba1\u7406\u5458\uff1a\u7ba1\u7406\u5458\u662f\u4e00\u79cd\u7279\u6b8a\u7684\u7528\u6237\u3002\u7f16\u5199\u4e00\u4e2a\u540d\u4e3aAdmin \u7684\u7c7b\uff0c\u8ba9\u5b83\u7ee7\u627f\u4f60\u4e3a\n",
    "\u5b8c\u6210\u7b2c\u4e09\u6b21\u4f5c\u4e1a\u4e2d\u7ec3\u4e604 \u6216\u7ec3\u4e606 \u800c\u7f16\u5199\u7684User \u7c7b\u3002\u6dfb\u52a0\u4e00\u4e2a\u540d\u4e3aprivileges \u7684\u5c5e\u6027\uff0c\u7528\u4e8e\u5b58\n",
    "\u50a8\u4e00\u4e2a\u7531\u5b57\u7b26\u4e32\uff08\u5982\"can add post\"\u3001\"can delete post\"\u3001\"can ban user\"\u7b49\uff09\u7ec4\u6210\u7684\n",
    "\u5217\u8868\u3002\u7f16\u5199\u4e00\u4e2a\u540d\u4e3ashow_privileges()\u7684\u65b9\u6cd5\uff0c\u5b83\u663e\u793a\u7ba1\u7406\u5458\u7684\u6743\u9650\u3002\u521b\u5efa\u4e00\u4e2aAdmin\n",
    "\u5b9e\u4f8b\uff0c\u5e76\u8c03\u7528\u8fd9\u4e2a\u65b9\u6cd5\u3002"
   ]
  },
  {
   "cell_type": "code",
   "execution_count": 2,
   "id": "a60e08c3",
   "metadata": {
    "title": "cell 2"
   },
   "outputs": [
    {
     "name": "stdout",
     "output_type": "stream",
     "text": [
      "['can add post', 'can delete post', 'can ban user']\n"
     ]
    }
   ],
   "source": [
    "class User:\n",
    "    def __init__(self, first_name, last_name, login_attempts=0, **user_info):\n",
    "        self.first_name = first_name\n",
    "        self.last_name = last_name\n",
    "        self.login_attempts = login_attempts\n",
    "        self.__dict__.update(user_info)\n",
    "\n",
    "    def describe_user(self):\n",
    "        print(f\"first name: {self.first_name}, last name: {self.last_name}\")\n",
    "        for key in self.__dict__.keys():\n",
    "            if key not in [\"first_name\", \"last_name\"]:\n",
    "                print(f\"{key}: {getattr(self, key)}\")\n",
    "\n",
    "    def greet_user(self):\n",
    "        print(f\"Hello, {self.first_name} {self.last_name}\\n\")\n",
    "\n",
    "    def increment_login_attempts(self):\n",
    "        self.login_attempts += 1\n",
    "\n",
    "    def reset_login_attempts(self):\n",
    "        self.login_attempts = 0\n",
    "\n",
    "\n",
    "class Admin(User):\n",
    "    def __init__(\n",
    "        self, first_name, last_name, privileges, login_attempts=0, **user_info\n",
    "    ):\n",
    "        super().__init__(first_name, last_name, login_attempts, **user_info)\n",
    "        self.privileges = privileges\n",
    "\n",
    "    def show_privileges(self):\n",
    "        print(self.privileges)\n",
    "\n",
    "\n",
    "admin = Admin(\"John\", \"Marston\", [\"can add post\", \"can delete post\", \"can ban user\"])\n",
    "admin.show_privileges()"
   ]
  },
  {
   "cell_type": "markdown",
   "id": "e99707c2",
   "metadata": {
    "lines_to_next_cell": 2
   },
   "source": [
    "3.\u6743\u9650\uff1a\u7f16\u5199\u4e00\u4e2a\u540d\u4e3aPrivileges \u7684\u7c7b\uff0c\u5b83\u53ea\u6709\u4e00\u4e2a\u5c5e\u6027\u2014\u2014privileges\uff0c\u5176\u4e2d\n",
    "\u5b58\u50a8\u4e86\u7ec3\u4e602\u6240\u8bf4\u7684\u5b57\u7b26\u4e32\u5217\u8868\u3002\u5c06\u65b9\u6cd5show_privileges()\u79fb\u5230\u8fd9\u4e2a\u7c7b\u4e2d\u3002\u5728Admin\n",
    "\u7c7b\u4e2d\uff0c\u5c06\u4e00\u4e2aPrivileges \u5b9e\u4f8b\u7528\u4f5c\u5176\u5c5e\u6027\u3002\u521b\u5efa\u4e00\u4e2aAdmin \u5b9e\u4f8b\uff0c\u5e76\u4f7f\u7528\u65b9\u6cd5\n",
    "show_privileges()\u6765\u663e\u793a\u5176\u6743\u9650\u3002"
   ]
  },
  {
   "cell_type": "code",
   "execution_count": 3,
   "id": "64faf14e",
   "metadata": {},
   "outputs": [
    {
     "name": "stdout",
     "output_type": "stream",
     "text": [
      "<__main__.Privileges object at 0x7790635a0b60>\n"
     ]
    }
   ],
   "source": [
    "class Privileges:\n",
    "    def __init__(self, privileges):\n",
    "        self.privileges = privileges\n",
    "\n",
    "\n",
    "privileges = Privileges(\n",
    "    [\"can add post\", \"can delete post\", \"can ban user\", \"can delete user\"]\n",
    ")\n",
    "admin = Admin(\"John\", \"Marston\", privileges)\n",
    "admin.show_privileges()"
   ]
  },
  {
   "cell_type": "markdown",
   "id": "2b062528",
   "metadata": {},
   "source": []
  }
 ],
 "metadata": {
  "kernelspec": {
   "display_name": "base",
   "language": "python3",
   "name": "python3"
  }
 },
 "nbformat": 4,
 "nbformat_minor": 5
}

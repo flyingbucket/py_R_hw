{
 "cells": [
  {
   "cell_type": "code",
   "execution_count": 2,
   "id": "71eeb9ba",
   "metadata": {},
   "outputs": [],
   "source": [
    "import numpy as np\n",
    "import matplotlib.pyplot as plt"
   ]
  },
  {
   "cell_type": "code",
   "execution_count": 3,
   "id": "1fc860c1",
   "metadata": {
    "lines_to_next_cell": 0
   },
   "outputs": [
    {
     "data": {
      "text/plain": [
       "<Figure size 640x480 with 1 Axes>"
      ]
     },
     "execution_count": 3,
     "metadata": {},
     "output_type": "display_data"
    }
   ],
   "source": [
    "x = np.linspace(0, 10, 100)\n",
    "y = np.sin(x)\n",
    "plt.plot(x, y)\n",
    "plt.show()"
   ]
  },
  {
   "cell_type": "code",
   "execution_count": 12,
   "id": "ccc19c4d",
   "metadata": {},
   "outputs": [
    {
     "data": {
      "text/plain": [
       "   Angle (degrees)      Sine        Cosine\n0              0.0  0.000000  1.000000e+00\n1             10.0  0.173648  9.848078e-01\n2             20.0  0.342020  9.396926e-01\n3             30.0  0.500000  8.660254e-01\n4             40.0  0.642788  7.660444e-01\n5             50.0  0.766044  6.427876e-01\n6             60.0  0.866025  5.000000e-01\n7             70.0  0.939693  3.420201e-01\n8             80.0  0.984808  1.736482e-01\n9             90.0  1.000000  6.123234e-17"
      ]
     },
     "execution_count": 12,
     "metadata": {},
     "output_type": "execute_result"
    }
   ],
   "source": [
    "import pandas as pd\n",
    "import numpy as np\n",
    "\n",
    "# \u751f\u6210\u89d2\u5ea6\u6570\u636e\uff0c\u4ece 0 \u5230 90 \u5ea6\uff0c\u6bcf\u6b21\u589e\u52a0 10 \u5ea6\n",
    "angles = np.linspace(0, 90, 10)\n",
    "\n",
    "# \u8ba1\u7b97\u5bf9\u5e94\u7684\u6b63\u5f26\u548c\u4f59\u5f26\u503c\n",
    "sine_values = np.sin(np.radians(angles))\n",
    "cosine_values = np.cos(np.radians(angles))\n",
    "\n",
    "# \u521b\u5efa DataFrame\n",
    "df = pd.DataFrame({\n",
    "    'Angle (degrees)': angles,\n",
    "    'Sine': sine_values,\n",
    "    'Cosine': cosine_values\n",
    "})\n",
    "\n",
    "df"
   ]
  },
  {
   "cell_type": "code",
   "execution_count": 15,
   "metadata": {},
   "source": [
    "type(sine_values)"
   ],
   "outputs": [
    {
     "data": {
      "text/plain": [
       "numpy.ndarray"
      ]
     },
     "execution_count": 15,
     "metadata": {},
     "output_type": "execute_result"
    }
   ]
  }
 ],
 "metadata": {
  "jupytext": {
   "cell_metadata_filter": "-all",
   "main_language": "python",
   "notebook_metadata_filter": "-all"
  },
  "kernelspec": {
   "display_name": "base",
   "language": "python",
   "name": "python3"
  },
  "language_info": {
   "codemirror_mode": {
    "name": "ipython",
    "version": 3
   },
   "file_extension": ".py",
   "mimetype": "text/x-python",
   "name": "python",
   "nbconvert_exporter": "python",
   "pygments_lexer": "ipython3",
   "version": "3.12.7"
  }
 },
 "nbformat": 4,
 "nbformat_minor": 5
}

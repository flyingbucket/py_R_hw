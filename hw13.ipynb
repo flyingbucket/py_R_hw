{
 "cells": [
  {
   "cell_type": "markdown",
   "id": "74bce8f1",
   "metadata": {},
   "source": [
    "# hw13"
   ]
  },
  {
   "cell_type": "markdown",
   "id": "8599ee21",
   "metadata": {},
   "source": [
    "1. Write R code that takes a square character matrix and checks if any of the character strings on the diagonal (top left to bottom right) begin with the letter g, lowercase or uppercase. If satisfied, these specific entries should be overwritten with the string \"HERE\". Otherwise, the entire matrix should be replaced with an identity matrix of the same dimensions. try your code on the following matrices, checking the result each time:\n",
    "i. mymat <- matrix(as.character(1:16),4,4)\n",
    "ii. mymat <- matrix(c(\"DANDELION\",\"Hyacinthus\",\"Gerbera\",\"MARIGOLD\", \"geranium\",\"ligularia\",\"Pachysandra\",\"SNAPDRAGON\",\"GLADIOLUS\"),3,3)\n",
    "iii. mymat <- matrix(c(\"GREAT\",\"exercises\",\"right\",\"here\"),2,2,byrow=T)"
   ]
  },
  {
   "cell_type": "code",
   "execution_count": 1,
   "id": "08bee50b",
   "metadata": {
    "vscode": {
     "languageId": "r"
    }
   },
   "outputs": [],
   "source": [
    "process_matrix <- function(m) {\n",
    "  # 获取主对角线索引\n",
    "  diag_indices <- 1:nrow(m)\n",
    "  # 获取主对角线元素\n",
    "  diag_elements <- m[cbind(diag_indices, diag_indices)]\n",
    "  \n",
    "  # 检查是否有以 g 或 G 开头的元素\n",
    "  matches <- grepl(\"^[gG]\", diag_elements)\n",
    "  \n",
    "  if (any(matches)) {\n",
    "    # 将符合条件的位置替换为 \"HERE\"\n",
    "    m[cbind(diag_indices[matches], diag_indices[matches])] <- \"HERE\"\n",
    "    return(m)\n",
    "  } else {\n",
    "    # 返回相同大小的单位矩阵\n",
    "    return(diag(1, nrow(m)))\n",
    "  }\n",
    "}\n"
   ]
  },
  {
   "cell_type": "code",
   "execution_count": 2,
   "id": "ce3fde32",
   "metadata": {
    "vscode": {
     "languageId": "r"
    }
   },
   "outputs": [
    {
     "name": "stdout",
     "output_type": "stream",
     "text": [
      "     [,1] [,2] [,3] [,4]\n",
      "[1,]    1    0    0    0\n",
      "[2,]    0    1    0    0\n",
      "[3,]    0    0    1    0\n",
      "[4,]    0    0    0    1\n"
     ]
    }
   ],
   "source": [
    "# i\n",
    "mymat1 <- matrix(as.character(1:16), 4, 4)\n",
    "print(process_matrix(mymat1))\n"
   ]
  },
  {
   "cell_type": "code",
   "execution_count": 3,
   "id": "48107b48",
   "metadata": {
    "vscode": {
     "languageId": "r"
    }
   },
   "outputs": [
    {
     "name": "stdout",
     "output_type": "stream",
     "text": [
      "     [,1]         [,2]        [,3]         \n",
      "[1,] \"DANDELION\"  \"MARIGOLD\"  \"Pachysandra\"\n",
      "[2,] \"Hyacinthus\" \"HERE\"      \"SNAPDRAGON\" \n",
      "[3,] \"Gerbera\"    \"ligularia\" \"HERE\"       \n"
     ]
    }
   ],
   "source": [
    "# ii\n",
    "mymat2 <- matrix(c(\"DANDELION\", \"Hyacinthus\", \"Gerbera\", \n",
    "                   \"MARIGOLD\", \"geranium\", \"ligularia\", \n",
    "                   \"Pachysandra\", \"SNAPDRAGON\", \"GLADIOLUS\"), 3, 3)\n",
    "print(process_matrix(mymat2))\n",
    "\n"
   ]
  },
  {
   "cell_type": "code",
   "execution_count": 4,
   "id": "6b0c9d79",
   "metadata": {
    "vscode": {
     "languageId": "r"
    }
   },
   "outputs": [
    {
     "name": "stdout",
     "output_type": "stream",
     "text": [
      "     [,1]    [,2]       \n",
      "[1,] \"HERE\"  \"exercises\"\n",
      "[2,] \"right\" \"here\"     \n"
     ]
    }
   ],
   "source": [
    "# iii\n",
    "mymat3 <- matrix(c(\"GREAT\", \"exercises\", \"right\", \"here\"), 2, 2, byrow=TRUE)\n",
    "print(process_matrix(mymat3))\n"
   ]
  },
  {
   "cell_type": "markdown",
   "id": "7b5d5b76",
   "metadata": {},
   "source": [
    "2. Assume the object mynum will only ever be a single integer between 0 and 9. Use ifelse and switch to produce a command that takes in mynum and returns a matching character string for all possible values 0, 1, . . . , 9. Supplied with 3, for example, it should return \"three\"; supplied with 0, it should return \"zero\"."
   ]
  },
  {
   "cell_type": "code",
   "execution_count": 5,
   "id": "362acb89",
   "metadata": {
    "vscode": {
     "languageId": "r"
    }
   },
   "outputs": [
    {
     "name": "stdout",
     "output_type": "stream",
     "text": [
      "[1] \"three\"\n"
     ]
    }
   ],
   "source": [
    "mynum <- 3  \n",
    "\n",
    "# 使用 ifelse + switch 组合\n",
    "result <- ifelse(mynum %in% 0:9,\n",
    "                 switch(as.character(mynum),\n",
    "                        \"0\" = \"zero\",\n",
    "                        \"1\" = \"one\",\n",
    "                        \"2\" = \"two\",\n",
    "                        \"3\" = \"three\",\n",
    "                        \"4\" = \"four\",\n",
    "                        \"5\" = \"five\",\n",
    "                        \"6\" = \"six\",\n",
    "                        \"7\" = \"seven\",\n",
    "                        \"8\" = \"eight\",\n",
    "                        \"9\" = \"nine\"),\n",
    "                 NA)\n",
    "\n",
    "print(result)\n"
   ]
  },
  {
   "cell_type": "markdown",
   "id": "a00cd6ec",
   "metadata": {},
   "source": [
    "3. We used the command switch(EXPR=mystring,Homer=12,Marge=34,Bart=56,Lisa=78,Maggie=90, NA) to return a number based on the supplied value of a single character string. This line won’t work if mystring is a character vector. Write some code that will take a character vector and return a vector of the appropriate numeric values. Test it on the following vector:\n",
    "c(\"Peter\",\"Homer\",\"Lois\",\"Stewie\",\"Maggie\",\"Bart\")"
   ]
  },
  {
   "cell_type": "code",
   "execution_count": 6,
   "id": "c52bad7e",
   "metadata": {
    "vscode": {
     "languageId": "r"
    }
   },
   "outputs": [
    {
     "name": "stdout",
     "output_type": "stream",
     "text": [
      " Peter  Homer   Lois Stewie Maggie   Bart \n",
      "    NA     12     NA     NA     90     56 \n"
     ]
    }
   ],
   "source": [
    "names_vec <- c(\"Peter\", \"Homer\", \"Lois\", \"Stewie\", \"Maggie\", \"Bart\")\n",
    "\n",
    "result <- sapply(names_vec, function(mystring) {\n",
    "  switch(mystring,\n",
    "         \"Homer\" = 12,\n",
    "         \"Marge\" = 34,\n",
    "         \"Bart\" = 56,\n",
    "         \"Lisa\" = 78,\n",
    "         \"Maggie\" = 90,\n",
    "         NA)  \n",
    "})\n",
    "\n",
    "print(result)\n"
   ]
  },
  {
   "cell_type": "markdown",
   "id": "60ad765d",
   "metadata": {},
   "source": [
    "4. Convert the following for loop to an implicit loop that does exactly the same thing:\n",
    "matlist <- list(matrix(c(T,F,T,T),2,2),matrix(c(\"a\",\"c\",\"b\",\"z\",\"p\",\"q\"),3,2),matrix(1:8,2,4))\n",
    "matlist\n",
    "for(i in 1:length(matlist)){\n",
    "matlist[[i]] <- t(matlist[[i]])\n",
    "}\n",
    "matlist"
   ]
  },
  {
   "cell_type": "code",
   "execution_count": 7,
   "id": "2add2177",
   "metadata": {
    "vscode": {
     "languageId": "r"
    }
   },
   "outputs": [
    {
     "name": "stdout",
     "output_type": "stream",
     "text": [
      "[[1]]\n",
      "      [,1] [,2]\n",
      "[1,]  TRUE TRUE\n",
      "[2,] FALSE TRUE\n",
      "\n",
      "[[2]]\n",
      "     [,1] [,2]\n",
      "[1,] \"a\"  \"z\" \n",
      "[2,] \"c\"  \"p\" \n",
      "[3,] \"b\"  \"q\" \n",
      "\n",
      "[[3]]\n",
      "     [,1] [,2] [,3] [,4]\n",
      "[1,]    1    3    5    7\n",
      "[2,]    2    4    6    8\n",
      "\n",
      "[1] \"-----\"\n",
      "[[1]]\n",
      "     [,1]  [,2]\n",
      "[1,] TRUE FALSE\n",
      "[2,] TRUE  TRUE\n",
      "\n",
      "[[2]]\n",
      "     [,1] [,2] [,3]\n",
      "[1,] \"a\"  \"c\"  \"b\" \n",
      "[2,] \"z\"  \"p\"  \"q\" \n",
      "\n",
      "[[3]]\n",
      "     [,1] [,2]\n",
      "[1,]    1    2\n",
      "[2,]    3    4\n",
      "[3,]    5    6\n",
      "[4,]    7    8\n",
      "\n",
      "[1] \"-----\"\n",
      "[[1]]\n",
      "     [,1]  [,2]\n",
      "[1,] TRUE FALSE\n",
      "[2,] TRUE  TRUE\n",
      "\n",
      "[[2]]\n",
      "     [,1] [,2] [,3]\n",
      "[1,] \"a\"  \"c\"  \"b\" \n",
      "[2,] \"z\"  \"p\"  \"q\" \n",
      "\n",
      "[[3]]\n",
      "     [,1] [,2]\n",
      "[1,]    1    2\n",
      "[2,]    3    4\n",
      "[3,]    5    6\n",
      "[4,]    7    8\n",
      "\n"
     ]
    }
   ],
   "source": [
    "matlist <- list(\n",
    "  matrix(c(T,F,T,T), 2, 2),\n",
    "  matrix(c(\"a\",\"c\",\"b\",\"z\",\"p\",\"q\"), 3, 2),\n",
    "  matrix(1:8, 2, 4)\n",
    ")\n",
    "\n",
    "print(matlist)\n",
    "print(\"-----\")\n",
    "for(i in 1:length(matlist)){\n",
    "  matlist[[i]] <- t(matlist[[i]])\n",
    "}\n",
    "print(matlist)"
   ]
  },
  {
   "cell_type": "code",
   "execution_count": 8,
   "id": "c0f931e5",
   "metadata": {
    "vscode": {
     "languageId": "r"
    }
   },
   "outputs": [
    {
     "name": "stdout",
     "output_type": "stream",
     "text": [
      "[[1]]\n",
      "     [,1]  [,2]\n",
      "[1,] TRUE FALSE\n",
      "[2,] TRUE  TRUE\n",
      "\n",
      "[[2]]\n",
      "     [,1] [,2] [,3]\n",
      "[1,] \"a\"  \"c\"  \"b\" \n",
      "[2,] \"z\"  \"p\"  \"q\" \n",
      "\n",
      "[[3]]\n",
      "     [,1] [,2]\n",
      "[1,]    1    2\n",
      "[2,]    3    4\n",
      "[3,]    5    6\n",
      "[4,]    7    8\n",
      "\n"
     ]
    }
   ],
   "source": [
    "matlist <- list(\n",
    "  matrix(c(T,F,T,T), 2, 2),\n",
    "  matrix(c(\"a\",\"c\",\"b\",\"z\",\"p\",\"q\"), 3, 2),\n",
    "  matrix(1:8, 2, 4)\n",
    ")\n",
    "\n",
    "matlist <- lapply(matlist, t)\n",
    "\n",
    "print(matlist)"
   ]
  },
  {
   "cell_type": "markdown",
   "id": "557149be",
   "metadata": {},
   "source": [
    "5. Write a recursive version of a function implementing the nonnegative integer factorial operator. The stopping rule should return the value 1 if the supplied integer is 0. Confirm that your function produces the same results as earlier.\n",
    "i. 5 factorial is 120.\n",
    "ii. 120 factorial is 479;001;600.\n",
    "iii. 0 factorial is 1."
   ]
  },
  {
   "cell_type": "code",
   "execution_count": 9,
   "id": "633e1c9f",
   "metadata": {
    "vscode": {
     "languageId": "r"
    }
   },
   "outputs": [
    {
     "name": "stdout",
     "output_type": "stream",
     "text": [
      "[1] 120\n",
      "[1] 6.689503e+198\n",
      "[1] 6.689503e+198\n",
      "[1] 1\n"
     ]
    }
   ],
   "source": [
    "myfactorial <- function(n) {\n",
    "  if (n == 0) {\n",
    "    return(1)\n",
    "  } else {\n",
    "    return(n * myfactorial(n - 1))\n",
    "  }\n",
    "}\n",
    "\n",
    "factorial5 <- myfactorial(5)\n",
    "print(factorial5)\n",
    "factorial120 <- myfactorial(120)\n",
    "print(factorial120)\n",
    "factorial0<- myfactorial(0)\n",
    "print(factorial0)\n"
   ]
  },
  {
   "cell_type": "code",
   "execution_count": null,
   "id": "feae1974",
   "metadata": {
    "vscode": {
     "languageId": "r"
    }
   },
   "outputs": [],
   "source": []
  }
 ],
 "metadata": {
  "kernelspec": {
   "display_name": "R",
   "language": "R",
   "name": "ir"
  },
  "language_info": {
   "codemirror_mode": "r",
   "file_extension": ".r",
   "mimetype": "text/x-r-source",
   "name": "R",
   "pygments_lexer": "r",
   "version": "4.3.1"
  }
 },
 "nbformat": 4,
 "nbformat_minor": 5
}

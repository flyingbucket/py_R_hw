{
 "cells": [
  {
   "cell_type": "markdown",
   "id": "86e7cc44",
   "metadata": {},
   "source": [
    "# hw4"
   ]
  },
  {
   "cell_type": "markdown",
   "id": "1f682258",
   "metadata": {},
   "source": [
    "#1.冰淇淋小店：冰淇淋小店是一种特殊的餐馆。编写一个名为IceCreamStand 的\n",
    "类，让它继承你为完成第三次作业练习2 或练习5 而编写的Restaurant 类。这两个版本的\n",
    "Restaurant 类都可以，挑选你更喜欢的那个即可。添加一个名为flavors 的属性，用于\n",
    "存储一个由各种口味的冰淇淋组成的列表。编写一个显示这些冰淇淋的方法。创建一个\n",
    "IceCreamStand 实例，并调用这个方法。"
   ]
  },
  {
   "cell_type": "code",
   "execution_count": null,
   "id": "a06d8842",
   "metadata": {
    "title": "cell 1"
   },
   "outputs": [],
   "source": [
    "\n",
    "\n",
    "class Restaurant:\n",
    "    def __init__(self, name, type, number_served=0):\n",
    "        self.restaurant_name = name\n",
    "        self.cuisine_type = type\n",
    "        self.number_served = number_served\n",
    "\n",
    "    def describe_restaurant(self):\n",
    "        print(\n",
    "            f\"restaurant name: {self.restaurant_name}, cuisine type: {self.cuisine_type}\"\n",
    "        )\n",
    "\n",
    "    def open_restaurant(self):\n",
    "        print(f\"{self.restaurant_name} is open now\")\n",
    "\n",
    "    def set_number_served(self, number):\n",
    "        self.number_served = number\n",
    "\n",
    "    def increment_number_served(self, number):\n",
    "        self.number_served += number\n",
    "\n",
    "\n",
    "class IceCreamStand(Restaurant):\n",
    "    def __init__(self, name, type, flavors, number_served=0):\n",
    "        super().__init__(name, type, number_served)\n",
    "        self.flavors = flavors\n",
    "\n",
    "    def get_flavors(self):\n",
    "        print(self.flavors)\n",
    "\n",
    "\n",
    "ice_cream_stand = IceCreamStand(\"DQ\", \"ice_cream\", [\"coco\", \"strawberry\"])\n",
    "ice_cream_stand.get_flavors()"
   ]
  },
  {
   "cell_type": "markdown",
   "id": "0a3cb7db",
   "metadata": {
    "lines_to_next_cell": 2
   },
   "source": [
    "2.管理员：管理员是一种特殊的用户。编写一个名为Admin 的类，让它继承你为\n",
    "完成第三次作业中练习4 或练习6 而编写的User 类。添加一个名为privileges 的属性，用于存\n",
    "储一个由字符串（如\"can add post\"、\"can delete post\"、\"can ban user\"等）组成的\n",
    "列表。编写一个名为show_privileges()的方法，它显示管理员的权限。创建一个Admin\n",
    "实例，并调用这个方法。"
   ]
  },
  {
   "cell_type": "code",
   "execution_count": null,
   "id": "a60e08c3",
   "metadata": {
    "title": "cell 2"
   },
   "outputs": [],
   "source": [
    "class User:\n",
    "    def __init__(self, first_name, last_name, login_attempts=0, **user_info):\n",
    "        self.first_name = first_name\n",
    "        self.last_name = last_name\n",
    "        self.login_attempts = login_attempts\n",
    "        self.__dict__.update(user_info)\n",
    "\n",
    "    def describe_user(self):\n",
    "        print(f\"first name: {self.first_name}, last name: {self.last_name}\")\n",
    "        for key in self.__dict__.keys():\n",
    "            if key not in [\"first_name\", \"last_name\"]:\n",
    "                print(f\"{key}: {getattr(self, key)}\")\n",
    "\n",
    "    def greet_user(self):\n",
    "        print(f\"Hello, {self.first_name} {self.last_name}\\n\")\n",
    "\n",
    "    def increment_login_attempts(self):\n",
    "        self.login_attempts += 1\n",
    "\n",
    "    def reset_login_attempts(self):\n",
    "        self.login_attempts = 0\n",
    "\n",
    "\n",
    "class Admin(User):\n",
    "    def __init__(\n",
    "        self, first_name, last_name, privileges, login_attempts=0, **user_info\n",
    "    ):\n",
    "        super().__init__(first_name, last_name, login_attempts, **user_info)\n",
    "        self.privileges = privileges\n",
    "\n",
    "    def show_privileges(self):\n",
    "        print(self.privileges)\n",
    "\n",
    "\n",
    "admin = Admin(\"John\", \"Marston\", [\"can add post\", \"can delete post\", \"can ban user\"])\n",
    "admin.show_privileges()"
   ]
  },
  {
   "cell_type": "markdown",
   "id": "e99707c2",
   "metadata": {
    "lines_to_next_cell": 2
   },
   "source": [
    "3.权限：编写一个名为Privileges 的类，它只有一个属性——privileges，其中\n",
    "存储了练习2所说的字符串列表。将方法show_privileges()移到这个类中。在Admin\n",
    "类中，将一个Privileges 实例用作其属性。创建一个Admin 实例，并使用方法\n",
    "show_privileges()来显示其权限。"
   ]
  },
  {
   "cell_type": "code",
   "execution_count": null,
   "id": "64faf14e",
   "metadata": {},
   "outputs": [],
   "source": [
    "class Privileges:\n",
    "    def __init__(self, privileges):\n",
    "        self.privileges = privileges\n",
    "\n",
    "\n",
    "privileges = Privileges(\n",
    "    [\"can add post\", \"can delete post\", \"can ban user\", \"can delete user\"]\n",
    ")\n",
    "admin = Admin(\"John\", \"Marston\", privileges)\n",
    "admin.show_privileges()"
   ]
  },
  {
   "cell_type": "markdown",
   "id": "2b062528",
   "metadata": {},
   "source": []
  }
 ],
 "metadata": {
  "kernelspec": {
   "display_name": "base",
   "language": "python3",
   "name": "python3"
  }
 },
 "nbformat": 4,
 "nbformat_minor": 5
}

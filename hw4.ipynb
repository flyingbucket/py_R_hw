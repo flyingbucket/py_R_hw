{
 "cells": [
  {
   "cell_type": "markdown",
   "id": "13b5d2d7",
   "metadata": {},
   "source": [
    "%% [markdown]\n",
    "# hw4"
   ]
  },
  {
   "cell_type": "markdown",
   "id": "8bce3ef9",
   "metadata": {},
   "source": [
    "%% [markdown]"
   ]
  },
  {
   "cell_type": "markdown",
   "id": "ae0b4622",
   "metadata": {},
   "source": [
    "1.冰淇淋小店：冰淇淋小店是一种特殊的餐馆。编写一个名为IceCreamStand 的\n",
    "类，让它继承你为完成第三次作业练习2 或练习5 而编写的Restaurant 类。这两个版本的\n",
    "Restaurant 类都可以，挑选你更喜欢的那个即可。添加一个名为flavors 的属性，用于\n",
    "存储一个由各种口味的冰淇淋组成的列表。编写一个显示这些冰淇淋的方法。创建一个\n",
    "IceCreamStand 实例，并调用这个方法。"
   ]
  },
  {
   "cell_type": "code",
   "execution_count": null,
   "id": "d0c50277",
   "metadata": {},
   "outputs": [],
   "source": [
    "# %% cell 1\n",
    "import json\n",
    "import os"
   ]
  },
  {
   "cell_type": "code",
   "execution_count": null,
   "id": "88f375d8",
   "metadata": {},
   "outputs": [],
   "source": [
    "class Restaurant:\n",
    "    def __init__(self, name, type, number_served=0):\n",
    "        self.restaurant_name = name\n",
    "        self.cuisine_type = type\n",
    "        self.number_served = number_served\n",
    "\n",
    "    def describe_restaurant(self):\n",
    "        print(\n",
    "            f\"restaurant name: {self.restaurant_name}, cuisine type: {self.cuisine_type}\"\n",
    "        )\n",
    "\n",
    "    def open_restaurant(self):\n",
    "        print(f\"{self.restaurant_name} is open now\")\n",
    "\n",
    "    def set_number_served(self, number):\n",
    "        self.number_served = number\n",
    "\n",
    "    def increment_number_served(self, number):\n",
    "        self.number_served += number"
   ]
  },
  {
   "cell_type": "code",
   "execution_count": null,
   "id": "74286a2a",
   "metadata": {},
   "outputs": [],
   "source": [
    "class IceCreamStand(Restaurant):\n",
    "    def __init__(self, name, type, flavors, number_served=0):\n",
    "        super().__init__(name, type, number_served)\n",
    "        self.flavors = flavors\n",
    "\n",
    "    def get_flavors(self):\n",
    "        print(self.flavors)"
   ]
  },
  {
   "cell_type": "code",
   "execution_count": null,
   "id": "b4099ec2",
   "metadata": {},
   "outputs": [],
   "source": [
    "ice_cream_stand = IceCreamStand(\"DQ\", \"ice_cream\", [\"coco\", \"strawberry\"])\n",
    "ice_cream_stand.get_flavors()"
   ]
  },
  {
   "cell_type": "markdown",
   "id": "dae04295",
   "metadata": {},
   "source": [
    "%% [markdown]"
   ]
  },
  {
   "cell_type": "markdown",
   "id": "1c2be3e6",
   "metadata": {
    "lines_to_next_cell": 2
   },
   "source": [
    "2.管理员：管理员是一种特殊的用户。编写一个名为Admin 的类，让它继承你为\n",
    "完成第三次作业中练习4 或练习6 而编写的User 类。添加一个名为privileges 的属性，用于存\n",
    "储一个由字符串（如\"can add post\"、\"can delete post\"、\"can ban user\"等）组成的\n",
    "列表。编写一个名为show_privileges()的方法，它显示管理员的权限。创建一个Admin\n",
    "实例，并调用这个方法。"
   ]
  },
  {
   "cell_type": "code",
   "execution_count": null,
   "id": "02ff6c07",
   "metadata": {},
   "outputs": [],
   "source": [
    "# %% cell 2\n",
    "class User:\n",
    "    def __init__(self, first_name, last_name, login_attempts=0, **user_info):\n",
    "        self.first_name = first_name\n",
    "        self.last_name = last_name\n",
    "        self.login_attempts = login_attempts\n",
    "        self.__dict__.update(user_info)\n",
    "\n",
    "    def describe_user(self):\n",
    "        print(f\"first name: {self.first_name}, last name: {self.last_name}\")\n",
    "        for key in self.__dict__.keys():\n",
    "            if key not in [\"first_name\", \"last_name\"]:\n",
    "                print(f\"{key}: {getattr(self, key)}\")\n",
    "\n",
    "    def greet_user(self):\n",
    "        print(f\"Hello, {self.first_name} {self.last_name}\\n\")\n",
    "\n",
    "    def increment_login_attempts(self):\n",
    "        self.login_attempts += 1\n",
    "\n",
    "    def reset_login_attempts(self):\n",
    "        self.login_attempts = 0"
   ]
  },
  {
   "cell_type": "code",
   "execution_count": null,
   "id": "ea52d7db",
   "metadata": {},
   "outputs": [],
   "source": [
    "class Admin(User):\n",
    "    def __init__(\n",
    "        self, first_name, last_name, privileges, login_attempts=0, **user_info\n",
    "    ):\n",
    "        super().__init__(first_name, last_name, login_attempts, **user_info)\n",
    "        self.privileges = privileges\n",
    "\n",
    "    def show_privileges(self):\n",
    "        print(self.privileges)"
   ]
  },
  {
   "cell_type": "code",
   "execution_count": null,
   "id": "cb53cf7b",
   "metadata": {},
   "outputs": [],
   "source": [
    "admin = Admin(\"John\", \"Marston\", [\"can add post\", \"can delete post\", \"can ban user\"])\n",
    "admin.show_privileges()"
   ]
  },
  {
   "cell_type": "markdown",
   "id": "99174ebd",
   "metadata": {
    "lines_to_next_cell": 2
   },
   "source": [
    "%% [markdown]\n",
    "3.权限：编写一个名为Privileges 的类，它只有一个属性——privileges，其中\n",
    "存储了练习2所说的字符串列表。将方法show_privileges()移到这个类中。在Admin\n",
    "类中，将一个Privileges 实例用作其属性。创建一个Admin 实例，并使用方法\n",
    "show_privileges()来显示其权限。"
   ]
  },
  {
   "cell_type": "code",
   "execution_count": null,
   "id": "58db4480",
   "metadata": {},
   "outputs": [],
   "source": [
    "# %% cell 3\n",
    "class Privileges:\n",
    "    def __init__(self, privileges):\n",
    "        self.privileges = privileges"
   ]
  },
  {
   "cell_type": "code",
   "execution_count": null,
   "id": "f21c09f7",
   "metadata": {},
   "outputs": [],
   "source": [
    "privileges = Privileges(\n",
    "    [\"can add post\", \"can delete post\", \"can ban user\", \"can delete user\"]\n",
    ")\n",
    "admin = Admin(\"John\", \"Marston\", privileges)\n",
    "admin.show_privileges()"
   ]
  },
  {
   "cell_type": "markdown",
   "id": "e0ad18ca",
   "metadata": {},
   "source": [
    "4.编写一个 while 循环，提示用户输入其名字。用户输入其名字后，\n",
    "在屏幕上打印一句问候语，并将一条访问记录添加到文件 guest_book.txt 中。确保这个\n",
    "文件中的每条记录都独占一行."
   ]
  },
  {
   "cell_type": "code",
   "execution_count": null,
   "id": "151c7106",
   "metadata": {},
   "outputs": [],
   "source": [
    "# %% cell 4\n",
    "while True:\n",
    "    name = input(\"please enter your name,enter 'q' to quit\")\n",
    "    with open(\"gues_book.txt\", \"a\", encoding=\"utf-8\") as file:\n",
    "        if name.lower() != \"q\":\n",
    "            file.write(f\"{name} visited\")\n",
    "            print(f\"welcome {name}\\n\")\n",
    "        else:\n",
    "            print(\"quiting ...\")\n",
    "            break"
   ]
  },
  {
   "cell_type": "markdown",
   "id": "13714a44",
   "metadata": {},
   "source": [
    "%% [markdown]\n",
    "5.编写一个程序，提示用户输入他喜欢的数字，并使用\n",
    "json.dump()将这个数字存储到文件中。再编写一个程序，从文件中读取这个值，并打\n",
    "印消息“I know your favorite number! It’s _____.”。"
   ]
  },
  {
   "cell_type": "code",
   "execution_count": null,
   "id": "a8487286",
   "metadata": {},
   "outputs": [],
   "source": [
    "# %% cell 5\n",
    "f_num = input(\"entern your favourite number\")\n",
    "f_num = float(f_num)\n",
    "with open(\"favourite_number.json\", \"a\", encoding=\"utf-8\") as f_obj:\n",
    "    json.dump({\"favourite_number\": f_num}, f_obj)\n",
    "    f_obj.write(\"\\n\")\n",
    "with open(\"favourite_number.json\", \"r\", encoding=\"utf-8\") as f_obj:\n",
    "    data = json.load(f_obj)\n",
    "f_num = data[\"favourite_number\"]\n",
    "print(f\"I know your favorite number! It’s {f_num}\")"
   ]
  },
  {
   "cell_type": "markdown",
   "id": "8d0b106f",
   "metadata": {},
   "source": [
    "%% [markdown]\n",
    "6.将练习 5中的两个程序合而为一。如果存储了用户喜\n",
    "欢的数字，就向用户显示它，否则提示用户输入他喜欢的数字并将其存储到文件中。运\n",
    "行这个程序两次，看看它是否像预期的那样工作。"
   ]
  },
  {
   "cell_type": "code",
   "execution_count": null,
   "id": "6a208827",
   "metadata": {},
   "outputs": [],
   "source": [
    "# %% cell 6\n",
    "name = input(\"please enter your name\")"
   ]
  },
  {
   "cell_type": "code",
   "execution_count": null,
   "id": "9adf6e63",
   "metadata": {},
   "outputs": [],
   "source": [
    "if os.path.exists(\"favourite_number2.json\"):\n",
    "    with open(\"favourite_number2.json\", \"r\", encoding=\"utf-8\") as f_obj:\n",
    "        data = json.load(f_obj)\n",
    "        print(data)\n",
    "    for info in data:\n",
    "        if info[\"name\"] == name:\n",
    "            print(f\"your favourite number is {info['f_num']}\")\n",
    "        break\n",
    "    else:\n",
    "        f_num = input(\n",
    "            \"there is no info of your favourite number. please enter your favourite number \"\n",
    "        )\n",
    "        f_num = float(f_num)\n",
    "        new_info = {\"name\": name, \"f_num\": f_num}\n",
    "        with open(\"favourite_number2.json\", \"a\", encoding=\"utf-8\") as f_obj:\n",
    "            json.dump([new_info], f_obj)\n",
    "            f_obj.write(\"\\n\")\n",
    "else:\n",
    "    f_num = input(\n",
    "        \"there is no info of your favourite number. please enter your favourite number \"\n",
    "    )\n",
    "    f_num = float(f_num)\n",
    "    new_info = {\"name\": name, \"f_num\": f_num}\n",
    "    with open(\"favourite_number2.json\", \"a\", encoding=\"utf-8\") as f_obj:\n",
    "        json.dump([new_info], f_obj)\n",
    "        f_obj.write(\"\\n\")"
   ]
  }
 ],
 "metadata": {
  "jupytext": {
   "encoding": "# -*- coding: utf-8 -*-"
  },
  "kernelspec": {
   "display_name": "base",
   "language": "Python",
   "name": "python3"
  }
 },
 "nbformat": 4,
 "nbformat_minor": 5
}

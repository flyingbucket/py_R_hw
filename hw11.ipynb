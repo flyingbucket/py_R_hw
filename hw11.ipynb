{
 "cells": [
  {
   "cell_type": "markdown",
   "id": "7f34be77",
   "metadata": {},
   "source": [
    "# hw11"
   ]
  },
  {
   "cell_type": "code",
   "execution_count": 3,
   "id": "8d2db5d0",
   "metadata": {
    "vscode": {
     "languageId": "r"
    }
   },
   "outputs": [
    {
     "name": "stdout",
     "output_type": "stream",
     "text": [
      "The quick brown fox\n",
      "   jumps over\n",
      "        the lazy dog\n"
     ]
    }
   ],
   "source": [
    "cat(\"The quick brown fox\\n\",\"   jumps over\\n\",\"        the lazy dog\\n\",sep=\"\")"
   ]
  },
  {
   "cell_type": "markdown",
   "id": "a04c1680",
   "metadata": {
    "vscode": {
     "languageId": "r"
    }
   },
   "source": [
    "1(b) Store the string \"Two 6-packs for $16.99\". Then do the following:\n",
    "\n",
    "i. Use a check for equality to confirm that the substring beginning with character 5 and ending with character 10 is \"6-pack\".\n",
    "\n",
    "ii. Make it a better deal by changing the price to $14.99."
   ]
  },
  {
   "cell_type": "code",
   "execution_count": 5,
   "id": "746ee5e3",
   "metadata": {
    "vscode": {
     "languageId": "r"
    }
   },
   "outputs": [
    {
     "data": {
      "text/html": [
       "TRUE"
      ],
      "text/latex": [
       "TRUE"
      ],
      "text/markdown": [
       "TRUE"
      ],
      "text/plain": [
       "[1] TRUE"
      ]
     },
     "metadata": {},
     "output_type": "display_data"
    },
    {
     "name": "stdout",
     "output_type": "stream",
     "text": [
      "Two 6-packs for $14.99"
     ]
    }
   ],
   "source": [
    "deal <- \"Two 6-packs for $16.99\"\n",
    "substring(deal, 5, 10) == \"6-pack\"\n",
    "deal <- sub(\"\\\\$16.99\", \"$14.99\", deal)\n",
    "cat(deal)\n"
   ]
  },
  {
   "cell_type": "markdown",
   "id": "49b54387",
   "metadata": {
    "vscode": {
     "languageId": "r"
    }
   },
   "source": [
    "2 Create a list that contains, in this order, a sequence of 20 evenly spaced numbers between -4 and 4; a 3 * 3 matrix of the logical vector c(F,T,T,T,F,T,T,F,F) filled column-wise; a character vector with the two strings \"don\" and \"quixote\"; and a factor vector containing the observations c(\"LOW\",\"MED\",\"LOW\",\"MED\",\"MED\",\"HIGH\"). Then, do the following:"
   ]
  },
  {
   "cell_type": "code",
   "execution_count": 6,
   "id": "007cb156",
   "metadata": {
    "vscode": {
     "languageId": "r"
    }
   },
   "outputs": [],
   "source": [
    "seq_vec <- seq(-4, 4, length.out = 20)\n",
    "\n",
    "logic_vec <- c(FALSE, TRUE, TRUE, TRUE, FALSE, TRUE, TRUE, FALSE, FALSE)\n",
    "logic_mat <- matrix(logic_vec, nrow = 3, ncol = 3, byrow = FALSE)\n",
    "\n",
    "char_vec <- c(\"don\", \"quixote\")\n",
    "\n",
    "fact_vec <- factor(c(\"LOW\", \"MED\", \"LOW\", \"MED\", \"MED\", \"HIGH\"), levels = c(\"LOW\", \"MED\", \"HIGH\"))\n",
    "\n",
    "my_list <- list(seq_vec, logic_mat, char_vec, fact_vec)\n"
   ]
  },
  {
   "cell_type": "code",
   "execution_count": 7,
   "id": "1f96c89d",
   "metadata": {
    "vscode": {
     "languageId": "r"
    }
   },
   "outputs": [
    {
     "data": {
      "text/html": [
       "<style>\n",
       ".list-inline {list-style: none; margin:0; padding: 0}\n",
       ".list-inline>li {display: inline-block}\n",
       ".list-inline>li:not(:last-child)::after {content: \"\\00b7\"; padding: 0 .5ex}\n",
       "</style>\n",
       "<ol class=list-inline><li>FALSE</li><li>TRUE</li><li>FALSE</li><li>TRUE</li></ol>\n"
      ],
      "text/latex": [
       "\\begin{enumerate*}\n",
       "\\item FALSE\n",
       "\\item TRUE\n",
       "\\item FALSE\n",
       "\\item TRUE\n",
       "\\end{enumerate*}\n"
      ],
      "text/markdown": [
       "1. FALSE\n",
       "2. TRUE\n",
       "3. FALSE\n",
       "4. TRUE\n",
       "\n",
       "\n"
      ],
      "text/plain": [
       "[1] FALSE  TRUE FALSE  TRUE"
      ]
     },
     "metadata": {},
     "output_type": "display_data"
    }
   ],
   "source": [
    "extracted_elements <- c(\n",
    "  my_list[[2]][2, 2],  \n",
    "  my_list[[2]][1, 2],  \n",
    "  my_list[[2]][2, 3],  \n",
    "  my_list[[2]][1, 3]   \n",
    ")\n",
    "extracted_elements\n"
   ]
  },
  {
   "cell_type": "code",
   "execution_count": 9,
   "id": "23bda49b",
   "metadata": {
    "vscode": {
     "languageId": "r"
    }
   },
   "outputs": [
    {
     "name": "stdout",
     "output_type": "stream",
     "text": [
      "Windmill!ATTACK!\n",
      "             -\\DonQuixote/-\n"
     ]
    }
   ],
   "source": [
    "char_vec <- my_list[[3]]\n",
    "\n",
    "char_vec <- sub(\"^quixote$\", \"Quixote\", char_vec)\n",
    "char_vec <- sub(\"^don$\", \"Don\", char_vec)\n",
    "\n",
    "my_list[[3]] <- char_vec\n",
    "\n",
    "cat(\"Windmill!ATTACK!\\n\",\n",
    "    \"             -\\\\\", char_vec[1], char_vec[2], \"/-\\n\", sep = \"\")\n"
   ]
  },
  {
   "cell_type": "markdown",
   "id": "b2bd4c6e",
   "metadata": {
    "vscode": {
     "languageId": "r"
    }
   },
   "source": [
    "iii. Obtain all values from the sequence between -4 and 4 that are greater than 1.\n",
    "\n",
    "iv. Determine which values in the factor vector are assigned the \"MED\" level."
   ]
  },
  {
   "cell_type": "code",
   "execution_count": 10,
   "id": "e2aaa5c4",
   "metadata": {
    "vscode": {
     "languageId": "r"
    }
   },
   "outputs": [
    {
     "data": {
      "text/html": [
       "<style>\n",
       ".list-inline {list-style: none; margin:0; padding: 0}\n",
       ".list-inline>li {display: inline-block}\n",
       ".list-inline>li:not(:last-child)::after {content: \"\\00b7\"; padding: 0 .5ex}\n",
       "</style>\n",
       "<ol class=list-inline><li>1.05263157894737</li><li>1.47368421052632</li><li>1.89473684210526</li><li>2.31578947368421</li><li>2.73684210526316</li><li>3.1578947368421</li><li>3.57894736842105</li><li>4</li></ol>\n"
      ],
      "text/latex": [
       "\\begin{enumerate*}\n",
       "\\item 1.05263157894737\n",
       "\\item 1.47368421052632\n",
       "\\item 1.89473684210526\n",
       "\\item 2.31578947368421\n",
       "\\item 2.73684210526316\n",
       "\\item 3.1578947368421\n",
       "\\item 3.57894736842105\n",
       "\\item 4\n",
       "\\end{enumerate*}\n"
      ],
      "text/markdown": [
       "1. 1.05263157894737\n",
       "2. 1.47368421052632\n",
       "3. 1.89473684210526\n",
       "4. 2.31578947368421\n",
       "5. 2.73684210526316\n",
       "6. 3.1578947368421\n",
       "7. 3.57894736842105\n",
       "8. 4\n",
       "\n",
       "\n"
      ],
      "text/plain": [
       "[1] 1.052632 1.473684 1.894737 2.315789 2.736842 3.157895 3.578947 4.000000"
      ]
     },
     "metadata": {},
     "output_type": "display_data"
    }
   ],
   "source": [
    "seq_nums <- my_list[[1]]\n",
    "values_gt_1 <- seq_nums[seq_nums > 1]\n",
    "values_gt_1\n"
   ]
  },
  {
   "cell_type": "code",
   "execution_count": 11,
   "id": "a0018ac7",
   "metadata": {
    "vscode": {
     "languageId": "r"
    }
   },
   "outputs": [
    {
     "data": {
      "text/html": [
       "<style>\n",
       ".list-inline {list-style: none; margin:0; padding: 0}\n",
       ".list-inline>li {display: inline-block}\n",
       ".list-inline>li:not(:last-child)::after {content: \"\\00b7\"; padding: 0 .5ex}\n",
       "</style>\n",
       "<ol class=list-inline><li>2</li><li>4</li><li>5</li></ol>\n"
      ],
      "text/latex": [
       "\\begin{enumerate*}\n",
       "\\item 2\n",
       "\\item 4\n",
       "\\item 5\n",
       "\\end{enumerate*}\n"
      ],
      "text/markdown": [
       "1. 2\n",
       "2. 4\n",
       "3. 5\n",
       "\n",
       "\n"
      ],
      "text/plain": [
       "[1] 2 4 5"
      ]
     },
     "metadata": {},
     "output_type": "display_data"
    }
   ],
   "source": [
    "factor_vec <- my_list[[4]]\n",
    "med_positions <- which(factor_vec == \"MED\")\n",
    "med_positions\n"
   ]
  },
  {
   "cell_type": "markdown",
   "id": "60a9f9c3",
   "metadata": {
    "vscode": {
     "languageId": "r"
    }
   },
   "source": [
    "3(a) Store the following vector:\n",
    "\n",
    "foo <- c(13563,-14156,-14319,16981,12921,11979,9568,8833,-12968,8133)\n",
    "\n",
    "Then, do the following:\n",
    "\n",
    "i. Output all elements of foo that, when raised to a power of 75, are not infinite.\n",
    "\n",
    "ii. Return the elements of foo deleting those that, when raised to a power of 75, are negative infinity."
   ]
  },
  {
   "cell_type": "code",
   "execution_count": 12,
   "id": "5e23d92b",
   "metadata": {
    "vscode": {
     "languageId": "r"
    }
   },
   "outputs": [
    {
     "data": {
      "text/html": [
       "<style>\n",
       ".list-inline {list-style: none; margin:0; padding: 0}\n",
       ".list-inline>li {display: inline-block}\n",
       ".list-inline>li:not(:last-child)::after {content: \"\\00b7\"; padding: 0 .5ex}\n",
       "</style>\n",
       "<ol class=list-inline><li>11979</li><li>9568</li><li>8833</li><li>8133</li></ol>\n"
      ],
      "text/latex": [
       "\\begin{enumerate*}\n",
       "\\item 11979\n",
       "\\item 9568\n",
       "\\item 8833\n",
       "\\item 8133\n",
       "\\end{enumerate*}\n"
      ],
      "text/markdown": [
       "1. 11979\n",
       "2. 9568\n",
       "3. 8833\n",
       "4. 8133\n",
       "\n",
       "\n"
      ],
      "text/plain": [
       "[1] 11979  9568  8833  8133"
      ]
     },
     "metadata": {},
     "output_type": "display_data"
    }
   ],
   "source": [
    "foo <- c(13563, -14156, -14319, 16981, 12921, 11979, 9568, 8833, -12968, 8133)\n",
    "\n",
    "non_infinite_elements <- foo[!is.infinite(foo^75)]\n",
    "non_infinite_elements\n"
   ]
  },
  {
   "cell_type": "code",
   "execution_count": 13,
   "id": "4c773e7c",
   "metadata": {
    "vscode": {
     "languageId": "r"
    }
   },
   "outputs": [
    {
     "data": {
      "text/html": [
       "<style>\n",
       ".list-inline {list-style: none; margin:0; padding: 0}\n",
       ".list-inline>li {display: inline-block}\n",
       ".list-inline>li:not(:last-child)::after {content: \"\\00b7\"; padding: 0 .5ex}\n",
       "</style>\n",
       "<ol class=list-inline><li>13563</li><li>16981</li><li>12921</li><li>11979</li><li>9568</li><li>8833</li><li>8133</li></ol>\n"
      ],
      "text/latex": [
       "\\begin{enumerate*}\n",
       "\\item 13563\n",
       "\\item 16981\n",
       "\\item 12921\n",
       "\\item 11979\n",
       "\\item 9568\n",
       "\\item 8833\n",
       "\\item 8133\n",
       "\\end{enumerate*}\n"
      ],
      "text/markdown": [
       "1. 13563\n",
       "2. 16981\n",
       "3. 12921\n",
       "4. 11979\n",
       "5. 9568\n",
       "6. 8833\n",
       "7. 8133\n",
       "\n",
       "\n"
      ],
      "text/plain": [
       "[1] 13563 16981 12921 11979  9568  8833  8133"
      ]
     },
     "metadata": {},
     "output_type": "display_data"
    }
   ],
   "source": [
    "foo_no_neg_inf <- foo[!(foo^75 == -Inf)]\n",
    "foo_no_neg_inf\n"
   ]
  },
  {
   "cell_type": "markdown",
   "id": "795883e5",
   "metadata": {
    "vscode": {
     "languageId": "r"
    }
   },
   "source": [
    "3(b) Create and store a list containing a single member: the vector c(7,7,NA,3,NA,1,1,5,NA). Then, do the following:\n",
    "\n",
    "i. Name the member \"alpha\".\n",
    "\n",
    "ii. Formally confirm using the appropriate logical-valued function that the list does not have a member with the name \"beta\".\n",
    "\n",
    "iii. Incorporate into the list a new member called beta, which is the vector obtained by identifying the index positions of alpha that are NA.\n",
    "\n",
    "3(c) Store the following matrix:\n",
    "\n",
    "34 0 1\n",
    "\n",
    "23 1 2\n",
    "\n",
    "33 1 1\n",
    "\n",
    "42 0 1\n",
    "\n",
    "41 0 2\n",
    "\n",
    "Then, do the following:\n",
    "\n",
    "i. Coerce the matrix to a data frame.\n",
    "\n",
    "ii. As a data frame, coerce the second column to be logical valued.\n",
    "\n",
    "iii. As a data frame, coerce the third column to be factor-valued."
   ]
  },
  {
   "cell_type": "code",
   "execution_count": 14,
   "id": "4e9e75f3",
   "metadata": {
    "vscode": {
     "languageId": "r"
    }
   },
   "outputs": [
    {
     "data": {
      "text/html": [
       "TRUE"
      ],
      "text/latex": [
       "TRUE"
      ],
      "text/markdown": [
       "TRUE"
      ],
      "text/plain": [
       "[1] TRUE"
      ]
     },
     "metadata": {},
     "output_type": "display_data"
    },
    {
     "data": {
      "text/html": [
       "<dl>\n",
       "\t<dt>$alpha</dt>\n",
       "\t\t<dd><style>\n",
       ".list-inline {list-style: none; margin:0; padding: 0}\n",
       ".list-inline>li {display: inline-block}\n",
       ".list-inline>li:not(:last-child)::after {content: \"\\00b7\"; padding: 0 .5ex}\n",
       "</style>\n",
       "<ol class=list-inline><li>7</li><li>7</li><li>&lt;NA&gt;</li><li>3</li><li>&lt;NA&gt;</li><li>1</li><li>1</li><li>5</li><li>&lt;NA&gt;</li></ol>\n",
       "</dd>\n",
       "\t<dt>$beta</dt>\n",
       "\t\t<dd><style>\n",
       ".list-inline {list-style: none; margin:0; padding: 0}\n",
       ".list-inline>li {display: inline-block}\n",
       ".list-inline>li:not(:last-child)::after {content: \"\\00b7\"; padding: 0 .5ex}\n",
       "</style>\n",
       "<ol class=list-inline><li>3</li><li>5</li><li>9</li></ol>\n",
       "</dd>\n",
       "</dl>\n"
      ],
      "text/latex": [
       "\\begin{description}\n",
       "\\item[\\$alpha] \\begin{enumerate*}\n",
       "\\item 7\n",
       "\\item 7\n",
       "\\item <NA>\n",
       "\\item 3\n",
       "\\item <NA>\n",
       "\\item 1\n",
       "\\item 1\n",
       "\\item 5\n",
       "\\item <NA>\n",
       "\\end{enumerate*}\n",
       "\n",
       "\\item[\\$beta] \\begin{enumerate*}\n",
       "\\item 3\n",
       "\\item 5\n",
       "\\item 9\n",
       "\\end{enumerate*}\n",
       "\n",
       "\\end{description}\n"
      ],
      "text/markdown": [
       "$alpha\n",
       ":   1. 7\n",
       "2. 7\n",
       "3. &lt;NA&gt;\n",
       "4. 3\n",
       "5. &lt;NA&gt;\n",
       "6. 1\n",
       "7. 1\n",
       "8. 5\n",
       "9. &lt;NA&gt;\n",
       "\n",
       "\n",
       "\n",
       "$beta\n",
       ":   1. 3\n",
       "2. 5\n",
       "3. 9\n",
       "\n",
       "\n",
       "\n",
       "\n",
       "\n"
      ],
      "text/plain": [
       "$alpha\n",
       "[1]  7  7 NA  3 NA  1  1  5 NA\n",
       "\n",
       "$beta\n",
       "[1] 3 5 9\n"
      ]
     },
     "metadata": {},
     "output_type": "display_data"
    }
   ],
   "source": [
    "my_list <- list(c(7,7,NA,3,NA,1,1,5,NA))\n",
    "\n",
    "names(my_list) <- \"alpha\"\n",
    "\n",
    "has_beta <- \"beta\" %in% names(my_list)\n",
    "no_beta <- !has_beta\n",
    "no_beta  \n",
    "\n",
    "my_list$beta <- which(is.na(my_list$alpha))\n",
    "\n",
    "my_list\n"
   ]
  },
  {
   "cell_type": "code",
   "execution_count": 15,
   "id": "fd4c818e",
   "metadata": {
    "vscode": {
     "languageId": "r"
    }
   },
   "outputs": [
    {
     "name": "stdout",
     "output_type": "stream",
     "text": [
      "'data.frame':\t5 obs. of  3 variables:\n",
      " $ V1: num  34 23 33 42 41\n",
      " $ V2: logi  FALSE TRUE TRUE FALSE FALSE\n",
      " $ V3: Factor w/ 2 levels \"1\",\"2\": 1 2 1 1 2\n"
     ]
    }
   ],
   "source": [
    "mat <- matrix(c(\n",
    "  34,23,33,42,41,\n",
    "  0, 1, 1, 0, 0,\n",
    "  1, 2, 1, 1, 2),\n",
    "  nrow = 5,\n",
    "  ncol = 3,\n",
    "  byrow = FALSE\n",
    ")\n",
    "\n",
    "df <- as.data.frame(mat)\n",
    "\n",
    "df[[2]] <- as.logical(df[[2]])\n",
    "\n",
    "df[[3]] <- factor(df[[3]])\n",
    "\n",
    "str(df)\n"
   ]
  },
  {
   "cell_type": "code",
   "execution_count": null,
   "id": "8b778990",
   "metadata": {
    "vscode": {
     "languageId": "r"
    }
   },
   "outputs": [],
   "source": []
  }
 ],
 "metadata": {
  "kernelspec": {
   "display_name": "R",
   "language": "R",
   "name": "ir"
  },
  "language_info": {
   "codemirror_mode": "r",
   "file_extension": ".r",
   "mimetype": "text/x-r-source",
   "name": "R",
   "pygments_lexer": "r",
   "version": "4.3.1"
  }
 },
 "nbformat": 4,
 "nbformat_minor": 5
}

{
 "cells": [
  {
   "cell_type": "markdown",
   "metadata": {},
   "source": [
    "# hw2 \n",
    "使用base环境。"
   ]
  },
  {
   "cell_type": "code",
   "execution_count": 9,
   "metadata": {},
   "outputs": [
    {
     "name": "stdout",
     "output_type": "stream",
     "text": [
      "I made your egg sandwich\n",
      "I made your beef sandwich\n",
      "I made your tuna sandwich\n",
      "All sandwiches are made:\n",
      "egg\tbeef\ttuna\n"
     ]
    }
   ],
   "source": [
    "# 1. 熟食店：创建一个名为sandwich_orders 的列表，在其中包含各种三明治的名\n",
    "# 字；再创建一个名为finished_sandwiches 的空列表。遍历列表sandwich_orders，对于\n",
    "# 其中的每种三明治，都打印一条消息，如I made your tuna sandwich，并将其移到列表\n",
    "# finished_sandwiches。所有三明治都制作好后，打印一条消息，将这些三明治列出来。\n",
    "sandwich_orders=['tuna','beef','egg']\n",
    "finished_sandwiches=[]\n",
    "while sandwich_orders:\n",
    "    sandwich=sandwich_orders.pop()\n",
    "    print('I made your '+sandwich+' sandwich')\n",
    "    finished_sandwiches.append(sandwich)\n",
    "print('All sandwiches are made:')\n",
    "print(*finished_sandwiches,sep='\\t')"
   ]
  },
  {
   "cell_type": "code",
   "execution_count": 6,
   "metadata": {},
   "outputs": [
    {
     "name": "stdout",
     "output_type": "stream",
     "text": [
      "pastrami is sold out\n",
      "time cost: 0.012760400772094727\n",
      "['tuna', 'beef', 'egg'] \n",
      " False\n"
     ]
    }
   ],
   "source": [
    "# 2. 五香烟熏牛肉（pastrami）卖完了：与1相似，创建列表sandwich_orders，并确保'pastrami'在其中至少出现了三次。\n",
    "# 在程序开头附近添加这样的代码：打印一条消息，指出熟食店的五香烟熏牛肉卖完了；再使用一个while 循环将\n",
    "# 列表sandwich_orders 中的'pastrami'都删除。确认最终的列表finished_sandwiches 中\n",
    "# 不包含'pastrami'。\n",
    "import time\n",
    "\n",
    "sandwich_orders = [\"tuna\", \"beef\", \"egg\"] + [\"pastrami\"] * 10**5\n",
    "print(\"pastrami is sold out\")\n",
    "start = time.time()\n",
    "\n",
    "# 当pastrami出现次数较多时，此while循环时间复杂度接近O(n^2),效率较低\n",
    "# while 'pastrami' in sandwich_orders:\n",
    "#     sandwich_orders.remove('pastrami')\n",
    "\n",
    "clean_list = []\n",
    "for i in range(len(sandwich_orders)):\n",
    "    if sandwich_orders[i] != \"pastrami\":\n",
    "        clean_list.append(i)\n",
    "clean_sandwich = [sandwich_orders[i] for i in clean_list]\n",
    "sandwich_orders = clean_sandwich\n",
    "end = time.time()\n",
    "\n",
    "print(\"time cost:\", end - start)\n",
    "print(sandwich_orders,'\\n','pastrami' in sandwich_orders)"
   ]
  },
  {
   "cell_type": "code",
   "execution_count": 8,
   "metadata": {},
   "outputs": [
    {
     "name": "stdout",
     "output_type": "stream",
     "text": [
      "The survey results are as follows:\n",
      "A\n",
      "B\n",
      "C\n"
     ]
    }
   ],
   "source": [
    "# 3. 梦想的度假胜地：编写一个程序，调查用户梦想的度假胜地。使用类似于“If\n",
    "# you could visit one place in the world, where would you go?”的提示，并编写一个打印调\n",
    "# 查结果的代码块。\n",
    "dream_attractions = []\n",
    "while True:\n",
    "    dream_attraction = input(\"If you could visit one place in the world, where would you go? \")\n",
    "    dream_attractions.append(dream_attraction)\n",
    "    repeat = input(\"Would you like to continue? (yes/no) \")\n",
    "    if repeat == \"no\":\n",
    "        break\n",
    "print(\"The survey results are as follows:\")\n",
    "for dream_attraction in dream_attractions:\n",
    "    print(dream_attraction)\n"
   ]
  },
  {
   "cell_type": "code",
   "execution_count": 10,
   "metadata": {},
   "outputs": [
    {
     "name": "stdout",
     "output_type": "stream",
     "text": [
      "The pancake is made with the following ingredients:\n",
      "- egg\n",
      "- bacon\n",
      "- cheese\n"
     ]
    }
   ],
   "source": [
    "# 4. 大饼卷一切：编写一个函数，它接受顾客要在大饼中添加的一系列食材。这个\n",
    "# 函数只有一个形参（它收集函数调用中提供的所有食材），并打印一条消息，对顾客点\n",
    "# 的大饼卷一切进行概述。调用这个函数三次，每次都提供不同数量的实参。\n",
    "def make_pancake(*ingredients):\n",
    "    print(\"The pancake is made with the following ingredients:\")\n",
    "    for ingredient in ingredients:\n",
    "        print(\"- \" + ingredient)\n",
    "make_pancake(\"egg\", \"bacon\", \"cheese\")"
   ]
  },
  {
   "cell_type": "code",
   "execution_count": 7,
   "metadata": {},
   "outputs": [
    {
     "name": "stdout",
     "output_type": "stream",
     "text": [
      "{'first_name': 'Li', 'last_name': 'Le', 'gender': 'male', 'age': 18}\n"
     ]
    }
   ],
   "source": [
    "# 5. 同学：编写一个函数，将班级同学的信息存储在一个字典中。这个函数总是接\n",
    "# 受姓名和学号，还接受任意数量的关键字实参。这样调用这个函数：提供必不可少的\n",
    "# 信息，以及两个名称—值对。这个函数必须能够像下面这样进行调用：\n",
    "# car = classmate('Li', 'Lei', gender='male', age=18)\n",
    "# 打印返回的字典，确认正确地处理了所有的信息。\n",
    "def classmate(first_name, last_name, **info):\n",
    "    classmate_info = {\"first_name\": first_name, \"last_name\": last_name}\n",
    "    for key, value in info.items():\n",
    "        classmate_info[key] = value\n",
    "    return classmate_info\n",
    "Li_Le_info = classmate(\"Li\", \"Le\",gender=\"male\", age=18)\n",
    "print(Li_Le_info)"
   ]
  }
 ],
 "metadata": {
  "kernelspec": {
   "display_name": "base",
   "language": "python",
   "name": "python3"
  },
  "language_info": {
   "codemirror_mode": {
    "name": "ipython",
    "version": 3
   },
   "file_extension": ".py",
   "mimetype": "text/x-python",
   "name": "python",
   "nbconvert_exporter": "python",
   "pygments_lexer": "ipython3",
   "version": "3.12.7"
  }
 },
 "nbformat": 4,
 "nbformat_minor": 2
}

{
 "cells": [
  {
   "cell_type": "markdown",
   "id": "ad1a505c",
   "metadata": {
    "vscode": {
     "languageId": "r"
    }
   },
   "source": [
    "# hw10"
   ]
  },
  {
   "cell_type": "markdown",
   "id": "8df89ec9",
   "metadata": {
    "vscode": {
     "languageId": "r"
    }
   },
   "source": [
    "1. 创建并储存三维数组，该数组有6层，每层是4*2阶矩阵，并以适当的步长按降序将4.8-0.1填充到数组中。然后按照顺序提取所有层的第二列第四行和第一行的所有元素，并存储为一个新的对象。"
   ]
  },
  {
   "cell_type": "code",
   "execution_count": 2,
   "id": "e5009df0",
   "metadata": {
    "vscode": {
     "languageId": "r"
    }
   },
   "outputs": [
    {
     "name": "stdout",
     "output_type": "stream",
     "text": [
      ", , 1\n",
      "\n",
      "     [,1] [,2]\n",
      "[1,]  4.8  4.4\n",
      "[2,]  4.7  4.3\n",
      "[3,]  4.6  4.2\n",
      "[4,]  4.5  4.1\n",
      "\n",
      ", , 2\n",
      "\n",
      "     [,1] [,2]\n",
      "[1,]  4.0  3.6\n",
      "[2,]  3.9  3.5\n",
      "[3,]  3.8  3.4\n",
      "[4,]  3.7  3.3\n",
      "\n",
      ", , 3\n",
      "\n",
      "     [,1] [,2]\n",
      "[1,]  3.2  2.8\n",
      "[2,]  3.1  2.7\n",
      "[3,]  3.0  2.6\n",
      "[4,]  2.9  2.5\n",
      "\n",
      ", , 4\n",
      "\n",
      "     [,1] [,2]\n",
      "[1,]  2.4  2.0\n",
      "[2,]  2.3  1.9\n",
      "[3,]  2.2  1.8\n",
      "[4,]  2.1  1.7\n",
      "\n",
      ", , 5\n",
      "\n",
      "     [,1] [,2]\n",
      "[1,]  1.6  1.2\n",
      "[2,]  1.5  1.1\n",
      "[3,]  1.4  1.0\n",
      "[4,]  1.3  0.9\n",
      "\n",
      ", , 6\n",
      "\n",
      "     [,1] [,2]\n",
      "[1,]  0.8  0.4\n",
      "[2,]  0.7  0.3\n",
      "[3,]  0.6  0.2\n",
      "[4,]  0.5  0.1\n",
      "\n"
     ]
    },
    {
     "data": {
      "text/html": [
       "<ol>\n",
       "\t<li><style>\n",
       ".list-inline {list-style: none; margin:0; padding: 0}\n",
       ".list-inline>li {display: inline-block}\n",
       ".list-inline>li:not(:last-child)::after {content: \"\\00b7\"; padding: 0 .5ex}\n",
       "</style>\n",
       "<ol class=list-inline><li>4.1</li><li>3.3</li><li>2.5</li><li>1.7</li><li>0.899999999999999</li><li>0.1</li></ol>\n",
       "</li>\n",
       "\t<li><table class=\"dataframe\">\n",
       "<caption>A matrix: 2 × 6 of type dbl</caption>\n",
       "<tbody>\n",
       "\t<tr><td>4.8</td><td>4.0</td><td>3.2</td><td>2.4</td><td>1.6</td><td>0.8</td></tr>\n",
       "\t<tr><td>4.4</td><td>3.6</td><td>2.8</td><td>2.0</td><td>1.2</td><td>0.4</td></tr>\n",
       "</tbody>\n",
       "</table>\n",
       "</li>\n",
       "</ol>\n"
      ],
      "text/latex": [
       "\\begin{enumerate}\n",
       "\\item \\begin{enumerate*}\n",
       "\\item 4.1\n",
       "\\item 3.3\n",
       "\\item 2.5\n",
       "\\item 1.7\n",
       "\\item 0.899999999999999\n",
       "\\item 0.1\n",
       "\\end{enumerate*}\n",
       "\n",
       "\\item A matrix: 2 × 6 of type dbl\n",
       "\\begin{tabular}{llllll}\n",
       "\t 4.8 & 4.0 & 3.2 & 2.4 & 1.6 & 0.8\\\\\n",
       "\t 4.4 & 3.6 & 2.8 & 2.0 & 1.2 & 0.4\\\\\n",
       "\\end{tabular}\n",
       "\n",
       "\\end{enumerate}\n"
      ],
      "text/markdown": [
       "1. 1. 4.1\n",
       "2. 3.3\n",
       "3. 2.5\n",
       "4. 1.7\n",
       "5. 0.899999999999999\n",
       "6. 0.1\n",
       "\n",
       "\n",
       "\n",
       "2. \n",
       "A matrix: 2 × 6 of type dbl\n",
       "\n",
       "| 4.8 | 4.0 | 3.2 | 2.4 | 1.6 | 0.8 |\n",
       "| 4.4 | 3.6 | 2.8 | 2.0 | 1.2 | 0.4 |\n",
       "\n",
       "\n",
       "\n",
       "\n"
      ],
      "text/plain": [
       "[[1]]\n",
       "[1] 4.1 3.3 2.5 1.7 0.9 0.1\n",
       "\n",
       "[[2]]\n",
       "     [,1] [,2] [,3] [,4] [,5] [,6]\n",
       "[1,]  4.8  4.0  3.2  2.4  1.6  0.8\n",
       "[2,]  4.4  3.6  2.8  2.0  1.2  0.4\n"
      ]
     },
     "metadata": {},
     "output_type": "display_data"
    }
   ],
   "source": [
    " \n",
    "A=array(data=seq(from = 4.8,to = 0.1,by = -0.1),dim=c(4,2,6))\n",
    "print(A)\n",
    "B<-list(A[4,2,],A[1,,])\n",
    "B"
   ]
  },
  {
   "cell_type": "markdown",
   "id": "55010dff",
   "metadata": {
    "vscode": {
     "languageId": "r"
    }
   },
   "source": [
    "2. (a) Store the following vector of 15 values as an object in your workspace: c(6,9,7,3,6,7,9,6,3,6,6,7,1,9,1). Identify the following elements:\n",
    "\n",
    "i. Those equal to 6\n",
    "\n",
    "ii. Those greater than or equal to 6\n",
    "\n",
    "iii. Those less than 6 + 2\n",
    "\n",
    "iv. Those not equal to 6"
   ]
  },
  {
   "cell_type": "code",
   "execution_count": 2,
   "id": "2fe3b10a",
   "metadata": {
    "vscode": {
     "languageId": "r"
    }
   },
   "outputs": [
    {
     "data": {
      "text/html": [
       "<style>\n",
       ".list-inline {list-style: none; margin:0; padding: 0}\n",
       ".list-inline>li {display: inline-block}\n",
       ".list-inline>li:not(:last-child)::after {content: \"\\00b7\"; padding: 0 .5ex}\n",
       "</style>\n",
       "<ol class=list-inline><li>6</li><li>6</li><li>6</li><li>6</li><li>6</li></ol>\n"
      ],
      "text/latex": [
       "\\begin{enumerate*}\n",
       "\\item 6\n",
       "\\item 6\n",
       "\\item 6\n",
       "\\item 6\n",
       "\\item 6\n",
       "\\end{enumerate*}\n"
      ],
      "text/markdown": [
       "1. 6\n",
       "2. 6\n",
       "3. 6\n",
       "4. 6\n",
       "5. 6\n",
       "\n",
       "\n"
      ],
      "text/plain": [
       "[1] 6 6 6 6 6"
      ]
     },
     "metadata": {},
     "output_type": "display_data"
    },
    {
     "data": {
      "text/html": [
       "<style>\n",
       ".list-inline {list-style: none; margin:0; padding: 0}\n",
       ".list-inline>li {display: inline-block}\n",
       ".list-inline>li:not(:last-child)::after {content: \"\\00b7\"; padding: 0 .5ex}\n",
       "</style>\n",
       "<ol class=list-inline><li>6</li><li>9</li><li>7</li><li>6</li><li>7</li><li>9</li><li>6</li><li>6</li><li>6</li><li>7</li><li>9</li></ol>\n"
      ],
      "text/latex": [
       "\\begin{enumerate*}\n",
       "\\item 6\n",
       "\\item 9\n",
       "\\item 7\n",
       "\\item 6\n",
       "\\item 7\n",
       "\\item 9\n",
       "\\item 6\n",
       "\\item 6\n",
       "\\item 6\n",
       "\\item 7\n",
       "\\item 9\n",
       "\\end{enumerate*}\n"
      ],
      "text/markdown": [
       "1. 6\n",
       "2. 9\n",
       "3. 7\n",
       "4. 6\n",
       "5. 7\n",
       "6. 9\n",
       "7. 6\n",
       "8. 6\n",
       "9. 6\n",
       "10. 7\n",
       "11. 9\n",
       "\n",
       "\n"
      ],
      "text/plain": [
       " [1] 6 9 7 6 7 9 6 6 6 7 9"
      ]
     },
     "metadata": {},
     "output_type": "display_data"
    },
    {
     "data": {
      "text/html": [
       "<style>\n",
       ".list-inline {list-style: none; margin:0; padding: 0}\n",
       ".list-inline>li {display: inline-block}\n",
       ".list-inline>li:not(:last-child)::after {content: \"\\00b7\"; padding: 0 .5ex}\n",
       "</style>\n",
       "<ol class=list-inline><li>6</li><li>7</li><li>3</li><li>6</li><li>7</li><li>6</li><li>3</li><li>6</li><li>6</li><li>7</li><li>1</li><li>1</li></ol>\n"
      ],
      "text/latex": [
       "\\begin{enumerate*}\n",
       "\\item 6\n",
       "\\item 7\n",
       "\\item 3\n",
       "\\item 6\n",
       "\\item 7\n",
       "\\item 6\n",
       "\\item 3\n",
       "\\item 6\n",
       "\\item 6\n",
       "\\item 7\n",
       "\\item 1\n",
       "\\item 1\n",
       "\\end{enumerate*}\n"
      ],
      "text/markdown": [
       "1. 6\n",
       "2. 7\n",
       "3. 3\n",
       "4. 6\n",
       "5. 7\n",
       "6. 6\n",
       "7. 3\n",
       "8. 6\n",
       "9. 6\n",
       "10. 7\n",
       "11. 1\n",
       "12. 1\n",
       "\n",
       "\n"
      ],
      "text/plain": [
       " [1] 6 7 3 6 7 6 3 6 6 7 1 1"
      ]
     },
     "metadata": {},
     "output_type": "display_data"
    },
    {
     "data": {
      "text/html": [
       "<style>\n",
       ".list-inline {list-style: none; margin:0; padding: 0}\n",
       ".list-inline>li {display: inline-block}\n",
       ".list-inline>li:not(:last-child)::after {content: \"\\00b7\"; padding: 0 .5ex}\n",
       "</style>\n",
       "<ol class=list-inline><li>9</li><li>7</li><li>3</li><li>7</li><li>9</li><li>3</li><li>7</li><li>1</li><li>9</li><li>1</li></ol>\n"
      ],
      "text/latex": [
       "\\begin{enumerate*}\n",
       "\\item 9\n",
       "\\item 7\n",
       "\\item 3\n",
       "\\item 7\n",
       "\\item 9\n",
       "\\item 3\n",
       "\\item 7\n",
       "\\item 1\n",
       "\\item 9\n",
       "\\item 1\n",
       "\\end{enumerate*}\n"
      ],
      "text/markdown": [
       "1. 9\n",
       "2. 7\n",
       "3. 3\n",
       "4. 7\n",
       "5. 9\n",
       "6. 3\n",
       "7. 7\n",
       "8. 1\n",
       "9. 9\n",
       "10. 1\n",
       "\n",
       "\n"
      ],
      "text/plain": [
       " [1] 9 7 3 7 9 3 7 1 9 1"
      ]
     },
     "metadata": {},
     "output_type": "display_data"
    }
   ],
   "source": [
    "C<-c(6,9,7,3,6,7,9,6,3,6,6,7,1,9,1)\n",
    "C[C==6]\n",
    "C[C>=6]\n",
    "C[C<=6+2]\n",
    "C[C!=6]\n"
   ]
  },
  {
   "cell_type": "markdown",
   "id": "330df2d8",
   "metadata": {},
   "source": [
    "(b) Create a new vector from the one used in 2(a) by deleting its first three elements. With this new vector, fill a 2 * 2 * 3 array. Examine the array for the following entries:\n",
    "i. Those less than or equal to 6 divided by 2, plus 4\n",
    "ii. Those less than or equal to 6 divided by 2, plus 4, after increasing every element in the array by 2"
   ]
  },
  {
   "cell_type": "code",
   "execution_count": 4,
   "id": "5c86bdd3",
   "metadata": {
    "vscode": {
     "languageId": "r"
    }
   },
   "outputs": [
    {
     "name": "stdout",
     "output_type": "stream",
     "text": [
      ", , 1\n",
      "\n",
      "     [,1] [,2]\n",
      "[1,]    3    7\n",
      "[2,]    6    9\n",
      "\n",
      ", , 2\n",
      "\n",
      "     [,1] [,2]\n",
      "[1,]    6    6\n",
      "[2,]    3    6\n",
      "\n",
      ", , 3\n",
      "\n",
      "     [,1] [,2]\n",
      "[1,]    7    9\n",
      "[2,]    1    1\n",
      "\n"
     ]
    },
    {
     "data": {
      "text/html": [
       "<style>\n",
       ".list-inline {list-style: none; margin:0; padding: 0}\n",
       ".list-inline>li {display: inline-block}\n",
       ".list-inline>li:not(:last-child)::after {content: \"\\00b7\"; padding: 0 .5ex}\n",
       "</style>\n",
       "<ol class=list-inline><li>3</li><li>6</li><li>7</li><li>6</li><li>3</li><li>6</li><li>6</li><li>7</li><li>1</li><li>1</li></ol>\n"
      ],
      "text/latex": [
       "\\begin{enumerate*}\n",
       "\\item 3\n",
       "\\item 6\n",
       "\\item 7\n",
       "\\item 6\n",
       "\\item 3\n",
       "\\item 6\n",
       "\\item 6\n",
       "\\item 7\n",
       "\\item 1\n",
       "\\item 1\n",
       "\\end{enumerate*}\n"
      ],
      "text/markdown": [
       "1. 3\n",
       "2. 6\n",
       "3. 7\n",
       "4. 6\n",
       "5. 3\n",
       "6. 6\n",
       "7. 6\n",
       "8. 7\n",
       "9. 1\n",
       "10. 1\n",
       "\n",
       "\n"
      ],
      "text/plain": [
       " [1] 3 6 7 6 3 6 6 7 1 1"
      ]
     },
     "metadata": {},
     "output_type": "display_data"
    },
    {
     "data": {
      "text/html": [
       "<style>\n",
       ".list-inline {list-style: none; margin:0; padding: 0}\n",
       ".list-inline>li {display: inline-block}\n",
       ".list-inline>li:not(:last-child)::after {content: \"\\00b7\"; padding: 0 .5ex}\n",
       "</style>\n",
       "<ol class=list-inline><li>3</li><li>3</li><li>1</li><li>1</li></ol>\n"
      ],
      "text/latex": [
       "\\begin{enumerate*}\n",
       "\\item 3\n",
       "\\item 3\n",
       "\\item 1\n",
       "\\item 1\n",
       "\\end{enumerate*}\n"
      ],
      "text/markdown": [
       "1. 3\n",
       "2. 3\n",
       "3. 1\n",
       "4. 1\n",
       "\n",
       "\n"
      ],
      "text/plain": [
       "[1] 3 3 1 1"
      ]
     },
     "metadata": {},
     "output_type": "display_data"
    }
   ],
   "source": [
    "D<-array(C[-(1:3)],dim=c(2,2,3))\n",
    "print(D)\n",
    "D[D<=(6/2+4)]\n",
    "D[(D+2)<=(6/2+4)]\n"
   ]
  },
  {
   "cell_type": "markdown",
   "id": "b8c6a893",
   "metadata": {
    "vscode": {
     "languageId": "r"
    }
   },
   "source": [
    "(c) Check whether any of the values of the logical arrays created in 2(b) are TRUE. If they are, check whether they are all TRUE."
   ]
  },
  {
   "cell_type": "code",
   "execution_count": 24,
   "id": "57b53626",
   "metadata": {
    "vscode": {
     "languageId": "r"
    }
   },
   "outputs": [
    {
     "data": {
      "text/html": [
       "TRUE"
      ],
      "text/latex": [
       "TRUE"
      ],
      "text/markdown": [
       "TRUE"
      ],
      "text/plain": [
       "[1] TRUE"
      ]
     },
     "metadata": {},
     "output_type": "display_data"
    },
    {
     "data": {
      "text/html": [
       "FALSE"
      ],
      "text/latex": [
       "FALSE"
      ],
      "text/markdown": [
       "FALSE"
      ],
      "text/plain": [
       "[1] FALSE"
      ]
     },
     "metadata": {},
     "output_type": "display_data"
    }
   ],
   "source": [
    "any(D<=(6/4+2))\n",
    "all(D<=(6/4+2))"
   ]
  },
  {
   "cell_type": "code",
   "execution_count": 25,
   "id": "eb922ee2",
   "metadata": {
    "vscode": {
     "languageId": "r"
    }
   },
   "outputs": [
    {
     "data": {
      "text/html": [
       "TRUE"
      ],
      "text/latex": [
       "TRUE"
      ],
      "text/markdown": [
       "TRUE"
      ],
      "text/plain": [
       "[1] TRUE"
      ]
     },
     "metadata": {},
     "output_type": "display_data"
    },
    {
     "data": {
      "text/html": [
       "FALSE"
      ],
      "text/latex": [
       "FALSE"
      ],
      "text/markdown": [
       "FALSE"
      ],
      "text/plain": [
       "[1] FALSE"
      ]
     },
     "metadata": {},
     "output_type": "display_data"
    }
   ],
   "source": [
    "any((D+2)<=(6/4+2))\n",
    "all((D+2)<=(6/4+2))"
   ]
  },
  {
   "cell_type": "markdown",
   "id": "d009b070",
   "metadata": {
    "vscode": {
     "languageId": "r"
    }
   },
   "source": [
    "3 (a) Store this vector of 10 values: foo <- c(7,5,6,1,2,10,8,3,8,2). Then, do the following:\n",
    "i. Extract the elements greater than or equal to 5, storing the result as bar.\n",
    "ii. Display the vector containing those elements from foo that remain after omitting all elements that are greater than or equal to 5.\n"
   ]
  },
  {
   "cell_type": "code",
   "execution_count": 29,
   "id": "a3a63da1",
   "metadata": {
    "vscode": {
     "languageId": "r"
    }
   },
   "outputs": [
    {
     "data": {
      "text/html": [
       "<style>\n",
       ".list-inline {list-style: none; margin:0; padding: 0}\n",
       ".list-inline>li {display: inline-block}\n",
       ".list-inline>li:not(:last-child)::after {content: \"\\00b7\"; padding: 0 .5ex}\n",
       "</style>\n",
       "<ol class=list-inline><li>7</li><li>5</li><li>6</li><li>10</li><li>8</li><li>8</li></ol>\n"
      ],
      "text/latex": [
       "\\begin{enumerate*}\n",
       "\\item 7\n",
       "\\item 5\n",
       "\\item 6\n",
       "\\item 10\n",
       "\\item 8\n",
       "\\item 8\n",
       "\\end{enumerate*}\n"
      ],
      "text/markdown": [
       "1. 7\n",
       "2. 5\n",
       "3. 6\n",
       "4. 10\n",
       "5. 8\n",
       "6. 8\n",
       "\n",
       "\n"
      ],
      "text/plain": [
       "[1]  7  5  6 10  8  8"
      ]
     },
     "metadata": {},
     "output_type": "display_data"
    },
    {
     "data": {
      "text/html": [
       "<style>\n",
       ".list-inline {list-style: none; margin:0; padding: 0}\n",
       ".list-inline>li {display: inline-block}\n",
       ".list-inline>li:not(:last-child)::after {content: \"\\00b7\"; padding: 0 .5ex}\n",
       "</style>\n",
       "<ol class=list-inline><li>1</li><li>2</li><li>3</li><li>2</li></ol>\n"
      ],
      "text/latex": [
       "\\begin{enumerate*}\n",
       "\\item 1\n",
       "\\item 2\n",
       "\\item 3\n",
       "\\item 2\n",
       "\\end{enumerate*}\n"
      ],
      "text/markdown": [
       "1. 1\n",
       "2. 2\n",
       "3. 3\n",
       "4. 2\n",
       "\n",
       "\n"
      ],
      "text/plain": [
       "[1] 1 2 3 2"
      ]
     },
     "metadata": {},
     "output_type": "display_data"
    }
   ],
   "source": [
    "foo <- c(7,5,6,1,2,10,8,3,8,2)\n",
    "bar<-foo[foo>=5]\n",
    "bar\n",
    "foo_ommit<-foo[!(foo>=5)]\n",
    "foo_ommit"
   ]
  },
  {
   "cell_type": "markdown",
   "id": "655bab2f",
   "metadata": {
    "vscode": {
     "languageId": "r"
    }
   },
   "source": [
    "(b) Use bar from 3(a)(i) to construct a 2*3 matrix called baz, filling in a row-wise fashion. Then, do the following:\n",
    "i. Replace any elements that are equal to 8 with the squared value of the element in row 1, column 2 of baz itself.\n",
    "ii. Confirm that all values in baz are now less than or equal to 25 and greater than 4."
   ]
  },
  {
   "cell_type": "code",
   "execution_count": 40,
   "id": "db6c1527",
   "metadata": {
    "vscode": {
     "languageId": "r"
    }
   },
   "outputs": [
    {
     "name": "stdout",
     "output_type": "stream",
     "text": [
      "[1]  7  5  6 10  8  8\n",
      "     [,1] [,2] [,3]\n",
      "[1,]    7    5    6\n",
      "[2,]   10    8    8\n",
      "     [,1] [,2] [,3]\n",
      "[1,]    7    5    6\n",
      "[2,]   10   25   25\n",
      "[1] TRUE\n"
     ]
    }
   ],
   "source": [
    "print(bar)\n",
    "baz<-matrix(data=bar,nrow=2,byrow=TRUE)\n",
    "print(baz)\n",
    "\n",
    "baz[baz==8]<-baz[1,2]^2\n",
    "print(baz)\n",
    "\n",
    "print(all(baz<=25 & baz>4))"
   ]
  },
  {
   "cell_type": "code",
   "execution_count": null,
   "id": "072757fd",
   "metadata": {
    "vscode": {
     "languageId": "r"
    }
   },
   "outputs": [],
   "source": []
  }
 ],
 "metadata": {
  "kernelspec": {
   "display_name": "R",
   "language": "R",
   "name": "ir"
  },
  "language_info": {
   "codemirror_mode": "r",
   "file_extension": ".r",
   "mimetype": "text/x-r-source",
   "name": "R",
   "pygments_lexer": "r",
   "version": "4.3.1"
  }
 },
 "nbformat": 4,
 "nbformat_minor": 5
}

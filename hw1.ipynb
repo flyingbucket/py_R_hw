{
 "cells": [
  {
   "cell_type": "markdown",
   "metadata": {},
   "source": [
    "# homework 1\n",
    "\n",
    "本次作业没有使用第三方库，故使用base环境\n",
    "\n",
    "使用black formatter"
   ]
  },
  {
   "cell_type": "code",
   "execution_count": 18,
   "metadata": {},
   "outputs": [
    {
     "name": "stdout",
     "output_type": "stream",
     "text": [
      "<class 'list'> \n",
      "\n",
      "this is a <class 'int'>,the value is 100\n",
      "this is a <class 'float'>,the value is 99.0\n",
      "this is a <class 'str'>,the value is hello world\n"
     ]
    }
   ],
   "source": [
    "# 2. 把今天上课讲的变量类型在jupyter上进行练习。\n",
    "\n",
    "a_int = 100\n",
    "a_float = 99.0\n",
    "a_string = \"hello world\"\n",
    "a_list = [a_int, a_float, a_string]\n",
    "\n",
    "print(type(a_list), \"\\n\")\n",
    "for item in a_list:\n",
    "    print(f\"this is a {type(item)},the value is {item}\")"
   ]
  },
  {
   "cell_type": "code",
   "execution_count": 19,
   "metadata": {},
   "outputs": [
    {
     "name": "stdout",
     "output_type": "stream",
     "text": [
      "['WuDaDao', 'GuLou', 'TimeSquare', 'TianAnMen', 'WangFuJing']\n"
     ]
    }
   ],
   "source": [
    "# 3. 放眼世界：想出至少5 个你渴望去旅游的地方。\n",
    "\n",
    "# 将这些地方存储在一个列表中，并确保其中的元素不是按字母顺序排列的。\n",
    "# 按原始排列顺序打印该列表。不要考虑输出是否整洁的问题，只管打印原始Python 列表。\n",
    "\n",
    "places = [\"WuDaDao\", \"GuLou\", \"TimeSquare\", \"TianAnMen\", \"WangFuJing\"]\n",
    "print(places)"
   ]
  },
  {
   "cell_type": "code",
   "execution_count": 20,
   "metadata": {},
   "outputs": [
    {
     "name": "stdout",
     "output_type": "stream",
     "text": [
      "sorted list of places:\n",
      "['GuLou', 'TianAnMen', 'TimeSquare', 'WangFuJing', 'WuDaDao']\n",
      "\n",
      "original list of places:\n",
      "['WuDaDao', 'GuLou', 'TimeSquare', 'TianAnMen', 'WangFuJing']\n"
     ]
    }
   ],
   "source": [
    "# 使用sorted()按字母顺序打印这个列表，同时不要修改它。\n",
    "sorted_places = sorted(places, reverse=False)\n",
    "print(f\"sorted list of places:\\n{sorted_places}\\n\")\n",
    "# 再次打印该列表，核实排列顺序未变。\n",
    "print(f\"original list of places:\\n{places}\")"
   ]
  },
  {
   "cell_type": "code",
   "execution_count": 21,
   "metadata": {},
   "outputs": [
    {
     "name": "stdout",
     "output_type": "stream",
     "text": [
      "reversely sorted list of places:\n",
      "['WuDaDao', 'WangFuJing', 'TimeSquare', 'TianAnMen', 'GuLou']\n",
      "\n",
      "original list of places:\n",
      "['WuDaDao', 'GuLou', 'TimeSquare', 'TianAnMen', 'WangFuJing']\n"
     ]
    }
   ],
   "source": [
    "# 使用sorted()按与字母顺序相反的顺序打印这个列表，同时不要修改它。\n",
    "sorted_places_reverse = sorted(places, reverse=True)\n",
    "print(f\"reversely sorted list of places:\\n{sorted_places_reverse}\\n\")\n",
    "# 再次打印该列表，核实排列顺序未变。\n",
    "print(f\"original list of places:\\n{places}\")"
   ]
  },
  {
   "cell_type": "code",
   "execution_count": 22,
   "metadata": {},
   "outputs": [
    {
     "name": "stdout",
     "output_type": "stream",
     "text": [
      "reverse places by calling \".reverse()\":\n",
      "['WangFuJing', 'TianAnMen', 'TimeSquare', 'GuLou', 'WuDaDao']\n",
      "\n",
      "reverse the places list back:\n",
      "['WuDaDao', 'GuLou', 'TimeSquare', 'TianAnMen', 'WangFuJing']\n"
     ]
    }
   ],
   "source": [
    "# 使用reverse()修改列表元素的排列顺序。打印该列表，核实排列顺序确实变了。\n",
    "places.reverse()\n",
    "print(f'reverse places by calling \".reverse()\":\\n{places}\\n')\n",
    "# 使用reverse()再次修改列表元素的排列顺序。打印该列表，核实已恢复到原来的排列顺序。\n",
    "places.reverse()\n",
    "print(f\"reverse the places list back:\\n{places}\")"
   ]
  },
  {
   "cell_type": "code",
   "execution_count": 23,
   "metadata": {},
   "outputs": [
    {
     "name": "stdout",
     "output_type": "stream",
     "text": [
      "sort the original places list:\n",
      "['GuLou', 'TianAnMen', 'TimeSquare', 'WangFuJing', 'WuDaDao']\n",
      "\n",
      "sort the original places list reverseely:\n",
      "['WuDaDao', 'WangFuJing', 'TimeSquare', 'TianAnMen', 'GuLou']\n"
     ]
    }
   ],
   "source": [
    "# 用sort()修改该列表，使其元素按字母顺序排列。打印该列表，核实排列顺序确实变了。\n",
    "places.sort()\n",
    "print(f\"sort the original places list:\\n{places}\\n\")\n",
    "# 使用sort()修改该列表，使其元素按与字母顺序相反的顺序排列。打印该列表，核实排列顺序确实变了。\n",
    "places.sort(reverse=True)\n",
    "print(f\"sort the original places list reverseely:\\n{places}\")"
   ]
  }
 ],
 "metadata": {
  "kernelspec": {
   "display_name": "base",
   "language": "python",
   "name": "python3"
  },
  "language_info": {
   "codemirror_mode": {
    "name": "ipython",
    "version": 3
   },
   "file_extension": ".py",
   "mimetype": "text/x-python",
   "name": "python",
   "nbconvert_exporter": "python",
   "pygments_lexer": "ipython3",
   "version": "3.12.7"
  }
 },
 "nbformat": 4,
 "nbformat_minor": 2
}

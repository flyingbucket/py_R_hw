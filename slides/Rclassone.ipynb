{
 "cells": [
  {
   "cell_type": "markdown",
   "metadata": {},
   "source": [
    "#### R中的简单操作"
   ]
  },
  {
   "cell_type": "code",
   "execution_count": null,
   "metadata": {
    "vscode": {
     "languageId": "r"
    }
   },
   "outputs": [
    {
     "data": {
      "text/plain": [
       "5"
      ]
     },
     "execution_count": 2,
     "metadata": {},
     "output_type": "execute_result"
    }
   ],
   "source": [
    "2+3"
   ]
  },
  {
   "cell_type": "code",
   "execution_count": null,
   "metadata": {
    "vscode": {
     "languageId": "r"
    }
   },
   "outputs": [
    {
     "data": {
      "text/plain": [
       "7.333333333333334"
      ]
     },
     "execution_count": 3,
     "metadata": {},
     "output_type": "execute_result"
    }
   ],
   "source": [
    "14/6+5"
   ]
  },
  {
   "cell_type": "code",
   "execution_count": null,
   "metadata": {
    "vscode": {
     "languageId": "r"
    }
   },
   "outputs": [
    {
     "data": {
      "text/plain": [
       "1"
      ]
     },
     "execution_count": 5,
     "metadata": {},
     "output_type": "execute_result"
    }
   ],
   "source": [
    "2^3"
   ]
  },
  {
   "cell_type": "code",
   "execution_count": null,
   "metadata": {
    "vscode": {
     "languageId": "r"
    }
   },
   "outputs": [
    {
     "ename": "NameError",
     "evalue": "name 'sqrt' is not defined",
     "output_type": "error",
     "traceback": [
      "\u001b[31m---------------------------------------------------------------------------\u001b[39m",
      "\u001b[31mNameError\u001b[39m                                 Traceback (most recent call last)",
      "\u001b[36mCell\u001b[39m\u001b[36m \u001b[39m\u001b[32mIn[6]\u001b[39m\u001b[32m, line 1\u001b[39m\n\u001b[32m----> \u001b[39m\u001b[32m1\u001b[39m sqrt(\u001b[32m9\u001b[39m)\n",
      "\u001b[31mNameError\u001b[39m: name 'sqrt' is not defined"
     ]
    }
   ],
   "source": [
    "sqrt(9)"
   ]
  },
  {
   "cell_type": "code",
   "execution_count": null,
   "metadata": {
    "vscode": {
     "languageId": "r"
    }
   },
   "outputs": [
    {
     "data": {
      "text/html": [
       "2.30456069566414"
      ],
      "text/latex": [
       "2.30456069566414"
      ],
      "text/markdown": [
       "2.30456069566414"
      ],
      "text/plain": [
       "[1] 2.304561"
      ]
     },
     "metadata": {},
     "output_type": "display_data"
    }
   ],
   "source": [
    "sqrt(x=5.311)"
   ]
  },
  {
   "cell_type": "code",
   "execution_count": null,
   "metadata": {
    "vscode": {
     "languageId": "r"
    }
   },
   "outputs": [
    {
     "data": {
      "text/html": [
       "119.5"
      ],
      "text/latex": [
       "119.5"
      ],
      "text/markdown": [
       "119.5"
      ],
      "text/plain": [
       "[1] 119.5"
      ]
     },
     "metadata": {},
     "output_type": "display_data"
    }
   ],
   "source": [
    "10^2+3*60/8-3"
   ]
  },
  {
   "cell_type": "code",
   "execution_count": null,
   "metadata": {
    "vscode": {
     "languageId": "r"
    }
   },
   "outputs": [
    {
     "data": {
      "text/html": [
       "5.49306144334055"
      ],
      "text/latex": [
       "5.49306144334055"
      ],
      "text/markdown": [
       "5.49306144334055"
      ],
      "text/plain": [
       "[1] 5.493061"
      ]
     },
     "metadata": {},
     "output_type": "display_data"
    }
   ],
   "source": [
    "log(x=243)  #自然对数"
   ]
  },
  {
   "cell_type": "code",
   "execution_count": null,
   "metadata": {
    "vscode": {
     "languageId": "r"
    }
   },
   "outputs": [
    {
     "data": {
      "text/html": [
       "5"
      ],
      "text/latex": [
       "5"
      ],
      "text/markdown": [
       "5"
      ],
      "text/plain": [
       "[1] 5"
      ]
     },
     "metadata": {},
     "output_type": "display_data"
    }
   ],
   "source": [
    "log(x=243,base=3)"
   ]
  },
  {
   "cell_type": "code",
   "execution_count": null,
   "metadata": {
    "vscode": {
     "languageId": "r"
    }
   },
   "outputs": [
    {
     "data": {
      "text/html": [
       "20.0855369231877"
      ],
      "text/latex": [
       "20.0855369231877"
      ],
      "text/markdown": [
       "20.0855369231877"
      ],
      "text/plain": [
       "[1] 20.08554"
      ]
     },
     "metadata": {},
     "output_type": "display_data"
    }
   ],
   "source": [
    "exp(x=3)"
   ]
  },
  {
   "cell_type": "code",
   "execution_count": null,
   "metadata": {
    "vscode": {
     "languageId": "r"
    }
   },
   "outputs": [
    {
     "data": {
      "text/html": [
       "2.533e-07"
      ],
      "text/latex": [
       "2.533e-07"
      ],
      "text/markdown": [
       "2.533e-07"
      ],
      "text/plain": [
       "[1] 2.533e-07"
      ]
     },
     "metadata": {},
     "output_type": "display_data"
    }
   ],
   "source": [
    "0.0000002533 #科学计数法"
   ]
  },
  {
   "cell_type": "code",
   "execution_count": null,
   "metadata": {
    "vscode": {
     "languageId": "r"
    }
   },
   "outputs": [
    {
     "data": {
      "text/html": [
       "-5"
      ],
      "text/latex": [
       "-5"
      ],
      "text/markdown": [
       "-5"
      ],
      "text/plain": [
       "[1] -5"
      ]
     },
     "metadata": {},
     "output_type": "display_data"
    }
   ],
   "source": [
    "x <- -5\n",
    "x"
   ]
  },
  {
   "cell_type": "code",
   "execution_count": null,
   "metadata": {
    "vscode": {
     "languageId": "r"
    }
   },
   "outputs": [
    {
     "data": {
      "text/html": [
       "-4"
      ],
      "text/latex": [
       "-4"
      ],
      "text/markdown": [
       "-4"
      ],
      "text/plain": [
       "[1] -4"
      ]
     },
     "metadata": {},
     "output_type": "display_data"
    }
   ],
   "source": [
    "x = x + 1\n",
    "x"
   ]
  },
  {
   "cell_type": "code",
   "execution_count": null,
   "metadata": {
    "vscode": {
     "languageId": "r"
    }
   },
   "outputs": [
    {
     "data": {
      "text/html": [
       "-180.8"
      ],
      "text/latex": [
       "-180.8"
      ],
      "text/markdown": [
       "-180.8"
      ],
      "text/plain": [
       "[1] -180.8"
      ]
     },
     "metadata": {},
     "output_type": "display_data"
    }
   ],
   "source": [
    "mynumber = 45.2\n",
    "y <- mynumber*x\n",
    "y"
   ]
  },
  {
   "cell_type": "code",
   "execution_count": null,
   "metadata": {
    "vscode": {
     "languageId": "r"
    }
   },
   "outputs": [
    {
     "data": {
      "text/html": [
       "<ol class=list-inline>\n",
       "\t<li>'mynumber'</li>\n",
       "\t<li>'x'</li>\n",
       "\t<li>'y'</li>\n",
       "</ol>\n"
      ],
      "text/latex": [
       "\\begin{enumerate*}\n",
       "\\item 'mynumber'\n",
       "\\item 'x'\n",
       "\\item 'y'\n",
       "\\end{enumerate*}\n"
      ],
      "text/markdown": [
       "1. 'mynumber'\n",
       "2. 'x'\n",
       "3. 'y'\n",
       "\n",
       "\n"
      ],
      "text/plain": [
       "[1] \"mynumber\" \"x\"        \"y\"       "
      ]
     },
     "metadata": {},
     "output_type": "display_data"
    }
   ],
   "source": [
    "ls() #当前工作空间中包含的内容"
   ]
  },
  {
   "cell_type": "markdown",
   "metadata": {},
   "source": [
    "#### 向量"
   ]
  },
  {
   "cell_type": "code",
   "execution_count": null,
   "metadata": {
    "vscode": {
     "languageId": "r"
    }
   },
   "outputs": [
    {
     "data": {
      "text/html": [
       "<ol class=list-inline>\n",
       "\t<li>1</li>\n",
       "\t<li>3</li>\n",
       "\t<li>1</li>\n",
       "\t<li>42</li>\n",
       "</ol>\n"
      ],
      "text/latex": [
       "\\begin{enumerate*}\n",
       "\\item 1\n",
       "\\item 3\n",
       "\\item 1\n",
       "\\item 42\n",
       "\\end{enumerate*}\n"
      ],
      "text/markdown": [
       "1. 1\n",
       "2. 3\n",
       "3. 1\n",
       "4. 42\n",
       "\n",
       "\n"
      ],
      "text/plain": [
       "[1]  1  3  1 42"
      ]
     },
     "metadata": {},
     "output_type": "display_data"
    }
   ],
   "source": [
    "myvec <- c(1,3,1,42)  # c for concatenate\n",
    "myvec"
   ]
  },
  {
   "cell_type": "code",
   "execution_count": null,
   "metadata": {
    "vscode": {
     "languageId": "r"
    }
   },
   "outputs": [
    {
     "data": {
      "text/html": [
       "<ol class=list-inline>\n",
       "\t<li>3</li>\n",
       "\t<li>-3</li>\n",
       "\t<li>2</li>\n",
       "\t<li>3.45</li>\n",
       "\t<li>1000</li>\n",
       "\t<li>8</li>\n",
       "\t<li>2.20127118644068</li>\n",
       "\t<li>32.1</li>\n",
       "</ol>\n"
      ],
      "text/latex": [
       "\\begin{enumerate*}\n",
       "\\item 3\n",
       "\\item -3\n",
       "\\item 2\n",
       "\\item 3.45\n",
       "\\item 1000\n",
       "\\item 8\n",
       "\\item 2.20127118644068\n",
       "\\item 32.1\n",
       "\\end{enumerate*}\n"
      ],
      "text/markdown": [
       "1. 3\n",
       "2. -3\n",
       "3. 2\n",
       "4. 3.45\n",
       "5. 1000\n",
       "6. 8\n",
       "7. 2.20127118644068\n",
       "8. 32.1\n",
       "\n",
       "\n"
      ],
      "text/plain": [
       "[1]    3.000000   -3.000000    2.000000    3.450000 1000.000000    8.000000\n",
       "[7]    2.201271   32.100000"
      ]
     },
     "metadata": {},
     "output_type": "display_data"
    }
   ],
   "source": [
    "foo <- 32.1\n",
    "myvec2 <- c(3,-3,2,3.45,1e+03,64^0.5,2+(3-1.1)/9.44,foo)  \n",
    "myvec2"
   ]
  },
  {
   "cell_type": "code",
   "execution_count": null,
   "metadata": {
    "vscode": {
     "languageId": "r"
    }
   },
   "outputs": [
    {
     "data": {
      "text/html": [
       "<ol class=list-inline>\n",
       "\t<li>1</li>\n",
       "\t<li>3</li>\n",
       "\t<li>1</li>\n",
       "\t<li>42</li>\n",
       "\t<li>3</li>\n",
       "\t<li>-3</li>\n",
       "\t<li>2</li>\n",
       "\t<li>3.45</li>\n",
       "\t<li>1000</li>\n",
       "\t<li>8</li>\n",
       "\t<li>2.20127118644068</li>\n",
       "\t<li>32.1</li>\n",
       "</ol>\n"
      ],
      "text/latex": [
       "\\begin{enumerate*}\n",
       "\\item 1\n",
       "\\item 3\n",
       "\\item 1\n",
       "\\item 42\n",
       "\\item 3\n",
       "\\item -3\n",
       "\\item 2\n",
       "\\item 3.45\n",
       "\\item 1000\n",
       "\\item 8\n",
       "\\item 2.20127118644068\n",
       "\\item 32.1\n",
       "\\end{enumerate*}\n"
      ],
      "text/markdown": [
       "1. 1\n",
       "2. 3\n",
       "3. 1\n",
       "4. 42\n",
       "5. 3\n",
       "6. -3\n",
       "7. 2\n",
       "8. 3.45\n",
       "9. 1000\n",
       "10. 8\n",
       "11. 2.20127118644068\n",
       "12. 32.1\n",
       "\n",
       "\n"
      ],
      "text/plain": [
       " [1]    1.000000    3.000000    1.000000   42.000000    3.000000   -3.000000\n",
       " [7]    2.000000    3.450000 1000.000000    8.000000    2.201271   32.100000"
      ]
     },
     "metadata": {},
     "output_type": "display_data"
    }
   ],
   "source": [
    "myvec3 <- c(myvec,myvec2)\n",
    "myvec3"
   ]
  },
  {
   "cell_type": "markdown",
   "metadata": {},
   "source": [
    "#### 序列，重复，排序和长度"
   ]
  },
  {
   "cell_type": "code",
   "execution_count": null,
   "metadata": {
    "vscode": {
     "languageId": "r"
    }
   },
   "outputs": [
    {
     "data": {
      "text/html": [
       "<ol class=list-inline>\n",
       "\t<li>3</li>\n",
       "\t<li>4</li>\n",
       "\t<li>5</li>\n",
       "\t<li>6</li>\n",
       "\t<li>7</li>\n",
       "\t<li>8</li>\n",
       "\t<li>9</li>\n",
       "\t<li>10</li>\n",
       "\t<li>11</li>\n",
       "\t<li>12</li>\n",
       "\t<li>13</li>\n",
       "\t<li>14</li>\n",
       "\t<li>15</li>\n",
       "\t<li>16</li>\n",
       "\t<li>17</li>\n",
       "\t<li>18</li>\n",
       "\t<li>19</li>\n",
       "\t<li>20</li>\n",
       "\t<li>21</li>\n",
       "\t<li>22</li>\n",
       "\t<li>23</li>\n",
       "\t<li>24</li>\n",
       "\t<li>25</li>\n",
       "\t<li>26</li>\n",
       "\t<li>27</li>\n",
       "</ol>\n"
      ],
      "text/latex": [
       "\\begin{enumerate*}\n",
       "\\item 3\n",
       "\\item 4\n",
       "\\item 5\n",
       "\\item 6\n",
       "\\item 7\n",
       "\\item 8\n",
       "\\item 9\n",
       "\\item 10\n",
       "\\item 11\n",
       "\\item 12\n",
       "\\item 13\n",
       "\\item 14\n",
       "\\item 15\n",
       "\\item 16\n",
       "\\item 17\n",
       "\\item 18\n",
       "\\item 19\n",
       "\\item 20\n",
       "\\item 21\n",
       "\\item 22\n",
       "\\item 23\n",
       "\\item 24\n",
       "\\item 25\n",
       "\\item 26\n",
       "\\item 27\n",
       "\\end{enumerate*}\n"
      ],
      "text/markdown": [
       "1. 3\n",
       "2. 4\n",
       "3. 5\n",
       "4. 6\n",
       "5. 7\n",
       "6. 8\n",
       "7. 9\n",
       "8. 10\n",
       "9. 11\n",
       "10. 12\n",
       "11. 13\n",
       "12. 14\n",
       "13. 15\n",
       "14. 16\n",
       "15. 17\n",
       "16. 18\n",
       "17. 19\n",
       "18. 20\n",
       "19. 21\n",
       "20. 22\n",
       "21. 23\n",
       "22. 24\n",
       "23. 25\n",
       "24. 26\n",
       "25. 27\n",
       "\n",
       "\n"
      ],
      "text/plain": [
       " [1]  3  4  5  6  7  8  9 10 11 12 13 14 15 16 17 18 19 20 21 22 23 24 25 26 27"
      ]
     },
     "metadata": {},
     "output_type": "display_data"
    }
   ],
   "source": [
    "3:27  #生成从3到27的向量"
   ]
  },
  {
   "cell_type": "code",
   "execution_count": null,
   "metadata": {
    "vscode": {
     "languageId": "r"
    }
   },
   "outputs": [
    {
     "data": {
      "text/html": [
       "<ol class=list-inline>\n",
       "\t<li>5.3</li>\n",
       "\t<li>4.3</li>\n",
       "\t<li>3.3</li>\n",
       "\t<li>2.3</li>\n",
       "\t<li>1.3</li>\n",
       "\t<li>0.3</li>\n",
       "</ol>\n"
      ],
      "text/latex": [
       "\\begin{enumerate*}\n",
       "\\item 5.3\n",
       "\\item 4.3\n",
       "\\item 3.3\n",
       "\\item 2.3\n",
       "\\item 1.3\n",
       "\\item 0.3\n",
       "\\end{enumerate*}\n"
      ],
      "text/markdown": [
       "1. 5.3\n",
       "2. 4.3\n",
       "3. 3.3\n",
       "4. 2.3\n",
       "5. 1.3\n",
       "6. 0.3\n",
       "\n",
       "\n"
      ],
      "text/plain": [
       "[1] 5.3 4.3 3.3 2.3 1.3 0.3"
      ]
     },
     "metadata": {},
     "output_type": "display_data"
    }
   ],
   "source": [
    "foo <- 5.3\n",
    "bar <- foo:(-47+1.5)  #生成从5.3到-47+1.5的向量\n",
    "head(bar)"
   ]
  },
  {
   "cell_type": "code",
   "execution_count": null,
   "metadata": {
    "vscode": {
     "languageId": "r"
    }
   },
   "outputs": [
    {
     "data": {
      "text/html": [
       "<ol class=list-inline>\n",
       "\t<li>3</li>\n",
       "\t<li>6</li>\n",
       "\t<li>9</li>\n",
       "\t<li>12</li>\n",
       "\t<li>15</li>\n",
       "\t<li>18</li>\n",
       "\t<li>21</li>\n",
       "\t<li>24</li>\n",
       "\t<li>27</li>\n",
       "</ol>\n"
      ],
      "text/latex": [
       "\\begin{enumerate*}\n",
       "\\item 3\n",
       "\\item 6\n",
       "\\item 9\n",
       "\\item 12\n",
       "\\item 15\n",
       "\\item 18\n",
       "\\item 21\n",
       "\\item 24\n",
       "\\item 27\n",
       "\\end{enumerate*}\n"
      ],
      "text/markdown": [
       "1. 3\n",
       "2. 6\n",
       "3. 9\n",
       "4. 12\n",
       "5. 15\n",
       "6. 18\n",
       "7. 21\n",
       "8. 24\n",
       "9. 27\n",
       "\n",
       "\n"
      ],
      "text/plain": [
       "[1]  3  6  9 12 15 18 21 24 27"
      ]
     },
     "metadata": {},
     "output_type": "display_data"
    }
   ],
   "source": [
    "seq(from=3,to=27,by=3)  #从from开始，间隔3，最大为27的序列"
   ]
  },
  {
   "cell_type": "code",
   "execution_count": null,
   "metadata": {
    "vscode": {
     "languageId": "r"
    }
   },
   "outputs": [
    {
     "data": {
      "text/html": [
       "<ol class=list-inline>\n",
       "\t<li>3</li>\n",
       "\t<li>3.61538461538462</li>\n",
       "\t<li>4.23076923076923</li>\n",
       "\t<li>4.84615384615385</li>\n",
       "\t<li>5.46153846153846</li>\n",
       "\t<li>6.07692307692308</li>\n",
       "</ol>\n"
      ],
      "text/latex": [
       "\\begin{enumerate*}\n",
       "\\item 3\n",
       "\\item 3.61538461538462\n",
       "\\item 4.23076923076923\n",
       "\\item 4.84615384615385\n",
       "\\item 5.46153846153846\n",
       "\\item 6.07692307692308\n",
       "\\end{enumerate*}\n"
      ],
      "text/markdown": [
       "1. 3\n",
       "2. 3.61538461538462\n",
       "3. 4.23076923076923\n",
       "4. 4.84615384615385\n",
       "5. 5.46153846153846\n",
       "6. 6.07692307692308\n",
       "\n",
       "\n"
      ],
      "text/plain": [
       "[1] 3.000000 3.615385 4.230769 4.846154 5.461538 6.076923"
      ]
     },
     "metadata": {},
     "output_type": "display_data"
    }
   ],
   "source": [
    "head(seq(from=3,to=27,length.out=40)) #从3开始，到27结束，长度为40的序列"
   ]
  },
  {
   "cell_type": "code",
   "execution_count": null,
   "metadata": {
    "vscode": {
     "languageId": "r"
    }
   },
   "outputs": [
    {
     "data": {
      "text/html": [
       "<ol class=list-inline>\n",
       "\t<li>5.3</li>\n",
       "\t<li>2.9</li>\n",
       "\t<li>0.5</li>\n",
       "\t<li>-1.9</li>\n",
       "\t<li>-4.3</li>\n",
       "\t<li>-6.7</li>\n",
       "</ol>\n"
      ],
      "text/latex": [
       "\\begin{enumerate*}\n",
       "\\item 5.3\n",
       "\\item 2.9\n",
       "\\item 0.5\n",
       "\\item -1.9\n",
       "\\item -4.3\n",
       "\\item -6.7\n",
       "\\end{enumerate*}\n"
      ],
      "text/markdown": [
       "1. 5.3\n",
       "2. 2.9\n",
       "3. 0.5\n",
       "4. -1.9\n",
       "5. -4.3\n",
       "6. -6.7\n",
       "\n",
       "\n"
      ],
      "text/plain": [
       "[1]  5.3  2.9  0.5 -1.9 -4.3 -6.7"
      ]
     },
     "metadata": {},
     "output_type": "display_data"
    }
   ],
   "source": [
    "foo <- 5.3\n",
    "myseq <- seq(from=foo,to=(-47+1.5),by=-2.4) #递减序列\n",
    "head(myseq)"
   ]
  },
  {
   "cell_type": "code",
   "execution_count": null,
   "metadata": {
    "vscode": {
     "languageId": "r"
    }
   },
   "outputs": [
    {
     "data": {
      "text/html": [
       "<ol class=list-inline>\n",
       "\t<li>5.3</li>\n",
       "\t<li>-7.4</li>\n",
       "\t<li>-20.1</li>\n",
       "\t<li>-32.8</li>\n",
       "\t<li>-45.5</li>\n",
       "</ol>\n"
      ],
      "text/latex": [
       "\\begin{enumerate*}\n",
       "\\item 5.3\n",
       "\\item -7.4\n",
       "\\item -20.1\n",
       "\\item -32.8\n",
       "\\item -45.5\n",
       "\\end{enumerate*}\n"
      ],
      "text/markdown": [
       "1. 5.3\n",
       "2. -7.4\n",
       "3. -20.1\n",
       "4. -32.8\n",
       "5. -45.5\n",
       "\n",
       "\n"
      ],
      "text/plain": [
       "[1]   5.3  -7.4 -20.1 -32.8 -45.5"
      ]
     },
     "metadata": {},
     "output_type": "display_data"
    }
   ],
   "source": [
    "myseq2 <- seq(from=foo,to=(-47+1.5),length.out=5)\n",
    "myseq2"
   ]
  },
  {
   "cell_type": "code",
   "execution_count": null,
   "metadata": {
    "vscode": {
     "languageId": "r"
    }
   },
   "outputs": [
    {
     "data": {
      "text/html": [
       "<ol class=list-inline>\n",
       "\t<li>1</li>\n",
       "\t<li>1</li>\n",
       "\t<li>1</li>\n",
       "\t<li>1</li>\n",
       "</ol>\n"
      ],
      "text/latex": [
       "\\begin{enumerate*}\n",
       "\\item 1\n",
       "\\item 1\n",
       "\\item 1\n",
       "\\item 1\n",
       "\\end{enumerate*}\n"
      ],
      "text/markdown": [
       "1. 1\n",
       "2. 1\n",
       "3. 1\n",
       "4. 1\n",
       "\n",
       "\n"
      ],
      "text/plain": [
       "[1] 1 1 1 1"
      ]
     },
     "metadata": {},
     "output_type": "display_data"
    }
   ],
   "source": [
    "rep(x=1,times=4)   #repeat"
   ]
  },
  {
   "cell_type": "code",
   "execution_count": null,
   "metadata": {
    "vscode": {
     "languageId": "r"
    }
   },
   "outputs": [
    {
     "data": {
      "text/html": [
       "<ol class=list-inline>\n",
       "\t<li>3</li>\n",
       "\t<li>62</li>\n",
       "\t<li>8.3</li>\n",
       "\t<li>3</li>\n",
       "\t<li>62</li>\n",
       "\t<li>8.3</li>\n",
       "\t<li>3</li>\n",
       "\t<li>62</li>\n",
       "\t<li>8.3</li>\n",
       "</ol>\n"
      ],
      "text/latex": [
       "\\begin{enumerate*}\n",
       "\\item 3\n",
       "\\item 62\n",
       "\\item 8.3\n",
       "\\item 3\n",
       "\\item 62\n",
       "\\item 8.3\n",
       "\\item 3\n",
       "\\item 62\n",
       "\\item 8.3\n",
       "\\end{enumerate*}\n"
      ],
      "text/markdown": [
       "1. 3\n",
       "2. 62\n",
       "3. 8.3\n",
       "4. 3\n",
       "5. 62\n",
       "6. 8.3\n",
       "7. 3\n",
       "8. 62\n",
       "9. 8.3\n",
       "\n",
       "\n"
      ],
      "text/plain": [
       "[1]  3.0 62.0  8.3  3.0 62.0  8.3  3.0 62.0  8.3"
      ]
     },
     "metadata": {},
     "output_type": "display_data"
    }
   ],
   "source": [
    "rep(x=c(3,62,8.3),times=3)"
   ]
  },
  {
   "cell_type": "code",
   "execution_count": null,
   "metadata": {
    "vscode": {
     "languageId": "r"
    }
   },
   "outputs": [
    {
     "data": {
      "text/html": [
       "<ol class=list-inline>\n",
       "\t<li>3</li>\n",
       "\t<li>3</li>\n",
       "\t<li>62</li>\n",
       "\t<li>62</li>\n",
       "\t<li>8.3</li>\n",
       "\t<li>8.3</li>\n",
       "\t<li>3</li>\n",
       "\t<li>3</li>\n",
       "\t<li>62</li>\n",
       "\t<li>62</li>\n",
       "\t<li>8.3</li>\n",
       "\t<li>8.3</li>\n",
       "\t<li>3</li>\n",
       "\t<li>3</li>\n",
       "\t<li>62</li>\n",
       "\t<li>62</li>\n",
       "\t<li>8.3</li>\n",
       "\t<li>8.3</li>\n",
       "</ol>\n"
      ],
      "text/latex": [
       "\\begin{enumerate*}\n",
       "\\item 3\n",
       "\\item 3\n",
       "\\item 62\n",
       "\\item 62\n",
       "\\item 8.3\n",
       "\\item 8.3\n",
       "\\item 3\n",
       "\\item 3\n",
       "\\item 62\n",
       "\\item 62\n",
       "\\item 8.3\n",
       "\\item 8.3\n",
       "\\item 3\n",
       "\\item 3\n",
       "\\item 62\n",
       "\\item 62\n",
       "\\item 8.3\n",
       "\\item 8.3\n",
       "\\end{enumerate*}\n"
      ],
      "text/markdown": [
       "1. 3\n",
       "2. 3\n",
       "3. 62\n",
       "4. 62\n",
       "5. 8.3\n",
       "6. 8.3\n",
       "7. 3\n",
       "8. 3\n",
       "9. 62\n",
       "10. 62\n",
       "11. 8.3\n",
       "12. 8.3\n",
       "13. 3\n",
       "14. 3\n",
       "15. 62\n",
       "16. 62\n",
       "17. 8.3\n",
       "18. 8.3\n",
       "\n",
       "\n"
      ],
      "text/plain": [
       " [1]  3.0  3.0 62.0 62.0  8.3  8.3  3.0  3.0 62.0 62.0  8.3  8.3  3.0  3.0 62.0\n",
       "[16] 62.0  8.3  8.3"
      ]
     },
     "metadata": {},
     "output_type": "display_data"
    }
   ],
   "source": [
    "rep(x=c(3,62,8.3),times=3,each=2)"
   ]
  },
  {
   "cell_type": "code",
   "execution_count": null,
   "metadata": {
    "vscode": {
     "languageId": "r"
    }
   },
   "outputs": [
    {
     "data": {
      "text/html": [
       "<ol class=list-inline>\n",
       "\t<li>3</li>\n",
       "\t<li>8.3</li>\n",
       "\t<li>32</li>\n",
       "\t<li>32</li>\n",
       "\t<li>32</li>\n",
       "\t<li>32</li>\n",
       "\t<li>-2</li>\n",
       "\t<li>-1.25</li>\n",
       "\t<li>-0.5</li>\n",
       "\t<li>0.25</li>\n",
       "\t<li>1</li>\n",
       "</ol>\n"
      ],
      "text/latex": [
       "\\begin{enumerate*}\n",
       "\\item 3\n",
       "\\item 8.3\n",
       "\\item 32\n",
       "\\item 32\n",
       "\\item 32\n",
       "\\item 32\n",
       "\\item -2\n",
       "\\item -1.25\n",
       "\\item -0.5\n",
       "\\item 0.25\n",
       "\\item 1\n",
       "\\end{enumerate*}\n"
      ],
      "text/markdown": [
       "1. 3\n",
       "2. 8.3\n",
       "3. 32\n",
       "4. 32\n",
       "5. 32\n",
       "6. 32\n",
       "7. -2\n",
       "8. -1.25\n",
       "9. -0.5\n",
       "10. 0.25\n",
       "11. 1\n",
       "\n",
       "\n"
      ],
      "text/plain": [
       " [1]  3.00  8.30 32.00 32.00 32.00 32.00 -2.00 -1.25 -0.50  0.25  1.00"
      ]
     },
     "metadata": {},
     "output_type": "display_data"
    }
   ],
   "source": [
    "foo <- 4\n",
    "c(3,8.3,rep(x=32,times=foo),seq(from=-2,to=1,length.out=foo+1))"
   ]
  },
  {
   "cell_type": "code",
   "execution_count": null,
   "metadata": {
    "vscode": {
     "languageId": "r"
    }
   },
   "outputs": [
    {
     "data": {
      "text/html": [
       "<ol class=list-inline>\n",
       "\t<li>-10</li>\n",
       "\t<li>-1</li>\n",
       "\t<li>2.5</li>\n",
       "\t<li>3.44</li>\n",
       "</ol>\n"
      ],
      "text/latex": [
       "\\begin{enumerate*}\n",
       "\\item -10\n",
       "\\item -1\n",
       "\\item 2.5\n",
       "\\item 3.44\n",
       "\\end{enumerate*}\n"
      ],
      "text/markdown": [
       "1. -10\n",
       "2. -1\n",
       "3. 2.5\n",
       "4. 3.44\n",
       "\n",
       "\n"
      ],
      "text/plain": [
       "[1] -10.00  -1.00   2.50   3.44"
      ]
     },
     "metadata": {},
     "output_type": "display_data"
    }
   ],
   "source": [
    "sort(x=c(2.5,-1,-10,3.44),decreasing=FALSE)  #排序"
   ]
  },
  {
   "cell_type": "code",
   "execution_count": null,
   "metadata": {
    "vscode": {
     "languageId": "r"
    }
   },
   "outputs": [
    {
     "data": {
      "text/html": [
       "<ol class=list-inline>\n",
       "\t<li>3.44</li>\n",
       "\t<li>2.5</li>\n",
       "\t<li>-1</li>\n",
       "\t<li>-10</li>\n",
       "</ol>\n"
      ],
      "text/latex": [
       "\\begin{enumerate*}\n",
       "\\item 3.44\n",
       "\\item 2.5\n",
       "\\item -1\n",
       "\\item -10\n",
       "\\end{enumerate*}\n"
      ],
      "text/markdown": [
       "1. 3.44\n",
       "2. 2.5\n",
       "3. -1\n",
       "4. -10\n",
       "\n",
       "\n"
      ],
      "text/plain": [
       "[1]   3.44   2.50  -1.00 -10.00"
      ]
     },
     "metadata": {},
     "output_type": "display_data"
    }
   ],
   "source": [
    "sort(x=c(2.5,-1,-10,3.44),decreasing=TRUE)"
   ]
  },
  {
   "cell_type": "code",
   "execution_count": null,
   "metadata": {
    "vscode": {
     "languageId": "r"
    }
   },
   "outputs": [
    {
     "data": {
      "text/html": [
       "4"
      ],
      "text/latex": [
       "4"
      ],
      "text/markdown": [
       "4"
      ],
      "text/plain": [
       "[1] 4"
      ]
     },
     "metadata": {},
     "output_type": "display_data"
    }
   ],
   "source": [
    "length(x=c(3,2,8,1)) #向量长度"
   ]
  },
  {
   "cell_type": "code",
   "execution_count": null,
   "metadata": {
    "vscode": {
     "languageId": "r"
    }
   },
   "outputs": [
    {
     "data": {
      "text/html": [
       "9"
      ],
      "text/latex": [
       "9"
      ],
      "text/markdown": [
       "9"
      ],
      "text/plain": [
       "[1] 9"
      ]
     },
     "metadata": {},
     "output_type": "display_data"
    }
   ],
   "source": [
    "length(x=5:13)"
   ]
  },
  {
   "cell_type": "code",
   "execution_count": null,
   "metadata": {
    "vscode": {
     "languageId": "r"
    }
   },
   "outputs": [
    {
     "data": {
      "text/html": [
       "11"
      ],
      "text/latex": [
       "11"
      ],
      "text/markdown": [
       "11"
      ],
      "text/plain": [
       "[1] 11"
      ]
     },
     "metadata": {},
     "output_type": "display_data"
    }
   ],
   "source": [
    "foo <- 4\n",
    "bar <- c(3,8.3,rep(x=32,times=foo),seq(from=-2,to=1,length.out=foo+1))\n",
    "length(x=bar)"
   ]
  },
  {
   "cell_type": "markdown",
   "metadata": {},
   "source": [
    "#### 子集和元素的提取"
   ]
  },
  {
   "cell_type": "code",
   "execution_count": null,
   "metadata": {
    "vscode": {
     "languageId": "r"
    }
   },
   "outputs": [
    {
     "data": {
      "text/html": [
       "10"
      ],
      "text/latex": [
       "10"
      ],
      "text/markdown": [
       "10"
      ],
      "text/plain": [
       "[1] 10"
      ]
     },
     "metadata": {},
     "output_type": "display_data"
    },
    {
     "data": {
      "text/html": [
       "5"
      ],
      "text/latex": [
       "5"
      ],
      "text/markdown": [
       "5"
      ],
      "text/plain": [
       "[1] 5"
      ]
     },
     "metadata": {},
     "output_type": "display_data"
    }
   ],
   "source": [
    "myvec <- c(5,-2.3,4,4,4,6,8,10,40221,-8)\n",
    "length(x=myvec)\n",
    "myvec[1]           #下标从1开始"
   ]
  },
  {
   "cell_type": "code",
   "execution_count": null,
   "metadata": {
    "vscode": {
     "languageId": "r"
    }
   },
   "outputs": [
    {
     "data": {
      "text/html": [
       "-2.3"
      ],
      "text/latex": [
       "-2.3"
      ],
      "text/markdown": [
       "-2.3"
      ],
      "text/plain": [
       "[1] -2.3"
      ]
     },
     "metadata": {},
     "output_type": "display_data"
    }
   ],
   "source": [
    "foo <- myvec[2]\n",
    "foo"
   ]
  },
  {
   "cell_type": "code",
   "execution_count": null,
   "metadata": {
    "vscode": {
     "languageId": "r"
    }
   },
   "outputs": [
    {
     "data": {
      "text/html": [
       "-8"
      ],
      "text/latex": [
       "-8"
      ],
      "text/markdown": [
       "-8"
      ],
      "text/plain": [
       "[1] -8"
      ]
     },
     "metadata": {},
     "output_type": "display_data"
    }
   ],
   "source": [
    "myvec[length(x=myvec)] #最后一个元素"
   ]
  },
  {
   "cell_type": "code",
   "execution_count": null,
   "metadata": {
    "vscode": {
     "languageId": "r"
    }
   },
   "outputs": [
    {
     "data": {
      "text/html": [
       "40221"
      ],
      "text/latex": [
       "40221"
      ],
      "text/markdown": [
       "40221"
      ],
      "text/plain": [
       "[1] 40221"
      ]
     },
     "metadata": {},
     "output_type": "display_data"
    }
   ],
   "source": [
    "myvec.len <- length(x=myvec)\n",
    "bar <- myvec[myvec.len-1] #倒数第二个元素\n",
    "bar"
   ]
  },
  {
   "cell_type": "code",
   "execution_count": null,
   "metadata": {
    "vscode": {
     "languageId": "r"
    }
   },
   "outputs": [
    {
     "data": {
      "text/html": [
       "<ol class=list-inline>\n",
       "\t<li>-2.3</li>\n",
       "\t<li>4</li>\n",
       "</ol>\n"
      ],
      "text/latex": [
       "\\begin{enumerate*}\n",
       "\\item -2.3\n",
       "\\item 4\n",
       "\\end{enumerate*}\n"
      ],
      "text/markdown": [
       "1. -2.3\n",
       "2. 4\n",
       "\n",
       "\n"
      ],
      "text/plain": [
       "[1] -2.3  4.0"
      ]
     },
     "metadata": {},
     "output_type": "display_data"
    }
   ],
   "source": [
    "myvec[2:3]"
   ]
  },
  {
   "cell_type": "code",
   "execution_count": null,
   "metadata": {
    "vscode": {
     "languageId": "r"
    }
   },
   "outputs": [
    {
     "data": {
      "text/html": [
       "<ol class=list-inline>\n",
       "\t<li>-2.3</li>\n",
       "\t<li>4</li>\n",
       "\t<li>4</li>\n",
       "\t<li>4</li>\n",
       "\t<li>6</li>\n",
       "\t<li>8</li>\n",
       "\t<li>10</li>\n",
       "\t<li>40221</li>\n",
       "\t<li>-8</li>\n",
       "</ol>\n"
      ],
      "text/latex": [
       "\\begin{enumerate*}\n",
       "\\item -2.3\n",
       "\\item 4\n",
       "\\item 4\n",
       "\\item 4\n",
       "\\item 6\n",
       "\\item 8\n",
       "\\item 10\n",
       "\\item 40221\n",
       "\\item -8\n",
       "\\end{enumerate*}\n"
      ],
      "text/markdown": [
       "1. -2.3\n",
       "2. 4\n",
       "3. 4\n",
       "4. 4\n",
       "5. 6\n",
       "6. 8\n",
       "7. 10\n",
       "8. 40221\n",
       "9. -8\n",
       "\n",
       "\n"
      ],
      "text/plain": [
       "[1]    -2.3     4.0     4.0     4.0     6.0     8.0    10.0 40221.0    -8.0"
      ]
     },
     "metadata": {},
     "output_type": "display_data"
    }
   ],
   "source": [
    "myvec[-1]  #删除第一个元素，注意与python的区别，另外，此时，myvec本身并没有变化"
   ]
  },
  {
   "cell_type": "code",
   "execution_count": null,
   "metadata": {
    "vscode": {
     "languageId": "r"
    }
   },
   "outputs": [
    {
     "data": {
      "text/html": [
       "<ol class=list-inline>\n",
       "\t<li>5</li>\n",
       "\t<li>-2.3</li>\n",
       "\t<li>4</li>\n",
       "\t<li>4</li>\n",
       "\t<li>4</li>\n",
       "\t<li>6</li>\n",
       "\t<li>8</li>\n",
       "\t<li>10</li>\n",
       "\t<li>40221</li>\n",
       "\t<li>-8</li>\n",
       "</ol>\n"
      ],
      "text/latex": [
       "\\begin{enumerate*}\n",
       "\\item 5\n",
       "\\item -2.3\n",
       "\\item 4\n",
       "\\item 4\n",
       "\\item 4\n",
       "\\item 6\n",
       "\\item 8\n",
       "\\item 10\n",
       "\\item 40221\n",
       "\\item -8\n",
       "\\end{enumerate*}\n"
      ],
      "text/markdown": [
       "1. 5\n",
       "2. -2.3\n",
       "3. 4\n",
       "4. 4\n",
       "5. 4\n",
       "6. 6\n",
       "7. 8\n",
       "8. 10\n",
       "9. 40221\n",
       "10. -8\n",
       "\n",
       "\n"
      ],
      "text/plain": [
       " [1]     5.0    -2.3     4.0     4.0     4.0     6.0     8.0    10.0 40221.0\n",
       "[10]    -8.0"
      ]
     },
     "metadata": {},
     "output_type": "display_data"
    }
   ],
   "source": [
    "myvec"
   ]
  },
  {
   "cell_type": "code",
   "execution_count": null,
   "metadata": {
    "vscode": {
     "languageId": "r"
    }
   },
   "outputs": [
    {
     "data": {
      "text/html": [
       "<ol class=list-inline>\n",
       "\t<li>5</li>\n",
       "\t<li>4</li>\n",
       "\t<li>4</li>\n",
       "\t<li>4</li>\n",
       "\t<li>6</li>\n",
       "\t<li>8</li>\n",
       "\t<li>10</li>\n",
       "\t<li>40221</li>\n",
       "\t<li>-8</li>\n",
       "</ol>\n"
      ],
      "text/latex": [
       "\\begin{enumerate*}\n",
       "\\item 5\n",
       "\\item 4\n",
       "\\item 4\n",
       "\\item 4\n",
       "\\item 6\n",
       "\\item 8\n",
       "\\item 10\n",
       "\\item 40221\n",
       "\\item -8\n",
       "\\end{enumerate*}\n"
      ],
      "text/markdown": [
       "1. 5\n",
       "2. 4\n",
       "3. 4\n",
       "4. 4\n",
       "5. 6\n",
       "6. 8\n",
       "7. 10\n",
       "8. 40221\n",
       "9. -8\n",
       "\n",
       "\n"
      ],
      "text/plain": [
       "[1]     5     4     4     4     6     8    10 40221    -8"
      ]
     },
     "metadata": {},
     "output_type": "display_data"
    }
   ],
   "source": [
    "baz <- myvec[-2]  #删除第二个元素并且赋值给baz\n",
    "baz"
   ]
  },
  {
   "cell_type": "code",
   "execution_count": null,
   "metadata": {
    "vscode": {
     "languageId": "r"
    }
   },
   "outputs": [
    {
     "data": {
      "text/html": [
       "<ol class=list-inline>\n",
       "\t<li>5</li>\n",
       "\t<li>-2.3</li>\n",
       "\t<li>4</li>\n",
       "\t<li>4</li>\n",
       "\t<li>4</li>\n",
       "\t<li>6</li>\n",
       "\t<li>8</li>\n",
       "\t<li>10</li>\n",
       "\t<li>-8</li>\n",
       "</ol>\n"
      ],
      "text/latex": [
       "\\begin{enumerate*}\n",
       "\\item 5\n",
       "\\item -2.3\n",
       "\\item 4\n",
       "\\item 4\n",
       "\\item 4\n",
       "\\item 6\n",
       "\\item 8\n",
       "\\item 10\n",
       "\\item -8\n",
       "\\end{enumerate*}\n"
      ],
      "text/markdown": [
       "1. 5\n",
       "2. -2.3\n",
       "3. 4\n",
       "4. 4\n",
       "5. 4\n",
       "6. 6\n",
       "7. 8\n",
       "8. 10\n",
       "9. -8\n",
       "\n",
       "\n"
      ],
      "text/plain": [
       "[1]  5.0 -2.3  4.0  4.0  4.0  6.0  8.0 10.0 -8.0"
      ]
     },
     "metadata": {},
     "output_type": "display_data"
    }
   ],
   "source": [
    "qux <- myvec[-(myvec.len-1)]  #删除倒数第二个元素\n",
    "qux"
   ]
  },
  {
   "cell_type": "code",
   "execution_count": null,
   "metadata": {
    "vscode": {
     "languageId": "r"
    }
   },
   "outputs": [
    {
     "data": {
      "text/html": [
       "<ol class=list-inline>\n",
       "\t<li>5</li>\n",
       "\t<li>-2.3</li>\n",
       "\t<li>4</li>\n",
       "\t<li>4</li>\n",
       "\t<li>4</li>\n",
       "\t<li>6</li>\n",
       "\t<li>8</li>\n",
       "\t<li>10</li>\n",
       "\t<li>40221</li>\n",
       "\t<li>-8</li>\n",
       "</ol>\n"
      ],
      "text/latex": [
       "\\begin{enumerate*}\n",
       "\\item 5\n",
       "\\item -2.3\n",
       "\\item 4\n",
       "\\item 4\n",
       "\\item 4\n",
       "\\item 6\n",
       "\\item 8\n",
       "\\item 10\n",
       "\\item 40221\n",
       "\\item -8\n",
       "\\end{enumerate*}\n"
      ],
      "text/markdown": [
       "1. 5\n",
       "2. -2.3\n",
       "3. 4\n",
       "4. 4\n",
       "5. 4\n",
       "6. 6\n",
       "7. 8\n",
       "8. 10\n",
       "9. 40221\n",
       "10. -8\n",
       "\n",
       "\n"
      ],
      "text/plain": [
       " [1]     5.0    -2.3     4.0     4.0     4.0     6.0     8.0    10.0 40221.0\n",
       "[10]    -8.0"
      ]
     },
     "metadata": {},
     "output_type": "display_data"
    }
   ],
   "source": [
    "c(qux[-length(x=qux)],bar,qux[length(x=qux)])  #重新构造myvec，bar是myvec的倒数第二个元素"
   ]
  },
  {
   "cell_type": "code",
   "execution_count": null,
   "metadata": {
    "vscode": {
     "languageId": "r"
    }
   },
   "outputs": [
    {
     "data": {
      "text/html": [
       "<ol class=list-inline>\n",
       "\t<li>1</li>\n",
       "\t<li>2</li>\n",
       "\t<li>3</li>\n",
       "\t<li>4</li>\n",
       "</ol>\n"
      ],
      "text/latex": [
       "\\begin{enumerate*}\n",
       "\\item 1\n",
       "\\item 2\n",
       "\\item 3\n",
       "\\item 4\n",
       "\\end{enumerate*}\n"
      ],
      "text/markdown": [
       "1. 1\n",
       "2. 2\n",
       "3. 3\n",
       "4. 4\n",
       "\n",
       "\n"
      ],
      "text/plain": [
       "[1] 1 2 3 4"
      ]
     },
     "metadata": {},
     "output_type": "display_data"
    },
    {
     "data": {
      "text/html": [
       "<ol class=list-inline>\n",
       "\t<li>5</li>\n",
       "\t<li>-2.3</li>\n",
       "\t<li>4</li>\n",
       "\t<li>4</li>\n",
       "</ol>\n"
      ],
      "text/latex": [
       "\\begin{enumerate*}\n",
       "\\item 5\n",
       "\\item -2.3\n",
       "\\item 4\n",
       "\\item 4\n",
       "\\end{enumerate*}\n"
      ],
      "text/markdown": [
       "1. 5\n",
       "2. -2.3\n",
       "3. 4\n",
       "4. 4\n",
       "\n",
       "\n"
      ],
      "text/plain": [
       "[1]  5.0 -2.3  4.0  4.0"
      ]
     },
     "metadata": {},
     "output_type": "display_data"
    }
   ],
   "source": [
    "1:4\n",
    "foo <- myvec[1:4]\n",
    "foo"
   ]
  },
  {
   "cell_type": "code",
   "execution_count": null,
   "metadata": {
    "vscode": {
     "languageId": "r"
    }
   },
   "outputs": [
    {
     "data": {
      "text/html": [
       "<ol class=list-inline>\n",
       "\t<li>5</li>\n",
       "\t<li>4</li>\n",
       "\t<li>4</li>\n",
       "</ol>\n"
      ],
      "text/latex": [
       "\\begin{enumerate*}\n",
       "\\item 5\n",
       "\\item 4\n",
       "\\item 4\n",
       "\\end{enumerate*}\n"
      ],
      "text/markdown": [
       "1. 5\n",
       "2. 4\n",
       "3. 4\n",
       "\n",
       "\n"
      ],
      "text/plain": [
       "[1] 5 4 4"
      ]
     },
     "metadata": {},
     "output_type": "display_data"
    }
   ],
   "source": [
    "myvec[c(1,3,5)]"
   ]
  },
  {
   "cell_type": "code",
   "execution_count": null,
   "metadata": {
    "vscode": {
     "languageId": "r"
    }
   },
   "outputs": [
    {
     "data": {
      "text/html": [
       "<ol class=list-inline>\n",
       "\t<li>4</li>\n",
       "\t<li>3</li>\n",
       "\t<li>2</li>\n",
       "</ol>\n"
      ],
      "text/latex": [
       "\\begin{enumerate*}\n",
       "\\item 4\n",
       "\\item 3\n",
       "\\item 2\n",
       "\\end{enumerate*}\n"
      ],
      "text/markdown": [
       "1. 4\n",
       "2. 3\n",
       "3. 2\n",
       "\n",
       "\n"
      ],
      "text/plain": [
       "[1] 4 3 2"
      ]
     },
     "metadata": {},
     "output_type": "display_data"
    },
    {
     "data": {
      "text/html": [
       "<ol class=list-inline>\n",
       "\t<li>4</li>\n",
       "\t<li>4</li>\n",
       "\t<li>-2.3</li>\n",
       "</ol>\n"
      ],
      "text/latex": [
       "\\begin{enumerate*}\n",
       "\\item 4\n",
       "\\item 4\n",
       "\\item -2.3\n",
       "\\end{enumerate*}\n"
      ],
      "text/markdown": [
       "1. 4\n",
       "2. 4\n",
       "3. -2.3\n",
       "\n",
       "\n"
      ],
      "text/plain": [
       "[1]  4.0  4.0 -2.3"
      ]
     },
     "metadata": {},
     "output_type": "display_data"
    }
   ],
   "source": [
    "length(x=foo):2\n",
    "foo[length(foo):2]"
   ]
  },
  {
   "cell_type": "code",
   "execution_count": null,
   "metadata": {
    "vscode": {
     "languageId": "r"
    }
   },
   "outputs": [
    {
     "data": {
      "text/html": [
       "<ol class=list-inline>\n",
       "\t<li>4</li>\n",
       "\t<li>2</li>\n",
       "\t<li>2</li>\n",
       "\t<li>2</li>\n",
       "\t<li>1</li>\n",
       "\t<li>1</li>\n",
       "\t<li>2</li>\n",
       "\t<li>3</li>\n",
       "\t<li>2</li>\n",
       "\t<li>1</li>\n",
       "</ol>\n"
      ],
      "text/latex": [
       "\\begin{enumerate*}\n",
       "\\item 4\n",
       "\\item 2\n",
       "\\item 2\n",
       "\\item 2\n",
       "\\item 1\n",
       "\\item 1\n",
       "\\item 2\n",
       "\\item 3\n",
       "\\item 2\n",
       "\\item 1\n",
       "\\end{enumerate*}\n"
      ],
      "text/markdown": [
       "1. 4\n",
       "2. 2\n",
       "3. 2\n",
       "4. 2\n",
       "5. 1\n",
       "6. 1\n",
       "7. 2\n",
       "8. 3\n",
       "9. 2\n",
       "10. 1\n",
       "\n",
       "\n"
      ],
      "text/plain": [
       " [1] 4 2 2 2 1 1 2 3 2 1"
      ]
     },
     "metadata": {},
     "output_type": "display_data"
    },
    {
     "data": {
      "text/html": [
       "<ol class=list-inline>\n",
       "\t<li>4</li>\n",
       "\t<li>-2.3</li>\n",
       "\t<li>-2.3</li>\n",
       "\t<li>-2.3</li>\n",
       "\t<li>5</li>\n",
       "\t<li>5</li>\n",
       "\t<li>-2.3</li>\n",
       "\t<li>4</li>\n",
       "\t<li>-2.3</li>\n",
       "\t<li>5</li>\n",
       "</ol>\n"
      ],
      "text/latex": [
       "\\begin{enumerate*}\n",
       "\\item 4\n",
       "\\item -2.3\n",
       "\\item -2.3\n",
       "\\item -2.3\n",
       "\\item 5\n",
       "\\item 5\n",
       "\\item -2.3\n",
       "\\item 4\n",
       "\\item -2.3\n",
       "\\item 5\n",
       "\\end{enumerate*}\n"
      ],
      "text/markdown": [
       "1. 4\n",
       "2. -2.3\n",
       "3. -2.3\n",
       "4. -2.3\n",
       "5. 5\n",
       "6. 5\n",
       "7. -2.3\n",
       "8. 4\n",
       "9. -2.3\n",
       "10. 5\n",
       "\n",
       "\n"
      ],
      "text/plain": [
       " [1]  4.0 -2.3 -2.3 -2.3  5.0  5.0 -2.3  4.0 -2.3  5.0"
      ]
     },
     "metadata": {},
     "output_type": "display_data"
    }
   ],
   "source": [
    "indexes <- c(4,rep(x=2,times=3),1,1,2,3:1)\n",
    "indexes\n",
    "foo[indexes]"
   ]
  },
  {
   "cell_type": "code",
   "execution_count": null,
   "metadata": {
    "vscode": {
     "languageId": "r"
    }
   },
   "outputs": [
    {
     "data": {
      "text/html": [
       "<ol class=list-inline>\n",
       "\t<li>-2.3</li>\n",
       "\t<li>4</li>\n",
       "</ol>\n"
      ],
      "text/latex": [
       "\\begin{enumerate*}\n",
       "\\item -2.3\n",
       "\\item 4\n",
       "\\end{enumerate*}\n"
      ],
      "text/markdown": [
       "1. -2.3\n",
       "2. 4\n",
       "\n",
       "\n"
      ],
      "text/plain": [
       "[1] -2.3  4.0"
      ]
     },
     "metadata": {},
     "output_type": "display_data"
    }
   ],
   "source": [
    "foo[-c(1,3)]  #删除第一个和第三个元素"
   ]
  },
  {
   "cell_type": "code",
   "execution_count": null,
   "metadata": {
    "vscode": {
     "languageId": "r"
    }
   },
   "outputs": [
    {
     "data": {
      "text/html": [
       "<ol class=list-inline>\n",
       "\t<li>6</li>\n",
       "\t<li>2</li>\n",
       "\t<li>4</li>\n",
       "\t<li>4</li>\n",
       "\t<li>1</li>\n",
       "\t<li>2</li>\n",
       "\t<li>4</li>\n",
       "\t<li>1</li>\n",
       "\t<li>0</li>\n",
       "\t<li>0</li>\n",
       "\t<li>5</li>\n",
       "</ol>\n"
      ],
      "text/latex": [
       "\\begin{enumerate*}\n",
       "\\item 6\n",
       "\\item 2\n",
       "\\item 4\n",
       "\\item 4\n",
       "\\item 1\n",
       "\\item 2\n",
       "\\item 4\n",
       "\\item 1\n",
       "\\item 0\n",
       "\\item 0\n",
       "\\item 5\n",
       "\\end{enumerate*}\n"
      ],
      "text/markdown": [
       "1. 6\n",
       "2. 2\n",
       "3. 4\n",
       "4. 4\n",
       "5. 1\n",
       "6. 2\n",
       "7. 4\n",
       "8. 1\n",
       "9. 0\n",
       "10. 0\n",
       "11. 5\n",
       "\n",
       "\n"
      ],
      "text/plain": [
       " [1] 6 2 4 4 1 2 4 1 0 0 5"
      ]
     },
     "metadata": {},
     "output_type": "display_data"
    }
   ],
   "source": [
    "bar <- c(3,2,4,4,1,2,4,1,0,0,5)\n",
    "bar[1] <- 6\n",
    "bar"
   ]
  },
  {
   "cell_type": "code",
   "execution_count": null,
   "metadata": {
    "vscode": {
     "languageId": "r"
    }
   },
   "outputs": [
    {
     "data": {
      "text/html": [
       "<ol class=list-inline>\n",
       "\t<li>6</li>\n",
       "\t<li>-2</li>\n",
       "\t<li>4</li>\n",
       "\t<li>-0.5</li>\n",
       "\t<li>1</li>\n",
       "\t<li>-1</li>\n",
       "\t<li>4</li>\n",
       "\t<li>1</li>\n",
       "\t<li>0</li>\n",
       "\t<li>0</li>\n",
       "\t<li>5</li>\n",
       "</ol>\n"
      ],
      "text/latex": [
       "\\begin{enumerate*}\n",
       "\\item 6\n",
       "\\item -2\n",
       "\\item 4\n",
       "\\item -0.5\n",
       "\\item 1\n",
       "\\item -1\n",
       "\\item 4\n",
       "\\item 1\n",
       "\\item 0\n",
       "\\item 0\n",
       "\\item 5\n",
       "\\end{enumerate*}\n"
      ],
      "text/markdown": [
       "1. 6\n",
       "2. -2\n",
       "3. 4\n",
       "4. -0.5\n",
       "5. 1\n",
       "6. -1\n",
       "7. 4\n",
       "8. 1\n",
       "9. 0\n",
       "10. 0\n",
       "11. 5\n",
       "\n",
       "\n"
      ],
      "text/plain": [
       " [1]  6.0 -2.0  4.0 -0.5  1.0 -1.0  4.0  1.0  0.0  0.0  5.0"
      ]
     },
     "metadata": {},
     "output_type": "display_data"
    }
   ],
   "source": [
    "bar[c(2,4,6)] <- c(-2,-0.5,-1)\n",
    "bar"
   ]
  },
  {
   "cell_type": "code",
   "execution_count": null,
   "metadata": {
    "vscode": {
     "languageId": "r"
    }
   },
   "outputs": [
    {
     "data": {
      "text/html": [
       "<ol class=list-inline>\n",
       "\t<li>6</li>\n",
       "\t<li>-2</li>\n",
       "\t<li>4</li>\n",
       "\t<li>-0.5</li>\n",
       "\t<li>1</li>\n",
       "\t<li>-1</li>\n",
       "\t<li>100</li>\n",
       "\t<li>100</li>\n",
       "\t<li>100</li>\n",
       "\t<li>100</li>\n",
       "\t<li>5</li>\n",
       "</ol>\n"
      ],
      "text/latex": [
       "\\begin{enumerate*}\n",
       "\\item 6\n",
       "\\item -2\n",
       "\\item 4\n",
       "\\item -0.5\n",
       "\\item 1\n",
       "\\item -1\n",
       "\\item 100\n",
       "\\item 100\n",
       "\\item 100\n",
       "\\item 100\n",
       "\\item 5\n",
       "\\end{enumerate*}\n"
      ],
      "text/markdown": [
       "1. 6\n",
       "2. -2\n",
       "3. 4\n",
       "4. -0.5\n",
       "5. 1\n",
       "6. -1\n",
       "7. 100\n",
       "8. 100\n",
       "9. 100\n",
       "10. 100\n",
       "11. 5\n",
       "\n",
       "\n"
      ],
      "text/plain": [
       " [1]   6.0  -2.0   4.0  -0.5   1.0  -1.0 100.0 100.0 100.0 100.0   5.0"
      ]
     },
     "metadata": {},
     "output_type": "display_data"
    }
   ],
   "source": [
    "bar[7:10] <- 100\n",
    "bar"
   ]
  },
  {
   "cell_type": "markdown",
   "metadata": {},
   "source": [
    "#### 向量操作"
   ]
  },
  {
   "cell_type": "code",
   "execution_count": null,
   "metadata": {
    "vscode": {
     "languageId": "r"
    }
   },
   "outputs": [
    {
     "data": {
      "text/html": [
       "<ol class=list-inline>\n",
       "\t<li>5.5</li>\n",
       "\t<li>4.5</li>\n",
       "\t<li>3.5</li>\n",
       "\t<li>2.5</li>\n",
       "\t<li>1.5</li>\n",
       "\t<li>0.5</li>\n",
       "</ol>\n"
      ],
      "text/latex": [
       "\\begin{enumerate*}\n",
       "\\item 5.5\n",
       "\\item 4.5\n",
       "\\item 3.5\n",
       "\\item 2.5\n",
       "\\item 1.5\n",
       "\\item 0.5\n",
       "\\end{enumerate*}\n"
      ],
      "text/markdown": [
       "1. 5.5\n",
       "2. 4.5\n",
       "3. 3.5\n",
       "4. 2.5\n",
       "5. 1.5\n",
       "6. 0.5\n",
       "\n",
       "\n"
      ],
      "text/plain": [
       "[1] 5.5 4.5 3.5 2.5 1.5 0.5"
      ]
     },
     "metadata": {},
     "output_type": "display_data"
    },
    {
     "data": {
      "text/html": [
       "<ol class=list-inline>\n",
       "\t<li>3.5</li>\n",
       "\t<li>0.5</li>\n",
       "\t<li>-2.5</li>\n",
       "\t<li>-5.5</li>\n",
       "\t<li>-8.5</li>\n",
       "\t<li>-11.5</li>\n",
       "</ol>\n"
      ],
      "text/latex": [
       "\\begin{enumerate*}\n",
       "\\item 3.5\n",
       "\\item 0.5\n",
       "\\item -2.5\n",
       "\\item -5.5\n",
       "\\item -8.5\n",
       "\\item -11.5\n",
       "\\end{enumerate*}\n"
      ],
      "text/markdown": [
       "1. 3.5\n",
       "2. 0.5\n",
       "3. -2.5\n",
       "4. -5.5\n",
       "5. -8.5\n",
       "6. -11.5\n",
       "\n",
       "\n"
      ],
      "text/plain": [
       "[1]   3.5   0.5  -2.5  -5.5  -8.5 -11.5"
      ]
     },
     "metadata": {},
     "output_type": "display_data"
    }
   ],
   "source": [
    "foo <- 5.5:0.5\n",
    "foo\n",
    "foo-c(2,4,6,8,10,12)   #减法"
   ]
  },
  {
   "cell_type": "code",
   "execution_count": null,
   "metadata": {
    "vscode": {
     "languageId": "r"
    }
   },
   "outputs": [
    {
     "data": {
      "text/html": [
       "<ol class=list-inline>\n",
       "\t<li>5.5</li>\n",
       "\t<li>-4.5</li>\n",
       "\t<li>3.5</li>\n",
       "\t<li>-2.5</li>\n",
       "\t<li>1.5</li>\n",
       "\t<li>-0.5</li>\n",
       "</ol>\n"
      ],
      "text/latex": [
       "\\begin{enumerate*}\n",
       "\\item 5.5\n",
       "\\item -4.5\n",
       "\\item 3.5\n",
       "\\item -2.5\n",
       "\\item 1.5\n",
       "\\item -0.5\n",
       "\\end{enumerate*}\n"
      ],
      "text/markdown": [
       "1. 5.5\n",
       "2. -4.5\n",
       "3. 3.5\n",
       "4. -2.5\n",
       "5. 1.5\n",
       "6. -0.5\n",
       "\n",
       "\n"
      ],
      "text/plain": [
       "[1]  5.5 -4.5  3.5 -2.5  1.5 -0.5"
      ]
     },
     "metadata": {},
     "output_type": "display_data"
    }
   ],
   "source": [
    "bar <- c(1,-1)\n",
    "foo*bar   #向量乘法，此时foo的长度是bar的长度整数倍"
   ]
  },
  {
   "cell_type": "code",
   "execution_count": null,
   "metadata": {
    "vscode": {
     "languageId": "r"
    }
   },
   "outputs": [
    {
     "name": "stderr",
     "output_type": "stream",
     "text": [
      "Warning message in foo * baz:\n",
      "\"长的对象长度不是短的对象长度的整倍数\""
     ]
    },
    {
     "data": {
      "text/html": [
       "<ol class=list-inline>\n",
       "\t<li>5.5</li>\n",
       "\t<li>-4.5</li>\n",
       "\t<li>1.75</li>\n",
       "\t<li>-1.25</li>\n",
       "\t<li>1.5</li>\n",
       "\t<li>-0.5</li>\n",
       "</ol>\n"
      ],
      "text/latex": [
       "\\begin{enumerate*}\n",
       "\\item 5.5\n",
       "\\item -4.5\n",
       "\\item 1.75\n",
       "\\item -1.25\n",
       "\\item 1.5\n",
       "\\item -0.5\n",
       "\\end{enumerate*}\n"
      ],
      "text/markdown": [
       "1. 5.5\n",
       "2. -4.5\n",
       "3. 1.75\n",
       "4. -1.25\n",
       "5. 1.5\n",
       "6. -0.5\n",
       "\n",
       "\n"
      ],
      "text/plain": [
       "[1]  5.50 -4.50  1.75 -1.25  1.50 -0.50"
      ]
     },
     "metadata": {},
     "output_type": "display_data"
    }
   ],
   "source": [
    "baz <- c(1,-1,0.5,-0.5)\n",
    "foo*baz       #此时foo的长度不是bar的长度整数倍"
   ]
  },
  {
   "cell_type": "code",
   "execution_count": null,
   "metadata": {
    "vscode": {
     "languageId": "r"
    }
   },
   "outputs": [
    {
     "name": "stderr",
     "output_type": "stream",
     "text": [
      "Warning message in foo - c(2, 4, 6, 8, 10):\n",
      "\"长的对象长度不是短的对象长度的整倍数\""
     ]
    },
    {
     "data": {
      "text/html": [
       "<ol class=list-inline>\n",
       "\t<li>3.5</li>\n",
       "\t<li>0.5</li>\n",
       "\t<li>-2.5</li>\n",
       "\t<li>-5.5</li>\n",
       "\t<li>-8.5</li>\n",
       "\t<li>-1.5</li>\n",
       "</ol>\n"
      ],
      "text/latex": [
       "\\begin{enumerate*}\n",
       "\\item 3.5\n",
       "\\item 0.5\n",
       "\\item -2.5\n",
       "\\item -5.5\n",
       "\\item -8.5\n",
       "\\item -1.5\n",
       "\\end{enumerate*}\n"
      ],
      "text/markdown": [
       "1. 3.5\n",
       "2. 0.5\n",
       "3. -2.5\n",
       "4. -5.5\n",
       "5. -8.5\n",
       "6. -1.5\n",
       "\n",
       "\n"
      ],
      "text/plain": [
       "[1]  3.5  0.5 -2.5 -5.5 -8.5 -1.5"
      ]
     },
     "metadata": {},
     "output_type": "display_data"
    }
   ],
   "source": [
    "foo-c(2,4,6,8,10)"
   ]
  },
  {
   "cell_type": "code",
   "execution_count": null,
   "metadata": {
    "vscode": {
     "languageId": "r"
    }
   },
   "outputs": [
    {
     "data": {
      "text/html": [
       "<ol class=list-inline>\n",
       "\t<li>8.5</li>\n",
       "\t<li>7.5</li>\n",
       "\t<li>6.5</li>\n",
       "\t<li>5.5</li>\n",
       "\t<li>4.5</li>\n",
       "\t<li>3.5</li>\n",
       "</ol>\n"
      ],
      "text/latex": [
       "\\begin{enumerate*}\n",
       "\\item 8.5\n",
       "\\item 7.5\n",
       "\\item 6.5\n",
       "\\item 5.5\n",
       "\\item 4.5\n",
       "\\item 3.5\n",
       "\\end{enumerate*}\n"
      ],
      "text/markdown": [
       "1. 8.5\n",
       "2. 7.5\n",
       "3. 6.5\n",
       "4. 5.5\n",
       "5. 4.5\n",
       "6. 3.5\n",
       "\n",
       "\n"
      ],
      "text/plain": [
       "[1] 8.5 7.5 6.5 5.5 4.5 3.5"
      ]
     },
     "metadata": {},
     "output_type": "display_data"
    }
   ],
   "source": [
    "qux <- 3\n",
    "foo+qux"
   ]
  },
  {
   "cell_type": "code",
   "execution_count": null,
   "metadata": {
    "vscode": {
     "languageId": "r"
    }
   },
   "outputs": [
    {
     "data": {
      "text/html": [
       "18"
      ],
      "text/latex": [
       "18"
      ],
      "text/markdown": [
       "18"
      ],
      "text/plain": [
       "[1] 18"
      ]
     },
     "metadata": {},
     "output_type": "display_data"
    }
   ],
   "source": [
    "sum(foo)"
   ]
  },
  {
   "cell_type": "code",
   "execution_count": null,
   "metadata": {
    "vscode": {
     "languageId": "r"
    }
   },
   "outputs": [
    {
     "data": {
      "text/html": [
       "162.421875"
      ],
      "text/latex": [
       "162.421875"
      ],
      "text/markdown": [
       "162.421875"
      ],
      "text/plain": [
       "[1] 162.4219"
      ]
     },
     "metadata": {},
     "output_type": "display_data"
    }
   ],
   "source": [
    "prod(foo)  #连乘"
   ]
  },
  {
   "cell_type": "code",
   "execution_count": null,
   "metadata": {
    "vscode": {
     "languageId": "r"
    }
   },
   "outputs": [
    {
     "data": {
      "text/html": [
       "<ol class=list-inline>\n",
       "\t<li>-99</li>\n",
       "\t<li>4.5</li>\n",
       "\t<li>99</li>\n",
       "\t<li>2.5</li>\n",
       "\t<li>-99</li>\n",
       "\t<li>99</li>\n",
       "</ol>\n"
      ],
      "text/latex": [
       "\\begin{enumerate*}\n",
       "\\item -99\n",
       "\\item 4.5\n",
       "\\item 99\n",
       "\\item 2.5\n",
       "\\item -99\n",
       "\\item 99\n",
       "\\end{enumerate*}\n"
      ],
      "text/markdown": [
       "1. -99\n",
       "2. 4.5\n",
       "3. 99\n",
       "4. 2.5\n",
       "5. -99\n",
       "6. 99\n",
       "\n",
       "\n"
      ],
      "text/plain": [
       "[1] -99.0   4.5  99.0   2.5 -99.0  99.0"
      ]
     },
     "metadata": {},
     "output_type": "display_data"
    }
   ],
   "source": [
    "foo[c(1,3,5,6)] <- c(-99,99)   #注意长度不一致如何处理\n",
    "foo"
   ]
  },
  {
   "cell_type": "markdown",
   "metadata": {},
   "source": [
    "##### 思考题：将华氏度F转化为摄氏度C的公式如下：C=5(F-32)/9, 将华氏45，77，20，19，101，120，212转化为摄氏度"
   ]
  },
  {
   "cell_type": "code",
   "execution_count": null,
   "metadata": {
    "vscode": {
     "languageId": "r"
    }
   },
   "outputs": [
    {
     "data": {
      "text/html": [
       "<ol class=list-inline>\n",
       "\t<li>7.22222222222222</li>\n",
       "\t<li>25</li>\n",
       "\t<li>-6.66666666666667</li>\n",
       "\t<li>-7.22222222222222</li>\n",
       "\t<li>38.3333333333333</li>\n",
       "\t<li>48.8888888888889</li>\n",
       "\t<li>100</li>\n",
       "</ol>\n"
      ],
      "text/latex": [
       "\\begin{enumerate*}\n",
       "\\item 7.22222222222222\n",
       "\\item 25\n",
       "\\item -6.66666666666667\n",
       "\\item -7.22222222222222\n",
       "\\item 38.3333333333333\n",
       "\\item 48.8888888888889\n",
       "\\item 100\n",
       "\\end{enumerate*}\n"
      ],
      "text/markdown": [
       "1. 7.22222222222222\n",
       "2. 25\n",
       "3. -6.66666666666667\n",
       "4. -7.22222222222222\n",
       "5. 38.3333333333333\n",
       "6. 48.8888888888889\n",
       "7. 100\n",
       "\n",
       "\n"
      ],
      "text/plain": [
       "[1]   7.222222  25.000000  -6.666667  -7.222222  38.333333  48.888889 100.000000"
      ]
     },
     "metadata": {},
     "output_type": "display_data"
    }
   ],
   "source": [
    "faren <- c(45,77,20,19,101,120,212)\n",
    "cel <- 5/9*(faren-32)\n",
    "cel"
   ]
  },
  {
   "cell_type": "markdown",
   "metadata": {},
   "source": [
    "##### 对向量c(2,4,6)和 c(1,2)进行组合，使用rep和*来创建c(2,4,6,4,8,12)"
   ]
  },
  {
   "cell_type": "code",
   "execution_count": null,
   "metadata": {
    "vscode": {
     "languageId": "r"
    }
   },
   "outputs": [
    {
     "data": {
      "text/html": [
       "<ol class=list-inline>\n",
       "\t<li>2</li>\n",
       "\t<li>4</li>\n",
       "\t<li>6</li>\n",
       "\t<li>4</li>\n",
       "\t<li>8</li>\n",
       "\t<li>12</li>\n",
       "</ol>\n"
      ],
      "text/latex": [
       "\\begin{enumerate*}\n",
       "\\item 2\n",
       "\\item 4\n",
       "\\item 6\n",
       "\\item 4\n",
       "\\item 8\n",
       "\\item 12\n",
       "\\end{enumerate*}\n"
      ],
      "text/markdown": [
       "1. 2\n",
       "2. 4\n",
       "3. 6\n",
       "4. 4\n",
       "5. 8\n",
       "6. 12\n",
       "\n",
       "\n"
      ],
      "text/plain": [
       "[1]  2  4  6  4  8 12"
      ]
     },
     "metadata": {},
     "output_type": "display_data"
    }
   ],
   "source": [
    "foo <- rep(x=c(2,4,6),times=2)*rep(x=c(1,2),each=3)\n",
    "foo"
   ]
  },
  {
   "cell_type": "markdown",
   "metadata": {},
   "source": [
    "#### 定义矩阵"
   ]
  },
  {
   "cell_type": "code",
   "execution_count": null,
   "metadata": {
    "vscode": {
     "languageId": "r"
    }
   },
   "outputs": [
    {
     "data": {
      "text/html": [
       "<table>\n",
       "<tbody>\n",
       "\t<tr><td>-3    </td><td>893.00</td></tr>\n",
       "\t<tr><td> 2    </td><td>  0.17</td></tr>\n",
       "</tbody>\n",
       "</table>\n"
      ],
      "text/latex": [
       "\\begin{tabular}{ll}\n",
       "\t -3     & 893.00\\\\\n",
       "\t  2     &   0.17\\\\\n",
       "\\end{tabular}\n"
      ],
      "text/markdown": [
       "\n",
       "| -3     | 893.00 |\n",
       "|  2     |   0.17 |\n",
       "\n"
      ],
      "text/plain": [
       "     [,1] [,2]  \n",
       "[1,] -3   893.00\n",
       "[2,]  2     0.17"
      ]
     },
     "metadata": {},
     "output_type": "display_data"
    }
   ],
   "source": [
    "A <- matrix(data=c(-3,2,893,0.17),nrow=2,ncol=2)\n",
    "A"
   ]
  },
  {
   "cell_type": "code",
   "execution_count": null,
   "metadata": {
    "vscode": {
     "languageId": "r"
    }
   },
   "outputs": [
    {
     "data": {
      "text/html": [
       "<table>\n",
       "<tbody>\n",
       "\t<tr><td>1</td><td>3</td><td>5</td></tr>\n",
       "\t<tr><td>2</td><td>4</td><td>6</td></tr>\n",
       "</tbody>\n",
       "</table>\n"
      ],
      "text/latex": [
       "\\begin{tabular}{lll}\n",
       "\t 1 & 3 & 5\\\\\n",
       "\t 2 & 4 & 6\\\\\n",
       "\\end{tabular}\n"
      ],
      "text/markdown": [
       "\n",
       "| 1 | 3 | 5 |\n",
       "| 2 | 4 | 6 |\n",
       "\n"
      ],
      "text/plain": [
       "     [,1] [,2] [,3]\n",
       "[1,] 1    3    5   \n",
       "[2,] 2    4    6   "
      ]
     },
     "metadata": {},
     "output_type": "display_data"
    }
   ],
   "source": [
    "matrix(data=c(1,2,3,4,5,6),nrow=2,ncol=3,byrow=FALSE)"
   ]
  },
  {
   "cell_type": "code",
   "execution_count": null,
   "metadata": {
    "vscode": {
     "languageId": "r"
    }
   },
   "outputs": [
    {
     "data": {
      "text/html": [
       "<table>\n",
       "<tbody>\n",
       "\t<tr><td>1</td><td>2</td><td>3</td></tr>\n",
       "\t<tr><td>4</td><td>5</td><td>6</td></tr>\n",
       "</tbody>\n",
       "</table>\n"
      ],
      "text/latex": [
       "\\begin{tabular}{lll}\n",
       "\t 1 & 2 & 3\\\\\n",
       "\t 4 & 5 & 6\\\\\n",
       "\\end{tabular}\n"
      ],
      "text/markdown": [
       "\n",
       "| 1 | 2 | 3 |\n",
       "| 4 | 5 | 6 |\n",
       "\n"
      ],
      "text/plain": [
       "     [,1] [,2] [,3]\n",
       "[1,] 1    2    3   \n",
       "[2,] 4    5    6   "
      ]
     },
     "metadata": {},
     "output_type": "display_data"
    }
   ],
   "source": [
    "matrix(data=c(1,2,3,4,5,6),nrow=2,ncol=3,byrow=TRUE)"
   ]
  },
  {
   "cell_type": "markdown",
   "metadata": {},
   "source": [
    "##### 合并行和列"
   ]
  },
  {
   "cell_type": "code",
   "execution_count": null,
   "metadata": {
    "vscode": {
     "languageId": "r"
    }
   },
   "outputs": [
    {
     "data": {
      "text/html": [
       "<table>\n",
       "<tbody>\n",
       "\t<tr><td>1</td><td>2</td><td>3</td></tr>\n",
       "\t<tr><td>4</td><td>5</td><td>6</td></tr>\n",
       "</tbody>\n",
       "</table>\n"
      ],
      "text/latex": [
       "\\begin{tabular}{lll}\n",
       "\t 1 & 2 & 3\\\\\n",
       "\t 4 & 5 & 6\\\\\n",
       "\\end{tabular}\n"
      ],
      "text/markdown": [
       "\n",
       "| 1 | 2 | 3 |\n",
       "| 4 | 5 | 6 |\n",
       "\n"
      ],
      "text/plain": [
       "     [,1] [,2] [,3]\n",
       "[1,] 1    2    3   \n",
       "[2,] 4    5    6   "
      ]
     },
     "metadata": {},
     "output_type": "display_data"
    }
   ],
   "source": [
    "rbind(1:3,4:6)   #row bind"
   ]
  },
  {
   "cell_type": "code",
   "execution_count": null,
   "metadata": {
    "vscode": {
     "languageId": "r"
    }
   },
   "outputs": [
    {
     "data": {
      "text/html": [
       "<table>\n",
       "<tbody>\n",
       "\t<tr><td>1</td><td>2</td><td>3</td></tr>\n",
       "\t<tr><td>4</td><td>5</td><td>6</td></tr>\n",
       "</tbody>\n",
       "</table>\n"
      ],
      "text/latex": [
       "\\begin{tabular}{lll}\n",
       "\t 1 & 2 & 3\\\\\n",
       "\t 4 & 5 & 6\\\\\n",
       "\\end{tabular}\n"
      ],
      "text/markdown": [
       "\n",
       "| 1 | 2 | 3 |\n",
       "| 4 | 5 | 6 |\n",
       "\n"
      ],
      "text/plain": [
       "     [,1] [,2] [,3]\n",
       "[1,] 1    2    3   \n",
       "[2,] 4    5    6   "
      ]
     },
     "metadata": {},
     "output_type": "display_data"
    }
   ],
   "source": [
    "cbind(c(1,4),c(2,5),c(3,6)) #column bind"
   ]
  },
  {
   "cell_type": "code",
   "execution_count": null,
   "metadata": {
    "vscode": {
     "languageId": "r"
    }
   },
   "outputs": [
    {
     "data": {
      "text/html": [
       "<table>\n",
       "<tbody>\n",
       "\t<tr><td>  1</td><td> 3 </td><td> 4 </td></tr>\n",
       "\t<tr><td>  5</td><td> 4 </td><td> 3 </td></tr>\n",
       "\t<tr><td>100</td><td>20 </td><td>90 </td></tr>\n",
       "\t<tr><td> 11</td><td>12 </td><td>13 </td></tr>\n",
       "</tbody>\n",
       "</table>\n"
      ],
      "text/latex": [
       "\\begin{tabular}{lll}\n",
       "\t   1 &  3  &  4 \\\\\n",
       "\t   5 &  4  &  3 \\\\\n",
       "\t 100 & 20  & 90 \\\\\n",
       "\t  11 & 12  & 13 \\\\\n",
       "\\end{tabular}\n"
      ],
      "text/markdown": [
       "\n",
       "|   1 |  3  |  4  |\n",
       "|   5 |  4  |  3  |\n",
       "| 100 | 20  | 90  |\n",
       "|  11 | 12  | 13  |\n",
       "\n"
      ],
      "text/plain": [
       "     [,1] [,2] [,3]\n",
       "[1,]   1   3    4  \n",
       "[2,]   5   4    3  \n",
       "[3,] 100  20   90  \n",
       "[4,]  11  12   13  "
      ]
     },
     "metadata": {},
     "output_type": "display_data"
    }
   ],
   "source": [
    "mymat <- rbind(c(1,3,4),5:3,c(100,20,90),11:13)\n",
    "mymat"
   ]
  },
  {
   "cell_type": "code",
   "execution_count": null,
   "metadata": {
    "vscode": {
     "languageId": "r"
    }
   },
   "outputs": [
    {
     "data": {
      "text/html": [
       "<ol class=list-inline>\n",
       "\t<li>4</li>\n",
       "\t<li>3</li>\n",
       "</ol>\n"
      ],
      "text/latex": [
       "\\begin{enumerate*}\n",
       "\\item 4\n",
       "\\item 3\n",
       "\\end{enumerate*}\n"
      ],
      "text/markdown": [
       "1. 4\n",
       "2. 3\n",
       "\n",
       "\n"
      ],
      "text/plain": [
       "[1] 4 3"
      ]
     },
     "metadata": {},
     "output_type": "display_data"
    },
    {
     "data": {
      "text/html": [
       "4"
      ],
      "text/latex": [
       "4"
      ],
      "text/markdown": [
       "4"
      ],
      "text/plain": [
       "[1] 4"
      ]
     },
     "metadata": {},
     "output_type": "display_data"
    },
    {
     "data": {
      "text/html": [
       "3"
      ],
      "text/latex": [
       "3"
      ],
      "text/markdown": [
       "3"
      ],
      "text/plain": [
       "[1] 3"
      ]
     },
     "metadata": {},
     "output_type": "display_data"
    },
    {
     "data": {
      "text/html": [
       "3"
      ],
      "text/latex": [
       "3"
      ],
      "text/markdown": [
       "3"
      ],
      "text/plain": [
       "[1] 3"
      ]
     },
     "metadata": {},
     "output_type": "display_data"
    }
   ],
   "source": [
    "dim(mymat)\n",
    "nrow(mymat)\n",
    "ncol(mymat)\n",
    "dim(mymat)[2]"
   ]
  },
  {
   "cell_type": "markdown",
   "metadata": {},
   "source": [
    "##### 矩阵索引"
   ]
  },
  {
   "cell_type": "code",
   "execution_count": null,
   "metadata": {
    "vscode": {
     "languageId": "r"
    }
   },
   "outputs": [
    {
     "data": {
      "text/html": [
       "<table>\n",
       "<tbody>\n",
       "\t<tr><td> 0.3 </td><td> 91.0</td><td>-4.2 </td></tr>\n",
       "\t<tr><td> 4.5 </td><td>  0.1</td><td> 8.2 </td></tr>\n",
       "\t<tr><td>55.3 </td><td>105.5</td><td>27.9 </td></tr>\n",
       "</tbody>\n",
       "</table>\n"
      ],
      "text/latex": [
       "\\begin{tabular}{lll}\n",
       "\t  0.3  &  91.0 & -4.2 \\\\\n",
       "\t  4.5  &   0.1 &  8.2 \\\\\n",
       "\t 55.3  & 105.5 & 27.9 \\\\\n",
       "\\end{tabular}\n"
      ],
      "text/markdown": [
       "\n",
       "|  0.3  |  91.0 | -4.2  |\n",
       "|  4.5  |   0.1 |  8.2  |\n",
       "| 55.3  | 105.5 | 27.9  |\n",
       "\n"
      ],
      "text/plain": [
       "     [,1] [,2]  [,3]\n",
       "[1,]  0.3  91.0 -4.2\n",
       "[2,]  4.5   0.1  8.2\n",
       "[3,] 55.3 105.5 27.9"
      ]
     },
     "metadata": {},
     "output_type": "display_data"
    },
    {
     "data": {
      "text/html": [
       "105.5"
      ],
      "text/latex": [
       "105.5"
      ],
      "text/markdown": [
       "105.5"
      ],
      "text/plain": [
       "[1] 105.5"
      ]
     },
     "metadata": {},
     "output_type": "display_data"
    }
   ],
   "source": [
    "A <- matrix(c(0.3,4.5,55.3,91,0.1,105.5,-4.2,8.2,27.9),nrow=3,ncol=3)\n",
    "A\n",
    "A[3,2]"
   ]
  },
  {
   "cell_type": "code",
   "execution_count": null,
   "metadata": {
    "vscode": {
     "languageId": "r"
    }
   },
   "outputs": [
    {
     "data": {
      "text/html": [
       "<ol class=list-inline>\n",
       "\t<li>91</li>\n",
       "\t<li>0.1</li>\n",
       "\t<li>105.5</li>\n",
       "</ol>\n"
      ],
      "text/latex": [
       "\\begin{enumerate*}\n",
       "\\item 91\n",
       "\\item 0.1\n",
       "\\item 105.5\n",
       "\\end{enumerate*}\n"
      ],
      "text/markdown": [
       "1. 91\n",
       "2. 0.1\n",
       "3. 105.5\n",
       "\n",
       "\n"
      ],
      "text/plain": [
       "[1]  91.0   0.1 105.5"
      ]
     },
     "metadata": {},
     "output_type": "display_data"
    }
   ],
   "source": [
    "A[,2]"
   ]
  },
  {
   "cell_type": "code",
   "execution_count": null,
   "metadata": {
    "vscode": {
     "languageId": "r"
    }
   },
   "outputs": [
    {
     "data": {
      "text/html": [
       "<ol class=list-inline>\n",
       "\t<li>0.3</li>\n",
       "\t<li>91</li>\n",
       "\t<li>-4.2</li>\n",
       "</ol>\n"
      ],
      "text/latex": [
       "\\begin{enumerate*}\n",
       "\\item 0.3\n",
       "\\item 91\n",
       "\\item -4.2\n",
       "\\end{enumerate*}\n"
      ],
      "text/markdown": [
       "1. 0.3\n",
       "2. 91\n",
       "3. -4.2\n",
       "\n",
       "\n"
      ],
      "text/plain": [
       "[1]  0.3 91.0 -4.2"
      ]
     },
     "metadata": {},
     "output_type": "display_data"
    }
   ],
   "source": [
    "A[1,]"
   ]
  },
  {
   "cell_type": "code",
   "execution_count": null,
   "metadata": {
    "vscode": {
     "languageId": "r"
    }
   },
   "outputs": [
    {
     "data": {
      "text/html": [
       "<table>\n",
       "<tbody>\n",
       "\t<tr><td> 4.5 </td><td>  0.1</td><td> 8.2 </td></tr>\n",
       "\t<tr><td>55.3 </td><td>105.5</td><td>27.9 </td></tr>\n",
       "</tbody>\n",
       "</table>\n"
      ],
      "text/latex": [
       "\\begin{tabular}{lll}\n",
       "\t  4.5  &   0.1 &  8.2 \\\\\n",
       "\t 55.3  & 105.5 & 27.9 \\\\\n",
       "\\end{tabular}\n"
      ],
      "text/markdown": [
       "\n",
       "|  4.5  |   0.1 |  8.2  |\n",
       "| 55.3  | 105.5 | 27.9  |\n",
       "\n"
      ],
      "text/plain": [
       "     [,1] [,2]  [,3]\n",
       "[1,]  4.5   0.1  8.2\n",
       "[2,] 55.3 105.5 27.9"
      ]
     },
     "metadata": {},
     "output_type": "display_data"
    },
    {
     "data": {
      "text/html": [
       "<table>\n",
       "<tbody>\n",
       "\t<tr><td>-4.2</td><td> 0.3</td></tr>\n",
       "\t<tr><td> 8.2</td><td> 4.5</td></tr>\n",
       "\t<tr><td>27.9</td><td>55.3</td></tr>\n",
       "</tbody>\n",
       "</table>\n"
      ],
      "text/latex": [
       "\\begin{tabular}{ll}\n",
       "\t -4.2 &  0.3\\\\\n",
       "\t  8.2 &  4.5\\\\\n",
       "\t 27.9 & 55.3\\\\\n",
       "\\end{tabular}\n"
      ],
      "text/markdown": [
       "\n",
       "| -4.2 |  0.3 |\n",
       "|  8.2 |  4.5 |\n",
       "| 27.9 | 55.3 |\n",
       "\n"
      ],
      "text/plain": [
       "     [,1] [,2]\n",
       "[1,] -4.2  0.3\n",
       "[2,]  8.2  4.5\n",
       "[3,] 27.9 55.3"
      ]
     },
     "metadata": {},
     "output_type": "display_data"
    },
    {
     "data": {
      "text/html": [
       "<table>\n",
       "<tbody>\n",
       "\t<tr><td>105.5</td><td>27.9 </td></tr>\n",
       "\t<tr><td> 91.0</td><td>-4.2 </td></tr>\n",
       "</tbody>\n",
       "</table>\n"
      ],
      "text/latex": [
       "\\begin{tabular}{ll}\n",
       "\t 105.5 & 27.9 \\\\\n",
       "\t  91.0 & -4.2 \\\\\n",
       "\\end{tabular}\n"
      ],
      "text/markdown": [
       "\n",
       "| 105.5 | 27.9  |\n",
       "|  91.0 | -4.2  |\n",
       "\n"
      ],
      "text/plain": [
       "     [,1]  [,2]\n",
       "[1,] 105.5 27.9\n",
       "[2,]  91.0 -4.2"
      ]
     },
     "metadata": {},
     "output_type": "display_data"
    }
   ],
   "source": [
    "A[2:3,]\n",
    "A[,c(3,1)]\n",
    "A[c(3,1),2:3]"
   ]
  },
  {
   "cell_type": "code",
   "execution_count": null,
   "metadata": {
    "vscode": {
     "languageId": "r"
    }
   },
   "outputs": [
    {
     "data": {
      "text/html": [
       "<ol class=list-inline>\n",
       "\t<li>0.3</li>\n",
       "\t<li>0.1</li>\n",
       "\t<li>27.9</li>\n",
       "</ol>\n"
      ],
      "text/latex": [
       "\\begin{enumerate*}\n",
       "\\item 0.3\n",
       "\\item 0.1\n",
       "\\item 27.9\n",
       "\\end{enumerate*}\n"
      ],
      "text/markdown": [
       "1. 0.3\n",
       "2. 0.1\n",
       "3. 27.9\n",
       "\n",
       "\n"
      ],
      "text/plain": [
       "[1]  0.3  0.1 27.9"
      ]
     },
     "metadata": {},
     "output_type": "display_data"
    }
   ],
   "source": [
    "diag(x=A)   #方阵对角线"
   ]
  },
  {
   "cell_type": "code",
   "execution_count": null,
   "metadata": {
    "vscode": {
     "languageId": "r"
    }
   },
   "outputs": [
    {
     "data": {
      "text/html": [
       "<table>\n",
       "<tbody>\n",
       "\t<tr><td> 0.3</td><td>-4.2</td></tr>\n",
       "\t<tr><td> 4.5</td><td> 8.2</td></tr>\n",
       "\t<tr><td>55.3</td><td>27.9</td></tr>\n",
       "</tbody>\n",
       "</table>\n"
      ],
      "text/latex": [
       "\\begin{tabular}{ll}\n",
       "\t  0.3 & -4.2\\\\\n",
       "\t  4.5 &  8.2\\\\\n",
       "\t 55.3 & 27.9\\\\\n",
       "\\end{tabular}\n"
      ],
      "text/markdown": [
       "\n",
       "|  0.3 | -4.2 |\n",
       "|  4.5 |  8.2 |\n",
       "| 55.3 | 27.9 |\n",
       "\n"
      ],
      "text/plain": [
       "     [,1] [,2]\n",
       "[1,]  0.3 -4.2\n",
       "[2,]  4.5  8.2\n",
       "[3,] 55.3 27.9"
      ]
     },
     "metadata": {},
     "output_type": "display_data"
    }
   ],
   "source": [
    "A[,-2]  #删除第二列"
   ]
  },
  {
   "cell_type": "code",
   "execution_count": null,
   "metadata": {
    "vscode": {
     "languageId": "r"
    }
   },
   "outputs": [
    {
     "data": {
      "text/html": [
       "<table>\n",
       "<tbody>\n",
       "\t<tr><td> 8.2 </td><td>  0.1</td></tr>\n",
       "\t<tr><td>27.9 </td><td>105.5</td></tr>\n",
       "</tbody>\n",
       "</table>\n"
      ],
      "text/latex": [
       "\\begin{tabular}{ll}\n",
       "\t  8.2  &   0.1\\\\\n",
       "\t 27.9  & 105.5\\\\\n",
       "\\end{tabular}\n"
      ],
      "text/markdown": [
       "\n",
       "|  8.2  |   0.1 |\n",
       "| 27.9  | 105.5 |\n",
       "\n"
      ],
      "text/plain": [
       "     [,1] [,2] \n",
       "[1,]  8.2   0.1\n",
       "[2,] 27.9 105.5"
      ]
     },
     "metadata": {},
     "output_type": "display_data"
    }
   ],
   "source": [
    "A[-1,3:2]   #删除第一行后的第三列和第二列"
   ]
  },
  {
   "cell_type": "code",
   "execution_count": null,
   "metadata": {
    "vscode": {
     "languageId": "r"
    }
   },
   "outputs": [
    {
     "data": {
      "text/html": [
       "<table>\n",
       "<tbody>\n",
       "\t<tr><td> 4.5</td><td> 8.2</td></tr>\n",
       "\t<tr><td>55.3</td><td>27.9</td></tr>\n",
       "</tbody>\n",
       "</table>\n"
      ],
      "text/latex": [
       "\\begin{tabular}{ll}\n",
       "\t  4.5 &  8.2\\\\\n",
       "\t 55.3 & 27.9\\\\\n",
       "\\end{tabular}\n"
      ],
      "text/markdown": [
       "\n",
       "|  4.5 |  8.2 |\n",
       "| 55.3 | 27.9 |\n",
       "\n"
      ],
      "text/plain": [
       "     [,1] [,2]\n",
       "[1,]  4.5  8.2\n",
       "[2,] 55.3 27.9"
      ]
     },
     "metadata": {},
     "output_type": "display_data"
    }
   ],
   "source": [
    "A[-1,-2]"
   ]
  },
  {
   "cell_type": "code",
   "execution_count": null,
   "metadata": {
    "vscode": {
     "languageId": "r"
    }
   },
   "outputs": [
    {
     "data": {
      "text/html": [
       "<ol class=list-inline>\n",
       "\t<li>4.5</li>\n",
       "\t<li>55.3</li>\n",
       "</ol>\n"
      ],
      "text/latex": [
       "\\begin{enumerate*}\n",
       "\\item 4.5\n",
       "\\item 55.3\n",
       "\\end{enumerate*}\n"
      ],
      "text/markdown": [
       "1. 4.5\n",
       "2. 55.3\n",
       "\n",
       "\n"
      ],
      "text/plain": [
       "[1]  4.5 55.3"
      ]
     },
     "metadata": {},
     "output_type": "display_data"
    }
   ],
   "source": [
    "A[-1,-c(2,3)]"
   ]
  },
  {
   "cell_type": "code",
   "execution_count": null,
   "metadata": {
    "vscode": {
     "languageId": "r"
    }
   },
   "outputs": [
    {
     "data": {
      "text/html": [
       "<table>\n",
       "<tbody>\n",
       "\t<tr><td> 0.3 </td><td> 91.0</td><td>-4.2 </td></tr>\n",
       "\t<tr><td> 1.0 </td><td>  2.0</td><td> 3.0 </td></tr>\n",
       "\t<tr><td>55.3 </td><td>105.5</td><td>27.9 </td></tr>\n",
       "</tbody>\n",
       "</table>\n"
      ],
      "text/latex": [
       "\\begin{tabular}{lll}\n",
       "\t  0.3  &  91.0 & -4.2 \\\\\n",
       "\t  1.0  &   2.0 &  3.0 \\\\\n",
       "\t 55.3  & 105.5 & 27.9 \\\\\n",
       "\\end{tabular}\n"
      ],
      "text/markdown": [
       "\n",
       "|  0.3  |  91.0 | -4.2  |\n",
       "|  1.0  |   2.0 |  3.0  |\n",
       "| 55.3  | 105.5 | 27.9  |\n",
       "\n"
      ],
      "text/plain": [
       "     [,1] [,2]  [,3]\n",
       "[1,]  0.3  91.0 -4.2\n",
       "[2,]  1.0   2.0  3.0\n",
       "[3,] 55.3 105.5 27.9"
      ]
     },
     "metadata": {},
     "output_type": "display_data"
    }
   ],
   "source": [
    "B <- A\n",
    "B[2,] <- 1:3\n",
    "B"
   ]
  },
  {
   "cell_type": "code",
   "execution_count": null,
   "metadata": {
    "vscode": {
     "languageId": "r"
    }
   },
   "outputs": [
    {
     "data": {
      "text/html": [
       "<table>\n",
       "<tbody>\n",
       "\t<tr><td> 0.3</td><td>900 </td><td>-4.2</td></tr>\n",
       "\t<tr><td> 1.0</td><td>  2 </td><td> 3.0</td></tr>\n",
       "\t<tr><td>55.3</td><td>900 </td><td>27.9</td></tr>\n",
       "</tbody>\n",
       "</table>\n"
      ],
      "text/latex": [
       "\\begin{tabular}{lll}\n",
       "\t  0.3 & 900  & -4.2\\\\\n",
       "\t  1.0 &   2  &  3.0\\\\\n",
       "\t 55.3 & 900  & 27.9\\\\\n",
       "\\end{tabular}\n"
      ],
      "text/markdown": [
       "\n",
       "|  0.3 | 900  | -4.2 |\n",
       "|  1.0 |   2  |  3.0 |\n",
       "| 55.3 | 900  | 27.9 |\n",
       "\n"
      ],
      "text/plain": [
       "     [,1] [,2] [,3]\n",
       "[1,]  0.3 900  -4.2\n",
       "[2,]  1.0   2   3.0\n",
       "[3,] 55.3 900  27.9"
      ]
     },
     "metadata": {},
     "output_type": "display_data"
    }
   ],
   "source": [
    "B[c(1,3),2] <- 900\n",
    "B"
   ]
  },
  {
   "cell_type": "code",
   "execution_count": null,
   "metadata": {
    "vscode": {
     "languageId": "r"
    }
   },
   "outputs": [
    {
     "data": {
      "text/html": [
       "<table>\n",
       "<tbody>\n",
       "\t<tr><td> 0.3 </td><td>900  </td><td> 55.3</td></tr>\n",
       "\t<tr><td> 1.0 </td><td>  2  </td><td>900.0</td></tr>\n",
       "\t<tr><td>55.3 </td><td>900  </td><td> 27.9</td></tr>\n",
       "</tbody>\n",
       "</table>\n"
      ],
      "text/latex": [
       "\\begin{tabular}{lll}\n",
       "\t  0.3  & 900   &  55.3\\\\\n",
       "\t  1.0  &   2   & 900.0\\\\\n",
       "\t 55.3  & 900   &  27.9\\\\\n",
       "\\end{tabular}\n"
      ],
      "text/markdown": [
       "\n",
       "|  0.3  | 900   |  55.3 |\n",
       "|  1.0  |   2   | 900.0 |\n",
       "| 55.3  | 900   |  27.9 |\n",
       "\n"
      ],
      "text/plain": [
       "     [,1] [,2] [,3] \n",
       "[1,]  0.3 900   55.3\n",
       "[2,]  1.0   2  900.0\n",
       "[3,] 55.3 900   27.9"
      ]
     },
     "metadata": {},
     "output_type": "display_data"
    }
   ],
   "source": [
    "B[,3] <- B[3,]  #第三列等于第三行\n",
    "B"
   ]
  },
  {
   "cell_type": "code",
   "execution_count": null,
   "metadata": {
    "vscode": {
     "languageId": "r"
    }
   },
   "outputs": [
    {
     "data": {
      "text/html": [
       "<table>\n",
       "<tbody>\n",
       "\t<tr><td> 0.3</td><td>55.3</td></tr>\n",
       "\t<tr><td>55.3</td><td>27.9</td></tr>\n",
       "</tbody>\n",
       "</table>\n"
      ],
      "text/latex": [
       "\\begin{tabular}{ll}\n",
       "\t  0.3 & 55.3\\\\\n",
       "\t 55.3 & 27.9\\\\\n",
       "\\end{tabular}\n"
      ],
      "text/markdown": [
       "\n",
       "|  0.3 | 55.3 |\n",
       "| 55.3 | 27.9 |\n",
       "\n"
      ],
      "text/plain": [
       "     [,1] [,2]\n",
       "[1,]  0.3 55.3\n",
       "[2,] 55.3 27.9"
      ]
     },
     "metadata": {},
     "output_type": "display_data"
    },
    {
     "data": {
      "text/html": [
       "<table>\n",
       "<tbody>\n",
       "\t<tr><td>-7 </td><td>900</td><td> -7</td></tr>\n",
       "\t<tr><td> 1 </td><td>  2</td><td>900</td></tr>\n",
       "\t<tr><td> 7 </td><td>900</td><td>  7</td></tr>\n",
       "</tbody>\n",
       "</table>\n"
      ],
      "text/latex": [
       "\\begin{tabular}{lll}\n",
       "\t -7  & 900 &  -7\\\\\n",
       "\t  1  &   2 & 900\\\\\n",
       "\t  7  & 900 &   7\\\\\n",
       "\\end{tabular}\n"
      ],
      "text/markdown": [
       "\n",
       "| -7  | 900 |  -7 |\n",
       "|  1  |   2 | 900 |\n",
       "|  7  | 900 |   7 |\n",
       "\n"
      ],
      "text/plain": [
       "     [,1] [,2] [,3]\n",
       "[1,] -7   900   -7 \n",
       "[2,]  1     2  900 \n",
       "[3,]  7   900    7 "
      ]
     },
     "metadata": {},
     "output_type": "display_data"
    }
   ],
   "source": [
    "B[c(1,3),c(1,3)]\n",
    "B[c(1,3),c(1,3)] <- c(-7,7)      #按列赋值\n",
    "B"
   ]
  },
  {
   "cell_type": "code",
   "execution_count": null,
   "metadata": {
    "vscode": {
     "languageId": "r"
    }
   },
   "outputs": [
    {
     "data": {
      "text/html": [
       "<table>\n",
       "<tbody>\n",
       "\t<tr><td>900</td><td>-7 </td></tr>\n",
       "\t<tr><td>900</td><td> 7 </td></tr>\n",
       "</tbody>\n",
       "</table>\n"
      ],
      "text/latex": [
       "\\begin{tabular}{ll}\n",
       "\t 900 & -7 \\\\\n",
       "\t 900 &  7 \\\\\n",
       "\\end{tabular}\n"
      ],
      "text/markdown": [
       "\n",
       "| 900 | -7  |\n",
       "| 900 |  7  |\n",
       "\n"
      ],
      "text/plain": [
       "     [,1] [,2]\n",
       "[1,] 900  -7  \n",
       "[2,] 900   7  "
      ]
     },
     "metadata": {},
     "output_type": "display_data"
    },
    {
     "data": {
      "text/html": [
       "<table>\n",
       "<tbody>\n",
       "\t<tr><td> 65</td><td> 88</td></tr>\n",
       "\t<tr><td>-65</td><td>-88</td></tr>\n",
       "</tbody>\n",
       "</table>\n"
      ],
      "text/latex": [
       "\\begin{tabular}{ll}\n",
       "\t  65 &  88\\\\\n",
       "\t -65 & -88\\\\\n",
       "\\end{tabular}\n"
      ],
      "text/markdown": [
       "\n",
       "|  65 |  88 |\n",
       "| -65 | -88 |\n",
       "\n"
      ],
      "text/plain": [
       "     [,1] [,2]\n",
       "[1,]  65   88 \n",
       "[2,] -65  -88 "
      ]
     },
     "metadata": {},
     "output_type": "display_data"
    },
    {
     "data": {
      "text/html": [
       "<table>\n",
       "<tbody>\n",
       "\t<tr><td> 88</td><td> 65</td><td> -7</td></tr>\n",
       "\t<tr><td>  1</td><td>  2</td><td>900</td></tr>\n",
       "\t<tr><td>-88</td><td>-65</td><td>  7</td></tr>\n",
       "</tbody>\n",
       "</table>\n"
      ],
      "text/latex": [
       "\\begin{tabular}{lll}\n",
       "\t  88 &  65 &  -7\\\\\n",
       "\t   1 &   2 & 900\\\\\n",
       "\t -88 & -65 &   7\\\\\n",
       "\\end{tabular}\n"
      ],
      "text/markdown": [
       "\n",
       "|  88 |  65 |  -7 |\n",
       "|   1 |   2 | 900 |\n",
       "| -88 | -65 |   7 |\n",
       "\n"
      ],
      "text/plain": [
       "     [,1] [,2] [,3]\n",
       "[1,]  88   65   -7 \n",
       "[2,]   1    2  900 \n",
       "[3,] -88  -65    7 "
      ]
     },
     "metadata": {},
     "output_type": "display_data"
    }
   ],
   "source": [
    "B[c(1,3),2:1]\n",
    "B[c(1,3),2:1] <- c(65,-65,88,-88) #按列赋值\n",
    "B[c(1,3),2:1]\n",
    "B"
   ]
  },
  {
   "cell_type": "code",
   "execution_count": null,
   "metadata": {
    "vscode": {
     "languageId": "r"
    }
   },
   "outputs": [
    {
     "data": {
      "text/html": [
       "<table>\n",
       "<tbody>\n",
       "\t<tr><td>  0</td><td> 65</td><td> -7</td></tr>\n",
       "\t<tr><td>  1</td><td>  0</td><td>900</td></tr>\n",
       "\t<tr><td>-88</td><td>-65</td><td>  0</td></tr>\n",
       "</tbody>\n",
       "</table>\n"
      ],
      "text/latex": [
       "\\begin{tabular}{lll}\n",
       "\t   0 &  65 &  -7\\\\\n",
       "\t   1 &   0 & 900\\\\\n",
       "\t -88 & -65 &   0\\\\\n",
       "\\end{tabular}\n"
      ],
      "text/markdown": [
       "\n",
       "|   0 |  65 |  -7 |\n",
       "|   1 |   0 | 900 |\n",
       "| -88 | -65 |   0 |\n",
       "\n"
      ],
      "text/plain": [
       "     [,1] [,2] [,3]\n",
       "[1,]   0   65   -7 \n",
       "[2,]   1    0  900 \n",
       "[3,] -88  -65    0 "
      ]
     },
     "metadata": {},
     "output_type": "display_data"
    }
   ],
   "source": [
    "diag(x=B) <- 0  #注意B的改变\n",
    "B"
   ]
  },
  {
   "cell_type": "markdown",
   "metadata": {},
   "source": [
    "##### 矩阵运算"
   ]
  },
  {
   "cell_type": "code",
   "execution_count": null,
   "metadata": {
    "vscode": {
     "languageId": "r"
    }
   },
   "outputs": [
    {
     "data": {
      "text/html": [
       "<table>\n",
       "<tbody>\n",
       "\t<tr><td>2</td><td>5</td><td>2</td></tr>\n",
       "\t<tr><td>6</td><td>1</td><td>4</td></tr>\n",
       "</tbody>\n",
       "</table>\n"
      ],
      "text/latex": [
       "\\begin{tabular}{lll}\n",
       "\t 2 & 5 & 2\\\\\n",
       "\t 6 & 1 & 4\\\\\n",
       "\\end{tabular}\n"
      ],
      "text/markdown": [
       "\n",
       "| 2 | 5 | 2 |\n",
       "| 6 | 1 | 4 |\n",
       "\n"
      ],
      "text/plain": [
       "     [,1] [,2] [,3]\n",
       "[1,] 2    5    2   \n",
       "[2,] 6    1    4   "
      ]
     },
     "metadata": {},
     "output_type": "display_data"
    },
    {
     "data": {
      "text/html": [
       "<table>\n",
       "<tbody>\n",
       "\t<tr><td>2</td><td>6</td></tr>\n",
       "\t<tr><td>5</td><td>1</td></tr>\n",
       "\t<tr><td>2</td><td>4</td></tr>\n",
       "</tbody>\n",
       "</table>\n"
      ],
      "text/latex": [
       "\\begin{tabular}{ll}\n",
       "\t 2 & 6\\\\\n",
       "\t 5 & 1\\\\\n",
       "\t 2 & 4\\\\\n",
       "\\end{tabular}\n"
      ],
      "text/markdown": [
       "\n",
       "| 2 | 6 |\n",
       "| 5 | 1 |\n",
       "| 2 | 4 |\n",
       "\n"
      ],
      "text/plain": [
       "     [,1] [,2]\n",
       "[1,] 2    6   \n",
       "[2,] 5    1   \n",
       "[3,] 2    4   "
      ]
     },
     "metadata": {},
     "output_type": "display_data"
    }
   ],
   "source": [
    "A <- rbind(c(2,5,2),c(6,1,4))\n",
    "A\n",
    "t(A)  #转置"
   ]
  },
  {
   "cell_type": "code",
   "execution_count": null,
   "metadata": {
    "vscode": {
     "languageId": "r"
    }
   },
   "outputs": [
    {
     "data": {
      "text/html": [
       "<table>\n",
       "<tbody>\n",
       "\t<tr><td>2</td><td>5</td><td>2</td></tr>\n",
       "\t<tr><td>6</td><td>1</td><td>4</td></tr>\n",
       "</tbody>\n",
       "</table>\n"
      ],
      "text/latex": [
       "\\begin{tabular}{lll}\n",
       "\t 2 & 5 & 2\\\\\n",
       "\t 6 & 1 & 4\\\\\n",
       "\\end{tabular}\n"
      ],
      "text/markdown": [
       "\n",
       "| 2 | 5 | 2 |\n",
       "| 6 | 1 | 4 |\n",
       "\n"
      ],
      "text/plain": [
       "     [,1] [,2] [,3]\n",
       "[1,] 2    5    2   \n",
       "[2,] 6    1    4   "
      ]
     },
     "metadata": {},
     "output_type": "display_data"
    }
   ],
   "source": [
    "t(t(A))"
   ]
  },
  {
   "cell_type": "code",
   "execution_count": null,
   "metadata": {
    "vscode": {
     "languageId": "r"
    }
   },
   "outputs": [
    {
     "data": {
      "text/html": [
       "<table>\n",
       "<tbody>\n",
       "\t<tr><td>1</td><td>0</td><td>0</td></tr>\n",
       "\t<tr><td>0</td><td>1</td><td>0</td></tr>\n",
       "\t<tr><td>0</td><td>0</td><td>1</td></tr>\n",
       "</tbody>\n",
       "</table>\n"
      ],
      "text/latex": [
       "\\begin{tabular}{lll}\n",
       "\t 1 & 0 & 0\\\\\n",
       "\t 0 & 1 & 0\\\\\n",
       "\t 0 & 0 & 1\\\\\n",
       "\\end{tabular}\n"
      ],
      "text/markdown": [
       "\n",
       "| 1 | 0 | 0 |\n",
       "| 0 | 1 | 0 |\n",
       "| 0 | 0 | 1 |\n",
       "\n"
      ],
      "text/plain": [
       "     [,1] [,2] [,3]\n",
       "[1,] 1    0    0   \n",
       "[2,] 0    1    0   \n",
       "[3,] 0    0    1   "
      ]
     },
     "metadata": {},
     "output_type": "display_data"
    }
   ],
   "source": [
    "A <- diag(x=3)   #单位阵\n",
    "A"
   ]
  },
  {
   "cell_type": "code",
   "execution_count": null,
   "metadata": {
    "vscode": {
     "languageId": "r"
    }
   },
   "outputs": [
    {
     "data": {
      "text/html": [
       "<table>\n",
       "<tbody>\n",
       "\t<tr><td> 4</td><td>10</td><td>4 </td></tr>\n",
       "\t<tr><td>12</td><td> 2</td><td>8 </td></tr>\n",
       "</tbody>\n",
       "</table>\n"
      ],
      "text/latex": [
       "\\begin{tabular}{lll}\n",
       "\t  4 & 10 & 4 \\\\\n",
       "\t 12 &  2 & 8 \\\\\n",
       "\\end{tabular}\n"
      ],
      "text/markdown": [
       "\n",
       "|  4 | 10 | 4  |\n",
       "| 12 |  2 | 8  |\n",
       "\n"
      ],
      "text/plain": [
       "     [,1] [,2] [,3]\n",
       "[1,]  4   10   4   \n",
       "[2,] 12    2   8   "
      ]
     },
     "metadata": {},
     "output_type": "display_data"
    }
   ],
   "source": [
    "A <- rbind(c(2,5,2),c(6,1,4))\n",
    "a <- 2\n",
    "a*A          #数乘"
   ]
  },
  {
   "cell_type": "code",
   "execution_count": null,
   "metadata": {
    "vscode": {
     "languageId": "r"
    }
   },
   "outputs": [
    {
     "data": {
      "text/html": [
       "<table>\n",
       "<tbody>\n",
       "\t<tr><td> 4  </td><td>-2.1</td></tr>\n",
       "\t<tr><td> 2  </td><td>-7.2</td></tr>\n",
       "\t<tr><td>-4  </td><td>13.8</td></tr>\n",
       "</tbody>\n",
       "</table>\n"
      ],
      "text/latex": [
       "\\begin{tabular}{ll}\n",
       "\t  4   & -2.1\\\\\n",
       "\t  2   & -7.2\\\\\n",
       "\t -4   & 13.8\\\\\n",
       "\\end{tabular}\n"
      ],
      "text/markdown": [
       "\n",
       "|  4   | -2.1 |\n",
       "|  2   | -7.2 |\n",
       "| -4   | 13.8 |\n",
       "\n"
      ],
      "text/plain": [
       "     [,1] [,2]\n",
       "[1,]  4   -2.1\n",
       "[2,]  2   -7.2\n",
       "[3,] -4   13.8"
      ]
     },
     "metadata": {},
     "output_type": "display_data"
    }
   ],
   "source": [
    "A <- cbind(c(2,5,2),c(6,1,4))\n",
    "B <- cbind(c(-2,3,6),c(8.1,8.2,-9.8))\n",
    "A-B         #减法"
   ]
  },
  {
   "cell_type": "code",
   "execution_count": null,
   "metadata": {
    "vscode": {
     "languageId": "r"
    }
   },
   "outputs": [
    {
     "data": {
      "text/html": [
       "<ol class=list-inline>\n",
       "\t<li>2</li>\n",
       "\t<li>3</li>\n",
       "</ol>\n"
      ],
      "text/latex": [
       "\\begin{enumerate*}\n",
       "\\item 2\n",
       "\\item 3\n",
       "\\end{enumerate*}\n"
      ],
      "text/markdown": [
       "1. 2\n",
       "2. 3\n",
       "\n",
       "\n"
      ],
      "text/plain": [
       "[1] 2 3"
      ]
     },
     "metadata": {},
     "output_type": "display_data"
    },
    {
     "data": {
      "text/html": [
       "<ol class=list-inline>\n",
       "\t<li>3</li>\n",
       "\t<li>2</li>\n",
       "</ol>\n"
      ],
      "text/latex": [
       "\\begin{enumerate*}\n",
       "\\item 3\n",
       "\\item 2\n",
       "\\end{enumerate*}\n"
      ],
      "text/markdown": [
       "1. 3\n",
       "2. 2\n",
       "\n",
       "\n"
      ],
      "text/plain": [
       "[1] 3 2"
      ]
     },
     "metadata": {},
     "output_type": "display_data"
    }
   ],
   "source": [
    "A <- rbind(c(2,5,2),c(6,1,4))\n",
    "dim(A)\n",
    "B <- cbind(c(3,-1,1),c(-3,1,5))\n",
    "dim(B)"
   ]
  },
  {
   "cell_type": "code",
   "execution_count": null,
   "metadata": {
    "vscode": {
     "languageId": "r"
    }
   },
   "outputs": [
    {
     "data": {
      "text/html": [
       "<table>\n",
       "<tbody>\n",
       "\t<tr><td> 3</td><td>9 </td></tr>\n",
       "\t<tr><td>21</td><td>3 </td></tr>\n",
       "</tbody>\n",
       "</table>\n"
      ],
      "text/latex": [
       "\\begin{tabular}{ll}\n",
       "\t  3 & 9 \\\\\n",
       "\t 21 & 3 \\\\\n",
       "\\end{tabular}\n"
      ],
      "text/markdown": [
       "\n",
       "|  3 | 9  |\n",
       "| 21 | 3  |\n",
       "\n"
      ],
      "text/plain": [
       "     [,1] [,2]\n",
       "[1,]  3   9   \n",
       "[2,] 21   3   "
      ]
     },
     "metadata": {},
     "output_type": "display_data"
    }
   ],
   "source": [
    "A%*%B  #矩阵乘法"
   ]
  },
  {
   "cell_type": "code",
   "execution_count": null,
   "metadata": {
    "vscode": {
     "languageId": "r"
    }
   },
   "outputs": [
    {
     "data": {
      "text/html": [
       "<table>\n",
       "<tbody>\n",
       "\t<tr><td>-12</td><td>12 </td><td>-6 </td></tr>\n",
       "\t<tr><td>  4</td><td>-4 </td><td> 2 </td></tr>\n",
       "\t<tr><td> 32</td><td>10 </td><td>22 </td></tr>\n",
       "</tbody>\n",
       "</table>\n"
      ],
      "text/latex": [
       "\\begin{tabular}{lll}\n",
       "\t -12 & 12  & -6 \\\\\n",
       "\t   4 & -4  &  2 \\\\\n",
       "\t  32 & 10  & 22 \\\\\n",
       "\\end{tabular}\n"
      ],
      "text/markdown": [
       "\n",
       "| -12 | 12  | -6  |\n",
       "|   4 | -4  |  2  |\n",
       "|  32 | 10  | 22  |\n",
       "\n"
      ],
      "text/plain": [
       "     [,1] [,2] [,3]\n",
       "[1,] -12  12   -6  \n",
       "[2,]   4  -4    2  \n",
       "[3,]  32  10   22  "
      ]
     },
     "metadata": {},
     "output_type": "display_data"
    }
   ],
   "source": [
    "B%*%A"
   ]
  },
  {
   "cell_type": "code",
   "execution_count": null,
   "metadata": {
    "vscode": {
     "languageId": "r"
    }
   },
   "outputs": [
    {
     "data": {
      "text/html": [
       "<table>\n",
       "<tbody>\n",
       "\t<tr><td>3</td><td>1</td></tr>\n",
       "\t<tr><td>4</td><td>2</td></tr>\n",
       "</tbody>\n",
       "</table>\n"
      ],
      "text/latex": [
       "\\begin{tabular}{ll}\n",
       "\t 3 & 1\\\\\n",
       "\t 4 & 2\\\\\n",
       "\\end{tabular}\n"
      ],
      "text/markdown": [
       "\n",
       "| 3 | 1 |\n",
       "| 4 | 2 |\n",
       "\n"
      ],
      "text/plain": [
       "     [,1] [,2]\n",
       "[1,] 3    1   \n",
       "[2,] 4    2   "
      ]
     },
     "metadata": {},
     "output_type": "display_data"
    },
    {
     "data": {
      "text/html": [
       "<table>\n",
       "<tbody>\n",
       "\t<tr><td> 1  </td><td>-0.5</td></tr>\n",
       "\t<tr><td>-2  </td><td> 1.5</td></tr>\n",
       "</tbody>\n",
       "</table>\n"
      ],
      "text/latex": [
       "\\begin{tabular}{ll}\n",
       "\t  1   & -0.5\\\\\n",
       "\t -2   &  1.5\\\\\n",
       "\\end{tabular}\n"
      ],
      "text/markdown": [
       "\n",
       "|  1   | -0.5 |\n",
       "| -2   |  1.5 |\n",
       "\n"
      ],
      "text/plain": [
       "     [,1] [,2]\n",
       "[1,]  1   -0.5\n",
       "[2,] -2    1.5"
      ]
     },
     "metadata": {},
     "output_type": "display_data"
    }
   ],
   "source": [
    "A <- matrix(data=c(3,4,1,2),nrow=2,ncol=2)\n",
    "A\n",
    "solve(A)  #矩阵的逆"
   ]
  },
  {
   "cell_type": "code",
   "execution_count": null,
   "metadata": {
    "vscode": {
     "languageId": "r"
    }
   },
   "outputs": [
    {
     "data": {
      "text/html": [
       "<table>\n",
       "<tbody>\n",
       "\t<tr><td>1</td><td>0</td></tr>\n",
       "\t<tr><td>0</td><td>1</td></tr>\n",
       "</tbody>\n",
       "</table>\n"
      ],
      "text/latex": [
       "\\begin{tabular}{ll}\n",
       "\t 1 & 0\\\\\n",
       "\t 0 & 1\\\\\n",
       "\\end{tabular}\n"
      ],
      "text/markdown": [
       "\n",
       "| 1 | 0 |\n",
       "| 0 | 1 |\n",
       "\n"
      ],
      "text/plain": [
       "     [,1] [,2]\n",
       "[1,] 1    0   \n",
       "[2,] 0    1   "
      ]
     },
     "metadata": {},
     "output_type": "display_data"
    }
   ],
   "source": [
    "A%*%solve(A)"
   ]
  },
  {
   "cell_type": "markdown",
   "metadata": {},
   "source": [
    "##### 多维数组"
   ]
  },
  {
   "cell_type": "code",
   "execution_count": null,
   "metadata": {
    "vscode": {
     "languageId": "r"
    }
   },
   "outputs": [
    {
     "name": "stdout",
     "output_type": "stream",
     "text": [
      ", , 1\n",
      "\n",
      "     [,1] [,2] [,3] [,4]\n",
      "[1,]    1    4    7   10\n",
      "[2,]    2    5    8   11\n",
      "[3,]    3    6    9   12\n",
      "\n",
      ", , 2\n",
      "\n",
      "     [,1] [,2] [,3] [,4]\n",
      "[1,]   13   16   19   22\n",
      "[2,]   14   17   20   23\n",
      "[3,]   15   18   21   24\n",
      "\n"
     ]
    }
   ],
   "source": [
    "AR <- array(data=1:24,dim=c(3,4,2))\n",
    "print(AR)"
   ]
  },
  {
   "cell_type": "code",
   "execution_count": null,
   "metadata": {
    "vscode": {
     "languageId": "r"
    }
   },
   "outputs": [],
   "source": [
    "BR <- array(data=rep(x=1:24,times=3),dim=c(3,4,2,3))"
   ]
  },
  {
   "cell_type": "code",
   "execution_count": null,
   "metadata": {
    "vscode": {
     "languageId": "r"
    }
   },
   "outputs": [
    {
     "name": "stdout",
     "output_type": "stream",
     "text": [
      ", , 1, 1\n",
      "\n",
      "     [,1] [,2] [,3] [,4]\n",
      "[1,]    1    4    7   10\n",
      "[2,]    2    5    8   11\n",
      "[3,]    3    6    9   12\n",
      "\n",
      ", , 2, 1\n",
      "\n",
      "     [,1] [,2] [,3] [,4]\n",
      "[1,]   13   16   19   22\n",
      "[2,]   14   17   20   23\n",
      "[3,]   15   18   21   24\n",
      "\n",
      ", , 1, 2\n",
      "\n",
      "     [,1] [,2] [,3] [,4]\n",
      "[1,]    1    4    7   10\n",
      "[2,]    2    5    8   11\n",
      "[3,]    3    6    9   12\n",
      "\n",
      ", , 2, 2\n",
      "\n",
      "     [,1] [,2] [,3] [,4]\n",
      "[1,]   13   16   19   22\n",
      "[2,]   14   17   20   23\n",
      "[3,]   15   18   21   24\n",
      "\n",
      ", , 1, 3\n",
      "\n",
      "     [,1] [,2] [,3] [,4]\n",
      "[1,]    1    4    7   10\n",
      "[2,]    2    5    8   11\n",
      "[3,]    3    6    9   12\n",
      "\n",
      ", , 2, 3\n",
      "\n",
      "     [,1] [,2] [,3] [,4]\n",
      "[1,]   13   16   19   22\n",
      "[2,]   14   17   20   23\n",
      "[3,]   15   18   21   24\n",
      "\n"
     ]
    }
   ],
   "source": [
    "print(BR)"
   ]
  },
  {
   "cell_type": "code",
   "execution_count": null,
   "metadata": {
    "vscode": {
     "languageId": "r"
    }
   },
   "outputs": [
    {
     "name": "stdout",
     "output_type": "stream",
     "text": [
      "[1] 14 17 20 23\n"
     ]
    }
   ],
   "source": [
    "print(AR[2,,2])"
   ]
  },
  {
   "cell_type": "code",
   "execution_count": null,
   "metadata": {
    "vscode": {
     "languageId": "r"
    }
   },
   "outputs": [
    {
     "data": {
      "text/html": [
       "<ol class=list-inline>\n",
       "\t<li>20</li>\n",
       "\t<li>14</li>\n",
       "</ol>\n"
      ],
      "text/latex": [
       "\\begin{enumerate*}\n",
       "\\item 20\n",
       "\\item 14\n",
       "\\end{enumerate*}\n"
      ],
      "text/markdown": [
       "1. 20\n",
       "2. 14\n",
       "\n",
       "\n"
      ],
      "text/plain": [
       "[1] 20 14"
      ]
     },
     "metadata": {},
     "output_type": "display_data"
    }
   ],
   "source": [
    "AR[2,c(3,1),2]"
   ]
  },
  {
   "cell_type": "code",
   "execution_count": null,
   "metadata": {
    "vscode": {
     "languageId": "r"
    }
   },
   "outputs": [
    {
     "name": "stdout",
     "output_type": "stream",
     "text": [
      "     [,1] [,2]\n",
      "[1,]    1   13\n",
      "[2,]    4   16\n",
      "[3,]    7   19\n",
      "[4,]   10   22\n"
     ]
    }
   ],
   "source": [
    "print(AR[1,,])   #4*2"
   ]
  },
  {
   "cell_type": "code",
   "execution_count": null,
   "metadata": {
    "vscode": {
     "languageId": "r"
    }
   },
   "outputs": [
    {
     "data": {
      "text/html": [
       "2"
      ],
      "text/latex": [
       "2"
      ],
      "text/markdown": [
       "2"
      ],
      "text/plain": [
       "[1] 2"
      ]
     },
     "metadata": {},
     "output_type": "display_data"
    }
   ],
   "source": [
    "BR[2,1,1,3]"
   ]
  },
  {
   "cell_type": "code",
   "execution_count": null,
   "metadata": {
    "vscode": {
     "languageId": "r"
    }
   },
   "outputs": [
    {
     "name": "stdout",
     "output_type": "stream",
     "text": [
      "     [,1] [,2]\n",
      "[1,]    1   13\n",
      "[2,]    4   16\n",
      "[3,]    7   19\n",
      "[4,]   10   22\n"
     ]
    }
   ],
   "source": [
    "print(BR[1,,,1])"
   ]
  },
  {
   "cell_type": "code",
   "execution_count": null,
   "metadata": {
    "vscode": {
     "languageId": "r"
    }
   },
   "outputs": [
    {
     "name": "stdout",
     "output_type": "stream",
     "text": [
      ", , 1\n",
      "\n",
      "     [,1] [,2] [,3] [,4]\n",
      "[1,]   13   16   19   22\n",
      "[2,]   14   17   20   23\n",
      "[3,]   15   18   21   24\n",
      "\n",
      ", , 2\n",
      "\n",
      "     [,1] [,2] [,3] [,4]\n",
      "[1,]   13   16   19   22\n",
      "[2,]   14   17   20   23\n",
      "[3,]   15   18   21   24\n",
      "\n",
      ", , 3\n",
      "\n",
      "     [,1] [,2] [,3] [,4]\n",
      "[1,]   13   16   19   22\n",
      "[2,]   14   17   20   23\n",
      "[3,]   15   18   21   24\n",
      "\n"
     ]
    }
   ],
   "source": [
    "print(BR[,,2,])"
   ]
  },
  {
   "cell_type": "code",
   "execution_count": null,
   "metadata": {
    "vscode": {
     "languageId": "r"
    }
   },
   "outputs": [
    {
     "name": "stdout",
     "output_type": "stream",
     "text": [
      "     [,1] [,2] [,3]\n",
      "[1,]    2    2    2\n",
      "[2,]    5    5    5\n",
      "[3,]    8    8    8\n",
      "[4,]   11   11   11\n"
     ]
    }
   ],
   "source": [
    "print(BR[2,,1,])"
   ]
  },
  {
   "cell_type": "code",
   "execution_count": null,
   "metadata": {
    "vscode": {
     "languageId": "r"
    }
   },
   "outputs": [],
   "source": []
  }
 ],
 "metadata": {
  "kernelspec": {
   "display_name": "R",
   "language": "R",
   "name": "ir"
  },
  "language_info": {
   "codemirror_mode": {
    "name": "ipython",
    "version": 3
   },
   "file_extension": ".py",
   "mimetype": "text/x-python",
   "name": "R",
   "nbconvert_exporter": "python",
   "pygments_lexer": "ipython3",
   "version": "3.13.2"
  }
 },
 "nbformat": 4,
 "nbformat_minor": 4
}

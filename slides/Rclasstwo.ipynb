{
 "cells": [
  {
   "cell_type": "markdown",
   "metadata": {},
   "source": [
    "#### 非数值型数据"
   ]
  },
  {
   "cell_type": "markdown",
   "metadata": {},
   "source": [
    "##### 布尔型"
   ]
  },
  {
   "cell_type": "code",
   "execution_count": 1,
   "metadata": {},
   "outputs": [
    {
     "data": {
      "text/html": [
       "TRUE"
      ],
      "text/latex": [
       "TRUE"
      ],
      "text/markdown": [
       "TRUE"
      ],
      "text/plain": [
       "[1] TRUE"
      ]
     },
     "metadata": {},
     "output_type": "display_data"
    },
    {
     "data": {
      "text/html": [
       "FALSE"
      ],
      "text/latex": [
       "FALSE"
      ],
      "text/markdown": [
       "FALSE"
      ],
      "text/plain": [
       "[1] FALSE"
      ]
     },
     "metadata": {},
     "output_type": "display_data"
    }
   ],
   "source": [
    "foo <- TRUE   # or T\n",
    "foo\n",
    "bar <- F      # or FALSE\n",
    "bar"
   ]
  },
  {
   "cell_type": "code",
   "execution_count": 2,
   "metadata": {},
   "outputs": [
    {
     "name": "stdout",
     "output_type": "stream",
     "text": [
      " [1]  TRUE FALSE FALSE FALSE  TRUE FALSE  TRUE  TRUE  TRUE FALSE  TRUE FALSE\n"
     ]
    }
   ],
   "source": [
    "baz <- c(T,F,F,F,T,F,T,T,T,F,T,F)   #布尔向量\n",
    "print(baz)"
   ]
  },
  {
   "cell_type": "code",
   "execution_count": 3,
   "metadata": {},
   "outputs": [
    {
     "data": {
      "text/html": [
       "12"
      ],
      "text/latex": [
       "12"
      ],
      "text/markdown": [
       "12"
      ],
      "text/plain": [
       "[1] 12"
      ]
     },
     "metadata": {},
     "output_type": "display_data"
    }
   ],
   "source": [
    "length(x=baz)"
   ]
  },
  {
   "cell_type": "code",
   "execution_count": 4,
   "metadata": {},
   "outputs": [
    {
     "name": "stdout",
     "output_type": "stream",
     "text": [
      "     [,1]  [,2]  [,3]  [,4]\n",
      "[1,] TRUE FALSE FALSE FALSE\n",
      "[2,] TRUE FALSE  TRUE  TRUE\n",
      "[3,] TRUE FALSE  TRUE FALSE\n"
     ]
    }
   ],
   "source": [
    "qux <- matrix(data=baz,nrow=3,ncol=4,byrow=foo)  #bool matrix\n",
    "print(qux)"
   ]
  },
  {
   "cell_type": "markdown",
   "metadata": {},
   "source": [
    "##### 关系运算符"
   ]
  },
  {
   "cell_type": "markdown",
   "metadata": {},
   "source": [
    "- == Equal to\n",
    "- != Not equal to\n",
    "- \\> Greater than\n",
    "- < Less than\n",
    "- \\>= Greater than or equal to\n",
    "- <= Less than or equal to"
   ]
  },
  {
   "cell_type": "code",
   "execution_count": 5,
   "metadata": {},
   "outputs": [
    {
     "data": {
      "text/html": [
       "FALSE"
      ],
      "text/latex": [
       "FALSE"
      ],
      "text/markdown": [
       "FALSE"
      ],
      "text/plain": [
       "[1] FALSE"
      ]
     },
     "metadata": {},
     "output_type": "display_data"
    }
   ],
   "source": [
    "1==2"
   ]
  },
  {
   "cell_type": "code",
   "execution_count": 6,
   "metadata": {},
   "outputs": [
    {
     "data": {
      "text/html": [
       "FALSE"
      ],
      "text/latex": [
       "FALSE"
      ],
      "text/markdown": [
       "FALSE"
      ],
      "text/plain": [
       "[1] FALSE"
      ]
     },
     "metadata": {},
     "output_type": "display_data"
    }
   ],
   "source": [
    "1>2"
   ]
  },
  {
   "cell_type": "code",
   "execution_count": 7,
   "metadata": {},
   "outputs": [
    {
     "data": {
      "text/html": [
       "TRUE"
      ],
      "text/latex": [
       "TRUE"
      ],
      "text/markdown": [
       "TRUE"
      ],
      "text/plain": [
       "[1] TRUE"
      ]
     },
     "metadata": {},
     "output_type": "display_data"
    }
   ],
   "source": [
    "(2-1)<=2"
   ]
  },
  {
   "cell_type": "code",
   "execution_count": 8,
   "metadata": {},
   "outputs": [
    {
     "data": {
      "text/html": [
       "TRUE"
      ],
      "text/latex": [
       "TRUE"
      ],
      "text/markdown": [
       "TRUE"
      ],
      "text/plain": [
       "[1] TRUE"
      ]
     },
     "metadata": {},
     "output_type": "display_data"
    }
   ],
   "source": [
    "1!=(2+3)"
   ]
  },
  {
   "cell_type": "code",
   "execution_count": 9,
   "metadata": {},
   "outputs": [
    {
     "data": {
      "text/html": [
       "TRUE"
      ],
      "text/latex": [
       "TRUE"
      ],
      "text/markdown": [
       "TRUE"
      ],
      "text/plain": [
       "[1] TRUE"
      ]
     },
     "metadata": {},
     "output_type": "display_data"
    }
   ],
   "source": [
    "foo <- c(3,2,1,4,1,2,1,-1,0,3)\n",
    "bar <- c(4,1,2,1,1,0,0,3,0,4)\n",
    "length(x=foo)==length(x=bar)"
   ]
  },
  {
   "cell_type": "code",
   "execution_count": 10,
   "metadata": {},
   "outputs": [
    {
     "name": "stdout",
     "output_type": "stream",
     "text": [
      " [1] FALSE FALSE FALSE FALSE  TRUE FALSE FALSE FALSE  TRUE FALSE\n"
     ]
    }
   ],
   "source": [
    "print(foo==bar)"
   ]
  },
  {
   "cell_type": "code",
   "execution_count": 11,
   "metadata": {},
   "outputs": [
    {
     "name": "stdout",
     "output_type": "stream",
     "text": [
      " [1] TRUE TRUE TRUE TRUE TRUE TRUE TRUE TRUE TRUE TRUE\n"
     ]
    }
   ],
   "source": [
    "print(foo<=(bar+10))"
   ]
  },
  {
   "cell_type": "code",
   "execution_count": 12,
   "metadata": {},
   "outputs": [
    {
     "name": "stdout",
     "output_type": "stream",
     "text": [
      "[1] 3 1\n"
     ]
    }
   ],
   "source": [
    "baz <- foo[c(10,3)]\n",
    "print(baz)"
   ]
  },
  {
   "cell_type": "code",
   "execution_count": 13,
   "metadata": {},
   "outputs": [
    {
     "name": "stdout",
     "output_type": "stream",
     "text": [
      " [1] FALSE  TRUE FALSE  TRUE FALSE  TRUE FALSE FALSE FALSE  TRUE\n"
     ]
    }
   ],
   "source": [
    "print(foo>baz)    #Vector recycling, the two elements of baz are recycled"
   ]
  },
  {
   "cell_type": "code",
   "execution_count": 14,
   "metadata": {},
   "outputs": [
    {
     "name": "stdout",
     "output_type": "stream",
     "text": [
      " [1] FALSE  TRUE  TRUE FALSE  TRUE  TRUE  TRUE  TRUE  TRUE FALSE\n"
     ]
    }
   ],
   "source": [
    "print(foo<3)  #single value"
   ]
  },
  {
   "cell_type": "code",
   "execution_count": 15,
   "metadata": {},
   "outputs": [],
   "source": [
    "foo.mat <- matrix(foo,nrow=5,ncol=2)"
   ]
  },
  {
   "cell_type": "code",
   "execution_count": 16,
   "metadata": {},
   "outputs": [
    {
     "name": "stdout",
     "output_type": "stream",
     "text": [
      "     [,1] [,2]\n",
      "[1,]    3    2\n",
      "[2,]    2    1\n",
      "[3,]    1   -1\n",
      "[4,]    4    0\n",
      "[5,]    1    3\n"
     ]
    }
   ],
   "source": [
    "print(foo.mat)"
   ]
  },
  {
   "cell_type": "code",
   "execution_count": 17,
   "metadata": {},
   "outputs": [
    {
     "name": "stdout",
     "output_type": "stream",
     "text": [
      "     [,1] [,2]\n",
      "[1,]    4    0\n",
      "[2,]    1    0\n",
      "[3,]    2    3\n",
      "[4,]    1    0\n",
      "[5,]    1    4\n"
     ]
    }
   ],
   "source": [
    "bar.mat <- matrix(bar,nrow=5,ncol=2)\n",
    "print(bar.mat)"
   ]
  },
  {
   "cell_type": "code",
   "execution_count": 18,
   "metadata": {},
   "outputs": [
    {
     "name": "stdout",
     "output_type": "stream",
     "text": [
      "      [,1]  [,2]\n",
      "[1,]  TRUE FALSE\n",
      "[2,] FALSE FALSE\n",
      "[3,]  TRUE  TRUE\n",
      "[4,] FALSE  TRUE\n",
      "[5,]  TRUE  TRUE\n"
     ]
    }
   ],
   "source": [
    "print(foo.mat<=bar.mat)"
   ]
  },
  {
   "cell_type": "code",
   "execution_count": 19,
   "metadata": {},
   "outputs": [
    {
     "data": {
      "text/html": [
       "<table>\n",
       "<tbody>\n",
       "\t<tr><td>FALSE</td><td> TRUE</td></tr>\n",
       "\t<tr><td> TRUE</td><td> TRUE</td></tr>\n",
       "\t<tr><td> TRUE</td><td> TRUE</td></tr>\n",
       "\t<tr><td>FALSE</td><td> TRUE</td></tr>\n",
       "\t<tr><td> TRUE</td><td>FALSE</td></tr>\n",
       "</tbody>\n",
       "</table>\n"
      ],
      "text/latex": [
       "\\begin{tabular}{ll}\n",
       "\t FALSE &  TRUE\\\\\n",
       "\t  TRUE &  TRUE\\\\\n",
       "\t  TRUE &  TRUE\\\\\n",
       "\t FALSE &  TRUE\\\\\n",
       "\t  TRUE & FALSE\\\\\n",
       "\\end{tabular}\n"
      ],
      "text/markdown": [
       "\n",
       "| FALSE |  TRUE |\n",
       "|  TRUE |  TRUE |\n",
       "|  TRUE |  TRUE |\n",
       "| FALSE |  TRUE |\n",
       "|  TRUE | FALSE |\n",
       "\n"
      ],
      "text/plain": [
       "     [,1]  [,2] \n",
       "[1,] FALSE  TRUE\n",
       "[2,]  TRUE  TRUE\n",
       "[3,]  TRUE  TRUE\n",
       "[4,] FALSE  TRUE\n",
       "[5,]  TRUE FALSE"
      ]
     },
     "metadata": {},
     "output_type": "display_data"
    }
   ],
   "source": [
    "foo.mat<3"
   ]
  },
  {
   "cell_type": "code",
   "execution_count": 20,
   "metadata": {},
   "outputs": [],
   "source": [
    "qux <- foo==bar"
   ]
  },
  {
   "cell_type": "code",
   "execution_count": 21,
   "metadata": {},
   "outputs": [
    {
     "name": "stdout",
     "output_type": "stream",
     "text": [
      " [1] FALSE FALSE FALSE FALSE  TRUE FALSE FALSE FALSE  TRUE FALSE\n"
     ]
    }
   ],
   "source": [
    "print(qux)"
   ]
  },
  {
   "cell_type": "code",
   "execution_count": 22,
   "metadata": {},
   "outputs": [
    {
     "data": {
      "text/html": [
       "TRUE"
      ],
      "text/latex": [
       "TRUE"
      ],
      "text/markdown": [
       "TRUE"
      ],
      "text/plain": [
       "[1] TRUE"
      ]
     },
     "metadata": {},
     "output_type": "display_data"
    }
   ],
   "source": [
    "any(qux)   #returns TRUE if, in the vector(s) passed to it, any of the logicals contained within are TRUE"
   ]
  },
  {
   "cell_type": "code",
   "execution_count": 23,
   "metadata": {},
   "outputs": [
    {
     "data": {
      "text/html": [
       "FALSE"
      ],
      "text/latex": [
       "FALSE"
      ],
      "text/markdown": [
       "FALSE"
      ],
      "text/plain": [
       "[1] FALSE"
      ]
     },
     "metadata": {},
     "output_type": "display_data"
    }
   ],
   "source": [
    "all(qux) #returns a TRUE only if all of the logicals are TRUE"
   ]
  },
  {
   "cell_type": "code",
   "execution_count": 24,
   "metadata": {},
   "outputs": [
    {
     "name": "stdout",
     "output_type": "stream",
     "text": [
      " [1] TRUE TRUE TRUE TRUE TRUE TRUE TRUE TRUE TRUE TRUE\n"
     ]
    }
   ],
   "source": [
    "quux <- foo<=(bar+10)\n",
    "print(quux)"
   ]
  },
  {
   "cell_type": "code",
   "execution_count": 25,
   "metadata": {},
   "outputs": [
    {
     "data": {
      "text/html": [
       "TRUE"
      ],
      "text/latex": [
       "TRUE"
      ],
      "text/markdown": [
       "TRUE"
      ],
      "text/plain": [
       "[1] TRUE"
      ]
     },
     "metadata": {},
     "output_type": "display_data"
    }
   ],
   "source": [
    "all(quux)"
   ]
  },
  {
   "cell_type": "markdown",
   "metadata": {},
   "source": [
    "##### 逻辑运算符"
   ]
  },
  {
   "attachments": {
    "3da2507f-a563-4961-9b17-9dd780836eec.png": {
     "image/png": "[encoded data removed]"
    }
   },
   "cell_type": "markdown",
   "metadata": {},
   "source": [
    "![image.png](attachment:3da2507f-a563-4961-9b17-9dd780836eec.png)"
   ]
  },
  {
   "cell_type": "code",
   "execution_count": 26,
   "metadata": {},
   "outputs": [
    {
     "data": {
      "text/html": [
       "TRUE"
      ],
      "text/latex": [
       "TRUE"
      ],
      "text/markdown": [
       "TRUE"
      ],
      "text/plain": [
       "[1] TRUE"
      ]
     },
     "metadata": {},
     "output_type": "display_data"
    }
   ],
   "source": [
    "FALSE||((T&&TRUE)||FALSE)"
   ]
  },
  {
   "cell_type": "code",
   "execution_count": 27,
   "metadata": {},
   "outputs": [
    {
     "data": {
      "text/html": [
       "FALSE"
      ],
      "text/latex": [
       "FALSE"
      ],
      "text/markdown": [
       "FALSE"
      ],
      "text/plain": [
       "[1] FALSE"
      ]
     },
     "metadata": {},
     "output_type": "display_data"
    }
   ],
   "source": [
    "!TRUE&&TRUE   #precedence ! > && > ||"
   ]
  },
  {
   "cell_type": "code",
   "execution_count": 28,
   "metadata": {},
   "outputs": [
    {
     "data": {
      "text/html": [
       "FALSE"
      ],
      "text/latex": [
       "FALSE"
      ],
      "text/markdown": [
       "FALSE"
      ],
      "text/plain": [
       "[1] FALSE"
      ]
     },
     "metadata": {},
     "output_type": "display_data"
    }
   ],
   "source": [
    "(T&&(TRUE||F))&&FALSE"
   ]
  },
  {
   "cell_type": "code",
   "execution_count": 29,
   "metadata": {},
   "outputs": [
    {
     "data": {
      "text/html": [
       "TRUE"
      ],
      "text/latex": [
       "TRUE"
      ],
      "text/markdown": [
       "TRUE"
      ],
      "text/plain": [
       "[1] TRUE"
      ]
     },
     "metadata": {},
     "output_type": "display_data"
    }
   ],
   "source": [
    "(6<4)||(3!=1)"
   ]
  },
  {
   "cell_type": "code",
   "execution_count": 30,
   "metadata": {},
   "outputs": [],
   "source": [
    "foo <- c(T,F,F,F,T,F,T,T,T,F,T,F)\n",
    "bar <- c(F,T,F,T,F,F,F,F,T,T,T,T)"
   ]
  },
  {
   "cell_type": "code",
   "execution_count": 31,
   "metadata": {},
   "outputs": [
    {
     "name": "stdout",
     "output_type": "stream",
     "text": [
      " [1] FALSE FALSE FALSE FALSE FALSE FALSE FALSE FALSE  TRUE FALSE  TRUE FALSE\n"
     ]
    }
   ],
   "source": [
    "print(foo&bar)   #element-wise"
   ]
  },
  {
   "cell_type": "code",
   "execution_count": 32,
   "metadata": {},
   "outputs": [
    {
     "name": "stdout",
     "output_type": "stream",
     "text": [
      " [1]  TRUE  TRUE FALSE  TRUE  TRUE FALSE  TRUE  TRUE  TRUE  TRUE  TRUE  TRUE\n"
     ]
    }
   ],
   "source": [
    "print(foo|bar)"
   ]
  },
  {
   "cell_type": "code",
   "execution_count": 33,
   "metadata": {},
   "outputs": [
    {
     "data": {
      "text/html": [
       "FALSE"
      ],
      "text/latex": [
       "FALSE"
      ],
      "text/markdown": [
       "FALSE"
      ],
      "text/plain": [
       "[1] FALSE"
      ]
     },
     "metadata": {},
     "output_type": "display_data"
    }
   ],
   "source": [
    "foo&&bar # the comparison only on the first pair of logicals in the two vectors"
   ]
  },
  {
   "cell_type": "code",
   "execution_count": 34,
   "metadata": {},
   "outputs": [
    {
     "data": {
      "text/html": [
       "TRUE"
      ],
      "text/latex": [
       "TRUE"
      ],
      "text/markdown": [
       "TRUE"
      ],
      "text/plain": [
       "[1] TRUE"
      ]
     },
     "metadata": {},
     "output_type": "display_data"
    }
   ],
   "source": [
    "foo||bar"
   ]
  },
  {
   "cell_type": "markdown",
   "metadata": {},
   "source": [
    "##### Logicals Are Numbers"
   ]
  },
  {
   "cell_type": "code",
   "execution_count": 35,
   "metadata": {},
   "outputs": [
    {
     "data": {
      "text/html": [
       "2"
      ],
      "text/latex": [
       "2"
      ],
      "text/markdown": [
       "2"
      ],
      "text/plain": [
       "[1] 2"
      ]
     },
     "metadata": {},
     "output_type": "display_data"
    }
   ],
   "source": [
    "TRUE+TRUE"
   ]
  },
  {
   "cell_type": "code",
   "execution_count": 36,
   "metadata": {},
   "outputs": [
    {
     "data": {
      "text/html": [
       "-1"
      ],
      "text/latex": [
       "-1"
      ],
      "text/markdown": [
       "-1"
      ],
      "text/plain": [
       "[1] -1"
      ]
     },
     "metadata": {},
     "output_type": "display_data"
    }
   ],
   "source": [
    "FALSE-TRUE"
   ]
  },
  {
   "cell_type": "code",
   "execution_count": 37,
   "metadata": {},
   "outputs": [
    {
     "data": {
      "text/html": [
       "4"
      ],
      "text/latex": [
       "4"
      ],
      "text/markdown": [
       "4"
      ],
      "text/plain": [
       "[1] 4"
      ]
     },
     "metadata": {},
     "output_type": "display_data"
    }
   ],
   "source": [
    "T+T+F+T+F+F+T"
   ]
  },
  {
   "cell_type": "code",
   "execution_count": 38,
   "metadata": {},
   "outputs": [
    {
     "data": {
      "text/html": [
       "TRUE"
      ],
      "text/latex": [
       "TRUE"
      ],
      "text/markdown": [
       "TRUE"
      ],
      "text/plain": [
       "[1] TRUE"
      ]
     },
     "metadata": {},
     "output_type": "display_data"
    }
   ],
   "source": [
    "1&&1"
   ]
  },
  {
   "cell_type": "code",
   "execution_count": 39,
   "metadata": {},
   "outputs": [
    {
     "data": {
      "text/html": [
       "TRUE"
      ],
      "text/latex": [
       "TRUE"
      ],
      "text/markdown": [
       "TRUE"
      ],
      "text/plain": [
       "[1] TRUE"
      ]
     },
     "metadata": {},
     "output_type": "display_data"
    }
   ],
   "source": [
    "1||0"
   ]
  },
  {
   "cell_type": "code",
   "execution_count": 40,
   "metadata": {},
   "outputs": [
    {
     "data": {
      "text/html": [
       "FALSE"
      ],
      "text/latex": [
       "FALSE"
      ],
      "text/markdown": [
       "FALSE"
      ],
      "text/plain": [
       "[1] FALSE"
      ]
     },
     "metadata": {},
     "output_type": "display_data"
    }
   ],
   "source": [
    "0&&1"
   ]
  },
  {
   "cell_type": "code",
   "execution_count": 41,
   "metadata": {},
   "outputs": [
    {
     "data": {
      "text/html": [
       "TRUE"
      ],
      "text/latex": [
       "TRUE"
      ],
      "text/markdown": [
       "TRUE"
      ],
      "text/plain": [
       "[1] TRUE"
      ]
     },
     "metadata": {},
     "output_type": "display_data"
    }
   ],
   "source": [
    "2&&-1"
   ]
  },
  {
   "cell_type": "markdown",
   "metadata": {},
   "source": [
    "##### 布尔索引"
   ]
  },
  {
   "cell_type": "code",
   "execution_count": 42,
   "metadata": {},
   "outputs": [
    {
     "name": "stdout",
     "output_type": "stream",
     "text": [
      "[1] -2.3 -8.0\n"
     ]
    }
   ],
   "source": [
    "myvec <- c(5,-2.3,4,4,4,6,8,10,40221,-8)\n",
    "print(myvec[c(F,T,F,F,F,F,F,F,F,T)])"
   ]
  },
  {
   "cell_type": "code",
   "execution_count": 43,
   "metadata": {},
   "outputs": [
    {
     "name": "stdout",
     "output_type": "stream",
     "text": [
      " [1] FALSE  TRUE FALSE FALSE FALSE FALSE FALSE FALSE FALSE  TRUE\n"
     ]
    }
   ],
   "source": [
    "print(myvec<0)"
   ]
  },
  {
   "cell_type": "code",
   "execution_count": 44,
   "metadata": {},
   "outputs": [
    {
     "name": "stdout",
     "output_type": "stream",
     "text": [
      "[1] -2.3 -8.0\n"
     ]
    }
   ],
   "source": [
    "print(myvec[myvec<0])"
   ]
  },
  {
   "cell_type": "code",
   "execution_count": 45,
   "metadata": {},
   "outputs": [
    {
     "name": "stdout",
     "output_type": "stream",
     "text": [
      "[1]     5     4     4     8 40221\n"
     ]
    }
   ],
   "source": [
    "print(myvec[c(T,F)])   #recycling"
   ]
  },
  {
   "cell_type": "code",
   "execution_count": 46,
   "metadata": {},
   "outputs": [
    {
     "name": "stdout",
     "output_type": "stream",
     "text": [
      "[1]  5  4  4  4  6  8 10\n"
     ]
    }
   ],
   "source": [
    "print(myvec[(myvec>0)&(myvec<1000)])"
   ]
  },
  {
   "cell_type": "code",
   "execution_count": 47,
   "metadata": {},
   "outputs": [
    {
     "name": "stdout",
     "output_type": "stream",
     "text": [
      " [1]     5  -200     4     4     4     6     8    10 40221  -200\n"
     ]
    }
   ],
   "source": [
    "myvec[myvec<0] <- -200\n",
    "print(myvec)"
   ]
  },
  {
   "cell_type": "code",
   "execution_count": 48,
   "metadata": {},
   "outputs": [
    {
     "name": "stdout",
     "output_type": "stream",
     "text": [
      "[1] 1 4 5\n"
     ]
    }
   ],
   "source": [
    "print(which(x=c(T,F,F,T,T)))  #convert a logical flag vector into a numeric index vector"
   ]
  },
  {
   "cell_type": "code",
   "execution_count": 49,
   "metadata": {},
   "outputs": [
    {
     "name": "stdout",
     "output_type": "stream",
     "text": [
      "[1]  2 10\n"
     ]
    }
   ],
   "source": [
    "print(which(x=myvec<0))"
   ]
  },
  {
   "cell_type": "code",
   "execution_count": 50,
   "metadata": {},
   "outputs": [
    {
     "name": "stdout",
     "output_type": "stream",
     "text": [
      "[1]     5     4     4     4     6     8    10 40221\n"
     ]
    }
   ],
   "source": [
    "print(myvec[-which(x=myvec<0)])  #remove the negative entries"
   ]
  },
  {
   "cell_type": "code",
   "execution_count": 51,
   "metadata": {},
   "outputs": [
    {
     "name": "stdout",
     "output_type": "stream",
     "text": [
      "     [,1]  [,2] [,3]\n",
      "[1,]  0.3  91.0 -4.2\n",
      "[2,]  4.5   0.1  8.2\n",
      "[3,] 55.3 105.5 27.9\n",
      "[1] 91.0 -4.2\n"
     ]
    }
   ],
   "source": [
    "A <- matrix(c(0.3,4.5,55.3,91,0.1,105.5,-4.2,8.2,27.9),nrow=3,ncol=3)\n",
    "print(A)\n",
    "print(A[c(T,F,F),c(F,T,T)])"
   ]
  },
  {
   "cell_type": "code",
   "execution_count": 52,
   "metadata": {},
   "outputs": [
    {
     "name": "stdout",
     "output_type": "stream",
     "text": [
      "      [,1]  [,2]  [,3]\n",
      "[1,]  TRUE FALSE  TRUE\n",
      "[2,] FALSE  TRUE FALSE\n",
      "[3,] FALSE FALSE FALSE\n"
     ]
    }
   ],
   "source": [
    "print(A<1)"
   ]
  },
  {
   "cell_type": "code",
   "execution_count": 53,
   "metadata": {},
   "outputs": [
    {
     "name": "stdout",
     "output_type": "stream",
     "text": [
      "     [,1]  [,2] [,3]\n",
      "[1,] -7.0  91.0 -7.0\n",
      "[2,]  4.5  -7.0  8.2\n",
      "[3,] 55.3 105.5 27.9\n"
     ]
    }
   ],
   "source": [
    "A[A<1] <- -7\n",
    "print(A)"
   ]
  },
  {
   "cell_type": "code",
   "execution_count": 54,
   "metadata": {},
   "outputs": [
    {
     "name": "stdout",
     "output_type": "stream",
     "text": [
      "[1] 3 4 6 9\n"
     ]
    }
   ],
   "source": [
    "print(which(x=A>25)) #laid out column after column: c(A[,1],A[,2],A[,3])"
   ]
  },
  {
   "cell_type": "code",
   "execution_count": 55,
   "metadata": {},
   "outputs": [
    {
     "name": "stdout",
     "output_type": "stream",
     "text": [
      "[1] 3 4 6 9\n"
     ]
    }
   ],
   "source": [
    "print(which(x=c(A[,1],A[,2],A[,3])>25))"
   ]
  },
  {
   "cell_type": "code",
   "execution_count": 56,
   "metadata": {},
   "outputs": [
    {
     "name": "stdout",
     "output_type": "stream",
     "text": [
      "     row col\n",
      "[1,]   3   1\n",
      "[2,]   1   2\n",
      "[3,]   3   2\n",
      "[4,]   3   3\n"
     ]
    }
   ],
   "source": [
    "print(which(x=A>25,arr.ind=T)) #array index"
   ]
  },
  {
   "cell_type": "markdown",
   "metadata": {},
   "source": [
    "#### 字符"
   ]
  },
  {
   "cell_type": "code",
   "execution_count": 57,
   "metadata": {},
   "outputs": [],
   "source": [
    "foo <- \"This is a character string!\""
   ]
  },
  {
   "cell_type": "code",
   "execution_count": 58,
   "metadata": {},
   "outputs": [
    {
     "data": {
      "text/html": [
       "'This is a character string!'"
      ],
      "text/latex": [
       "'This is a character string!'"
      ],
      "text/markdown": [
       "'This is a character string!'"
      ],
      "text/plain": [
       "[1] \"This is a character string!\""
      ]
     },
     "metadata": {},
     "output_type": "display_data"
    }
   ],
   "source": [
    "foo"
   ]
  },
  {
   "cell_type": "code",
   "execution_count": 59,
   "metadata": {},
   "outputs": [
    {
     "data": {
      "text/html": [
       "1"
      ],
      "text/latex": [
       "1"
      ],
      "text/markdown": [
       "1"
      ],
      "text/plain": [
       "[1] 1"
      ]
     },
     "metadata": {},
     "output_type": "display_data"
    }
   ],
   "source": [
    "length(x=foo)   #R treats the string as a single entity"
   ]
  },
  {
   "cell_type": "code",
   "execution_count": 60,
   "metadata": {},
   "outputs": [
    {
     "data": {
      "text/html": [
       "27"
      ],
      "text/latex": [
       "27"
      ],
      "text/markdown": [
       "27"
      ],
      "text/plain": [
       "[1] 27"
      ]
     },
     "metadata": {},
     "output_type": "display_data"
    }
   ],
   "source": [
    "nchar(x=foo)  #string length"
   ]
  },
  {
   "cell_type": "code",
   "execution_count": 61,
   "metadata": {},
   "outputs": [],
   "source": [
    "bar <- \"23.3\"\n",
    "#bar*2    #non-numeric argument to binary operator"
   ]
  },
  {
   "cell_type": "code",
   "execution_count": 62,
   "metadata": {},
   "outputs": [
    {
     "data": {
      "text/html": [
       "TRUE"
      ],
      "text/latex": [
       "TRUE"
      ],
      "text/markdown": [
       "TRUE"
      ],
      "text/plain": [
       "[1] TRUE"
      ]
     },
     "metadata": {},
     "output_type": "display_data"
    }
   ],
   "source": [
    "\"alpha\"==\"alpha\""
   ]
  },
  {
   "cell_type": "code",
   "execution_count": 63,
   "metadata": {},
   "outputs": [
    {
     "data": {
      "text/html": [
       "TRUE"
      ],
      "text/latex": [
       "TRUE"
      ],
      "text/markdown": [
       "TRUE"
      ],
      "text/plain": [
       "[1] TRUE"
      ]
     },
     "metadata": {},
     "output_type": "display_data"
    }
   ],
   "source": [
    "\"alpha\"!=\"beta\""
   ]
  },
  {
   "cell_type": "code",
   "execution_count": 64,
   "metadata": {},
   "outputs": [
    {
     "data": {
      "text/html": [
       "<ol class=list-inline>\n",
       "\t<li>FALSE</li>\n",
       "\t<li>TRUE</li>\n",
       "\t<li>FALSE</li>\n",
       "</ol>\n"
      ],
      "text/latex": [
       "\\begin{enumerate*}\n",
       "\\item FALSE\n",
       "\\item TRUE\n",
       "\\item FALSE\n",
       "\\end{enumerate*}\n"
      ],
      "text/markdown": [
       "1. FALSE\n",
       "2. TRUE\n",
       "3. FALSE\n",
       "\n",
       "\n"
      ],
      "text/plain": [
       "[1] FALSE  TRUE FALSE"
      ]
     },
     "metadata": {},
     "output_type": "display_data"
    }
   ],
   "source": [
    "c(\"alpha\",\"beta\",\"gamma\")==\"beta\""
   ]
  },
  {
   "cell_type": "code",
   "execution_count": 65,
   "metadata": {},
   "outputs": [
    {
     "data": {
      "text/html": [
       "TRUE"
      ],
      "text/latex": [
       "TRUE"
      ],
      "text/markdown": [
       "TRUE"
      ],
      "text/plain": [
       "[1] TRUE"
      ]
     },
     "metadata": {},
     "output_type": "display_data"
    }
   ],
   "source": [
    "\"alpha\"<=\"beta\"   #string comparison"
   ]
  },
  {
   "cell_type": "code",
   "execution_count": 66,
   "metadata": {},
   "outputs": [
    {
     "data": {
      "text/html": [
       "TRUE"
      ],
      "text/latex": [
       "TRUE"
      ],
      "text/markdown": [
       "TRUE"
      ],
      "text/plain": [
       "[1] TRUE"
      ]
     },
     "metadata": {},
     "output_type": "display_data"
    }
   ],
   "source": [
    "\"gamma\">\"Alpha\""
   ]
  },
  {
   "cell_type": "code",
   "execution_count": 67,
   "metadata": {},
   "outputs": [
    {
     "data": {
      "text/html": [
       "TRUE"
      ],
      "text/latex": [
       "TRUE"
      ],
      "text/markdown": [
       "TRUE"
      ],
      "text/plain": [
       "[1] TRUE"
      ]
     },
     "metadata": {},
     "output_type": "display_data"
    }
   ],
   "source": [
    "\"Alpha\">\"alpha\"   # uppercase letters are greater than lowercase letters"
   ]
  },
  {
   "cell_type": "markdown",
   "metadata": {},
   "source": [
    "### 字符串连接"
   ]
  },
  {
   "cell_type": "code",
   "execution_count": 68,
   "metadata": {},
   "outputs": [],
   "source": [
    "qux <- c(\"awesome\",\"R\",\"is\")   "
   ]
  },
  {
   "cell_type": "code",
   "execution_count": 69,
   "metadata": {},
   "outputs": [
    {
     "name": "stdout",
     "output_type": "stream",
     "text": [
      "[1] \"awesome\" \"R\"       \"is\"     \n"
     ]
    }
   ],
   "source": [
    "print(qux)"
   ]
  },
  {
   "cell_type": "code",
   "execution_count": 70,
   "metadata": {},
   "outputs": [
    {
     "data": {
      "text/html": [
       "3"
      ],
      "text/latex": [
       "3"
      ],
      "text/markdown": [
       "3"
      ],
      "text/plain": [
       "[1] 3"
      ]
     },
     "metadata": {},
     "output_type": "display_data"
    }
   ],
   "source": [
    "length(x=qux)"
   ]
  },
  {
   "cell_type": "code",
   "execution_count": 71,
   "metadata": {},
   "outputs": [
    {
     "name": "stdout",
     "output_type": "stream",
     "text": [
      "R is totally awesome !"
     ]
    }
   ],
   "source": [
    "cat(qux[2],qux[3],\"totally\",qux[1],\"!\")"
   ]
  },
  {
   "cell_type": "code",
   "execution_count": 72,
   "metadata": {},
   "outputs": [
    {
     "data": {
      "text/html": [
       "'R is totally awesome !'"
      ],
      "text/latex": [
       "'R is totally awesome !'"
      ],
      "text/markdown": [
       "'R is totally awesome !'"
      ],
      "text/plain": [
       "[1] \"R is totally awesome !\""
      ]
     },
     "metadata": {},
     "output_type": "display_data"
    }
   ],
   "source": [
    "paste(qux[2],qux[3],\"totally\",qux[1],\"!\")"
   ]
  },
  {
   "cell_type": "code",
   "execution_count": 73,
   "metadata": {},
   "outputs": [
    {
     "data": {
      "text/html": [
       "'R---is---totally---awesome---!'"
      ],
      "text/latex": [
       "'R---is---totally---awesome---!'"
      ],
      "text/markdown": [
       "'R---is---totally---awesome---!'"
      ],
      "text/plain": [
       "[1] \"R---is---totally---awesome---!\""
      ]
     },
     "metadata": {},
     "output_type": "display_data"
    }
   ],
   "source": [
    "paste(qux[2],qux[3],\"totally\",qux[1],\"!\",sep=\"---\")   #default sep = ' '"
   ]
  },
  {
   "cell_type": "code",
   "execution_count": 74,
   "metadata": {},
   "outputs": [
    {
     "data": {
      "text/html": [
       "'Ristotallyawesome!'"
      ],
      "text/latex": [
       "'Ristotallyawesome!'"
      ],
      "text/markdown": [
       "'Ristotallyawesome!'"
      ],
      "text/plain": [
       "[1] \"Ristotallyawesome!\""
      ]
     },
     "metadata": {},
     "output_type": "display_data"
    }
   ],
   "source": [
    "paste(qux[2],qux[3],\"totally\",qux[1],\"!\",sep=\"\")"
   ]
  },
  {
   "cell_type": "code",
   "execution_count": 75,
   "metadata": {},
   "outputs": [
    {
     "data": {
      "text/html": [
       "'Ristotallyawesome!'"
      ],
      "text/latex": [
       "'Ristotallyawesome!'"
      ],
      "text/markdown": [
       "'Ristotallyawesome!'"
      ],
      "text/plain": [
       "[1] \"Ristotallyawesome!\""
      ]
     },
     "metadata": {},
     "output_type": "display_data"
    }
   ],
   "source": [
    "paste0(qux[2],qux[3],\"totally\",qux[1],\"!\")"
   ]
  },
  {
   "cell_type": "code",
   "execution_count": 76,
   "metadata": {},
   "outputs": [
    {
     "name": "stdout",
     "output_type": "stream",
     "text": [
      "[1] \"R is totally awesome !\"\n"
     ]
    }
   ],
   "source": [
    "a = paste(qux[2],qux[3],\"totally\",qux[1],\"!\")\n",
    "print(a)"
   ]
  },
  {
   "cell_type": "code",
   "execution_count": 77,
   "metadata": {},
   "outputs": [
    {
     "name": "stdout",
     "output_type": "stream",
     "text": [
      "R is totally awesome !"
     ]
    }
   ],
   "source": [
    "a = cat(qux[2],qux[3],\"totally\",qux[1],\"!\")"
   ]
  },
  {
   "cell_type": "code",
   "execution_count": 78,
   "metadata": {},
   "outputs": [
    {
     "data": {
      "text/plain": [
       "NULL"
      ]
     },
     "metadata": {},
     "output_type": "display_data"
    }
   ],
   "source": [
    "a   #cat does not return a string and just prints the string to screen"
   ]
  },
  {
   "cell_type": "markdown",
   "metadata": {},
   "source": [
    "#### 转义"
   ]
  },
  {
   "attachments": {
    "a64c87c9-692a-4889-8348-591bd369013a.png": {
     "image/png": "[encoded data removed]"
    }
   },
   "cell_type": "markdown",
   "metadata": {},
   "source": [
    "![image.png](attachment:a64c87c9-692a-4889-8348-591bd369013a.png)"
   ]
  },
  {
   "cell_type": "code",
   "execution_count": 79,
   "metadata": {},
   "outputs": [
    {
     "name": "stdout",
     "output_type": "stream",
     "text": [
      "here is a string\n",
      "split\tto new\n",
      "\n",
      "\tlines"
     ]
    }
   ],
   "source": [
    "cat(\"here is a string\\nsplit\\tto neww\\b\\n\\n\\tlines\")"
   ]
  },
  {
   "cell_type": "code",
   "execution_count": 80,
   "metadata": {},
   "outputs": [
    {
     "name": "stdout",
     "output_type": "stream",
     "text": [
      "I really want a backslash: \\\n",
      "and a double quote: \""
     ]
    }
   ],
   "source": [
    "cat(\"I really want a backslash: \\\\\\nand a double quote: \\\"\")"
   ]
  },
  {
   "cell_type": "markdown",
   "metadata": {},
   "source": [
    "##### 子串和匹配"
   ]
  },
  {
   "cell_type": "code",
   "execution_count": 81,
   "metadata": {},
   "outputs": [
    {
     "data": {
      "text/html": [
       "'string!'"
      ],
      "text/latex": [
       "'string!'"
      ],
      "text/markdown": [
       "'string!'"
      ],
      "text/plain": [
       "[1] \"string!\""
      ]
     },
     "metadata": {},
     "output_type": "display_data"
    }
   ],
   "source": [
    "foo <- \"This is a character string!\"\n",
    "substr(x=foo,start=21,stop=27)"
   ]
  },
  {
   "cell_type": "code",
   "execution_count": 82,
   "metadata": {},
   "outputs": [
    {
     "data": {
      "text/html": [
       "'This'"
      ],
      "text/latex": [
       "'This'"
      ],
      "text/markdown": [
       "'This'"
      ],
      "text/plain": [
       "[1] \"This\""
      ]
     },
     "metadata": {},
     "output_type": "display_data"
    }
   ],
   "source": [
    "substr(x=foo,start=1,stop=4)"
   ]
  },
  {
   "cell_type": "code",
   "execution_count": 83,
   "metadata": {},
   "outputs": [
    {
     "name": "stdout",
     "output_type": "stream",
     "text": [
      "[1] \"Here is a character string!\"\n",
      "[1] \"Tere is a character string!\"\n",
      "[1] \"This is a character string!\"\n"
     ]
    }
   ],
   "source": [
    "substr(x=foo,start=1,stop=4) <- \"Here\"    #修改foo\n",
    "print(foo)\n",
    "substr(x=foo,start=1,stop=4) <- \"T\"\n",
    "print(foo)\n",
    "substr(x=foo,start=1,stop=4) <- \"Thisssssss\"\n",
    "print(foo)"
   ]
  },
  {
   "cell_type": "code",
   "execution_count": 84,
   "metadata": {},
   "outputs": [
    {
     "data": {
      "text/html": [
       "'How much wood could a woodhurl chuck'"
      ],
      "text/latex": [
       "'How much wood could a woodhurl chuck'"
      ],
      "text/markdown": [
       "'How much wood could a woodhurl chuck'"
      ],
      "text/plain": [
       "[1] \"How much wood could a woodhurl chuck\""
      ]
     },
     "metadata": {},
     "output_type": "display_data"
    }
   ],
   "source": [
    "bar <- \"How much wood could a woodchuck chuck\"\n",
    "sub(pattern=\"chuck\",replacement=\"hurl\",x=bar)  #replace the first chuck"
   ]
  },
  {
   "cell_type": "code",
   "execution_count": 85,
   "metadata": {},
   "outputs": [
    {
     "data": {
      "text/html": [
       "'How much wood could a woodhurl hurl'"
      ],
      "text/latex": [
       "'How much wood could a woodhurl hurl'"
      ],
      "text/markdown": [
       "'How much wood could a woodhurl hurl'"
      ],
      "text/plain": [
       "[1] \"How much wood could a woodhurl hurl\""
      ]
     },
     "metadata": {},
     "output_type": "display_data"
    }
   ],
   "source": [
    "gsub(pattern=\"chuck\",replacement=\"hurl\",x=bar) #replace all the chucks"
   ]
  },
  {
   "cell_type": "markdown",
   "metadata": {},
   "source": [
    "##### 因子(factors)\n",
    "##### A factor is a vector object used to specify a discrete classification (grouping) of the components of other vectors of the same length."
   ]
  },
  {
   "attachments": {
    "7cdaabc3-f2f2-484f-b25e-676926ea7e29.png": {
     "image/png": "[encoded data removed]"
    }
   },
   "cell_type": "markdown",
   "metadata": {},
   "source": [
    "![image.png](attachment:7cdaabc3-f2f2-484f-b25e-676926ea7e29.png)"
   ]
  },
  {
   "cell_type": "code",
   "execution_count": 86,
   "metadata": {},
   "outputs": [],
   "source": [
    "firstname <- c(\"Liz\",\"Jolene\",\"Susan\",\"Boris\",\"Rochelle\",\"Tim\",\"Simon\",\"Amy\")\n",
    "sex.num <- c(0,0,0,1,0,1,1,0)\n",
    "sex.char <- c(\"female\",\"female\",\"female\",\"male\",\"female\",\"male\",\"male\",\"female\")"
   ]
  },
  {
   "cell_type": "code",
   "execution_count": 87,
   "metadata": {},
   "outputs": [
    {
     "name": "stdout",
     "output_type": "stream",
     "text": [
      "[1] 0 0 0 1 0 1 1 0\n",
      "Levels: 0 1\n"
     ]
    }
   ],
   "source": [
    "sex.num.fac <- factor(x=sex.num)\n",
    "print(sex.num.fac)"
   ]
  },
  {
   "cell_type": "code",
   "execution_count": 88,
   "metadata": {},
   "outputs": [
    {
     "name": "stdout",
     "output_type": "stream",
     "text": [
      "[1] female female female male   female male   male   female\n",
      "Levels: female male\n"
     ]
    }
   ],
   "source": [
    "sex.char.fac <- factor(x=sex.char)\n",
    "print(sex.char.fac)"
   ]
  },
  {
   "cell_type": "code",
   "execution_count": 89,
   "metadata": {},
   "outputs": [
    {
     "data": {
      "text/html": [
       "<ol class=list-inline>\n",
       "\t<li>'0'</li>\n",
       "\t<li>'1'</li>\n",
       "</ol>\n"
      ],
      "text/latex": [
       "\\begin{enumerate*}\n",
       "\\item '0'\n",
       "\\item '1'\n",
       "\\end{enumerate*}\n"
      ],
      "text/markdown": [
       "1. '0'\n",
       "2. '1'\n",
       "\n",
       "\n"
      ],
      "text/plain": [
       "[1] \"0\" \"1\""
      ]
     },
     "metadata": {},
     "output_type": "display_data"
    }
   ],
   "source": [
    "levels(x=sex.num.fac)"
   ]
  },
  {
   "cell_type": "code",
   "execution_count": 90,
   "metadata": {},
   "outputs": [
    {
     "data": {
      "text/html": [
       "<ol class=list-inline>\n",
       "\t<li>'female'</li>\n",
       "\t<li>'male'</li>\n",
       "</ol>\n"
      ],
      "text/latex": [
       "\\begin{enumerate*}\n",
       "\\item 'female'\n",
       "\\item 'male'\n",
       "\\end{enumerate*}\n"
      ],
      "text/markdown": [
       "1. 'female'\n",
       "2. 'male'\n",
       "\n",
       "\n"
      ],
      "text/plain": [
       "[1] \"female\" \"male\"  "
      ]
     },
     "metadata": {},
     "output_type": "display_data"
    }
   ],
   "source": [
    "levels(x=sex.char.fac)"
   ]
  },
  {
   "cell_type": "code",
   "execution_count": 91,
   "metadata": {},
   "outputs": [
    {
     "name": "stdout",
     "output_type": "stream",
     "text": [
      "[1] 1 1 1 2 1 2 2 1\n",
      "Levels: 1 2\n"
     ]
    }
   ],
   "source": [
    "levels(x=sex.num.fac) <- c(\"1\",\"2\")\n",
    "print(sex.num.fac)"
   ]
  },
  {
   "cell_type": "code",
   "execution_count": 92,
   "metadata": {},
   "outputs": [
    {
     "name": "stdout",
     "output_type": "stream",
     "text": [
      "[1] female female male   female\n",
      "Levels: female male\n"
     ]
    }
   ],
   "source": [
    "print(sex.char.fac[2:5])"
   ]
  },
  {
   "cell_type": "code",
   "execution_count": 93,
   "metadata": {},
   "outputs": [
    {
     "name": "stdout",
     "output_type": "stream",
     "text": [
      "[1] female female female female female\n",
      "Levels: female male\n"
     ]
    }
   ],
   "source": [
    "print(sex.char.fac[c(1:3,5,8)])"
   ]
  },
  {
   "cell_type": "code",
   "execution_count": 94,
   "metadata": {},
   "outputs": [
    {
     "name": "stdout",
     "output_type": "stream",
     "text": [
      "[1] FALSE FALSE FALSE  TRUE FALSE  TRUE  TRUE FALSE\n"
     ]
    }
   ],
   "source": [
    "print(sex.num.fac==\"2\")  #the levels of a factor are stored as character strings"
   ]
  },
  {
   "cell_type": "code",
   "execution_count": 95,
   "metadata": {},
   "outputs": [
    {
     "name": "stdout",
     "output_type": "stream",
     "text": [
      "[1] FALSE FALSE FALSE  TRUE FALSE  TRUE  TRUE FALSE\n"
     ]
    }
   ],
   "source": [
    "print(sex.num.fac==2)"
   ]
  },
  {
   "cell_type": "code",
   "execution_count": 96,
   "metadata": {},
   "outputs": [
    {
     "data": {
      "text/html": [
       "<ol class=list-inline>\n",
       "\t<li>'Boris'</li>\n",
       "\t<li>'Tim'</li>\n",
       "\t<li>'Simon'</li>\n",
       "</ol>\n"
      ],
      "text/latex": [
       "\\begin{enumerate*}\n",
       "\\item 'Boris'\n",
       "\\item 'Tim'\n",
       "\\item 'Simon'\n",
       "\\end{enumerate*}\n"
      ],
      "text/markdown": [
       "1. 'Boris'\n",
       "2. 'Tim'\n",
       "3. 'Simon'\n",
       "\n",
       "\n"
      ],
      "text/plain": [
       "[1] \"Boris\" \"Tim\"   \"Simon\""
      ]
     },
     "metadata": {},
     "output_type": "display_data"
    }
   ],
   "source": [
    "firstname[sex.char.fac==\"male\"]"
   ]
  },
  {
   "cell_type": "markdown",
   "metadata": {},
   "source": [
    "##### Defining and Ordering Levels"
   ]
  },
  {
   "cell_type": "code",
   "execution_count": 97,
   "metadata": {},
   "outputs": [],
   "source": [
    "mob <- c(\"Apr\",\"Jan\",\"Dec\",\"Sep\",\"Nov\",\"Jul\",\"Jul\",\"Jun\")"
   ]
  },
  {
   "cell_type": "code",
   "execution_count": 98,
   "metadata": {},
   "outputs": [
    {
     "data": {
      "text/html": [
       "FALSE"
      ],
      "text/latex": [
       "FALSE"
      ],
      "text/markdown": [
       "FALSE"
      ],
      "text/plain": [
       "[1] FALSE"
      ]
     },
     "metadata": {},
     "output_type": "display_data"
    }
   ],
   "source": [
    "mob[2]<mob[3]"
   ]
  },
  {
   "cell_type": "code",
   "execution_count": 99,
   "metadata": {},
   "outputs": [
    {
     "name": "stdout",
     "output_type": "stream",
     "text": [
      "[1] Apr Jan Dec Sep Nov Jul Jul Jun\n",
      "12 Levels: Jan < Feb < Mar < Apr < May < Jun < Jul < Aug < Sep < ... < Dec\n"
     ]
    }
   ],
   "source": [
    "ms <- c(\"Jan\",\"Feb\",\"Mar\",\"Apr\",\"May\",\"Jun\",\"Jul\",\"Aug\",\"Sep\",\"Oct\",\"Nov\",\"Dec\")\n",
    "mob.fac <- factor(x=mob,levels=ms,ordered=TRUE)\n",
    "print(mob.fac)"
   ]
  },
  {
   "cell_type": "code",
   "execution_count": 100,
   "metadata": {},
   "outputs": [
    {
     "data": {
      "text/html": [
       "TRUE"
      ],
      "text/latex": [
       "TRUE"
      ],
      "text/markdown": [
       "TRUE"
      ],
      "text/plain": [
       "[1] TRUE"
      ]
     },
     "metadata": {},
     "output_type": "display_data"
    }
   ],
   "source": [
    "mob.fac[2]<mob.fac[3]"
   ]
  },
  {
   "cell_type": "markdown",
   "metadata": {},
   "source": [
    "#### Combining and Cutting"
   ]
  },
  {
   "cell_type": "code",
   "execution_count": 101,
   "metadata": {},
   "outputs": [],
   "source": [
    "new.values <- factor(x=c(\"Oct\",\"Feb\",\"Feb\"),levels=levels(mob.fac),ordered=TRUE)"
   ]
  },
  {
   "cell_type": "code",
   "execution_count": 102,
   "metadata": {},
   "outputs": [
    {
     "name": "stdout",
     "output_type": "stream",
     "text": [
      " [1]  4  1 12  9 11  7  7  6 10  2  2\n"
     ]
    }
   ],
   "source": [
    "print(c(mob.fac,new.values))  #numeric vector"
   ]
  },
  {
   "cell_type": "code",
   "execution_count": 103,
   "metadata": {},
   "outputs": [
    {
     "name": "stdout",
     "output_type": "stream",
     "text": [
      " [1] \"Apr\" \"Jan\" \"Dec\" \"Sep\" \"Nov\" \"Jul\" \"Jul\" \"Jun\" \"Oct\" \"Feb\" \"Feb\"\n"
     ]
    }
   ],
   "source": [
    "print(levels(mob.fac)[c(mob.fac,new.values)])"
   ]
  },
  {
   "cell_type": "code",
   "execution_count": 104,
   "metadata": {},
   "outputs": [
    {
     "name": "stdout",
     "output_type": "stream",
     "text": [
      " [1] Apr Jan Dec Sep Nov Jul Jul Jun Oct Feb Feb\n",
      "12 Levels: Jan < Feb < Mar < Apr < May < Jun < Jul < Aug < Sep < ... < Dec\n"
     ]
    }
   ],
   "source": [
    "mob.new <- levels(mob.fac)[c(mob.fac,new.values)]\n",
    "mob.new.fac <- factor(x=mob.new,levels=levels(mob.fac),ordered=TRUE)\n",
    "print(mob.new.fac)"
   ]
  },
  {
   "cell_type": "code",
   "execution_count": 105,
   "metadata": {},
   "outputs": [
    {
     "name": "stdout",
     "output_type": "stream",
     "text": [
      " [1] (0,2] (4,6] (0,2] (2,4] (0,2] (0,2] (0,2] (4,6] (0,2] (0,2]\n",
      "Levels: (0,2] (2,4] (4,6]\n"
     ]
    }
   ],
   "source": [
    "Y <- c(0.53,5.4,1.5,3.33,0.45,0.01,2,4.2,1.99,1.01)\n",
    "br <- c(0,2,4,6)\n",
    "print(cut(x=Y,breaks=br))   #cut returns a factor"
   ]
  },
  {
   "cell_type": "code",
   "execution_count": 106,
   "metadata": {},
   "outputs": [
    {
     "name": "stdout",
     "output_type": "stream",
     "text": [
      " [1] [0,2) [4,6) [0,2) [2,4) [0,2) [0,2) [2,4) [4,6) [0,2) [0,2)\n",
      "Levels: [0,2) [2,4) [4,6)\n"
     ]
    }
   ],
   "source": [
    "print(cut(x=Y,breaks=br,right=F))"
   ]
  },
  {
   "cell_type": "code",
   "execution_count": 107,
   "metadata": {},
   "outputs": [
    {
     "name": "stdout",
     "output_type": "stream",
     "text": [
      " [1] [0,2) [4,6] [0,2) [2,4) [0,2) [0,2) [2,4) [4,6] [0,2) [0,2)\n",
      "Levels: [0,2) [2,4) [4,6]\n"
     ]
    }
   ],
   "source": [
    "print(cut(x=Y,breaks=br,right=F,include.lowest=T))  #[4,6]"
   ]
  },
  {
   "cell_type": "code",
   "execution_count": 108,
   "metadata": {},
   "outputs": [
    {
     "name": "stdout",
     "output_type": "stream",
     "text": [
      " [1] Small  Large  Small  Medium Small  Small  Medium Large  Small  Small \n",
      "Levels: Small Medium Large\n"
     ]
    }
   ],
   "source": [
    "lab <- c(\"Small\",\"Medium\",\"Large\")\n",
    "print(cut(x=Y,breaks=br,right=F,include.lowest=T,labels=lab))"
   ]
  },
  {
   "cell_type": "markdown",
   "metadata": {},
   "source": [
    "#### Lists and Data frames"
   ]
  },
  {
   "cell_type": "code",
   "execution_count": 109,
   "metadata": {},
   "outputs": [],
   "source": [
    "foo <- list(matrix(data=1:4,nrow=2,ncol=2),c(T,F,T,T),\"hello\")"
   ]
  },
  {
   "cell_type": "code",
   "execution_count": 110,
   "metadata": {},
   "outputs": [
    {
     "name": "stdout",
     "output_type": "stream",
     "text": [
      "[[1]]\n",
      "     [,1] [,2]\n",
      "[1,]    1    3\n",
      "[2,]    2    4\n",
      "\n",
      "[[2]]\n",
      "[1]  TRUE FALSE  TRUE  TRUE\n",
      "\n",
      "[[3]]\n",
      "[1] \"hello\"\n",
      "\n"
     ]
    }
   ],
   "source": [
    "print(foo)"
   ]
  },
  {
   "cell_type": "code",
   "execution_count": 111,
   "metadata": {},
   "outputs": [
    {
     "data": {
      "text/html": [
       "3"
      ],
      "text/latex": [
       "3"
      ],
      "text/markdown": [
       "3"
      ],
      "text/plain": [
       "[1] 3"
      ]
     },
     "metadata": {},
     "output_type": "display_data"
    }
   ],
   "source": [
    "length(x=foo)"
   ]
  },
  {
   "cell_type": "code",
   "execution_count": 112,
   "metadata": {},
   "outputs": [
    {
     "name": "stdout",
     "output_type": "stream",
     "text": [
      "     [,1] [,2]\n",
      "[1,]    1    3\n",
      "[2,]    2    4\n"
     ]
    }
   ],
   "source": [
    "print(foo[[1]])   #[[]]"
   ]
  },
  {
   "cell_type": "code",
   "execution_count": 113,
   "metadata": {},
   "outputs": [
    {
     "name": "stdout",
     "output_type": "stream",
     "text": [
      "     [,1] [,2]\n",
      "[1,]  6.5  8.5\n",
      "[2,]  7.5  9.5\n"
     ]
    }
   ],
   "source": [
    "print(foo[[1]] + 5.5)"
   ]
  },
  {
   "cell_type": "code",
   "execution_count": 114,
   "metadata": {},
   "outputs": [
    {
     "data": {
      "text/html": [
       "3"
      ],
      "text/latex": [
       "3"
      ],
      "text/markdown": [
       "3"
      ],
      "text/plain": [
       "[1] 3"
      ]
     },
     "metadata": {},
     "output_type": "display_data"
    }
   ],
   "source": [
    "foo[[1]][1,2]"
   ]
  },
  {
   "cell_type": "code",
   "execution_count": 115,
   "metadata": {},
   "outputs": [
    {
     "name": "stdout",
     "output_type": "stream",
     "text": [
      "hello you!"
     ]
    }
   ],
   "source": [
    "cat(foo[[3]],\"you!\")"
   ]
  },
  {
   "cell_type": "code",
   "execution_count": 116,
   "metadata": {},
   "outputs": [
    {
     "name": "stdout",
     "output_type": "stream",
     "text": [
      "[[1]]\n",
      "     [,1] [,2]\n",
      "[1,]    1    3\n",
      "[2,]    2    4\n",
      "\n",
      "[[2]]\n",
      "[1]  TRUE FALSE  TRUE  TRUE\n",
      "\n",
      "[[3]]\n",
      "[1] \"hello you!\"\n",
      "\n"
     ]
    }
   ],
   "source": [
    "foo[[3]] <- paste(foo[[3]],\"you!\")\n",
    "print(foo)"
   ]
  },
  {
   "cell_type": "code",
   "execution_count": 117,
   "metadata": {},
   "outputs": [
    {
     "name": "stdout",
     "output_type": "stream",
     "text": [
      "[[1]]\n",
      "[1] \"hello you!\"\n",
      "\n"
     ]
    }
   ],
   "source": [
    "print(foo[3])"
   ]
  },
  {
   "cell_type": "code",
   "execution_count": 118,
   "metadata": {},
   "outputs": [
    {
     "data": {
      "text/html": [
       "'list'"
      ],
      "text/latex": [
       "'list'"
      ],
      "text/markdown": [
       "'list'"
      ],
      "text/plain": [
       "[1] \"list\""
      ]
     },
     "metadata": {},
     "output_type": "display_data"
    }
   ],
   "source": [
    "class(foo[3])"
   ]
  },
  {
   "cell_type": "code",
   "execution_count": 119,
   "metadata": {},
   "outputs": [
    {
     "data": {
      "text/html": [
       "'character'"
      ],
      "text/latex": [
       "'character'"
      ],
      "text/markdown": [
       "'character'"
      ],
      "text/plain": [
       "[1] \"character\""
      ]
     },
     "metadata": {},
     "output_type": "display_data"
    }
   ],
   "source": [
    "class(foo[[3]])"
   ]
  },
  {
   "cell_type": "code",
   "execution_count": 120,
   "metadata": {},
   "outputs": [
    {
     "data": {
      "text/html": [
       "TRUE"
      ],
      "text/latex": [
       "TRUE"
      ],
      "text/markdown": [
       "TRUE"
      ],
      "text/plain": [
       "[1] TRUE"
      ]
     },
     "metadata": {},
     "output_type": "display_data"
    }
   ],
   "source": [
    "foo[[c(2,3)]]  # foo[[2]][3]"
   ]
  },
  {
   "cell_type": "code",
   "execution_count": 121,
   "metadata": {},
   "outputs": [
    {
     "data": {
      "text/html": [
       "TRUE"
      ],
      "text/latex": [
       "TRUE"
      ],
      "text/markdown": [
       "TRUE"
      ],
      "text/plain": [
       "[1] TRUE"
      ]
     },
     "metadata": {},
     "output_type": "display_data"
    }
   ],
   "source": [
    "foo[[2]][3]"
   ]
  },
  {
   "cell_type": "code",
   "execution_count": 122,
   "metadata": {},
   "outputs": [
    {
     "name": "stdout",
     "output_type": "stream",
     "text": [
      "[[1]]\n",
      "[1]  TRUE FALSE  TRUE  TRUE\n",
      "\n",
      "[[2]]\n",
      "[1] \"hello you!\"\n",
      "\n"
     ]
    }
   ],
   "source": [
    "bar <- foo[c(2,3)]\n",
    "print(bar)"
   ]
  },
  {
   "cell_type": "markdown",
   "metadata": {},
   "source": [
    "##### Naming"
   ]
  },
  {
   "cell_type": "code",
   "execution_count": 123,
   "metadata": {},
   "outputs": [
    {
     "name": "stdout",
     "output_type": "stream",
     "text": [
      "$mymatrix\n",
      "     [,1] [,2]\n",
      "[1,]    1    3\n",
      "[2,]    2    4\n",
      "\n",
      "$mylogicals\n",
      "[1]  TRUE FALSE  TRUE  TRUE\n",
      "\n",
      "$mystring\n",
      "[1] \"hello you!\"\n",
      "\n"
     ]
    }
   ],
   "source": [
    "names(foo) <- c(\"mymatrix\",\"mylogicals\",\"mystring\")\n",
    "print(foo)"
   ]
  },
  {
   "cell_type": "code",
   "execution_count": 124,
   "metadata": {},
   "outputs": [
    {
     "name": "stdout",
     "output_type": "stream",
     "text": [
      "     [,1] [,2]\n",
      "[1,]    1    3\n",
      "[2,]    2    4\n"
     ]
    }
   ],
   "source": [
    "print(foo$mymatrix)"
   ]
  },
  {
   "cell_type": "code",
   "execution_count": 125,
   "metadata": {},
   "outputs": [
    {
     "data": {
      "text/html": [
       "TRUE"
      ],
      "text/latex": [
       "TRUE"
      ],
      "text/markdown": [
       "TRUE"
      ],
      "text/plain": [
       "[1] TRUE"
      ]
     },
     "metadata": {},
     "output_type": "display_data"
    }
   ],
   "source": [
    "all(foo$mymatrix[,2]==foo[[1]][,2])"
   ]
  },
  {
   "cell_type": "code",
   "execution_count": 126,
   "metadata": {},
   "outputs": [
    {
     "name": "stdout",
     "output_type": "stream",
     "text": [
      "$tom\n",
      "[1]  TRUE FALSE  TRUE  TRUE  TRUE  TRUE  TRUE FALSE\n",
      "\n",
      "$dick\n",
      "[1] \"g'day mate\"\n",
      "\n",
      "$harry\n",
      "     [,1] [,2]\n",
      "[1,]    2    6\n",
      "[2,]    4    8\n",
      "\n"
     ]
    }
   ],
   "source": [
    "baz <- list(tom=c(foo[[2]],T,T,T,F),dick=\"g'day mate\",harry=foo$mymatrix*2)\n",
    "print(baz)"
   ]
  },
  {
   "cell_type": "code",
   "execution_count": 127,
   "metadata": {},
   "outputs": [
    {
     "data": {
      "text/html": [
       "<ol class=list-inline>\n",
       "\t<li>'tom'</li>\n",
       "\t<li>'dick'</li>\n",
       "\t<li>'harry'</li>\n",
       "</ol>\n"
      ],
      "text/latex": [
       "\\begin{enumerate*}\n",
       "\\item 'tom'\n",
       "\\item 'dick'\n",
       "\\item 'harry'\n",
       "\\end{enumerate*}\n"
      ],
      "text/markdown": [
       "1. 'tom'\n",
       "2. 'dick'\n",
       "3. 'harry'\n",
       "\n",
       "\n"
      ],
      "text/plain": [
       "[1] \"tom\"   \"dick\"  \"harry\""
      ]
     },
     "metadata": {},
     "output_type": "display_data"
    }
   ],
   "source": [
    "names(baz)"
   ]
  },
  {
   "cell_type": "markdown",
   "metadata": {},
   "source": [
    "##### Nesting"
   ]
  },
  {
   "cell_type": "code",
   "execution_count": 128,
   "metadata": {},
   "outputs": [],
   "source": [
    "baz$bobby <- foo  #nesting"
   ]
  },
  {
   "cell_type": "code",
   "execution_count": 129,
   "metadata": {},
   "outputs": [
    {
     "name": "stdout",
     "output_type": "stream",
     "text": [
      "$tom\n",
      "[1]  TRUE FALSE  TRUE  TRUE  TRUE  TRUE  TRUE FALSE\n",
      "\n",
      "$dick\n",
      "[1] \"g'day mate\"\n",
      "\n",
      "$harry\n",
      "     [,1] [,2]\n",
      "[1,]    2    6\n",
      "[2,]    4    8\n",
      "\n",
      "$bobby\n",
      "$bobby$mymatrix\n",
      "     [,1] [,2]\n",
      "[1,]    1    3\n",
      "[2,]    2    4\n",
      "\n",
      "$bobby$mylogicals\n",
      "[1]  TRUE FALSE  TRUE  TRUE\n",
      "\n",
      "$bobby$mystring\n",
      "[1] \"hello you!\"\n",
      "\n",
      "\n"
     ]
    }
   ],
   "source": [
    "print(baz)"
   ]
  },
  {
   "cell_type": "code",
   "execution_count": 130,
   "metadata": {},
   "outputs": [
    {
     "data": {
      "text/html": [
       "<ol class=list-inline>\n",
       "\t<li>TRUE</li>\n",
       "\t<li>FALSE</li>\n",
       "\t<li>TRUE</li>\n",
       "</ol>\n"
      ],
      "text/latex": [
       "\\begin{enumerate*}\n",
       "\\item TRUE\n",
       "\\item FALSE\n",
       "\\item TRUE\n",
       "\\end{enumerate*}\n"
      ],
      "text/markdown": [
       "1. TRUE\n",
       "2. FALSE\n",
       "3. TRUE\n",
       "\n",
       "\n"
      ],
      "text/plain": [
       "[1]  TRUE FALSE  TRUE"
      ]
     },
     "metadata": {},
     "output_type": "display_data"
    }
   ],
   "source": [
    "baz$bobby$mylogicals[1:3]"
   ]
  },
  {
   "cell_type": "code",
   "execution_count": 131,
   "metadata": {},
   "outputs": [
    {
     "data": {
      "text/html": [
       "<ol class=list-inline>\n",
       "\t<li>TRUE</li>\n",
       "\t<li>FALSE</li>\n",
       "\t<li>TRUE</li>\n",
       "</ol>\n"
      ],
      "text/latex": [
       "\\begin{enumerate*}\n",
       "\\item TRUE\n",
       "\\item FALSE\n",
       "\\item TRUE\n",
       "\\end{enumerate*}\n"
      ],
      "text/markdown": [
       "1. TRUE\n",
       "2. FALSE\n",
       "3. TRUE\n",
       "\n",
       "\n"
      ],
      "text/plain": [
       "[1]  TRUE FALSE  TRUE"
      ]
     },
     "metadata": {},
     "output_type": "display_data"
    }
   ],
   "source": [
    "baz[[4]][[2]][1:3]"
   ]
  },
  {
   "cell_type": "code",
   "execution_count": 132,
   "metadata": {},
   "outputs": [
    {
     "data": {
      "text/html": [
       "<ol class=list-inline>\n",
       "\t<li>TRUE</li>\n",
       "\t<li>FALSE</li>\n",
       "\t<li>TRUE</li>\n",
       "</ol>\n"
      ],
      "text/latex": [
       "\\begin{enumerate*}\n",
       "\\item TRUE\n",
       "\\item FALSE\n",
       "\\item TRUE\n",
       "\\end{enumerate*}\n"
      ],
      "text/markdown": [
       "1. TRUE\n",
       "2. FALSE\n",
       "3. TRUE\n",
       "\n",
       "\n"
      ],
      "text/plain": [
       "[1]  TRUE FALSE  TRUE"
      ]
     },
     "metadata": {},
     "output_type": "display_data"
    }
   ],
   "source": [
    "baz[[4]]$mylogicals[1:3]"
   ]
  },
  {
   "cell_type": "markdown",
   "metadata": {},
   "source": [
    "##### Data Frames"
   ]
  },
  {
   "cell_type": "code",
   "execution_count": 133,
   "metadata": {},
   "outputs": [],
   "source": [
    "mydata <- data.frame(person=c(\"Peter\",\"Lois\",\"Meg\",\"Chris\",\"Stewie\"),\n",
    "                     age=c(42,40,17,14,1),\n",
    "                    sex=factor(c(\"M\",\"F\",\"F\",\"M\",\"M\")))\n",
    "#in a data frame (unlike a list), the members must all be vectors of equal length."
   ]
  },
  {
   "cell_type": "code",
   "execution_count": 134,
   "metadata": {},
   "outputs": [
    {
     "data": {
      "text/html": [
       "<table>\n",
       "<thead><tr><th scope=col>person</th><th scope=col>age</th><th scope=col>sex</th></tr></thead>\n",
       "<tbody>\n",
       "\t<tr><td>Peter </td><td>42    </td><td>M     </td></tr>\n",
       "\t<tr><td>Lois  </td><td>40    </td><td>F     </td></tr>\n",
       "\t<tr><td>Meg   </td><td>17    </td><td>F     </td></tr>\n",
       "\t<tr><td>Chris </td><td>14    </td><td>M     </td></tr>\n",
       "\t<tr><td>Stewie</td><td> 1    </td><td>M     </td></tr>\n",
       "</tbody>\n",
       "</table>\n"
      ],
      "text/latex": [
       "\\begin{tabular}{r|lll}\n",
       " person & age & sex\\\\\n",
       "\\hline\n",
       "\t Peter  & 42     & M     \\\\\n",
       "\t Lois   & 40     & F     \\\\\n",
       "\t Meg    & 17     & F     \\\\\n",
       "\t Chris  & 14     & M     \\\\\n",
       "\t Stewie &  1     & M     \\\\\n",
       "\\end{tabular}\n"
      ],
      "text/markdown": [
       "\n",
       "| person | age | sex |\n",
       "|---|---|---|\n",
       "| Peter  | 42     | M      |\n",
       "| Lois   | 40     | F      |\n",
       "| Meg    | 17     | F      |\n",
       "| Chris  | 14     | M      |\n",
       "| Stewie |  1     | M      |\n",
       "\n"
      ],
      "text/plain": [
       "  person age sex\n",
       "1 Peter  42  M  \n",
       "2 Lois   40  F  \n",
       "3 Meg    17  F  \n",
       "4 Chris  14  M  \n",
       "5 Stewie  1  M  "
      ]
     },
     "metadata": {},
     "output_type": "display_data"
    }
   ],
   "source": [
    "mydata"
   ]
  },
  {
   "cell_type": "code",
   "execution_count": 135,
   "metadata": {},
   "outputs": [
    {
     "name": "stdout",
     "output_type": "stream",
     "text": [
      "[1] 40\n"
     ]
    }
   ],
   "source": [
    "print(mydata[2,2])"
   ]
  },
  {
   "cell_type": "code",
   "execution_count": 136,
   "metadata": {},
   "outputs": [
    {
     "name": "stdout",
     "output_type": "stream",
     "text": [
      "[1] F M M\n",
      "Levels: F M\n"
     ]
    }
   ],
   "source": [
    "print(mydata[3:5,3])"
   ]
  },
  {
   "cell_type": "code",
   "execution_count": 137,
   "metadata": {},
   "outputs": [
    {
     "data": {
      "text/html": [
       "<table>\n",
       "<thead><tr><th scope=col>sex</th><th scope=col>person</th></tr></thead>\n",
       "<tbody>\n",
       "\t<tr><td>M     </td><td>Peter </td></tr>\n",
       "\t<tr><td>F     </td><td>Lois  </td></tr>\n",
       "\t<tr><td>F     </td><td>Meg   </td></tr>\n",
       "\t<tr><td>M     </td><td>Chris </td></tr>\n",
       "\t<tr><td>M     </td><td>Stewie</td></tr>\n",
       "</tbody>\n",
       "</table>\n"
      ],
      "text/latex": [
       "\\begin{tabular}{r|ll}\n",
       " sex & person\\\\\n",
       "\\hline\n",
       "\t M      & Peter \\\\\n",
       "\t F      & Lois  \\\\\n",
       "\t F      & Meg   \\\\\n",
       "\t M      & Chris \\\\\n",
       "\t M      & Stewie\\\\\n",
       "\\end{tabular}\n"
      ],
      "text/markdown": [
       "\n",
       "| sex | person |\n",
       "|---|---|\n",
       "| M      | Peter  |\n",
       "| F      | Lois   |\n",
       "| F      | Meg    |\n",
       "| M      | Chris  |\n",
       "| M      | Stewie |\n",
       "\n"
      ],
      "text/plain": [
       "  sex person\n",
       "1 M   Peter \n",
       "2 F   Lois  \n",
       "3 F   Meg   \n",
       "4 M   Chris \n",
       "5 M   Stewie"
      ]
     },
     "metadata": {},
     "output_type": "display_data"
    }
   ],
   "source": [
    "mydata[,c(3,1)]"
   ]
  },
  {
   "cell_type": "code",
   "execution_count": 138,
   "metadata": {},
   "outputs": [
    {
     "name": "stdout",
     "output_type": "stream",
     "text": [
      "[1] 42 40 17 14  1\n"
     ]
    }
   ],
   "source": [
    "print(mydata$age)"
   ]
  },
  {
   "cell_type": "code",
   "execution_count": 139,
   "metadata": {},
   "outputs": [
    {
     "data": {
      "text/html": [
       "40"
      ],
      "text/latex": [
       "40"
      ],
      "text/markdown": [
       "40"
      ],
      "text/plain": [
       "[1] 40"
      ]
     },
     "metadata": {},
     "output_type": "display_data"
    }
   ],
   "source": [
    "mydata$age[2]"
   ]
  },
  {
   "cell_type": "code",
   "execution_count": 140,
   "metadata": {},
   "outputs": [
    {
     "name": "stdout",
     "output_type": "stream",
     "text": [
      "[1] 42 40 17 14  1\n"
     ]
    }
   ],
   "source": [
    "print(mydata[[2]])"
   ]
  },
  {
   "cell_type": "code",
   "execution_count": 141,
   "metadata": {},
   "outputs": [
    {
     "data": {
      "text/html": [
       "5"
      ],
      "text/latex": [
       "5"
      ],
      "text/markdown": [
       "5"
      ],
      "text/plain": [
       "[1] 5"
      ]
     },
     "metadata": {},
     "output_type": "display_data"
    },
    {
     "data": {
      "text/html": [
       "3"
      ],
      "text/latex": [
       "3"
      ],
      "text/markdown": [
       "3"
      ],
      "text/plain": [
       "[1] 3"
      ]
     },
     "metadata": {},
     "output_type": "display_data"
    }
   ],
   "source": [
    "nrow(mydata)\n",
    "ncol(mydata)"
   ]
  },
  {
   "cell_type": "code",
   "execution_count": 142,
   "metadata": {},
   "outputs": [
    {
     "data": {
      "text/html": [
       "<ol class=list-inline>\n",
       "\t<li>5</li>\n",
       "\t<li>3</li>\n",
       "</ol>\n"
      ],
      "text/latex": [
       "\\begin{enumerate*}\n",
       "\\item 5\n",
       "\\item 3\n",
       "\\end{enumerate*}\n"
      ],
      "text/markdown": [
       "1. 5\n",
       "2. 3\n",
       "\n",
       "\n"
      ],
      "text/plain": [
       "[1] 5 3"
      ]
     },
     "metadata": {},
     "output_type": "display_data"
    }
   ],
   "source": [
    "dim(mydata)"
   ]
  },
  {
   "cell_type": "code",
   "execution_count": 143,
   "metadata": {},
   "outputs": [
    {
     "name": "stdout",
     "output_type": "stream",
     "text": [
      "[1] Peter  Lois   Meg    Chris  Stewie\n",
      "Levels: Chris Lois Meg Peter Stewie\n"
     ]
    }
   ],
   "source": [
    "print(mydata$person)    #factor"
   ]
  },
  {
   "cell_type": "code",
   "execution_count": 144,
   "metadata": {},
   "outputs": [],
   "source": [
    "mydata <- data.frame(person=c(\"Peter\",\"Lois\",\"Meg\",\"Chris\",\"Stewie\"),\n",
    "                     age=c(42,40,17,14,1),\n",
    "                     sex=factor(c(\"M\",\"F\",\"F\",\"M\",\"M\")),\n",
    "                     stringsAsFactors=FALSE)   # prevent the conversion of character strings to factors"
   ]
  },
  {
   "cell_type": "code",
   "execution_count": 145,
   "metadata": {},
   "outputs": [
    {
     "name": "stdout",
     "output_type": "stream",
     "text": [
      "[1] \"Peter\"  \"Lois\"   \"Meg\"    \"Chris\"  \"Stewie\"\n"
     ]
    }
   ],
   "source": [
    "print(mydata$person)"
   ]
  },
  {
   "cell_type": "markdown",
   "metadata": {},
   "source": [
    "##### Adding Data Columns and Combining Data Frames"
   ]
  },
  {
   "cell_type": "code",
   "execution_count": 146,
   "metadata": {},
   "outputs": [
    {
     "name": "stdout",
     "output_type": "stream",
     "text": [
      "  person age sex\n",
      "1  Brian   7   M\n"
     ]
    }
   ],
   "source": [
    "newrecord <- data.frame(person=\"Brian\",age=7,\n",
    "                        sex=factor(\"M\",levels=levels(mydata$sex)))\n",
    "print(newrecord)"
   ]
  },
  {
   "cell_type": "code",
   "execution_count": 147,
   "metadata": {},
   "outputs": [
    {
     "data": {
      "text/html": [
       "<table>\n",
       "<thead><tr><th scope=col>person</th><th scope=col>age</th><th scope=col>sex</th></tr></thead>\n",
       "<tbody>\n",
       "\t<tr><td>Peter </td><td>42    </td><td>M     </td></tr>\n",
       "\t<tr><td>Lois  </td><td>40    </td><td>F     </td></tr>\n",
       "\t<tr><td>Meg   </td><td>17    </td><td>F     </td></tr>\n",
       "\t<tr><td>Chris </td><td>14    </td><td>M     </td></tr>\n",
       "\t<tr><td>Stewie</td><td> 1    </td><td>M     </td></tr>\n",
       "\t<tr><td>Brian </td><td> 7    </td><td>M     </td></tr>\n",
       "</tbody>\n",
       "</table>\n"
      ],
      "text/latex": [
       "\\begin{tabular}{r|lll}\n",
       " person & age & sex\\\\\n",
       "\\hline\n",
       "\t Peter  & 42     & M     \\\\\n",
       "\t Lois   & 40     & F     \\\\\n",
       "\t Meg    & 17     & F     \\\\\n",
       "\t Chris  & 14     & M     \\\\\n",
       "\t Stewie &  1     & M     \\\\\n",
       "\t Brian  &  7     & M     \\\\\n",
       "\\end{tabular}\n"
      ],
      "text/markdown": [
       "\n",
       "| person | age | sex |\n",
       "|---|---|---|\n",
       "| Peter  | 42     | M      |\n",
       "| Lois   | 40     | F      |\n",
       "| Meg    | 17     | F      |\n",
       "| Chris  | 14     | M      |\n",
       "| Stewie |  1     | M      |\n",
       "| Brian  |  7     | M      |\n",
       "\n"
      ],
      "text/plain": [
       "  person age sex\n",
       "1 Peter  42  M  \n",
       "2 Lois   40  F  \n",
       "3 Meg    17  F  \n",
       "4 Chris  14  M  \n",
       "5 Stewie  1  M  \n",
       "6 Brian   7  M  "
      ]
     },
     "metadata": {},
     "output_type": "display_data"
    }
   ],
   "source": [
    "mydata <- rbind(mydata,newrecord)\n",
    "mydata"
   ]
  },
  {
   "cell_type": "code",
   "execution_count": 148,
   "metadata": {},
   "outputs": [
    {
     "data": {
      "text/html": [
       "<table>\n",
       "<thead><tr><th scope=col>person</th><th scope=col>age</th><th scope=col>sex</th><th scope=col>funny</th></tr></thead>\n",
       "<tbody>\n",
       "\t<tr><td>Peter </td><td>42    </td><td>M     </td><td>High  </td></tr>\n",
       "\t<tr><td>Lois  </td><td>40    </td><td>F     </td><td>High  </td></tr>\n",
       "\t<tr><td>Meg   </td><td>17    </td><td>F     </td><td>Low   </td></tr>\n",
       "\t<tr><td>Chris </td><td>14    </td><td>M     </td><td>Med   </td></tr>\n",
       "\t<tr><td>Stewie</td><td> 1    </td><td>M     </td><td>High  </td></tr>\n",
       "\t<tr><td>Brian </td><td> 7    </td><td>M     </td><td>Med   </td></tr>\n",
       "</tbody>\n",
       "</table>\n"
      ],
      "text/latex": [
       "\\begin{tabular}{r|llll}\n",
       " person & age & sex & funny\\\\\n",
       "\\hline\n",
       "\t Peter  & 42     & M      & High  \\\\\n",
       "\t Lois   & 40     & F      & High  \\\\\n",
       "\t Meg    & 17     & F      & Low   \\\\\n",
       "\t Chris  & 14     & M      & Med   \\\\\n",
       "\t Stewie &  1     & M      & High  \\\\\n",
       "\t Brian  &  7     & M      & Med   \\\\\n",
       "\\end{tabular}\n"
      ],
      "text/markdown": [
       "\n",
       "| person | age | sex | funny |\n",
       "|---|---|---|---|\n",
       "| Peter  | 42     | M      | High   |\n",
       "| Lois   | 40     | F      | High   |\n",
       "| Meg    | 17     | F      | Low    |\n",
       "| Chris  | 14     | M      | Med    |\n",
       "| Stewie |  1     | M      | High   |\n",
       "| Brian  |  7     | M      | Med    |\n",
       "\n"
      ],
      "text/plain": [
       "  person age sex funny\n",
       "1 Peter  42  M   High \n",
       "2 Lois   40  F   High \n",
       "3 Meg    17  F   Low  \n",
       "4 Chris  14  M   Med  \n",
       "5 Stewie  1  M   High \n",
       "6 Brian   7  M   Med  "
      ]
     },
     "metadata": {},
     "output_type": "display_data"
    }
   ],
   "source": [
    "funny <- c(\"High\",\"High\",\"Low\",\"Med\",\"High\",\"Med\")\n",
    "funny <- factor(x=funny,levels=c(\"Low\",\"Med\",\"High\"))\n",
    "mydata <- cbind(mydata,funny)\n",
    "mydata"
   ]
  },
  {
   "cell_type": "code",
   "execution_count": 149,
   "metadata": {},
   "outputs": [
    {
     "data": {
      "text/html": [
       "<table>\n",
       "<thead><tr><th scope=col>person</th><th scope=col>age</th><th scope=col>sex</th><th scope=col>funny</th><th scope=col>age.mon</th></tr></thead>\n",
       "<tbody>\n",
       "\t<tr><td>Peter </td><td>42    </td><td>M     </td><td>High  </td><td>504   </td></tr>\n",
       "\t<tr><td>Lois  </td><td>40    </td><td>F     </td><td>High  </td><td>480   </td></tr>\n",
       "\t<tr><td>Meg   </td><td>17    </td><td>F     </td><td>Low   </td><td>204   </td></tr>\n",
       "\t<tr><td>Chris </td><td>14    </td><td>M     </td><td>Med   </td><td>168   </td></tr>\n",
       "\t<tr><td>Stewie</td><td> 1    </td><td>M     </td><td>High  </td><td> 12   </td></tr>\n",
       "\t<tr><td>Brian </td><td> 7    </td><td>M     </td><td>Med   </td><td> 84   </td></tr>\n",
       "</tbody>\n",
       "</table>\n"
      ],
      "text/latex": [
       "\\begin{tabular}{r|lllll}\n",
       " person & age & sex & funny & age.mon\\\\\n",
       "\\hline\n",
       "\t Peter  & 42     & M      & High   & 504   \\\\\n",
       "\t Lois   & 40     & F      & High   & 480   \\\\\n",
       "\t Meg    & 17     & F      & Low    & 204   \\\\\n",
       "\t Chris  & 14     & M      & Med    & 168   \\\\\n",
       "\t Stewie &  1     & M      & High   &  12   \\\\\n",
       "\t Brian  &  7     & M      & Med    &  84   \\\\\n",
       "\\end{tabular}\n"
      ],
      "text/markdown": [
       "\n",
       "| person | age | sex | funny | age.mon |\n",
       "|---|---|---|---|---|\n",
       "| Peter  | 42     | M      | High   | 504    |\n",
       "| Lois   | 40     | F      | High   | 480    |\n",
       "| Meg    | 17     | F      | Low    | 204    |\n",
       "| Chris  | 14     | M      | Med    | 168    |\n",
       "| Stewie |  1     | M      | High   |  12    |\n",
       "| Brian  |  7     | M      | Med    |  84    |\n",
       "\n"
      ],
      "text/plain": [
       "  person age sex funny age.mon\n",
       "1 Peter  42  M   High  504    \n",
       "2 Lois   40  F   High  480    \n",
       "3 Meg    17  F   Low   204    \n",
       "4 Chris  14  M   Med   168    \n",
       "5 Stewie  1  M   High   12    \n",
       "6 Brian   7  M   Med    84    "
      ]
     },
     "metadata": {},
     "output_type": "display_data"
    }
   ],
   "source": [
    "mydata$age.mon <- mydata$age*12\n",
    "mydata"
   ]
  },
  {
   "cell_type": "markdown",
   "metadata": {},
   "source": [
    "##### 布尔索引"
   ]
  },
  {
   "cell_type": "code",
   "execution_count": 150,
   "metadata": {},
   "outputs": [
    {
     "name": "stdout",
     "output_type": "stream",
     "text": [
      "[1]  TRUE FALSE FALSE  TRUE  TRUE  TRUE\n"
     ]
    }
   ],
   "source": [
    "print(mydata$sex==\"M\")"
   ]
  },
  {
   "cell_type": "code",
   "execution_count": 151,
   "metadata": {},
   "outputs": [
    {
     "data": {
      "text/html": [
       "<table>\n",
       "<thead><tr><th></th><th scope=col>person</th><th scope=col>age</th><th scope=col>sex</th><th scope=col>funny</th><th scope=col>age.mon</th></tr></thead>\n",
       "<tbody>\n",
       "\t<tr><th scope=row>1</th><td>Peter </td><td>42    </td><td>M     </td><td>High  </td><td>504   </td></tr>\n",
       "\t<tr><th scope=row>4</th><td>Chris </td><td>14    </td><td>M     </td><td>Med   </td><td>168   </td></tr>\n",
       "\t<tr><th scope=row>5</th><td>Stewie</td><td> 1    </td><td>M     </td><td>High  </td><td> 12   </td></tr>\n",
       "\t<tr><th scope=row>6</th><td>Brian </td><td> 7    </td><td>M     </td><td>Med   </td><td> 84   </td></tr>\n",
       "</tbody>\n",
       "</table>\n"
      ],
      "text/latex": [
       "\\begin{tabular}{r|lllll}\n",
       "  & person & age & sex & funny & age.mon\\\\\n",
       "\\hline\n",
       "\t1 & Peter  & 42     & M      & High   & 504   \\\\\n",
       "\t4 & Chris  & 14     & M      & Med    & 168   \\\\\n",
       "\t5 & Stewie &  1     & M      & High   &  12   \\\\\n",
       "\t6 & Brian  &  7     & M      & Med    &  84   \\\\\n",
       "\\end{tabular}\n"
      ],
      "text/markdown": [
       "\n",
       "| <!--/--> | person | age | sex | funny | age.mon |\n",
       "|---|---|---|---|---|---|\n",
       "| 1 | Peter  | 42     | M      | High   | 504    |\n",
       "| 4 | Chris  | 14     | M      | Med    | 168    |\n",
       "| 5 | Stewie |  1     | M      | High   |  12    |\n",
       "| 6 | Brian  |  7     | M      | Med    |  84    |\n",
       "\n"
      ],
      "text/plain": [
       "  person age sex funny age.mon\n",
       "1 Peter  42  M   High  504    \n",
       "4 Chris  14  M   Med   168    \n",
       "5 Stewie  1  M   High   12    \n",
       "6 Brian   7  M   Med    84    "
      ]
     },
     "metadata": {},
     "output_type": "display_data"
    }
   ],
   "source": [
    "mydata[mydata$sex==\"M\",]"
   ]
  },
  {
   "cell_type": "code",
   "execution_count": 152,
   "metadata": {},
   "outputs": [
    {
     "data": {
      "text/html": [
       "<table>\n",
       "<thead><tr><th></th><th scope=col>person</th><th scope=col>age</th><th scope=col>funny</th><th scope=col>age.mon</th></tr></thead>\n",
       "<tbody>\n",
       "\t<tr><th scope=row>1</th><td>Peter </td><td>42    </td><td>High  </td><td>504   </td></tr>\n",
       "\t<tr><th scope=row>4</th><td>Chris </td><td>14    </td><td>Med   </td><td>168   </td></tr>\n",
       "\t<tr><th scope=row>5</th><td>Stewie</td><td> 1    </td><td>High  </td><td> 12   </td></tr>\n",
       "\t<tr><th scope=row>6</th><td>Brian </td><td> 7    </td><td>Med   </td><td> 84   </td></tr>\n",
       "</tbody>\n",
       "</table>\n"
      ],
      "text/latex": [
       "\\begin{tabular}{r|llll}\n",
       "  & person & age & funny & age.mon\\\\\n",
       "\\hline\n",
       "\t1 & Peter  & 42     & High   & 504   \\\\\n",
       "\t4 & Chris  & 14     & Med    & 168   \\\\\n",
       "\t5 & Stewie &  1     & High   &  12   \\\\\n",
       "\t6 & Brian  &  7     & Med    &  84   \\\\\n",
       "\\end{tabular}\n"
      ],
      "text/markdown": [
       "\n",
       "| <!--/--> | person | age | funny | age.mon |\n",
       "|---|---|---|---|---|\n",
       "| 1 | Peter  | 42     | High   | 504    |\n",
       "| 4 | Chris  | 14     | Med    | 168    |\n",
       "| 5 | Stewie |  1     | High   |  12    |\n",
       "| 6 | Brian  |  7     | Med    |  84    |\n",
       "\n"
      ],
      "text/plain": [
       "  person age funny age.mon\n",
       "1 Peter  42  High  504    \n",
       "4 Chris  14  Med   168    \n",
       "5 Stewie  1  High   12    \n",
       "6 Brian   7  Med    84    "
      ]
     },
     "metadata": {},
     "output_type": "display_data"
    }
   ],
   "source": [
    "mydata[mydata$sex==\"M\",-3]"
   ]
  },
  {
   "cell_type": "code",
   "execution_count": 153,
   "metadata": {},
   "outputs": [
    {
     "data": {
      "text/html": [
       "<table>\n",
       "<thead><tr><th></th><th scope=col>person</th><th scope=col>age</th><th scope=col>funny</th><th scope=col>age.mon</th></tr></thead>\n",
       "<tbody>\n",
       "\t<tr><th scope=row>1</th><td>Peter </td><td>42    </td><td>High  </td><td>504   </td></tr>\n",
       "\t<tr><th scope=row>4</th><td>Chris </td><td>14    </td><td>Med   </td><td>168   </td></tr>\n",
       "\t<tr><th scope=row>5</th><td>Stewie</td><td> 1    </td><td>High  </td><td> 12   </td></tr>\n",
       "\t<tr><th scope=row>6</th><td>Brian </td><td> 7    </td><td>Med   </td><td> 84   </td></tr>\n",
       "</tbody>\n",
       "</table>\n"
      ],
      "text/latex": [
       "\\begin{tabular}{r|llll}\n",
       "  & person & age & funny & age.mon\\\\\n",
       "\\hline\n",
       "\t1 & Peter  & 42     & High   & 504   \\\\\n",
       "\t4 & Chris  & 14     & Med    & 168   \\\\\n",
       "\t5 & Stewie &  1     & High   &  12   \\\\\n",
       "\t6 & Brian  &  7     & Med    &  84   \\\\\n",
       "\\end{tabular}\n"
      ],
      "text/markdown": [
       "\n",
       "| <!--/--> | person | age | funny | age.mon |\n",
       "|---|---|---|---|---|\n",
       "| 1 | Peter  | 42     | High   | 504    |\n",
       "| 4 | Chris  | 14     | Med    | 168    |\n",
       "| 5 | Stewie |  1     | High   |  12    |\n",
       "| 6 | Brian  |  7     | Med    |  84    |\n",
       "\n"
      ],
      "text/plain": [
       "  person age funny age.mon\n",
       "1 Peter  42  High  504    \n",
       "4 Chris  14  Med   168    \n",
       "5 Stewie  1  High   12    \n",
       "6 Brian   7  Med    84    "
      ]
     },
     "metadata": {},
     "output_type": "display_data"
    }
   ],
   "source": [
    "mydata[mydata$sex==\"M\",c(\"person\",\"age\",\"funny\",\"age.mon\")]"
   ]
  },
  {
   "cell_type": "code",
   "execution_count": 154,
   "metadata": {},
   "outputs": [
    {
     "data": {
      "text/html": [
       "<table>\n",
       "<thead><tr><th></th><th scope=col>person</th><th scope=col>age</th><th scope=col>sex</th><th scope=col>funny</th><th scope=col>age.mon</th></tr></thead>\n",
       "<tbody>\n",
       "\t<tr><th scope=row>1</th><td>Peter </td><td>42    </td><td>M     </td><td>High  </td><td>504   </td></tr>\n",
       "\t<tr><th scope=row>2</th><td>Lois  </td><td>40    </td><td>F     </td><td>High  </td><td>480   </td></tr>\n",
       "\t<tr><th scope=row>3</th><td>Meg   </td><td>17    </td><td>F     </td><td>Low   </td><td>204   </td></tr>\n",
       "\t<tr><th scope=row>5</th><td>Stewie</td><td> 1    </td><td>M     </td><td>High  </td><td> 12   </td></tr>\n",
       "</tbody>\n",
       "</table>\n"
      ],
      "text/latex": [
       "\\begin{tabular}{r|lllll}\n",
       "  & person & age & sex & funny & age.mon\\\\\n",
       "\\hline\n",
       "\t1 & Peter  & 42     & M      & High   & 504   \\\\\n",
       "\t2 & Lois   & 40     & F      & High   & 480   \\\\\n",
       "\t3 & Meg    & 17     & F      & Low    & 204   \\\\\n",
       "\t5 & Stewie &  1     & M      & High   &  12   \\\\\n",
       "\\end{tabular}\n"
      ],
      "text/markdown": [
       "\n",
       "| <!--/--> | person | age | sex | funny | age.mon |\n",
       "|---|---|---|---|---|---|\n",
       "| 1 | Peter  | 42     | M      | High   | 504    |\n",
       "| 2 | Lois   | 40     | F      | High   | 480    |\n",
       "| 3 | Meg    | 17     | F      | Low    | 204    |\n",
       "| 5 | Stewie |  1     | M      | High   |  12    |\n",
       "\n"
      ],
      "text/plain": [
       "  person age sex funny age.mon\n",
       "1 Peter  42  M   High  504    \n",
       "2 Lois   40  F   High  480    \n",
       "3 Meg    17  F   Low   204    \n",
       "5 Stewie  1  M   High   12    "
      ]
     },
     "metadata": {},
     "output_type": "display_data"
    }
   ],
   "source": [
    "mydata[mydata$sex==\"F\"|mydata$funny==\"High\",]"
   ]
  },
  {
   "cell_type": "code",
   "execution_count": 155,
   "metadata": {},
   "outputs": [
    {
     "data": {
      "text/html": [
       "<table>\n",
       "<thead><tr><th scope=col>person</th><th scope=col>age</th><th scope=col>sex</th><th scope=col>funny</th><th scope=col>age.mon</th></tr></thead>\n",
       "<tbody>\n",
       "</tbody>\n",
       "</table>\n"
      ],
      "text/latex": [
       "\\begin{tabular}{r|lllll}\n",
       " person & age & sex & funny & age.mon\\\\\n",
       "\\hline\n",
       "\\end{tabular}\n"
      ],
      "text/markdown": [
       "\n",
       "| person | age | sex | funny | age.mon |\n",
       "|---|---|---|---|---|\n",
       "\n"
      ],
      "text/plain": [
       "     person age sex funny age.mon"
      ]
     },
     "metadata": {},
     "output_type": "display_data"
    }
   ],
   "source": [
    "mydata[mydata$age>45,]  #returns a data frame with zero rows"
   ]
  },
  {
   "cell_type": "markdown",
   "metadata": {},
   "source": [
    "#### 特殊值，类别和转换"
   ]
  },
  {
   "cell_type": "markdown",
   "metadata": {},
   "source": [
    "##### Infinity"
   ]
  },
  {
   "cell_type": "code",
   "execution_count": 156,
   "metadata": {},
   "outputs": [],
   "source": [
    "foo <- Inf"
   ]
  },
  {
   "cell_type": "code",
   "execution_count": 157,
   "metadata": {},
   "outputs": [
    {
     "data": {
      "text/html": [
       "Inf"
      ],
      "text/latex": [
       "Inf"
      ],
      "text/markdown": [
       "Inf"
      ],
      "text/plain": [
       "[1] Inf"
      ]
     },
     "metadata": {},
     "output_type": "display_data"
    }
   ],
   "source": [
    "foo"
   ]
  },
  {
   "cell_type": "code",
   "execution_count": 158,
   "metadata": {},
   "outputs": [],
   "source": [
    "bar <- c(3401,Inf,3.1,-555,Inf,43)"
   ]
  },
  {
   "cell_type": "code",
   "execution_count": 159,
   "metadata": {},
   "outputs": [
    {
     "name": "stdout",
     "output_type": "stream",
     "text": [
      "[1] 3401.0    Inf    3.1 -555.0    Inf   43.0\n"
     ]
    }
   ],
   "source": [
    "print(bar)"
   ]
  },
  {
   "cell_type": "code",
   "execution_count": 160,
   "metadata": {},
   "outputs": [
    {
     "name": "stdout",
     "output_type": "stream",
     "text": [
      "[1] Inf\n"
     ]
    }
   ],
   "source": [
    "baz <- 90000^100\n",
    "print(baz)"
   ]
  },
  {
   "cell_type": "code",
   "execution_count": 161,
   "metadata": {},
   "outputs": [
    {
     "name": "stdout",
     "output_type": "stream",
     "text": [
      "[1]    -42.0    565.0     -Inf     -Inf      Inf -45632.3\n"
     ]
    }
   ],
   "source": [
    "qux <- c(-42,565,-Inf,-Inf,Inf,-45632.3)\n",
    "print(qux)"
   ]
  },
  {
   "cell_type": "code",
   "execution_count": 162,
   "metadata": {},
   "outputs": [
    {
     "data": {
      "text/html": [
       "-Inf"
      ],
      "text/latex": [
       "-Inf"
      ],
      "text/markdown": [
       "-Inf"
      ],
      "text/plain": [
       "[1] -Inf"
      ]
     },
     "metadata": {},
     "output_type": "display_data"
    }
   ],
   "source": [
    "Inf*-9"
   ]
  },
  {
   "cell_type": "code",
   "execution_count": 163,
   "metadata": {},
   "outputs": [
    {
     "data": {
      "text/html": [
       "Inf"
      ],
      "text/latex": [
       "Inf"
      ],
      "text/markdown": [
       "Inf"
      ],
      "text/plain": [
       "[1] Inf"
      ]
     },
     "metadata": {},
     "output_type": "display_data"
    }
   ],
   "source": [
    "Inf+1"
   ]
  },
  {
   "cell_type": "code",
   "execution_count": 164,
   "metadata": {},
   "outputs": [
    {
     "data": {
      "text/html": [
       "-Inf"
      ],
      "text/latex": [
       "-Inf"
      ],
      "text/markdown": [
       "-Inf"
      ],
      "text/plain": [
       "[1] -Inf"
      ]
     },
     "metadata": {},
     "output_type": "display_data"
    }
   ],
   "source": [
    "4*-Inf"
   ]
  },
  {
   "cell_type": "code",
   "execution_count": 165,
   "metadata": {},
   "outputs": [
    {
     "data": {
      "text/html": [
       "Inf"
      ],
      "text/latex": [
       "Inf"
      ],
      "text/markdown": [
       "Inf"
      ],
      "text/plain": [
       "[1] Inf"
      ]
     },
     "metadata": {},
     "output_type": "display_data"
    }
   ],
   "source": [
    "Inf+Inf"
   ]
  },
  {
   "cell_type": "code",
   "execution_count": 166,
   "metadata": {},
   "outputs": [
    {
     "data": {
      "text/html": [
       "Inf"
      ],
      "text/latex": [
       "Inf"
      ],
      "text/markdown": [
       "Inf"
      ],
      "text/plain": [
       "[1] Inf"
      ]
     },
     "metadata": {},
     "output_type": "display_data"
    }
   ],
   "source": [
    "log(90000^100)   #!!"
   ]
  },
  {
   "cell_type": "code",
   "execution_count": 167,
   "metadata": {},
   "outputs": [
    {
     "data": {
      "text/html": [
       "0"
      ],
      "text/latex": [
       "0"
      ],
      "text/markdown": [
       "0"
      ],
      "text/plain": [
       "[1] 0"
      ]
     },
     "metadata": {},
     "output_type": "display_data"
    }
   ],
   "source": [
    "-59/Inf"
   ]
  },
  {
   "cell_type": "code",
   "execution_count": 168,
   "metadata": {},
   "outputs": [
    {
     "data": {
      "text/html": [
       "-Inf"
      ],
      "text/latex": [
       "-Inf"
      ],
      "text/markdown": [
       "-Inf"
      ],
      "text/plain": [
       "[1] -Inf"
      ]
     },
     "metadata": {},
     "output_type": "display_data"
    }
   ],
   "source": [
    "-59/0"
   ]
  },
  {
   "cell_type": "code",
   "execution_count": 169,
   "metadata": {},
   "outputs": [
    {
     "data": {
      "text/html": [
       "Inf"
      ],
      "text/latex": [
       "Inf"
      ],
      "text/markdown": [
       "Inf"
      ],
      "text/plain": [
       "[1] Inf"
      ]
     },
     "metadata": {},
     "output_type": "display_data"
    }
   ],
   "source": [
    "Inf/0"
   ]
  },
  {
   "cell_type": "code",
   "execution_count": 170,
   "metadata": {},
   "outputs": [
    {
     "data": {
      "text/html": [
       "<ol class=list-inline>\n",
       "\t<li>FALSE</li>\n",
       "\t<li>FALSE</li>\n",
       "\t<li>TRUE</li>\n",
       "\t<li>TRUE</li>\n",
       "\t<li>TRUE</li>\n",
       "\t<li>FALSE</li>\n",
       "</ol>\n"
      ],
      "text/latex": [
       "\\begin{enumerate*}\n",
       "\\item FALSE\n",
       "\\item FALSE\n",
       "\\item TRUE\n",
       "\\item TRUE\n",
       "\\item TRUE\n",
       "\\item FALSE\n",
       "\\end{enumerate*}\n"
      ],
      "text/markdown": [
       "1. FALSE\n",
       "2. FALSE\n",
       "3. TRUE\n",
       "4. TRUE\n",
       "5. TRUE\n",
       "6. FALSE\n",
       "\n",
       "\n"
      ],
      "text/plain": [
       "[1] FALSE FALSE  TRUE  TRUE  TRUE FALSE"
      ]
     },
     "metadata": {},
     "output_type": "display_data"
    }
   ],
   "source": [
    "is.infinite(x=qux)"
   ]
  },
  {
   "cell_type": "code",
   "execution_count": 171,
   "metadata": {},
   "outputs": [
    {
     "data": {
      "text/html": [
       "<ol class=list-inline>\n",
       "\t<li>TRUE</li>\n",
       "\t<li>TRUE</li>\n",
       "\t<li>FALSE</li>\n",
       "\t<li>FALSE</li>\n",
       "\t<li>FALSE</li>\n",
       "\t<li>TRUE</li>\n",
       "</ol>\n"
      ],
      "text/latex": [
       "\\begin{enumerate*}\n",
       "\\item TRUE\n",
       "\\item TRUE\n",
       "\\item FALSE\n",
       "\\item FALSE\n",
       "\\item FALSE\n",
       "\\item TRUE\n",
       "\\end{enumerate*}\n"
      ],
      "text/markdown": [
       "1. TRUE\n",
       "2. TRUE\n",
       "3. FALSE\n",
       "4. FALSE\n",
       "5. FALSE\n",
       "6. TRUE\n",
       "\n",
       "\n"
      ],
      "text/plain": [
       "[1]  TRUE  TRUE FALSE FALSE FALSE  TRUE"
      ]
     },
     "metadata": {},
     "output_type": "display_data"
    }
   ],
   "source": [
    "is.finite(x=qux)"
   ]
  },
  {
   "cell_type": "code",
   "execution_count": 172,
   "metadata": {},
   "outputs": [
    {
     "data": {
      "text/html": [
       "TRUE"
      ],
      "text/latex": [
       "TRUE"
      ],
      "text/markdown": [
       "TRUE"
      ],
      "text/plain": [
       "[1] TRUE"
      ]
     },
     "metadata": {},
     "output_type": "display_data"
    }
   ],
   "source": [
    "-Inf<Inf"
   ]
  },
  {
   "cell_type": "code",
   "execution_count": 173,
   "metadata": {},
   "outputs": [
    {
     "data": {
      "text/html": [
       "FALSE"
      ],
      "text/latex": [
       "FALSE"
      ],
      "text/markdown": [
       "FALSE"
      ],
      "text/plain": [
       "[1] FALSE"
      ]
     },
     "metadata": {},
     "output_type": "display_data"
    }
   ],
   "source": [
    "Inf>Inf"
   ]
  },
  {
   "cell_type": "code",
   "execution_count": 174,
   "metadata": {},
   "outputs": [
    {
     "name": "stdout",
     "output_type": "stream",
     "text": [
      "[1] FALSE FALSE FALSE FALSE  TRUE FALSE\n"
     ]
    }
   ],
   "source": [
    "print(qux==Inf)"
   ]
  },
  {
   "cell_type": "code",
   "execution_count": 175,
   "metadata": {},
   "outputs": [
    {
     "name": "stdout",
     "output_type": "stream",
     "text": [
      "[1] FALSE FALSE  TRUE  TRUE FALSE FALSE\n"
     ]
    }
   ],
   "source": [
    "print(qux==-Inf)"
   ]
  },
  {
   "cell_type": "code",
   "execution_count": 176,
   "metadata": {},
   "outputs": [
    {
     "data": {
      "text/html": [
       "FALSE"
      ],
      "text/latex": [
       "FALSE"
      ],
      "text/markdown": [
       "FALSE"
      ],
      "text/plain": [
       "[1] FALSE"
      ]
     },
     "metadata": {},
     "output_type": "display_data"
    }
   ],
   "source": [
    "2*Inf > Inf"
   ]
  },
  {
   "cell_type": "markdown",
   "metadata": {},
   "source": [
    "##### NaN (Not a Number)"
   ]
  },
  {
   "cell_type": "code",
   "execution_count": 177,
   "metadata": {},
   "outputs": [
    {
     "data": {
      "text/html": [
       "NaN"
      ],
      "text/latex": [
       "NaN"
      ],
      "text/markdown": [
       "NaN"
      ],
      "text/plain": [
       "[1] NaN"
      ]
     },
     "metadata": {},
     "output_type": "display_data"
    }
   ],
   "source": [
    "foo <- NaN\n",
    "foo"
   ]
  },
  {
   "cell_type": "code",
   "execution_count": 178,
   "metadata": {},
   "outputs": [
    {
     "name": "stdout",
     "output_type": "stream",
     "text": [
      "[1]      NaN    54.30    -2.00      NaN 90094.12     -Inf    55.00\n"
     ]
    }
   ],
   "source": [
    "bar <- c(NaN,54.3,-2,NaN,90094.123,-Inf,55)\n",
    "print(bar)"
   ]
  },
  {
   "cell_type": "code",
   "execution_count": 179,
   "metadata": {},
   "outputs": [
    {
     "data": {
      "text/html": [
       "NaN"
      ],
      "text/latex": [
       "NaN"
      ],
      "text/markdown": [
       "NaN"
      ],
      "text/plain": [
       "[1] NaN"
      ]
     },
     "metadata": {},
     "output_type": "display_data"
    }
   ],
   "source": [
    "-Inf+Inf"
   ]
  },
  {
   "cell_type": "code",
   "execution_count": 180,
   "metadata": {},
   "outputs": [
    {
     "data": {
      "text/html": [
       "NaN"
      ],
      "text/latex": [
       "NaN"
      ],
      "text/markdown": [
       "NaN"
      ],
      "text/plain": [
       "[1] NaN"
      ]
     },
     "metadata": {},
     "output_type": "display_data"
    }
   ],
   "source": [
    "Inf/Inf"
   ]
  },
  {
   "cell_type": "code",
   "execution_count": 181,
   "metadata": {},
   "outputs": [
    {
     "data": {
      "text/html": [
       "NaN"
      ],
      "text/latex": [
       "NaN"
      ],
      "text/markdown": [
       "NaN"
      ],
      "text/plain": [
       "[1] NaN"
      ]
     },
     "metadata": {},
     "output_type": "display_data"
    }
   ],
   "source": [
    "NaN+1"
   ]
  },
  {
   "cell_type": "code",
   "execution_count": 182,
   "metadata": {},
   "outputs": [
    {
     "data": {
      "text/html": [
       "NaN"
      ],
      "text/latex": [
       "NaN"
      ],
      "text/markdown": [
       "NaN"
      ],
      "text/plain": [
       "[1] NaN"
      ]
     },
     "metadata": {},
     "output_type": "display_data"
    }
   ],
   "source": [
    "2+6*(4-4)/0"
   ]
  },
  {
   "cell_type": "code",
   "execution_count": 183,
   "metadata": {},
   "outputs": [
    {
     "data": {
      "text/html": [
       "NaN"
      ],
      "text/latex": [
       "NaN"
      ],
      "text/markdown": [
       "NaN"
      ],
      "text/plain": [
       "[1] NaN"
      ]
     },
     "metadata": {},
     "output_type": "display_data"
    }
   ],
   "source": [
    "3.5^(-Inf/Inf)"
   ]
  },
  {
   "cell_type": "code",
   "execution_count": 184,
   "metadata": {},
   "outputs": [
    {
     "name": "stdout",
     "output_type": "stream",
     "text": [
      "[1]  TRUE FALSE FALSE  TRUE FALSE FALSE FALSE\n"
     ]
    }
   ],
   "source": [
    "print(is.nan(x=bar))"
   ]
  },
  {
   "cell_type": "code",
   "execution_count": 185,
   "metadata": {},
   "outputs": [
    {
     "name": "stdout",
     "output_type": "stream",
     "text": [
      "[1]  TRUE FALSE FALSE  TRUE FALSE  TRUE FALSE\n"
     ]
    }
   ],
   "source": [
    "print(is.nan(x=bar)|is.infinite(x=bar))"
   ]
  },
  {
   "cell_type": "code",
   "execution_count": 186,
   "metadata": {},
   "outputs": [
    {
     "name": "stdout",
     "output_type": "stream",
     "text": [
      "[1]    54.30    -2.00 90094.12    55.00\n"
     ]
    }
   ],
   "source": [
    "print(bar[-(which(is.nan(x=bar)|is.infinite(x=bar)))])  #remove NaN and Inf"
   ]
  },
  {
   "cell_type": "markdown",
   "metadata": {},
   "source": [
    "##### NA (Not Available)"
   ]
  },
  {
   "cell_type": "markdown",
   "metadata": {},
   "source": [
    "NA entries should be distinguished from NaN entries. Whereas NaN is used\n",
    "only with respect to numeric operations, missing values can occur for any\n",
    "type of observation."
   ]
  },
  {
   "cell_type": "code",
   "execution_count": 187,
   "metadata": {},
   "outputs": [],
   "source": [
    "foo <- c(\"character\",\"a\",NA,\"with\",\"string\",NA)"
   ]
  },
  {
   "cell_type": "code",
   "execution_count": 188,
   "metadata": {},
   "outputs": [],
   "source": [
    "bar <- factor(c(\"blue\",NA,NA,\"blue\",\"green\",\"blue\",NA,\"red\",\"red\",NA,\"green\"))"
   ]
  },
  {
   "cell_type": "code",
   "execution_count": 189,
   "metadata": {},
   "outputs": [
    {
     "name": "stdout",
     "output_type": "stream",
     "text": [
      " [1] blue  <NA>  <NA>  blue  green blue  <NA>  red   red   <NA>  green\n",
      "Levels: blue green red\n"
     ]
    }
   ],
   "source": [
    "print(bar)"
   ]
  },
  {
   "cell_type": "code",
   "execution_count": 190,
   "metadata": {},
   "outputs": [
    {
     "name": "stdout",
     "output_type": "stream",
     "text": [
      "     [,1] [,2] [,3]\n",
      "[1,]    1   NA   NA\n",
      "[2,]    2    5    8\n",
      "[3,]    3    6   NA\n"
     ]
    }
   ],
   "source": [
    "baz <- matrix(c(1:3,NA,5,6,NA,8,NA),nrow=3,ncol=3)\n",
    "print(baz)"
   ]
  },
  {
   "cell_type": "code",
   "execution_count": 191,
   "metadata": {},
   "outputs": [
    {
     "name": "stdout",
     "output_type": "stream",
     "text": [
      " [1]  TRUE FALSE FALSE  TRUE FALSE FALSE  TRUE FALSE FALSE FALSE  TRUE FALSE\n",
      "[13] FALSE  TRUE\n"
     ]
    }
   ],
   "source": [
    "qux <- c(NA,5.89,Inf,NA,9.43,-2.35,NaN,2.10,-8.53,-7.58,NA,-4.58,2.01,NaN)\n",
    "print(is.na(x=qux))    #note NaN and Inf"
   ]
  },
  {
   "cell_type": "code",
   "execution_count": 192,
   "metadata": {},
   "outputs": [
    {
     "name": "stdout",
     "output_type": "stream",
     "text": [
      " [1] FALSE FALSE FALSE FALSE FALSE FALSE  TRUE FALSE FALSE FALSE FALSE FALSE\n",
      "[13] FALSE  TRUE\n"
     ]
    }
   ],
   "source": [
    "print(is.nan(x=qux))"
   ]
  },
  {
   "cell_type": "code",
   "execution_count": 193,
   "metadata": {},
   "outputs": [
    {
     "data": {
      "text/html": [
       "<ol class=list-inline>\n",
       "\t<li>1</li>\n",
       "\t<li>4</li>\n",
       "\t<li>11</li>\n",
       "</ol>\n"
      ],
      "text/latex": [
       "\\begin{enumerate*}\n",
       "\\item 1\n",
       "\\item 4\n",
       "\\item 11\n",
       "\\end{enumerate*}\n"
      ],
      "text/markdown": [
       "1. 1\n",
       "2. 4\n",
       "3. 11\n",
       "\n",
       "\n"
      ],
      "text/plain": [
       "[1]  1  4 11"
      ]
     },
     "metadata": {},
     "output_type": "display_data"
    }
   ],
   "source": [
    "which(x=(is.na(x=qux)&!is.nan(x=qux)))"
   ]
  },
  {
   "cell_type": "code",
   "execution_count": 194,
   "metadata": {},
   "outputs": [],
   "source": [
    "quux <- na.omit(object=qux)  #remove NA and NaNs"
   ]
  },
  {
   "cell_type": "code",
   "execution_count": 195,
   "metadata": {},
   "outputs": [
    {
     "name": "stdout",
     "output_type": "stream",
     "text": [
      "[1]  5.89   Inf  9.43 -2.35  2.10 -8.53 -7.58 -4.58  2.01\n",
      "attr(,\"na.action\")\n",
      "[1]  1  4  7 11 14\n",
      "attr(,\"class\")\n",
      "[1] \"omit\"\n"
     ]
    }
   ],
   "source": [
    "print(quux)"
   ]
  },
  {
   "cell_type": "code",
   "execution_count": 196,
   "metadata": {},
   "outputs": [
    {
     "data": {
      "text/html": [
       "&lt;NA&gt;"
      ],
      "text/latex": [
       "<NA>"
      ],
      "text/markdown": [
       "&lt;NA&gt;"
      ],
      "text/plain": [
       "[1] NA"
      ]
     },
     "metadata": {},
     "output_type": "display_data"
    }
   ],
   "source": [
    "3+2.1*NA-4"
   ]
  },
  {
   "cell_type": "code",
   "execution_count": 197,
   "metadata": {},
   "outputs": [
    {
     "data": {
      "text/html": [
       "&lt;NA&gt;"
      ],
      "text/latex": [
       "<NA>"
      ],
      "text/markdown": [
       "&lt;NA&gt;"
      ],
      "text/plain": [
       "[1] NA"
      ]
     },
     "metadata": {},
     "output_type": "display_data"
    }
   ],
   "source": [
    "NA>76"
   ]
  },
  {
   "cell_type": "markdown",
   "metadata": {},
   "source": [
    "##### NULL : define an empty entity"
   ]
  },
  {
   "cell_type": "code",
   "execution_count": 198,
   "metadata": {},
   "outputs": [
    {
     "name": "stdout",
     "output_type": "stream",
     "text": [
      "NULL\n"
     ]
    }
   ],
   "source": [
    "foo <- NULL\n",
    "print(foo)"
   ]
  },
  {
   "cell_type": "code",
   "execution_count": 199,
   "metadata": {},
   "outputs": [
    {
     "name": "stdout",
     "output_type": "stream",
     "text": [
      "[1] NA\n"
     ]
    }
   ],
   "source": [
    "bar <- NA\n",
    "print(bar)   "
   ]
  },
  {
   "cell_type": "code",
   "execution_count": 200,
   "metadata": {},
   "outputs": [
    {
     "data": {
      "text/html": [
       "<ol class=list-inline>\n",
       "\t<li>2</li>\n",
       "\t<li>4</li>\n",
       "\t<li>&lt;NA&gt;</li>\n",
       "\t<li>8</li>\n",
       "</ol>\n"
      ],
      "text/latex": [
       "\\begin{enumerate*}\n",
       "\\item 2\n",
       "\\item 4\n",
       "\\item <NA>\n",
       "\\item 8\n",
       "\\end{enumerate*}\n"
      ],
      "text/markdown": [
       "1. 2\n",
       "2. 4\n",
       "3. &lt;NA&gt;\n",
       "4. 8\n",
       "\n",
       "\n"
      ],
      "text/plain": [
       "[1]  2  4 NA  8"
      ]
     },
     "metadata": {},
     "output_type": "display_data"
    }
   ],
   "source": [
    "c(2,4,NA,8) #length = 4"
   ]
  },
  {
   "cell_type": "code",
   "execution_count": 201,
   "metadata": {},
   "outputs": [
    {
     "data": {
      "text/html": [
       "<ol class=list-inline>\n",
       "\t<li>2</li>\n",
       "\t<li>4</li>\n",
       "\t<li>8</li>\n",
       "</ol>\n"
      ],
      "text/latex": [
       "\\begin{enumerate*}\n",
       "\\item 2\n",
       "\\item 4\n",
       "\\item 8\n",
       "\\end{enumerate*}\n"
      ],
      "text/markdown": [
       "1. 2\n",
       "2. 4\n",
       "3. 8\n",
       "\n",
       "\n"
      ],
      "text/plain": [
       "[1] 2 4 8"
      ]
     },
     "metadata": {},
     "output_type": "display_data"
    }
   ],
   "source": [
    "c(2,4,NULL,8)  #length = 3"
   ]
  },
  {
   "cell_type": "code",
   "execution_count": 202,
   "metadata": {},
   "outputs": [
    {
     "data": {
      "text/html": [
       "<ol class=list-inline>\n",
       "\t<li>&lt;NA&gt;</li>\n",
       "\t<li>&lt;NA&gt;</li>\n",
       "\t<li>&lt;NA&gt;</li>\n",
       "</ol>\n"
      ],
      "text/latex": [
       "\\begin{enumerate*}\n",
       "\\item <NA>\n",
       "\\item <NA>\n",
       "\\item <NA>\n",
       "\\end{enumerate*}\n"
      ],
      "text/markdown": [
       "1. &lt;NA&gt;\n",
       "2. &lt;NA&gt;\n",
       "3. &lt;NA&gt;\n",
       "\n",
       "\n"
      ],
      "text/plain": [
       "[1] NA NA NA"
      ]
     },
     "metadata": {},
     "output_type": "display_data"
    }
   ],
   "source": [
    "c(NA,NA,NA)"
   ]
  },
  {
   "cell_type": "code",
   "execution_count": 203,
   "metadata": {},
   "outputs": [
    {
     "data": {
      "text/plain": [
       "NULL"
      ]
     },
     "metadata": {},
     "output_type": "display_data"
    }
   ],
   "source": [
    "c(NULL,NULL,NULL)"
   ]
  },
  {
   "cell_type": "code",
   "execution_count": 204,
   "metadata": {},
   "outputs": [
    {
     "data": {
      "text/html": [
       "<ol class=list-inline>\n",
       "\t<li>FALSE</li>\n",
       "\t<li>FALSE</li>\n",
       "\t<li>FALSE</li>\n",
       "</ol>\n"
      ],
      "text/latex": [
       "\\begin{enumerate*}\n",
       "\\item FALSE\n",
       "\\item FALSE\n",
       "\\item FALSE\n",
       "\\end{enumerate*}\n"
      ],
      "text/markdown": [
       "1. FALSE\n",
       "2. FALSE\n",
       "3. FALSE\n",
       "\n",
       "\n"
      ],
      "text/plain": [
       "[1] FALSE FALSE FALSE"
      ]
     },
     "metadata": {},
     "output_type": "display_data"
    }
   ],
   "source": [
    "opt.arg <- c(\"string1\",\"string2\",\"string3\")\n",
    "is.na(x=opt.arg)"
   ]
  },
  {
   "cell_type": "code",
   "execution_count": 205,
   "metadata": {},
   "outputs": [
    {
     "data": {
      "text/html": [
       "FALSE"
      ],
      "text/latex": [
       "FALSE"
      ],
      "text/markdown": [
       "FALSE"
      ],
      "text/plain": [
       "[1] FALSE"
      ]
     },
     "metadata": {},
     "output_type": "display_data"
    }
   ],
   "source": [
    "is.null(x=opt.arg)"
   ]
  },
  {
   "cell_type": "code",
   "execution_count": 206,
   "metadata": {},
   "outputs": [
    {
     "data": {
      "text/plain": [
       "NULL"
      ]
     },
     "metadata": {},
     "output_type": "display_data"
    },
    {
     "data": {
      "text/html": [
       "TRUE"
      ],
      "text/latex": [
       "TRUE"
      ],
      "text/markdown": [
       "TRUE"
      ],
      "text/plain": [
       "[1] TRUE"
      ]
     },
     "metadata": {},
     "output_type": "display_data"
    }
   ],
   "source": [
    "opt.arg <- c(NULL,NULL,NULL)\n",
    "opt.arg\n",
    "is.null(x=opt.arg)"
   ]
  },
  {
   "cell_type": "code",
   "execution_count": 207,
   "metadata": {},
   "outputs": [
    {
     "name": "stdout",
     "output_type": "stream",
     "text": [
      "numeric(0)\n"
     ]
    }
   ],
   "source": [
    "print(NULL+53)"
   ]
  },
  {
   "cell_type": "code",
   "execution_count": 208,
   "metadata": {},
   "outputs": [
    {
     "data": {
      "text/html": [
       "0"
      ],
      "text/latex": [
       "0"
      ],
      "text/markdown": [
       "0"
      ],
      "text/plain": [
       "[1] 0"
      ]
     },
     "metadata": {},
     "output_type": "display_data"
    }
   ],
   "source": [
    "length(NULL+53)"
   ]
  },
  {
   "cell_type": "code",
   "execution_count": 209,
   "metadata": {},
   "outputs": [
    {
     "name": "stdout",
     "output_type": "stream",
     "text": [
      "$member1\n",
      "[1] 33.0  1.0  5.2  7.0\n",
      "\n",
      "$member2\n",
      "[1] \"NA or NULL?\"\n",
      "\n"
     ]
    }
   ],
   "source": [
    "foo <- list(member1=c(33,1,5.2,7),member2=\"NA or NULL?\")\n",
    "print(foo)"
   ]
  },
  {
   "cell_type": "code",
   "execution_count": 210,
   "metadata": {},
   "outputs": [
    {
     "data": {
      "text/plain": [
       "NULL"
      ]
     },
     "metadata": {},
     "output_type": "display_data"
    }
   ],
   "source": [
    "foo$member3"
   ]
  },
  {
   "cell_type": "code",
   "execution_count": 211,
   "metadata": {},
   "outputs": [
    {
     "name": "stdout",
     "output_type": "stream",
     "text": [
      "$member1\n",
      "[1] 33.0  1.0  5.2  7.0\n",
      "\n",
      "$member2\n",
      "[1] \"NA or NULL?\"\n",
      "\n",
      "$member3\n",
      "[1] NA\n",
      "\n"
     ]
    }
   ],
   "source": [
    "foo$member3 <- NA\n",
    "print(foo)"
   ]
  },
  {
   "cell_type": "markdown",
   "metadata": {},
   "source": [
    "##### Types, Classes, and Coercion"
   ]
  },
  {
   "cell_type": "markdown",
   "metadata": {},
   "source": [
    "##### Attributes"
   ]
  },
  {
   "cell_type": "code",
   "execution_count": 212,
   "metadata": {},
   "outputs": [
    {
     "name": "stdout",
     "output_type": "stream",
     "text": [
      "$dim\n",
      "[1] 3 3\n",
      "\n"
     ]
    }
   ],
   "source": [
    "foo <- matrix(data=1:9,nrow=3,ncol=3)\n",
    "print(attributes(foo))     #list"
   ]
  },
  {
   "cell_type": "code",
   "execution_count": 213,
   "metadata": {},
   "outputs": [
    {
     "data": {
      "text/html": [
       "<ol class=list-inline>\n",
       "\t<li>3</li>\n",
       "\t<li>3</li>\n",
       "</ol>\n"
      ],
      "text/latex": [
       "\\begin{enumerate*}\n",
       "\\item 3\n",
       "\\item 3\n",
       "\\end{enumerate*}\n"
      ],
      "text/markdown": [
       "1. 3\n",
       "2. 3\n",
       "\n",
       "\n"
      ],
      "text/plain": [
       "[1] 3 3"
      ]
     },
     "metadata": {},
     "output_type": "display_data"
    }
   ],
   "source": [
    "attr(x=foo,which=\"dim\")"
   ]
  },
  {
   "cell_type": "code",
   "execution_count": 214,
   "metadata": {},
   "outputs": [
    {
     "name": "stdout",
     "output_type": "stream",
     "text": [
      "  D E F\n",
      "A 1 4 7\n",
      "B 2 5 8\n",
      "C 3 6 9\n"
     ]
    }
   ],
   "source": [
    "bar <- matrix(data=1:9,nrow=3,ncol=3,dimnames=list(c(\"A\",\"B\",\"C\"),c(\"D\",\"E\",\"F\")))\n",
    "print(bar)"
   ]
  },
  {
   "cell_type": "code",
   "execution_count": 215,
   "metadata": {},
   "outputs": [
    {
     "name": "stdout",
     "output_type": "stream",
     "text": [
      "$dim\n",
      "[1] 3 3\n",
      "\n",
      "$dimnames\n",
      "$dimnames[[1]]\n",
      "[1] \"A\" \"B\" \"C\"\n",
      "\n",
      "$dimnames[[2]]\n",
      "[1] \"D\" \"E\" \"F\"\n",
      "\n",
      "\n"
     ]
    }
   ],
   "source": [
    "print(attributes(bar))"
   ]
  },
  {
   "cell_type": "code",
   "execution_count": 216,
   "metadata": {},
   "outputs": [
    {
     "name": "stdout",
     "output_type": "stream",
     "text": [
      "[[1]]\n",
      "[1] \"A\" \"B\" \"C\"\n",
      "\n",
      "[[2]]\n",
      "[1] \"D\" \"E\" \"F\"\n",
      "\n"
     ]
    }
   ],
   "source": [
    "print(dimnames(bar))   #use the attribute specific function"
   ]
  },
  {
   "cell_type": "code",
   "execution_count": 217,
   "metadata": {},
   "outputs": [
    {
     "name": "stdout",
     "output_type": "stream",
     "text": [
      "  D E F\n",
      "A 1 4 7\n",
      "B 2 5 8\n",
      "C 3 6 9\n"
     ]
    }
   ],
   "source": [
    "dimnames(foo) <- list(c(\"A\",\"B\",\"C\"),c(\"D\",\"E\",\"F\"))  #modify the dimnames\n",
    "print(foo)"
   ]
  },
  {
   "cell_type": "markdown",
   "metadata": {},
   "source": [
    "##### Object Class"
   ]
  },
  {
   "cell_type": "code",
   "execution_count": 218,
   "metadata": {},
   "outputs": [],
   "source": [
    "num.vec1 <- 1:4\n",
    "num.vec2 <- seq(from=1,to=4,length=6)\n",
    "char.vec <- c(\"a\",\"few\",\"strings\",\"here\")\n",
    "logic.vec <- c(T,F,F,F,T,F,T,T)\n",
    "fac.vec <- factor(c(\"Blue\",\"Blue\",\"Green\",\"Red\",\"Green\",\"Yellow\"))"
   ]
  },
  {
   "cell_type": "code",
   "execution_count": 219,
   "metadata": {},
   "outputs": [
    {
     "data": {
      "text/html": [
       "'integer'"
      ],
      "text/latex": [
       "'integer'"
      ],
      "text/markdown": [
       "'integer'"
      ],
      "text/plain": [
       "[1] \"integer\""
      ]
     },
     "metadata": {},
     "output_type": "display_data"
    },
    {
     "data": {
      "text/html": [
       "'numeric'"
      ],
      "text/latex": [
       "'numeric'"
      ],
      "text/markdown": [
       "'numeric'"
      ],
      "text/plain": [
       "[1] \"numeric\""
      ]
     },
     "metadata": {},
     "output_type": "display_data"
    },
    {
     "data": {
      "text/html": [
       "'character'"
      ],
      "text/latex": [
       "'character'"
      ],
      "text/markdown": [
       "'character'"
      ],
      "text/plain": [
       "[1] \"character\""
      ]
     },
     "metadata": {},
     "output_type": "display_data"
    },
    {
     "data": {
      "text/html": [
       "'logical'"
      ],
      "text/latex": [
       "'logical'"
      ],
      "text/markdown": [
       "'logical'"
      ],
      "text/plain": [
       "[1] \"logical\""
      ]
     },
     "metadata": {},
     "output_type": "display_data"
    },
    {
     "data": {
      "text/html": [
       "'factor'"
      ],
      "text/latex": [
       "'factor'"
      ],
      "text/markdown": [
       "'factor'"
      ],
      "text/plain": [
       "[1] \"factor\""
      ]
     },
     "metadata": {},
     "output_type": "display_data"
    }
   ],
   "source": [
    "class(num.vec1)\n",
    "class(num.vec2)\n",
    "class(char.vec)\n",
    "class(logic.vec)\n",
    "class(fac.vec)"
   ]
  },
  {
   "cell_type": "code",
   "execution_count": 220,
   "metadata": {},
   "outputs": [],
   "source": [
    "num.mat1 <- matrix(data=num.vec1,nrow=2,ncol=2)\n",
    "num.mat2 <- matrix(data=num.vec2,nrow=2,ncol=3)\n",
    "char.mat <- matrix(data=char.vec,nrow=2,ncol=2)\n",
    "logic.mat <- matrix(data=logic.vec,nrow=4,ncol=2)"
   ]
  },
  {
   "cell_type": "code",
   "execution_count": 221,
   "metadata": {},
   "outputs": [
    {
     "data": {
      "text/html": [
       "'matrix'"
      ],
      "text/latex": [
       "'matrix'"
      ],
      "text/markdown": [
       "'matrix'"
      ],
      "text/plain": [
       "[1] \"matrix\""
      ]
     },
     "metadata": {},
     "output_type": "display_data"
    },
    {
     "data": {
      "text/html": [
       "'matrix'"
      ],
      "text/latex": [
       "'matrix'"
      ],
      "text/markdown": [
       "'matrix'"
      ],
      "text/plain": [
       "[1] \"matrix\""
      ]
     },
     "metadata": {},
     "output_type": "display_data"
    },
    {
     "data": {
      "text/html": [
       "'matrix'"
      ],
      "text/latex": [
       "'matrix'"
      ],
      "text/markdown": [
       "'matrix'"
      ],
      "text/plain": [
       "[1] \"matrix\""
      ]
     },
     "metadata": {},
     "output_type": "display_data"
    },
    {
     "data": {
      "text/html": [
       "'matrix'"
      ],
      "text/latex": [
       "'matrix'"
      ],
      "text/markdown": [
       "'matrix'"
      ],
      "text/plain": [
       "[1] \"matrix\""
      ]
     },
     "metadata": {},
     "output_type": "display_data"
    }
   ],
   "source": [
    "class(num.mat1)\n",
    "class(num.mat2)\n",
    "class(char.mat)\n",
    "class(logic.mat)"
   ]
  },
  {
   "cell_type": "code",
   "execution_count": 222,
   "metadata": {},
   "outputs": [],
   "source": [
    "ordfac.vec <- factor(x=c(\"Small\",\"Large\",\"Large\",\"Regular\",\"Small\"),\n",
    "                      levels=c(\"Small\",\"Regular\",\"Large\"),\n",
    "                    ordered=TRUE)"
   ]
  },
  {
   "cell_type": "code",
   "execution_count": 223,
   "metadata": {},
   "outputs": [
    {
     "name": "stdout",
     "output_type": "stream",
     "text": [
      "[1] \"ordered\" \"factor\" \n"
     ]
    }
   ],
   "source": [
    "print(class(ordfac.vec))"
   ]
  },
  {
   "cell_type": "markdown",
   "metadata": {},
   "source": [
    "##### Is-Dot Object-Checking Functions"
   ]
  },
  {
   "cell_type": "code",
   "execution_count": 224,
   "metadata": {},
   "outputs": [
    {
     "data": {
      "text/html": [
       "TRUE"
      ],
      "text/latex": [
       "TRUE"
      ],
      "text/markdown": [
       "TRUE"
      ],
      "text/plain": [
       "[1] TRUE"
      ]
     },
     "metadata": {},
     "output_type": "display_data"
    }
   ],
   "source": [
    "is.integer(num.vec1)"
   ]
  },
  {
   "cell_type": "code",
   "execution_count": 225,
   "metadata": {},
   "outputs": [
    {
     "data": {
      "text/html": [
       "TRUE"
      ],
      "text/latex": [
       "TRUE"
      ],
      "text/markdown": [
       "TRUE"
      ],
      "text/plain": [
       "[1] TRUE"
      ]
     },
     "metadata": {},
     "output_type": "display_data"
    }
   ],
   "source": [
    "is.numeric(num.vec1)"
   ]
  },
  {
   "cell_type": "code",
   "execution_count": 226,
   "metadata": {},
   "outputs": [
    {
     "data": {
      "text/html": [
       "FALSE"
      ],
      "text/latex": [
       "FALSE"
      ],
      "text/markdown": [
       "FALSE"
      ],
      "text/plain": [
       "[1] FALSE"
      ]
     },
     "metadata": {},
     "output_type": "display_data"
    }
   ],
   "source": [
    "is.matrix(num.vec1)"
   ]
  },
  {
   "cell_type": "code",
   "execution_count": 227,
   "metadata": {},
   "outputs": [
    {
     "data": {
      "text/html": [
       "FALSE"
      ],
      "text/latex": [
       "FALSE"
      ],
      "text/markdown": [
       "FALSE"
      ],
      "text/plain": [
       "[1] FALSE"
      ]
     },
     "metadata": {},
     "output_type": "display_data"
    }
   ],
   "source": [
    "is.data.frame(num.vec1)"
   ]
  },
  {
   "cell_type": "code",
   "execution_count": 228,
   "metadata": {},
   "outputs": [
    {
     "data": {
      "text/html": [
       "TRUE"
      ],
      "text/latex": [
       "TRUE"
      ],
      "text/markdown": [
       "TRUE"
      ],
      "text/plain": [
       "[1] TRUE"
      ]
     },
     "metadata": {},
     "output_type": "display_data"
    }
   ],
   "source": [
    "is.vector(num.vec1)"
   ]
  },
  {
   "cell_type": "code",
   "execution_count": 229,
   "metadata": {},
   "outputs": [
    {
     "data": {
      "text/html": [
       "FALSE"
      ],
      "text/latex": [
       "FALSE"
      ],
      "text/markdown": [
       "FALSE"
      ],
      "text/plain": [
       "[1] FALSE"
      ]
     },
     "metadata": {},
     "output_type": "display_data"
    }
   ],
   "source": [
    "is.logical(num.vec1)"
   ]
  },
  {
   "cell_type": "markdown",
   "metadata": {},
   "source": [
    "##### As-Dot Coercion Functions"
   ]
  },
  {
   "cell_type": "code",
   "execution_count": 230,
   "metadata": {},
   "outputs": [
    {
     "name": "stdout",
     "output_type": "stream",
     "text": [
      "[1] 2 2 3 5\n"
     ]
    }
   ],
   "source": [
    "print(1:4+c(T,F,F,T))   #Implicit coercion"
   ]
  },
  {
   "cell_type": "code",
   "execution_count": 231,
   "metadata": {},
   "outputs": [
    {
     "data": {
      "text/html": [
       "'Definitely foo: 34; definitely bar: TRUE.'"
      ],
      "text/latex": [
       "'Definitely foo: 34; definitely bar: TRUE.'"
      ],
      "text/markdown": [
       "'Definitely foo: 34; definitely bar: TRUE.'"
      ],
      "text/plain": [
       "[1] \"Definitely foo: 34; definitely bar: TRUE.\""
      ]
     },
     "metadata": {},
     "output_type": "display_data"
    }
   ],
   "source": [
    "foo <- 34\n",
    "bar <- T\n",
    "paste(\"Definitely foo: \",foo,\"; definitely bar: \",bar,\".\",sep=\"\")"
   ]
  },
  {
   "cell_type": "code",
   "execution_count": 232,
   "metadata": {},
   "outputs": [
    {
     "name": "stdout",
     "output_type": "stream",
     "text": [
      "[1] 1 0 0 1\n"
     ]
    }
   ],
   "source": [
    "print(as.numeric(c(T,F,F,T))) #Explicit coercion"
   ]
  },
  {
   "cell_type": "code",
   "execution_count": 233,
   "metadata": {},
   "outputs": [
    {
     "data": {
      "text/html": [
       "'34'"
      ],
      "text/latex": [
       "'34'"
      ],
      "text/markdown": [
       "'34'"
      ],
      "text/plain": [
       "[1] \"34\""
      ]
     },
     "metadata": {},
     "output_type": "display_data"
    }
   ],
   "source": [
    "foo.ch <- as.character(foo)\n",
    "foo.ch"
   ]
  },
  {
   "cell_type": "code",
   "execution_count": 234,
   "metadata": {},
   "outputs": [
    {
     "data": {
      "text/html": [
       "'TRUE'"
      ],
      "text/latex": [
       "'TRUE'"
      ],
      "text/markdown": [
       "'TRUE'"
      ],
      "text/plain": [
       "[1] \"TRUE\""
      ]
     },
     "metadata": {},
     "output_type": "display_data"
    }
   ],
   "source": [
    "bar <- T\n",
    "bar.ch <- as.character(bar)\n",
    "bar.ch"
   ]
  },
  {
   "cell_type": "code",
   "execution_count": 235,
   "metadata": {},
   "outputs": [
    {
     "name": "stderr",
     "output_type": "stream",
     "text": [
      "Warning message in eval(expr, envir, enclos):\n",
      "\"强制改变过程中产生了NA\""
     ]
    },
    {
     "data": {
      "text/html": [
       "&lt;NA&gt;"
      ],
      "text/latex": [
       "<NA>"
      ],
      "text/markdown": [
       "&lt;NA&gt;"
      ],
      "text/plain": [
       "[1] NA"
      ]
     },
     "metadata": {},
     "output_type": "display_data"
    }
   ],
   "source": [
    "as.numeric(\"g'day mate\")"
   ]
  },
  {
   "cell_type": "code",
   "execution_count": 236,
   "metadata": {},
   "outputs": [
    {
     "data": {
      "text/html": [
       "<ol class=list-inline>\n",
       "\t<li>&lt;NA&gt;</li>\n",
       "\t<li>&lt;NA&gt;</li>\n",
       "\t<li>&lt;NA&gt;</li>\n",
       "\t<li>&lt;NA&gt;</li>\n",
       "\t<li>&lt;NA&gt;</li>\n",
       "</ol>\n"
      ],
      "text/latex": [
       "\\begin{enumerate*}\n",
       "\\item <NA>\n",
       "\\item <NA>\n",
       "\\item <NA>\n",
       "\\item <NA>\n",
       "\\item <NA>\n",
       "\\end{enumerate*}\n"
      ],
      "text/markdown": [
       "1. &lt;NA&gt;\n",
       "2. &lt;NA&gt;\n",
       "3. &lt;NA&gt;\n",
       "4. &lt;NA&gt;\n",
       "5. &lt;NA&gt;\n",
       "\n",
       "\n"
      ],
      "text/plain": [
       "[1] NA NA NA NA NA"
      ]
     },
     "metadata": {},
     "output_type": "display_data"
    }
   ],
   "source": [
    "as.logical(c(\"1\",\"0\",\"1\",\"0\",\"0\"))"
   ]
  },
  {
   "cell_type": "code",
   "execution_count": 237,
   "metadata": {},
   "outputs": [
    {
     "data": {
      "text/html": [
       "<ol class=list-inline>\n",
       "\t<li>TRUE</li>\n",
       "\t<li>FALSE</li>\n",
       "\t<li>TRUE</li>\n",
       "\t<li>FALSE</li>\n",
       "\t<li>FALSE</li>\n",
       "</ol>\n"
      ],
      "text/latex": [
       "\\begin{enumerate*}\n",
       "\\item TRUE\n",
       "\\item FALSE\n",
       "\\item TRUE\n",
       "\\item FALSE\n",
       "\\item FALSE\n",
       "\\end{enumerate*}\n"
      ],
      "text/markdown": [
       "1. TRUE\n",
       "2. FALSE\n",
       "3. TRUE\n",
       "4. FALSE\n",
       "5. FALSE\n",
       "\n",
       "\n"
      ],
      "text/plain": [
       "[1]  TRUE FALSE  TRUE FALSE FALSE"
      ]
     },
     "metadata": {},
     "output_type": "display_data"
    }
   ],
   "source": [
    "as.logical(as.numeric(c(\"1\",\"0\",\"1\",\"0\",\"0\")))"
   ]
  },
  {
   "cell_type": "code",
   "execution_count": 238,
   "metadata": {},
   "outputs": [
    {
     "name": "stdout",
     "output_type": "stream",
     "text": [
      "[1] male   male   female male  \n",
      "Levels: female male\n"
     ]
    }
   ],
   "source": [
    "baz <- factor(x=c(\"male\",\"male\",\"female\",\"male\"))\n",
    "print(baz)"
   ]
  },
  {
   "cell_type": "code",
   "execution_count": 239,
   "metadata": {},
   "outputs": [
    {
     "name": "stdout",
     "output_type": "stream",
     "text": [
      "[1] 2 2 1 2\n"
     ]
    }
   ],
   "source": [
    "print(as.numeric(baz))"
   ]
  },
  {
   "cell_type": "code",
   "execution_count": 240,
   "metadata": {},
   "outputs": [],
   "source": [
    "qux <- factor(x=c(2,2,3,5))"
   ]
  },
  {
   "cell_type": "code",
   "execution_count": 241,
   "metadata": {},
   "outputs": [
    {
     "name": "stdout",
     "output_type": "stream",
     "text": [
      "[1] 2 2 3 5\n",
      "Levels: 2 3 5\n"
     ]
    }
   ],
   "source": [
    "print(qux)"
   ]
  },
  {
   "cell_type": "code",
   "execution_count": 242,
   "metadata": {},
   "outputs": [
    {
     "data": {
      "text/html": [
       "<ol class=list-inline>\n",
       "\t<li>1</li>\n",
       "\t<li>1</li>\n",
       "\t<li>2</li>\n",
       "\t<li>3</li>\n",
       "</ol>\n"
      ],
      "text/latex": [
       "\\begin{enumerate*}\n",
       "\\item 1\n",
       "\\item 1\n",
       "\\item 2\n",
       "\\item 3\n",
       "\\end{enumerate*}\n"
      ],
      "text/markdown": [
       "1. 1\n",
       "2. 1\n",
       "3. 2\n",
       "4. 3\n",
       "\n",
       "\n"
      ],
      "text/plain": [
       "[1] 1 1 2 3"
      ]
     },
     "metadata": {},
     "output_type": "display_data"
    }
   ],
   "source": [
    "as.numeric(qux)  #!!!!"
   ]
  },
  {
   "cell_type": "code",
   "execution_count": 243,
   "metadata": {},
   "outputs": [
    {
     "name": "stdout",
     "output_type": "stream",
     "text": [
      "[1] 1 2 3 4\n"
     ]
    }
   ],
   "source": [
    "foo <- matrix(data=1:4,nrow=2,ncol=2)\n",
    "print(as.vector(foo))"
   ]
  },
  {
   "cell_type": "code",
   "execution_count": 244,
   "metadata": {},
   "outputs": [],
   "source": [
    "baz <- list(var1=foo,var2=c(T,F,T),var3=factor(x=c(2,3,4,4,2)))\n",
    "#as.data.frame(baz)"
   ]
  },
  {
   "cell_type": "code",
   "execution_count": 245,
   "metadata": {},
   "outputs": [
    {
     "data": {
      "text/html": [
       "<table>\n",
       "<thead><tr><th scope=col>var1</th><th scope=col>var2</th><th scope=col>var3</th></tr></thead>\n",
       "<tbody>\n",
       "\t<tr><td>3    </td><td> TRUE</td><td>4    </td></tr>\n",
       "\t<tr><td>4    </td><td>FALSE</td><td>4    </td></tr>\n",
       "\t<tr><td>5    </td><td> TRUE</td><td>2    </td></tr>\n",
       "\t<tr><td>1    </td><td> TRUE</td><td>1    </td></tr>\n",
       "</tbody>\n",
       "</table>\n"
      ],
      "text/latex": [
       "\\begin{tabular}{r|lll}\n",
       " var1 & var2 & var3\\\\\n",
       "\\hline\n",
       "\t 3     &  TRUE & 4    \\\\\n",
       "\t 4     & FALSE & 4    \\\\\n",
       "\t 5     &  TRUE & 2    \\\\\n",
       "\t 1     &  TRUE & 1    \\\\\n",
       "\\end{tabular}\n"
      ],
      "text/markdown": [
       "\n",
       "| var1 | var2 | var3 |\n",
       "|---|---|---|\n",
       "| 3     |  TRUE | 4     |\n",
       "| 4     | FALSE | 4     |\n",
       "| 5     |  TRUE | 2     |\n",
       "| 1     |  TRUE | 1     |\n",
       "\n"
      ],
      "text/plain": [
       "  var1 var2  var3\n",
       "1 3     TRUE 4   \n",
       "2 4    FALSE 4   \n",
       "3 5     TRUE 2   \n",
       "4 1     TRUE 1   "
      ]
     },
     "metadata": {},
     "output_type": "display_data"
    }
   ],
   "source": [
    "qux <- list(var1=c(3,4,5,1),var2=c(T,F,T,T),var3=factor(x=c(4,4,2,1)))\n",
    "as.data.frame(qux)"
   ]
  },
  {
   "cell_type": "code",
   "execution_count": null,
   "metadata": {},
   "outputs": [],
   "source": []
  }
 ],
 "metadata": {
  "kernelspec": {
   "display_name": "R",
   "language": "R",
   "name": "ir"
  },
  "language_info": {
   "codemirror_mode": "r",
   "file_extension": ".r",
   "mimetype": "text/x-r-source",
   "name": "R",
   "pygments_lexer": "r",
   "version": "3.6.1"
  }
 },
 "nbformat": 4,
 "nbformat_minor": 4
}

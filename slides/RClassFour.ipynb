{
 "cells": [
  {
   "cell_type": "markdown",
   "metadata": {},
   "source": [
    "#### CONDITIONS AND LOOPS"
   ]
  },
  {
   "cell_type": "markdown",
   "metadata": {},
   "source": [
    "##### Stand-Alone Statement"
   ]
  },
  {
   "cell_type": "code",
   "execution_count": 1,
   "metadata": {
    "vscode": {
     "languageId": "r"
    }
   },
   "outputs": [],
   "source": [
    "# if(condition){                  # TRUE or FALSE\n",
    "#    do any code here\n",
    "# }"
   ]
  },
  {
   "cell_type": "code",
   "execution_count": 1,
   "metadata": {
    "vscode": {
     "languageId": "r"
    }
   },
   "outputs": [
    {
     "name": "stdout",
     "output_type": "stream",
     "text": [
      "[1] 9\n"
     ]
    }
   ],
   "source": [
    "a <- 3\n",
    "mynumber <- 4\n",
    "if(a<=mynumber){\n",
    "    a <- a^2\n",
    "}\n",
    "print(a)"
   ]
  },
  {
   "cell_type": "code",
   "execution_count": 2,
   "metadata": {
    "vscode": {
     "languageId": "r"
    }
   },
   "outputs": [
    {
     "name": "stdout",
     "output_type": "stream",
     "text": [
      "[1] 9\n"
     ]
    }
   ],
   "source": [
    "if(a<=mynumber){\n",
    "    a <- a^2\n",
    "}\n",
    "print(a)"
   ]
  },
  {
   "cell_type": "code",
   "execution_count": 8,
   "metadata": {
    "vscode": {
     "languageId": "r"
    }
   },
   "outputs": [
    {
     "name": "stdout",
     "output_type": "stream",
     "text": [
      "     [,1] [,2]\n",
      "[1,]    2    0\n",
      "[2,]    0    3\n",
      "[3,]    1    0\n",
      "[4,]    2    1\n",
      "[5,]    3    1\n",
      "Condition satisfied --\n",
      "-- a list with 2 members now exists.$aa\n",
      " [1]   NA 5.40   NA 5.29   NA 2.16   NA 6.97   NA 9.52\n",
      "\n",
      "$bb\n",
      "     [,1] [,2]\n",
      "[1,]  2.5  0.5\n",
      "[2,]  0.5  3.5\n",
      "[3,]  1.5  0.5\n",
      "[4,]  2.5  1.5\n",
      "[5,]  3.5  1.5\n",
      "\n"
     ]
    }
   ],
   "source": [
    "myvec <- c(2.73,5.40,2.15,5.29,1.36,2.16,1.41,6.97,7.99,9.52)\n",
    "mymat <- matrix(c(2,0,1,2,3,0,3,0,1,1),5,2)\n",
    "print(mymat)\n",
    "if(any((myvec-1)>9)||matrix(myvec,2,5)[2,1]<=6){   #Note || operator\n",
    "    cat(\"Condition satisfied --\\n\")\n",
    "    new.myvec <- myvec\n",
    "    new.myvec[seq(1,9,2)] <- NA\n",
    "    mylist <- list(aa=new.myvec,bb=mymat+0.5)\n",
    "    cat(\"-- a list with\",length(mylist),\"members now exists.\")\n",
    "}\n",
    "print(mylist)"
   ]
  },
  {
   "cell_type": "markdown",
   "metadata": {},
   "source": [
    "##### Do It, or else..."
   ]
  },
  {
   "cell_type": "code",
   "execution_count": 9,
   "metadata": {
    "vscode": {
     "languageId": "r"
    }
   },
   "outputs": [],
   "source": [
    "# if(condition){\n",
    "#     do any code in here if condition is TRUE\n",
    "# } else {\n",
    "#     do any code in here if condition is FALSE\n",
    "# }"
   ]
  },
  {
   "cell_type": "code",
   "execution_count": 10,
   "metadata": {
    "vscode": {
     "languageId": "r"
    }
   },
   "outputs": [
    {
     "name": "stdout",
     "output_type": "stream",
     "text": [
      "Condition was TRUE \n",
      "[1] 9\n"
     ]
    }
   ],
   "source": [
    "a <- 3\n",
    "mynumber <- 4\n",
    "if(a<=mynumber){\n",
    "    cat(\"Condition was\",a<=mynumber,'\\n')\n",
    "    a <- a^2\n",
    "} else {\n",
    "    cat(\"Condition was\",a<=mynumber,'\\n')\n",
    "    a <- a-3.5\n",
    "}\n",
    "print(a)"
   ]
  },
  {
   "cell_type": "code",
   "execution_count": 11,
   "metadata": {
    "vscode": {
     "languageId": "r"
    }
   },
   "outputs": [
    {
     "name": "stdout",
     "output_type": "stream",
     "text": [
      "Condition was FALSE \n",
      "[1] 5.5\n"
     ]
    }
   ],
   "source": [
    "if(a<=mynumber){\n",
    "    cat(\"Condition was\",a<=mynumber,'\\n')\n",
    "    a <- a^2\n",
    "} else {\n",
    "    cat(\"Condition was\",a<=mynumber,'\\n')\n",
    "    a <- a-3.5\n",
    "}\n",
    "print(a)"
   ]
  },
  {
   "cell_type": "markdown",
   "metadata": {},
   "source": [
    "##### Using ifelse for Element-wise Checks"
   ]
  },
  {
   "cell_type": "code",
   "execution_count": 12,
   "metadata": {
    "vscode": {
     "languageId": "r"
    }
   },
   "outputs": [
    {
     "ename": "ERROR",
     "evalue": "Error in if (c(FALSE, TRUE, FALSE, TRUE, TRUE)) {: the condition has length > 1\n",
     "output_type": "error",
     "traceback": [
      "Error in if (c(FALSE, TRUE, FALSE, TRUE, TRUE)) {: the condition has length > 1\nTraceback:\n"
     ]
    }
   ],
   "source": [
    "if(c(FALSE,TRUE,FALSE,TRUE,TRUE)){}"
   ]
  },
  {
   "cell_type": "code",
   "execution_count": 13,
   "metadata": {
    "vscode": {
     "languageId": "r"
    }
   },
   "outputs": [
    {
     "name": "stdout",
     "output_type": "stream",
     "text": [
      " [1] -1.000000 -1.250000 -1.666667 -2.500000 -5.000000        NA  5.000000\n",
      " [8]  2.500000  1.666667  1.250000  1.000000\n"
     ]
    }
   ],
   "source": [
    "# produce the result of x/y but with any instance of Inf \n",
    "# (that is, any instance where x is divided by zero) replaced with NA\n",
    "x <- 5\n",
    "y <- -5:5\n",
    "result <- ifelse(test=y==0,yes=NA,no=x/y)\n",
    "print(result)"
   ]
  },
  {
   "cell_type": "code",
   "execution_count": 14,
   "metadata": {
    "vscode": {
     "languageId": "r"
    }
   },
   "outputs": [
    {
     "name": "stdout",
     "output_type": "stream",
     "text": [
      " [1] \"A\" \"A\" \"B\" \"B\" \"C\" \"C\" \"C\" \"C\" \"C\" \"C\"\n"
     ]
    }
   ],
   "source": [
    "x <- 1:10\n",
    "result <- ifelse(x<5,ifelse(x<3, 'A','B'), 'C')\n",
    "print(result)"
   ]
  },
  {
   "cell_type": "markdown",
   "metadata": {},
   "source": [
    "##### Nesting and Stacking Statements"
   ]
  },
  {
   "cell_type": "code",
   "execution_count": 1,
   "metadata": {
    "vscode": {
     "languageId": "r"
    }
   },
   "outputs": [
    {
     "name": "stdout",
     "output_type": "stream",
     "text": [
      "First condition was FALSE\n",
      "Second condition was TRUE\n",
      "[1] 2\n",
      "[1] 0.5\n",
      "[1] 2\n",
      "[1] 0.5\n"
     ]
    }
   ],
   "source": [
    "a <- 5.5\n",
    "mynumber <- 4\n",
    "if(a<=mynumber){\n",
    "    cat(\"First condition was TRUE\\n\")\n",
    "    a <- a^2\n",
    "    if(mynumber>3){\n",
    "        cat(\"Second condition was TRUE\\n\")\n",
    "        b <- seq(1,a,length=mynumber)\n",
    "    } else {\n",
    "        cat(\"Second condition was FALSE\\n\")\n",
    "        b <- a*mynumber\n",
    "    }\n",
    "} else {\n",
    "    cat(\"First condition was FALSE\\n\")\n",
    "    a <- a-3.5\n",
    "    if(mynumber>=4){\n",
    "        cat(\"Second condition was TRUE\\n\")\n",
    "        b <- a^(3-mynumber)\n",
    "    } else {\n",
    "        cat(\"Second condition was FALSE\\n\")\n",
    "        b <- rep(a+mynumber,times=3)\n",
    "    }\n",
    "}\n",
    "print(a)\n",
    "print(b)\n"
   ]
  },
  {
   "cell_type": "code",
   "execution_count": 2,
   "metadata": {
    "vscode": {
     "languageId": "r"
    }
   },
   "outputs": [
    {
     "name": "stdout",
     "output_type": "stream",
     "text": [
      "First condition was TRUE\n",
      "Second condition was TRUE\n",
      "[1] 9\n",
      "[1] 1.000000 3.666667 6.333333 9.000000\n",
      "[1] 9\n",
      "[1] 1.000000 3.666667 6.333333 9.000000\n"
     ]
    }
   ],
   "source": [
    "a <- 3\n",
    "mynumber <- 4\n",
    "if(a<=mynumber){\n",
    "    cat(\"First condition was TRUE\\n\")\n",
    "    a <- a^2\n",
    "    if(mynumber>3){\n",
    "        cat(\"Second condition was TRUE\\n\")\n",
    "        b <- seq(1,a,length=mynumber)\n",
    "    } else {\n",
    "        cat(\"Second condition was FALSE\\n\")\n",
    "        b <- a*mynumber\n",
    "    }\n",
    "} else {\n",
    "    cat(\"First condition was FALSE\\n\")\n",
    "    a <- a-3.5\n",
    "    if(mynumber>=4){\n",
    "        cat(\"Second condition was TRUE\\n\")\n",
    "        b <- a^(3-mynumber)\n",
    "    } else {\n",
    "        cat(\"Second condition was FALSE\\n\")\n",
    "        b <- rep(a+mynumber,times=3)\n",
    "    }\n",
    "}\n",
    "print(a)\n",
    "print(b)"
   ]
  },
  {
   "cell_type": "code",
   "execution_count": 3,
   "metadata": {
    "vscode": {
     "languageId": "r"
    }
   },
   "outputs": [
    {
     "name": "stdout",
     "output_type": "stream",
     "text": [
      "Same as 'first condition TRUE and second TRUE'\n",
      "[1] 9\n",
      "[1] 1.000000 3.666667 6.333333 9.000000\n",
      "[1] 9\n",
      "[1] 1.000000 3.666667 6.333333 9.000000\n"
     ]
    }
   ],
   "source": [
    "#stacking if statements\n",
    "a <- 3\n",
    "mynumver <- 4\n",
    "if(a<=mynumber && mynumber>3){\n",
    "    cat(\"Same as 'first condition TRUE and second TRUE'\\n\")\n",
    "    a <- a^2\n",
    "    b <- seq(1,a,length=mynumber)\n",
    "} else if(a<=mynumber && mynumber<=3){\n",
    "    cat(\"Same as 'first condition TRUE and second FALSE'\\n\")\n",
    "    a <- a^2\n",
    "    b <- a*mynumber\n",
    "} else if(mynumber>=4){\n",
    "    cat(\"Same as 'first condition FALSE and second TRUE'\\n\")\n",
    "    a <- a-3.5\n",
    "    b <- a^(3-mynumber)\n",
    "} else {\n",
    "    cat(\"Same as 'first condition FALSE and second FALSE'\\n\")\n",
    "    a <- a-3.5\n",
    "    b <- rep(a+mynumber,times=3)\n",
    "}\n",
    "print(a)\n",
    "print(b)"
   ]
  },
  {
   "cell_type": "code",
   "execution_count": 4,
   "metadata": {
    "vscode": {
     "languageId": "r"
    }
   },
   "outputs": [
    {
     "name": "stdout",
     "output_type": "stream",
     "text": [
      "Same as 'first condition FALSE and second TRUE'\n",
      "[1] 5.5\n",
      "[1] 0.1818182\n",
      "[1] 5.5\n",
      "[1] 0.1818182\n"
     ]
    }
   ],
   "source": [
    "if(a<=mynumber && mynumber>3){\n",
    "    cat(\"Same as 'first condition TRUE and second TRUE'\\n\")\n",
    "    a <- a^2\n",
    "    b <- seq(1,a,length=mynumber)\n",
    "} else if(a<=mynumber && mynumber<=3){\n",
    "    cat(\"Same as 'first condition TRUE and second FALSE'\\n\")\n",
    "    a <- a^2\n",
    "    b <- a*mynumber\n",
    "} else if(mynumber>=4){\n",
    "    cat(\"Same as 'first condition FALSE and second TRUE'\\n\")\n",
    "    a <- a-3.5\n",
    "    b <- a^(3-mynumber)\n",
    "} else {\n",
    "    cat(\"Same as 'first condition FALSE and second FALSE'\\n\")\n",
    "    a <- a-3.5\n",
    "    b <- rep(a+mynumber,times=3)\n",
    "}\n",
    "print(a)\n",
    "print(b)"
   ]
  },
  {
   "cell_type": "markdown",
   "metadata": {},
   "source": [
    "##### switch "
   ]
  },
  {
   "cell_type": "code",
   "execution_count": 5,
   "metadata": {
    "vscode": {
     "languageId": "r"
    }
   },
   "outputs": [
    {
     "name": "stdout",
     "output_type": "stream",
     "text": [
      "[1] 56\n"
     ]
    }
   ],
   "source": [
    "mystring= 'Bart'\n",
    "if(mystring==\"Homer\"){\n",
    "    foo <- 12\n",
    "} else if(mystring==\"Marge\"){\n",
    "    foo <- 34\n",
    "} else if(mystring==\"Bart\"){\n",
    "    foo <- 56\n",
    "} else if(mystring==\"Lisa\"){\n",
    "    foo <- 78\n",
    "} else if(mystring==\"Maggie\"){\n",
    "    foo <- 90\n",
    "} else {\n",
    "    foo <- NA\n",
    "}\n",
    "print(foo)"
   ]
  },
  {
   "cell_type": "code",
   "execution_count": 6,
   "metadata": {
    "vscode": {
     "languageId": "r"
    }
   },
   "outputs": [
    {
     "name": "stdout",
     "output_type": "stream",
     "text": [
      "[1] 56\n",
      "[1] NA\n",
      "[1] NA\n"
     ]
    }
   ],
   "source": [
    "mystring= 'Bart'\n",
    "foo <- switch(EXPR=mystring,Homer=12,Marge=34,Bart=56,Lisa=78,Maggie=90,NA) #string version\n",
    "print(foo)\n",
    "mystring= 'Peter'\n",
    "foo <- switch(EXPR=mystring,Homer=12,Marge=34,Bart=56,Lisa=78,Maggie=90,NA) #string version\n",
    "print(foo)"
   ]
  },
  {
   "cell_type": "code",
   "execution_count": 7,
   "metadata": {
    "vscode": {
     "languageId": "r"
    }
   },
   "outputs": [
    {
     "name": "stdout",
     "output_type": "stream",
     "text": [
      "[1] 56\n"
     ]
    },
    {
     "name": "stdout",
     "output_type": "stream",
     "text": [
      "NULL\n"
     ]
    }
   ],
   "source": [
    "mynum <- 3\n",
    "foo <- switch(mynum,12,34,56,78,NA)   #integer version\n",
    "print(foo)\n",
    "mynum <- 7\n",
    "foo <- switch(mynum,12,34,56,78,NA)   #integer version\n",
    "print(foo)"
   ]
  },
  {
   "cell_type": "markdown",
   "metadata": {},
   "source": [
    "#### Coding Loops"
   ]
  },
  {
   "cell_type": "markdown",
   "metadata": {},
   "source": [
    "##### for Loops"
   ]
  },
  {
   "cell_type": "code",
   "execution_count": 8,
   "metadata": {
    "vscode": {
     "languageId": "r"
    }
   },
   "outputs": [],
   "source": [
    "# for(loopindex in loopvector){\n",
    "#     do any code in here\n",
    "# }"
   ]
  },
  {
   "cell_type": "code",
   "execution_count": 9,
   "metadata": {
    "vscode": {
     "languageId": "r"
    }
   },
   "outputs": [
    {
     "name": "stdout",
     "output_type": "stream",
     "text": [
      "--BRACED AREA BEGINS--\n",
      "the current item is 5 \n",
      "--BRACED AREA ENDS--\n",
      "\n",
      "--BRACED AREA BEGINS--\n",
      "the current item is 6 \n",
      "--BRACED AREA ENDS--\n",
      "\n",
      "--BRACED AREA BEGINS--\n",
      "the current item is 7 \n",
      "--BRACED AREA ENDS--\n",
      "\n"
     ]
    }
   ],
   "source": [
    "for(myitem in 5:7){\n",
    "    cat(\"--BRACED AREA BEGINS--\\n\")\n",
    "    cat(\"the current item is\",myitem,\"\\n\")\n",
    "    cat(\"--BRACED AREA ENDS--\\n\\n\")\n",
    "}"
   ]
  },
  {
   "cell_type": "code",
   "execution_count": 10,
   "metadata": {
    "vscode": {
     "languageId": "r"
    }
   },
   "outputs": [
    {
     "name": "stdout",
     "output_type": "stream",
     "text": [
      "[1] 0.8\n",
      "[1] 2.2\n",
      "[1] 0.68\n",
      "[1] 1.1\n"
     ]
    }
   ],
   "source": [
    "myvec <- c(0.4,1.1,0.34,0.55)\n",
    "for(i in myvec){\n",
    "    print(2*i)\n",
    "}"
   ]
  },
  {
   "cell_type": "code",
   "execution_count": 11,
   "metadata": {
    "vscode": {
     "languageId": "r"
    }
   },
   "outputs": [
    {
     "name": "stdout",
     "output_type": "stream",
     "text": [
      "[1] 0.8\n",
      "[1] 2.2\n",
      "[1] 0.68\n",
      "[1] 1.1\n"
     ]
    }
   ],
   "source": [
    "for(i in 1:length(myvec)){\n",
    "    print(2*myvec[i])\n",
    "}"
   ]
  },
  {
   "cell_type": "code",
   "execution_count": 12,
   "metadata": {
    "vscode": {
     "languageId": "r"
    }
   },
   "outputs": [],
   "source": [
    "#store the information of matrices in dataframe\n",
    "foo <- list(aa=c(3.4,1),bb=matrix(1:4,2,2),cc=matrix(c(T,T,F,T,F,F),3,2),\n",
    "            dd=\"string here\",ee=matrix(c(\"red\",\"green\",\"blue\",\"yellow\")))\n",
    "name <- names(foo)\n",
    "is.mat <- rep(NA,length(foo))\n",
    "nr <- is.mat\n",
    "nc <- is.mat\n",
    "data.type <- is.mat\n",
    "for(i in 1:length(foo)){\n",
    "    member <- foo[[i]]\n",
    "    if(is.matrix(member)){\n",
    "        is.mat[i] <- \"Yes\"\n",
    "        nr[i] <- nrow(member)\n",
    "        nc[i] <- ncol(member)\n",
    "        data.type[i] <- class(as.vector(member))\n",
    "    } else {\n",
    "        is.mat[i] <- \"No\"\n",
    "    }\n",
    "}"
   ]
  },
  {
   "cell_type": "code",
   "execution_count": 13,
   "metadata": {
    "vscode": {
     "languageId": "r"
    }
   },
   "outputs": [
    {
     "name": "stdout",
     "output_type": "stream",
     "text": [
      "  name is.mat nr nc data.type\n",
      "1   aa     No NA NA      <NA>\n",
      "2   bb    Yes  2  2   integer\n",
      "3   cc    Yes  3  2   logical\n",
      "4   dd     No NA NA      <NA>\n",
      "5   ee    Yes  4  1 character\n"
     ]
    }
   ],
   "source": [
    "bar <- data.frame(name,is.mat,nr,nc,data.type,stringsAsFactors=FALSE)\n",
    "print(bar)"
   ]
  },
  {
   "cell_type": "markdown",
   "metadata": {},
   "source": [
    "##### while Loops"
   ]
  },
  {
   "cell_type": "code",
   "execution_count": 24,
   "metadata": {
    "vscode": {
     "languageId": "r"
    }
   },
   "outputs": [],
   "source": [
    "# while(loopcondition){\n",
    "#  do any code in here\n",
    "# }"
   ]
  },
  {
   "cell_type": "code",
   "execution_count": 25,
   "metadata": {
    "vscode": {
     "languageId": "r"
    }
   },
   "outputs": [
    {
     "name": "stdout",
     "output_type": "stream",
     "text": [
      "\n",
      "'myval' is now 6 \n",
      "'mycondition' is now TRUE \n",
      "\n",
      "'myval' is now 7 \n",
      "'mycondition' is now TRUE \n",
      "\n",
      "'myval' is now 8 \n",
      "'mycondition' is now TRUE \n",
      "\n",
      "'myval' is now 9 \n",
      "'mycondition' is now TRUE \n",
      "\n",
      "'myval' is now 10 \n",
      "'mycondition' is now FALSE \n"
     ]
    }
   ],
   "source": [
    "myval <- 5\n",
    "while(myval<10){\n",
    "    myval <- myval+1\n",
    "    cat(\"\\n'myval' is now\",myval,\"\\n\")\n",
    "    cat(\"'mycondition' is now\",myval<10,\"\\n\")\n",
    "}"
   ]
  },
  {
   "cell_type": "code",
   "execution_count": 26,
   "metadata": {
    "vscode": {
     "languageId": "r"
    }
   },
   "outputs": [],
   "source": [
    "mylist <- list()\n",
    "counter <- 1\n",
    "mynumbers <- c(4,5,1,2,6,2,4,6,6,2)\n",
    "mycondition <- mynumbers[counter]<=5\n",
    "while(mycondition){\n",
    "    mylist[[counter]] <- diag(mynumbers[counter])\n",
    "    counter <- counter+1\n",
    "    if(counter<=length(mynumbers)){\n",
    "        mycondition <- mynumbers[counter]<=5\n",
    "    } else {\n",
    "        mycondition <- FALSE\n",
    "    }\n",
    "}"
   ]
  },
  {
   "cell_type": "code",
   "execution_count": 27,
   "metadata": {
    "vscode": {
     "languageId": "r"
    }
   },
   "outputs": [
    {
     "name": "stdout",
     "output_type": "stream",
     "text": [
      "[[1]]\n",
      "     [,1] [,2] [,3] [,4]\n",
      "[1,]    1    0    0    0\n",
      "[2,]    0    1    0    0\n",
      "[3,]    0    0    1    0\n",
      "[4,]    0    0    0    1\n",
      "\n",
      "[[2]]\n",
      "     [,1] [,2] [,3] [,4] [,5]\n",
      "[1,]    1    0    0    0    0\n",
      "[2,]    0    1    0    0    0\n",
      "[3,]    0    0    1    0    0\n",
      "[4,]    0    0    0    1    0\n",
      "[5,]    0    0    0    0    1\n",
      "\n",
      "[[3]]\n",
      "     [,1]\n",
      "[1,]    1\n",
      "\n",
      "[[4]]\n",
      "     [,1] [,2]\n",
      "[1,]    1    0\n",
      "[2,]    0    1\n",
      "\n"
     ]
    }
   ],
   "source": [
    "print(mylist)"
   ]
  },
  {
   "cell_type": "markdown",
   "metadata": {},
   "source": [
    "##### Implicit Looping with apply"
   ]
  },
  {
   "cell_type": "code",
   "execution_count": 28,
   "metadata": {
    "vscode": {
     "languageId": "r"
    }
   },
   "outputs": [
    {
     "name": "stdout",
     "output_type": "stream",
     "text": [
      "[1] 15 18 21 24\n"
     ]
    }
   ],
   "source": [
    "foo <- matrix(1:12,4,3)\n",
    "row.totals <- rep(NA,times=nrow(foo))\n",
    "for(i in 1:nrow(foo)){\n",
    "    row.totals[i] <- sum(foo[i,])\n",
    "}\n",
    "print(row.totals)"
   ]
  },
  {
   "cell_type": "code",
   "execution_count": 29,
   "metadata": {
    "vscode": {
     "languageId": "r"
    }
   },
   "outputs": [
    {
     "name": "stdout",
     "output_type": "stream",
     "text": [
      "[1] 15 18 21 24\n"
     ]
    }
   ],
   "source": [
    "row.totals2 <- apply(X=foo,MARGIN=1,FUN=sum)  #using apply\n",
    "print(row.totals2)"
   ]
  },
  {
   "cell_type": "code",
   "execution_count": 30,
   "metadata": {
    "vscode": {
     "languageId": "r"
    }
   },
   "outputs": [
    {
     "data": {
      "text/html": [
       "<ol class=list-inline>\n",
       "\t<li>10</li>\n",
       "\t<li>26</li>\n",
       "\t<li>42</li>\n",
       "</ol>\n"
      ],
      "text/latex": [
       "\\begin{enumerate*}\n",
       "\\item 10\n",
       "\\item 26\n",
       "\\item 42\n",
       "\\end{enumerate*}\n"
      ],
      "text/markdown": [
       "1. 10\n",
       "2. 26\n",
       "3. 42\n",
       "\n",
       "\n"
      ],
      "text/plain": [
       "[1] 10 26 42"
      ]
     },
     "metadata": {},
     "output_type": "display_data"
    }
   ],
   "source": [
    "apply(X=foo,MARGIN=2,FUN=sum)  #colsum"
   ]
  },
  {
   "cell_type": "code",
   "execution_count": 31,
   "metadata": {
    "vscode": {
     "languageId": "r"
    }
   },
   "outputs": [
    {
     "name": "stdout",
     "output_type": "stream",
     "text": [
      ", , 1\n",
      "\n",
      "     [,1] [,2] [,3]\n",
      "[1,]    1    4    7\n",
      "[2,]    2    5    8\n",
      "[3,]    3    6    9\n",
      "\n",
      ", , 2\n",
      "\n",
      "     [,1] [,2] [,3]\n",
      "[1,]   10   13   16\n",
      "[2,]   11   14   17\n",
      "[3,]   12   15   18\n",
      "\n"
     ]
    }
   ],
   "source": [
    "bar <- array(1:18,dim=c(3,3,2))\n",
    "print(bar)"
   ]
  },
  {
   "cell_type": "code",
   "execution_count": 32,
   "metadata": {
    "vscode": {
     "languageId": "r"
    }
   },
   "outputs": [
    {
     "name": "stdout",
     "output_type": "stream",
     "text": [
      "     [,1] [,2]\n",
      "[1,]    1   10\n",
      "[2,]    5   14\n",
      "[3,]    9   18\n"
     ]
    }
   ],
   "source": [
    "print(apply(bar,3,FUN=diag))"
   ]
  },
  {
   "cell_type": "code",
   "execution_count": 33,
   "metadata": {
    "vscode": {
     "languageId": "r"
    }
   },
   "outputs": [
    {
     "data": {
      "text/html": [
       "<table>\n",
       "<thead><tr><th scope=col>X</th><th scope=col>carat</th><th scope=col>cut</th><th scope=col>color</th><th scope=col>clarity</th><th scope=col>depth</th><th scope=col>table</th><th scope=col>price</th><th scope=col>x</th><th scope=col>y</th><th scope=col>z</th></tr></thead>\n",
       "<tbody>\n",
       "\t<tr><td>1        </td><td>0.23     </td><td>Ideal    </td><td>E        </td><td>SI2      </td><td>61.5     </td><td>55       </td><td>326      </td><td>3.95     </td><td>3.98     </td><td>2.43     </td></tr>\n",
       "\t<tr><td>2        </td><td>0.21     </td><td>Premium  </td><td>E        </td><td>SI1      </td><td>59.8     </td><td>61       </td><td>326      </td><td>3.89     </td><td>3.84     </td><td>2.31     </td></tr>\n",
       "\t<tr><td>3        </td><td>0.23     </td><td>Good     </td><td>E        </td><td>VS1      </td><td>56.9     </td><td>65       </td><td>327      </td><td>4.05     </td><td>4.07     </td><td>2.31     </td></tr>\n",
       "\t<tr><td>4        </td><td>0.29     </td><td>Premium  </td><td>I        </td><td>VS2      </td><td>62.4     </td><td>58       </td><td>334      </td><td>4.20     </td><td>4.23     </td><td>2.63     </td></tr>\n",
       "\t<tr><td>5        </td><td>0.31     </td><td>Good     </td><td>J        </td><td>SI2      </td><td>63.3     </td><td>58       </td><td>335      </td><td>4.34     </td><td>4.35     </td><td>2.75     </td></tr>\n",
       "\t<tr><td>6        </td><td>0.24     </td><td>Very Good</td><td>J        </td><td>VVS2     </td><td>62.8     </td><td>57       </td><td>336      </td><td>3.94     </td><td>3.96     </td><td>2.48     </td></tr>\n",
       "</tbody>\n",
       "</table>\n"
      ],
      "text/latex": [
       "\\begin{tabular}{r|lllllllllll}\n",
       " X & carat & cut & color & clarity & depth & table & price & x & y & z\\\\\n",
       "\\hline\n",
       "\t 1         & 0.23      & Ideal     & E         & SI2       & 61.5      & 55        & 326       & 3.95      & 3.98      & 2.43     \\\\\n",
       "\t 2         & 0.21      & Premium   & E         & SI1       & 59.8      & 61        & 326       & 3.89      & 3.84      & 2.31     \\\\\n",
       "\t 3         & 0.23      & Good      & E         & VS1       & 56.9      & 65        & 327       & 4.05      & 4.07      & 2.31     \\\\\n",
       "\t 4         & 0.29      & Premium   & I         & VS2       & 62.4      & 58        & 334       & 4.20      & 4.23      & 2.63     \\\\\n",
       "\t 5         & 0.31      & Good      & J         & SI2       & 63.3      & 58        & 335       & 4.34      & 4.35      & 2.75     \\\\\n",
       "\t 6         & 0.24      & Very Good & J         & VVS2      & 62.8      & 57        & 336       & 3.94      & 3.96      & 2.48     \\\\\n",
       "\\end{tabular}\n"
      ],
      "text/markdown": [
       "\n",
       "| X | carat | cut | color | clarity | depth | table | price | x | y | z |\n",
       "|---|---|---|---|---|---|---|---|---|---|---|\n",
       "| 1         | 0.23      | Ideal     | E         | SI2       | 61.5      | 55        | 326       | 3.95      | 3.98      | 2.43      |\n",
       "| 2         | 0.21      | Premium   | E         | SI1       | 59.8      | 61        | 326       | 3.89      | 3.84      | 2.31      |\n",
       "| 3         | 0.23      | Good      | E         | VS1       | 56.9      | 65        | 327       | 4.05      | 4.07      | 2.31      |\n",
       "| 4         | 0.29      | Premium   | I         | VS2       | 62.4      | 58        | 334       | 4.20      | 4.23      | 2.63      |\n",
       "| 5         | 0.31      | Good      | J         | SI2       | 63.3      | 58        | 335       | 4.34      | 4.35      | 2.75      |\n",
       "| 6         | 0.24      | Very Good | J         | VVS2      | 62.8      | 57        | 336       | 3.94      | 3.96      | 2.48      |\n",
       "\n"
      ],
      "text/plain": [
       "  X carat cut       color clarity depth table price x    y    z   \n",
       "1 1 0.23  Ideal     E     SI2     61.5  55    326   3.95 3.98 2.43\n",
       "2 2 0.21  Premium   E     SI1     59.8  61    326   3.89 3.84 2.31\n",
       "3 3 0.23  Good      E     VS1     56.9  65    327   4.05 4.07 2.31\n",
       "4 4 0.29  Premium   I     VS2     62.4  58    334   4.20 4.23 2.63\n",
       "5 5 0.31  Good      J     SI2     63.3  58    335   4.34 4.35 2.75\n",
       "6 6 0.24  Very Good J     VVS2    62.8  57    336   3.94 3.96 2.48"
      ]
     },
     "metadata": {},
     "output_type": "display_data"
    }
   ],
   "source": [
    "diamonds <- read.csv(\"diamonds.csv\")\n",
    "head(diamonds)"
   ]
  },
  {
   "cell_type": "code",
   "execution_count": 34,
   "metadata": {
    "vscode": {
     "languageId": "r"
    }
   },
   "outputs": [
    {
     "name": "stdout",
     "output_type": "stream",
     "text": [
      "       D        E        F        G        H        I        J \n",
      "21476439 30142944 35542866 45158240 37257301 27608146 14949281 \n"
     ]
    }
   ],
   "source": [
    "print(tapply(diamonds$price,INDEX=diamonds$color,FUN=sum))   #Apply a function to each cell of a ragged array"
   ]
  },
  {
   "cell_type": "code",
   "execution_count": 35,
   "metadata": {
    "vscode": {
     "languageId": "r"
    }
   },
   "outputs": [
    {
     "name": "stdout",
     "output_type": "stream",
     "text": [
      "$aa\n",
      "[1] FALSE\n",
      "\n",
      "$bb\n",
      "[1] TRUE\n",
      "\n",
      "$cc\n",
      "[1] TRUE\n",
      "\n",
      "$dd\n",
      "[1] FALSE\n",
      "\n",
      "$ee\n",
      "[1] TRUE\n",
      "\n"
     ]
    }
   ],
   "source": [
    "baz <- list(aa=c(3.4,1),bb=matrix(1:4,2,2),cc=matrix(c(T,T,F,T,F,F),3,2),\n",
    "            dd=\"string here\",ee=matrix(c(\"red\",\"green\",\"blue\",\"yellow\")))\n",
    "print(lapply(baz,FUN=is.matrix))                                                   #Apply A Function Over A List Or Vector, return a list"
   ]
  },
  {
   "cell_type": "code",
   "execution_count": 36,
   "metadata": {
    "vscode": {
     "languageId": "r"
    }
   },
   "outputs": [
    {
     "name": "stdout",
     "output_type": "stream",
     "text": [
      "   aa    bb    cc    dd    ee \n",
      "FALSE  TRUE  TRUE FALSE  TRUE \n"
     ]
    }
   ],
   "source": [
    "print(sapply(baz,FUN=is.matrix))      #Apply A Function Over A List Or Vector, return a vector"
   ]
  },
  {
   "cell_type": "code",
   "execution_count": 37,
   "metadata": {
    "vscode": {
     "languageId": "r"
    }
   },
   "outputs": [
    {
     "data": {
      "text/html": [
       "<table>\n",
       "<tbody>\n",
       "\t<tr><td>9 </td><td>10</td><td>11</td><td>12</td></tr>\n",
       "\t<tr><td>5 </td><td> 6</td><td> 7</td><td> 8</td></tr>\n",
       "\t<tr><td>1 </td><td> 2</td><td> 3</td><td> 4</td></tr>\n",
       "</tbody>\n",
       "</table>\n"
      ],
      "text/latex": [
       "\\begin{tabular}{llll}\n",
       "\t 9  & 10 & 11 & 12\\\\\n",
       "\t 5  &  6 &  7 &  8\\\\\n",
       "\t 1  &  2 &  3 &  4\\\\\n",
       "\\end{tabular}\n"
      ],
      "text/markdown": [
       "\n",
       "| 9  | 10 | 11 | 12 |\n",
       "| 5  |  6 |  7 |  8 |\n",
       "| 1  |  2 |  3 |  4 |\n",
       "\n"
      ],
      "text/plain": [
       "     [,1] [,2] [,3] [,4]\n",
       "[1,] 9    10   11   12  \n",
       "[2,] 5     6    7    8  \n",
       "[3,] 1     2    3    4  "
      ]
     },
     "metadata": {},
     "output_type": "display_data"
    }
   ],
   "source": [
    "apply(foo,1,sort,decreasing=TRUE)    #additional arguments for FUN."
   ]
  },
  {
   "cell_type": "markdown",
   "metadata": {},
   "source": [
    "##### Declaring break or next"
   ]
  },
  {
   "cell_type": "code",
   "execution_count": 38,
   "metadata": {
    "vscode": {
     "languageId": "r"
    }
   },
   "outputs": [],
   "source": [
    "foo <- 5\n",
    "bar <- c(2,3,1.1,4,0,4.1,3)"
   ]
  },
  {
   "cell_type": "code",
   "execution_count": 39,
   "metadata": {
    "vscode": {
     "languageId": "r"
    }
   },
   "outputs": [],
   "source": [
    "loop1.result <- rep(NA,length(bar))\n",
    "for(i in 1:length(bar)){\n",
    "    temp <- foo/bar[i]\n",
    "    if(is.finite(temp)){\n",
    "        loop1.result[i] <- temp\n",
    "    } else {\n",
    "        break\n",
    "    }\n",
    "}"
   ]
  },
  {
   "cell_type": "code",
   "execution_count": 40,
   "metadata": {
    "vscode": {
     "languageId": "r"
    }
   },
   "outputs": [
    {
     "name": "stdout",
     "output_type": "stream",
     "text": [
      "[1] 2.500000 1.666667 4.545455 1.250000       NA       NA       NA\n"
     ]
    }
   ],
   "source": [
    "print(loop1.result)"
   ]
  },
  {
   "cell_type": "code",
   "execution_count": 41,
   "metadata": {
    "vscode": {
     "languageId": "r"
    }
   },
   "outputs": [
    {
     "name": "stdout",
     "output_type": "stream",
     "text": [
      "[1] 2.500000 1.666667 4.545455 1.250000       NA 1.219512 1.666667\n"
     ]
    }
   ],
   "source": [
    "loop2.result <- rep(NA,length(bar))\n",
    "for(i in 1:length(bar)){\n",
    "  if(bar[i]==0){\n",
    "    next\n",
    "  }\n",
    "  loop2.result[i] <- foo/bar[i]\n",
    "}\n",
    "print(loop2.result)"
   ]
  },
  {
   "cell_type": "code",
   "execution_count": 42,
   "metadata": {
    "vscode": {
     "languageId": "r"
    }
   },
   "outputs": [
    {
     "name": "stdout",
     "output_type": "stream",
     "text": [
      "     [,1] [,2] [,3] [,4]\n",
      "[1,]   45   40   35   30\n",
      "[2,]   NA   48   42   36\n",
      "[3,]   NA   NA   49   42\n"
     ]
    }
   ],
   "source": [
    "loopvec1 <- 5:7\n",
    "loopvec2 <- 9:6\n",
    "baz <- matrix(NA,length(loopvec1),length(loopvec2))\n",
    "for(i in 1:length(loopvec1)){\n",
    "  for(j in 1:length(loopvec2)){\n",
    "    temp <- loopvec1[i]*loopvec2[j]\n",
    "    if(temp>=54){\n",
    "      next\n",
    "    }\n",
    "    baz[i,j] <- temp\n",
    "  }\n",
    "}\n",
    "print(baz)"
   ]
  },
  {
   "cell_type": "markdown",
   "metadata": {},
   "source": [
    "##### Need to repeat It?"
   ]
  },
  {
   "cell_type": "code",
   "execution_count": 43,
   "metadata": {
    "vscode": {
     "languageId": "r"
    }
   },
   "outputs": [],
   "source": [
    "# repeat{\n",
    "#     do any code in here\n",
    "# }"
   ]
  },
  {
   "cell_type": "code",
   "execution_count": 91,
   "metadata": {
    "vscode": {
     "languageId": "r"
    }
   },
   "outputs": [
    {
     "name": "stdout",
     "output_type": "stream",
     "text": [
      "2, 3, 5, 8, 13, 21, 34, 55, 89, 144, 233, BREAK NOW...\n"
     ]
    }
   ],
   "source": [
    "fib.a <- 1\n",
    "fib.b <- 1\n",
    "repeat{\n",
    "  temp <- fib.a+fib.b\n",
    "  fib.a <- fib.b\n",
    "  fib.b <- temp\n",
    "  cat(fib.b,\", \",sep=\"\")\n",
    "  if(fib.b>150){\n",
    "    cat(\"BREAK NOW...\\n\")\n",
    "    break                              #using a break to stop the repeating\n",
    "  }\n",
    "}"
   ]
  },
  {
   "cell_type": "code",
   "execution_count": 44,
   "metadata": {
    "vscode": {
     "languageId": "r"
    }
   },
   "outputs": [],
   "source": [
    "#### WRITING FUNCTIONS"
   ]
  },
  {
   "cell_type": "code",
   "execution_count": 45,
   "metadata": {
    "vscode": {
     "languageId": "r"
    }
   },
   "outputs": [],
   "source": [
    "# functionname <- function(arg1,arg2,arg3,...){\n",
    "#     do any code in here when called\n",
    "#     return(returnobject)\n",
    "# }"
   ]
  },
  {
   "cell_type": "code",
   "execution_count": 46,
   "metadata": {
    "vscode": {
     "languageId": "r"
    }
   },
   "outputs": [],
   "source": [
    "myfib <- function(){\n",
    "  fib.a <- 1\n",
    "  fib.b <- 1\n",
    "  cat(fib.a,\", \",fib.b,\", \",sep=\"\")\n",
    "  repeat{\n",
    "    temp <- fib.a+fib.b\n",
    "    fib.a <- fib.b\n",
    "    fib.b <- temp\n",
    "    cat(fib.b,\", \",sep=\"\")\n",
    "    if(fib.b>150){\n",
    "      cat(\"BREAK NOW...\")\n",
    "      break\n",
    "    }\n",
    "  }\n",
    "}"
   ]
  },
  {
   "cell_type": "code",
   "execution_count": 47,
   "metadata": {
    "vscode": {
     "languageId": "r"
    }
   },
   "outputs": [
    {
     "name": "stdout",
     "output_type": "stream",
     "text": [
      "1, 1, 2, 3, 5, 8, 13, 21, 34, 55, 89, 144, 233, BREAK NOW..."
     ]
    }
   ],
   "source": [
    "myfib()"
   ]
  },
  {
   "cell_type": "code",
   "execution_count": 48,
   "metadata": {
    "vscode": {
     "languageId": "r"
    }
   },
   "outputs": [],
   "source": [
    "myfib2 <- function(thresh){\n",
    "  fib.a <- 1\n",
    "  fib.b <- 1\n",
    "  cat(fib.a,\", \",fib.b,\", \",sep=\"\")\n",
    "  repeat{\n",
    "    temp <- fib.a+fib.b\n",
    "    fib.a <- fib.b\n",
    "    fib.b <- temp\n",
    "    cat(fib.b,\", \",sep=\"\")\n",
    "    if(fib.b>thresh){\n",
    "      cat(\"BREAK NOW...\")\n",
    "      break\n",
    "    }\n",
    "  }\n",
    "}"
   ]
  },
  {
   "cell_type": "code",
   "execution_count": 49,
   "metadata": {
    "vscode": {
     "languageId": "r"
    }
   },
   "outputs": [
    {
     "name": "stdout",
     "output_type": "stream",
     "text": [
      "1, 1, 2, 3, 5, 8, 13, 21, 34, 55, 89, 144, 233, BREAK NOW..."
     ]
    }
   ],
   "source": [
    "myfib2(thresh=150)"
   ]
  },
  {
   "cell_type": "code",
   "execution_count": 50,
   "metadata": {
    "vscode": {
     "languageId": "r"
    }
   },
   "outputs": [
    {
     "name": "stdout",
     "output_type": "stream",
     "text": [
      "1, 1, 2, 3, 5, 8, 13, 21, 34, 55, 89, 144, 233, 377, 610, 987, 1597, 2584, 4181, 6765, 10946, 17711, 28657, 46368, 75025, 121393, 196418, 317811, 514229, 832040, 1346269, BREAK NOW..."
     ]
    }
   ],
   "source": [
    "myfib2(1000000)"
   ]
  },
  {
   "cell_type": "code",
   "execution_count": 51,
   "metadata": {
    "vscode": {
     "languageId": "r"
    }
   },
   "outputs": [],
   "source": [
    "myfib3 <- function(thresh){\n",
    "  fibseq <- c(1,1)\n",
    "  counter <- 2\n",
    "  repeat{\n",
    "    fibseq <- c(fibseq,fibseq[counter-1]+fibseq[counter])\n",
    "    counter <- counter+1\n",
    "    if(fibseq[counter]>thresh){\n",
    "      break\n",
    "    }\n",
    "  }\n",
    "  return(fibseq)\n",
    "}"
   ]
  },
  {
   "cell_type": "code",
   "execution_count": 53,
   "metadata": {
    "vscode": {
     "languageId": "r"
    }
   },
   "outputs": [
    {
     "name": "stdout",
     "output_type": "stream",
     "text": [
      " [1]   1   1   2   3   5   8  13  21  34  55  89 144 233\n"
     ]
    }
   ],
   "source": [
    "print(myfib3(150))"
   ]
  },
  {
   "cell_type": "code",
   "execution_count": 54,
   "metadata": {
    "vscode": {
     "languageId": "r"
    }
   },
   "outputs": [],
   "source": [
    "foo <- myfib3(10000)"
   ]
  },
  {
   "cell_type": "code",
   "execution_count": 55,
   "metadata": {
    "vscode": {
     "languageId": "r"
    }
   },
   "outputs": [
    {
     "name": "stdout",
     "output_type": "stream",
     "text": [
      " [1]     1     1     2     3     5     8    13    21    34    55    89   144\n",
      "[13]   233   377   610   987  1597  2584  4181  6765 10946\n"
     ]
    }
   ],
   "source": [
    "print(foo)"
   ]
  },
  {
   "cell_type": "markdown",
   "metadata": {},
   "source": [
    "##### To return or Not to return？"
   ]
  },
  {
   "cell_type": "code",
   "execution_count": 14,
   "metadata": {
    "vscode": {
     "languageId": "r"
    }
   },
   "outputs": [],
   "source": [
    "dummy1 <- function(){\n",
    "  aa <- 2.5\n",
    "  bb <- \"string me along\"\n",
    "  cc <- \"string 'em up\"\n",
    "  dd <- 4:8\n",
    "}\n",
    "\n",
    "dummy2 <- function(){\n",
    "  aa <- 2.5\n",
    "  bb <- \"string me along\"\n",
    "  cc <- \"string 'em up\"\n",
    "  dd <- 4:8\n",
    "  return(dd)\n",
    "}"
   ]
  },
  {
   "cell_type": "code",
   "execution_count": 15,
   "metadata": {
    "vscode": {
     "languageId": "r"
    }
   },
   "outputs": [
    {
     "name": "stdout",
     "output_type": "stream",
     "text": [
      "[1] 4 5 6 7 8\n"
     ]
    }
   ],
   "source": [
    "foo <- dummy1()\n",
    "print(foo)"
   ]
  },
  {
   "cell_type": "code",
   "execution_count": 16,
   "metadata": {
    "vscode": {
     "languageId": "r"
    }
   },
   "outputs": [
    {
     "name": "stdout",
     "output_type": "stream",
     "text": [
      "[1] 4 5 6 7 8\n"
     ]
    }
   ],
   "source": [
    "bar <- dummy2()\n",
    "print(bar)"
   ]
  },
  {
   "cell_type": "code",
   "execution_count": 17,
   "metadata": {
    "vscode": {
     "languageId": "r"
    }
   },
   "outputs": [
    {
     "name": "stdout",
     "output_type": "stream",
     "text": [
      "[1] 2.5\n"
     ]
    }
   ],
   "source": [
    "dummy3 <- function(){\n",
    "  aa <- 2.5\n",
    "  bb <- \"string me along\"\n",
    "  return(aa)\n",
    "  cc <- \"string 'em up\"\n",
    "  dd <- 4:8\n",
    "  return(bb)\n",
    "}\n",
    "baz <- dummy3()\n",
    "print(baz)"
   ]
  },
  {
   "cell_type": "code",
   "execution_count": 18,
   "metadata": {
    "vscode": {
     "languageId": "r"
    }
   },
   "outputs": [],
   "source": [
    "dummy1 <- function(){\n",
    "  aa <- 2.5\n",
    "  bb <- \"string me along\"\n",
    "  cc <- \"string 'em up\"\n",
    "  dd <- 4:8\n",
    "  print(aa)\n",
    "}\n",
    "dummy2 <- function(){\n",
    "  aa <- 2.5\n",
    "  bb <- \"string me along\"\n",
    "  cc <- \"string 'em up\"\n",
    "  dd <- 4:8\n",
    "  cat(aa,'\\n')\n",
    "}"
   ]
  },
  {
   "cell_type": "code",
   "execution_count": 30,
   "metadata": {
    "vscode": {
     "languageId": "r"
    }
   },
   "outputs": [
    {
     "name": "stdout",
     "output_type": "stream",
     "text": [
      "1NULL\n",
      "NULL\n"
     ]
    }
   ],
   "source": [
    "a<-1\n",
    "b<-cat(a)\n",
    "print(b)"
   ]
  },
  {
   "cell_type": "code",
   "execution_count": 19,
   "metadata": {
    "vscode": {
     "languageId": "r"
    }
   },
   "outputs": [
    {
     "name": "stdout",
     "output_type": "stream",
     "text": [
      "[1] 2.5\n",
      "[1] 2.5\n"
     ]
    }
   ],
   "source": [
    "print(dummy1())"
   ]
  },
  {
   "cell_type": "code",
   "execution_count": 20,
   "metadata": {
    "vscode": {
     "languageId": "r"
    }
   },
   "outputs": [
    {
     "name": "stdout",
     "output_type": "stream",
     "text": [
      "2.5 \n",
      "NULL\n"
     ]
    }
   ],
   "source": [
    "print(dummy2())"
   ]
  },
  {
   "cell_type": "markdown",
   "metadata": {},
   "source": [
    "##### Arguments"
   ]
  },
  {
   "cell_type": "code",
   "execution_count": 27,
   "metadata": {
    "vscode": {
     "languageId": "r"
    }
   },
   "outputs": [],
   "source": [
    "# search through a specified list for matrix objects and attempt to \n",
    "# post-multiply each with another matrix specified as a second argument\n",
    "multiples1 <- function(x,mat,str1,str2){\n",
    "  matrix.flags <- sapply(x,FUN=is.matrix)\n",
    "  \n",
    "  if(!any(matrix.flags)){\n",
    "    return(str1)\n",
    "  }\n",
    "  \n",
    "  indexes <- which(matrix.flags)\n",
    "  counter <- 0\n",
    "  result <- list()\n",
    "  for(i in indexes){\n",
    "    temp <- x[[i]]\n",
    "    if(ncol(temp)==nrow(mat)){\n",
    "      counter <- counter+1\n",
    "      result[[counter]] <- temp%*%mat\n",
    "    }\n",
    "  }\n",
    "  \n",
    "  if(counter==0){\n",
    "    return(str2)\n",
    "  } else {\n",
    "    return(result)\n",
    "  }\n",
    "}"
   ]
  },
  {
   "cell_type": "code",
   "execution_count": 28,
   "metadata": {
    "vscode": {
     "languageId": "r"
    }
   },
   "outputs": [],
   "source": [
    "foo <- list(matrix(1:4,2,2),\"not a matrix\",\"definitely not a matrix\",matrix(1:8,2,4),matrix(1:8,4,2))\n",
    "bar <- list(1:4,\"not a matrix\",c(F,T,T,T),\"??\")\n",
    "baz <- list(1:4,\"not a matrix\",c(F,T,T,T),\"??\",matrix(1:8,2,4))"
   ]
  },
  {
   "cell_type": "code",
   "execution_count": 23,
   "metadata": {
    "vscode": {
     "languageId": "r"
    }
   },
   "outputs": [
    {
     "data": {
      "text/html": [
       "<ol>\n",
       "\t<li><table class=\"dataframe\">\n",
       "<caption>A matrix: 2 × 2 of type dbl</caption>\n",
       "<tbody>\n",
       "\t<tr><td>1</td><td>3</td></tr>\n",
       "\t<tr><td>2</td><td>4</td></tr>\n",
       "</tbody>\n",
       "</table>\n",
       "</li>\n",
       "\t<li><table class=\"dataframe\">\n",
       "<caption>A matrix: 4 × 2 of type dbl</caption>\n",
       "<tbody>\n",
       "\t<tr><td>1</td><td>5</td></tr>\n",
       "\t<tr><td>2</td><td>6</td></tr>\n",
       "\t<tr><td>3</td><td>7</td></tr>\n",
       "\t<tr><td>4</td><td>8</td></tr>\n",
       "</tbody>\n",
       "</table>\n",
       "</li>\n",
       "</ol>\n"
      ],
      "text/latex": [
       "\\begin{enumerate}\n",
       "\\item A matrix: 2 × 2 of type dbl\n",
       "\\begin{tabular}{ll}\n",
       "\t 1 & 3\\\\\n",
       "\t 2 & 4\\\\\n",
       "\\end{tabular}\n",
       "\n",
       "\\item A matrix: 4 × 2 of type dbl\n",
       "\\begin{tabular}{ll}\n",
       "\t 1 & 5\\\\\n",
       "\t 2 & 6\\\\\n",
       "\t 3 & 7\\\\\n",
       "\t 4 & 8\\\\\n",
       "\\end{tabular}\n",
       "\n",
       "\\end{enumerate}\n"
      ],
      "text/markdown": [
       "1. \n",
       "A matrix: 2 × 2 of type dbl\n",
       "\n",
       "| 1 | 3 |\n",
       "| 2 | 4 |\n",
       "\n",
       "\n",
       "2. \n",
       "A matrix: 4 × 2 of type dbl\n",
       "\n",
       "| 1 | 5 |\n",
       "| 2 | 6 |\n",
       "| 3 | 7 |\n",
       "| 4 | 8 |\n",
       "\n",
       "\n",
       "\n",
       "\n"
      ],
      "text/plain": [
       "[[1]]\n",
       "     [,1] [,2]\n",
       "[1,]    1    3\n",
       "[2,]    2    4\n",
       "\n",
       "[[2]]\n",
       "     [,1] [,2]\n",
       "[1,]    1    5\n",
       "[2,]    2    6\n",
       "[3,]    3    7\n",
       "[4,]    4    8\n"
      ]
     },
     "metadata": {},
     "output_type": "display_data"
    }
   ],
   "source": [
    "multiples1(x=foo,mat=diag(2),str1=\"no matrices in 'x'\",str2=\"matrices in 'x' but none of appropriate dimensions given 'mat'\")"
   ]
  },
  {
   "cell_type": "code",
   "execution_count": 24,
   "metadata": {
    "vscode": {
     "languageId": "r"
    }
   },
   "outputs": [
    {
     "data": {
      "text/html": [
       "'no matrices in \\'x\\''"
      ],
      "text/latex": [
       "'no matrices in \\textbackslash{}'x\\textbackslash{}''"
      ],
      "text/markdown": [
       "'no matrices in \\'x\\''"
      ],
      "text/plain": [
       "[1] \"no matrices in 'x'\""
      ]
     },
     "metadata": {},
     "output_type": "display_data"
    }
   ],
   "source": [
    "multiples1(x=bar,mat=diag(2),str1=\"no matrices in 'x'\",str2=\"matrices in 'x' but none of appropriate dimensions given 'mat'\")"
   ]
  },
  {
   "cell_type": "code",
   "execution_count": 25,
   "metadata": {
    "vscode": {
     "languageId": "r"
    }
   },
   "outputs": [
    {
     "data": {
      "text/html": [
       "'matrices in \\'x\\' but none of appropriate dimensions given \\'mat\\''"
      ],
      "text/latex": [
       "'matrices in \\textbackslash{}'x\\textbackslash{}' but none of appropriate dimensions given \\textbackslash{}'mat\\textbackslash{}''"
      ],
      "text/markdown": [
       "'matrices in \\'x\\' but none of appropriate dimensions given \\'mat\\''"
      ],
      "text/plain": [
       "[1] \"matrices in 'x' but none of appropriate dimensions given 'mat'\""
      ]
     },
     "metadata": {},
     "output_type": "display_data"
    }
   ],
   "source": [
    "multiples1(x=baz,mat=diag(2),str1=\"no matrices in 'x'\",str2=\"matrices in 'x' but none of appropriate dimensions given 'mat'\")"
   ]
  },
  {
   "cell_type": "code",
   "execution_count": 26,
   "metadata": {
    "vscode": {
     "languageId": "r"
    }
   },
   "outputs": [
    {
     "data": {
      "text/html": [
       "<ol>\n",
       "\t<li><table class=\"dataframe\">\n",
       "<caption>A matrix: 2 × 2 of type dbl</caption>\n",
       "<tbody>\n",
       "\t<tr><td>1</td><td>3</td></tr>\n",
       "\t<tr><td>2</td><td>4</td></tr>\n",
       "</tbody>\n",
       "</table>\n",
       "</li>\n",
       "\t<li><table class=\"dataframe\">\n",
       "<caption>A matrix: 4 × 2 of type dbl</caption>\n",
       "<tbody>\n",
       "\t<tr><td>1</td><td>5</td></tr>\n",
       "\t<tr><td>2</td><td>6</td></tr>\n",
       "\t<tr><td>3</td><td>7</td></tr>\n",
       "\t<tr><td>4</td><td>8</td></tr>\n",
       "</tbody>\n",
       "</table>\n",
       "</li>\n",
       "</ol>\n"
      ],
      "text/latex": [
       "\\begin{enumerate}\n",
       "\\item A matrix: 2 × 2 of type dbl\n",
       "\\begin{tabular}{ll}\n",
       "\t 1 & 3\\\\\n",
       "\t 2 & 4\\\\\n",
       "\\end{tabular}\n",
       "\n",
       "\\item A matrix: 4 × 2 of type dbl\n",
       "\\begin{tabular}{ll}\n",
       "\t 1 & 5\\\\\n",
       "\t 2 & 6\\\\\n",
       "\t 3 & 7\\\\\n",
       "\t 4 & 8\\\\\n",
       "\\end{tabular}\n",
       "\n",
       "\\end{enumerate}\n"
      ],
      "text/markdown": [
       "1. \n",
       "A matrix: 2 × 2 of type dbl\n",
       "\n",
       "| 1 | 3 |\n",
       "| 2 | 4 |\n",
       "\n",
       "\n",
       "2. \n",
       "A matrix: 4 × 2 of type dbl\n",
       "\n",
       "| 1 | 5 |\n",
       "| 2 | 6 |\n",
       "| 3 | 7 |\n",
       "| 4 | 8 |\n",
       "\n",
       "\n",
       "\n",
       "\n"
      ],
      "text/plain": [
       "[[1]]\n",
       "     [,1] [,2]\n",
       "[1,]    1    3\n",
       "[2,]    2    4\n",
       "\n",
       "[[2]]\n",
       "     [,1] [,2]\n",
       "[1,]    1    5\n",
       "[2,]    2    6\n",
       "[3,]    3    7\n",
       "[4,]    4    8\n"
      ]
     },
     "metadata": {},
     "output_type": "display_data"
    }
   ],
   "source": [
    "# lazy evaluation\n",
    "multiples1(x=foo,mat=diag(2))"
   ]
  },
  {
   "cell_type": "code",
   "execution_count": 75,
   "metadata": {
    "vscode": {
     "languageId": "r"
    }
   },
   "outputs": [
    {
     "ename": "ERROR",
     "evalue": "Error in multiples1(x = bar, mat = diag(2)): 缺少参数\"str1\",也没有缺省值\n",
     "output_type": "error",
     "traceback": [
      "Error in multiples1(x = bar, mat = diag(2)): 缺少参数\"str1\",也没有缺省值\nTraceback:\n",
      "1. multiples1(x = bar, mat = diag(2))"
     ]
    }
   ],
   "source": [
    "#multiples1(x=bar,mat=diag(2))"
   ]
  },
  {
   "cell_type": "markdown",
   "metadata": {},
   "source": [
    "##### Setting Defaults"
   ]
  },
  {
   "cell_type": "code",
   "execution_count": 76,
   "metadata": {
    "vscode": {
     "languageId": "r"
    }
   },
   "outputs": [],
   "source": [
    "# default values for str1 and str2\n",
    "multiples2 <- function(x,mat,str1=\"no valid matrices\",str2=str1){  \n",
    "  matrix.flags <- sapply(x,FUN=is.matrix)\n",
    "  \n",
    "  if(!any(matrix.flags)){\n",
    "    return(str1)\n",
    "  }\n",
    "  \n",
    "  indexes <- which(matrix.flags)\n",
    "  counter <- 0\n",
    "  result <- list()\n",
    "  for(i in indexes){\n",
    "    temp <- x[[i]]\n",
    "    if(ncol(temp)==nrow(mat)){\n",
    "      counter <- counter+1\n",
    "      result[[counter]] <- temp%*%mat\n",
    "    }\n",
    "  }\n",
    "  \n",
    "  if(counter==0){\n",
    "    return(str2)\n",
    "  } else {\n",
    "    return(result)\n",
    "  }\n",
    "}"
   ]
  },
  {
   "cell_type": "code",
   "execution_count": 77,
   "metadata": {
    "vscode": {
     "languageId": "r"
    }
   },
   "outputs": [
    {
     "data": {
      "text/html": [
       "<ol>\n",
       "\t<li><table>\n",
       "<tbody>\n",
       "\t<tr><td>1</td><td>3</td></tr>\n",
       "\t<tr><td>2</td><td>4</td></tr>\n",
       "</tbody>\n",
       "</table>\n",
       "</li>\n",
       "\t<li><table>\n",
       "<tbody>\n",
       "\t<tr><td>1</td><td>5</td></tr>\n",
       "\t<tr><td>2</td><td>6</td></tr>\n",
       "\t<tr><td>3</td><td>7</td></tr>\n",
       "\t<tr><td>4</td><td>8</td></tr>\n",
       "</tbody>\n",
       "</table>\n",
       "</li>\n",
       "</ol>\n"
      ],
      "text/latex": [
       "\\begin{enumerate}\n",
       "\\item \\begin{tabular}{ll}\n",
       "\t 1 & 3\\\\\n",
       "\t 2 & 4\\\\\n",
       "\\end{tabular}\n",
       "\n",
       "\\item \\begin{tabular}{ll}\n",
       "\t 1 & 5\\\\\n",
       "\t 2 & 6\\\\\n",
       "\t 3 & 7\\\\\n",
       "\t 4 & 8\\\\\n",
       "\\end{tabular}\n",
       "\n",
       "\\end{enumerate}\n"
      ],
      "text/markdown": [
       "1. \n",
       "| 1 | 3 |\n",
       "| 2 | 4 |\n",
       "\n",
       "\n",
       "2. \n",
       "| 1 | 5 |\n",
       "| 2 | 6 |\n",
       "| 3 | 7 |\n",
       "| 4 | 8 |\n",
       "\n",
       "\n",
       "\n",
       "\n"
      ],
      "text/plain": [
       "[[1]]\n",
       "     [,1] [,2]\n",
       "[1,]    1    3\n",
       "[2,]    2    4\n",
       "\n",
       "[[2]]\n",
       "     [,1] [,2]\n",
       "[1,]    1    5\n",
       "[2,]    2    6\n",
       "[3,]    3    7\n",
       "[4,]    4    8\n"
      ]
     },
     "metadata": {},
     "output_type": "display_data"
    },
    {
     "data": {
      "text/html": [
       "'no valid matrices'"
      ],
      "text/latex": [
       "'no valid matrices'"
      ],
      "text/markdown": [
       "'no valid matrices'"
      ],
      "text/plain": [
       "[1] \"no valid matrices\""
      ]
     },
     "metadata": {},
     "output_type": "display_data"
    },
    {
     "data": {
      "text/html": [
       "'no valid matrices'"
      ],
      "text/latex": [
       "'no valid matrices'"
      ],
      "text/markdown": [
       "'no valid matrices'"
      ],
      "text/plain": [
       "[1] \"no valid matrices\""
      ]
     },
     "metadata": {},
     "output_type": "display_data"
    }
   ],
   "source": [
    "multiples2(foo,mat=diag(2))\n",
    "multiples2(bar,mat=diag(2))\n",
    "multiples2(baz,mat=diag(2))"
   ]
  },
  {
   "cell_type": "markdown",
   "metadata": {},
   "source": [
    "##### Checking for Missing Arguments"
   ]
  },
  {
   "cell_type": "code",
   "execution_count": 78,
   "metadata": {
    "vscode": {
     "languageId": "r"
    }
   },
   "outputs": [],
   "source": [
    "multiples3 <- function(x,mat,str1,str2){\n",
    "  matrix.flags <- sapply(x,FUN=is.matrix)\n",
    "  \n",
    "  if(!any(matrix.flags)){\n",
    "    #missing can be used to test whether a value was specified as an argument to a function\n",
    "    if(missing(str1)){             \n",
    "      return(\"'str1' was missing, so this is the message\")\n",
    "    } else {\n",
    "      return(str1)\n",
    "    }\n",
    "  }\n",
    "  \n",
    "  indexes <- which(matrix.flags)\n",
    "  counter <- 0\n",
    "  result <- list()\n",
    "  for(i in indexes){\n",
    "    temp <- x[[i]]\n",
    "    if(ncol(temp)==nrow(mat)){\n",
    "      counter <- counter+1\n",
    "      result[[counter]] <- temp%*%mat\n",
    "    }\n",
    "  }\n",
    "  \n",
    "  if(counter==0){\n",
    "    if(missing(str2)){\n",
    "      return(\"'str2' was missing, so this is the message\")\n",
    "    } else {\n",
    "      return(str2)\n",
    "    }\n",
    "  } else {\n",
    "    return(result)\n",
    "  }\n",
    "}"
   ]
  },
  {
   "cell_type": "code",
   "execution_count": 79,
   "metadata": {
    "vscode": {
     "languageId": "r"
    }
   },
   "outputs": [
    {
     "data": {
      "text/html": [
       "<ol>\n",
       "\t<li><table>\n",
       "<tbody>\n",
       "\t<tr><td>1</td><td>3</td></tr>\n",
       "\t<tr><td>2</td><td>4</td></tr>\n",
       "</tbody>\n",
       "</table>\n",
       "</li>\n",
       "\t<li><table>\n",
       "<tbody>\n",
       "\t<tr><td>1</td><td>5</td></tr>\n",
       "\t<tr><td>2</td><td>6</td></tr>\n",
       "\t<tr><td>3</td><td>7</td></tr>\n",
       "\t<tr><td>4</td><td>8</td></tr>\n",
       "</tbody>\n",
       "</table>\n",
       "</li>\n",
       "</ol>\n"
      ],
      "text/latex": [
       "\\begin{enumerate}\n",
       "\\item \\begin{tabular}{ll}\n",
       "\t 1 & 3\\\\\n",
       "\t 2 & 4\\\\\n",
       "\\end{tabular}\n",
       "\n",
       "\\item \\begin{tabular}{ll}\n",
       "\t 1 & 5\\\\\n",
       "\t 2 & 6\\\\\n",
       "\t 3 & 7\\\\\n",
       "\t 4 & 8\\\\\n",
       "\\end{tabular}\n",
       "\n",
       "\\end{enumerate}\n"
      ],
      "text/markdown": [
       "1. \n",
       "| 1 | 3 |\n",
       "| 2 | 4 |\n",
       "\n",
       "\n",
       "2. \n",
       "| 1 | 5 |\n",
       "| 2 | 6 |\n",
       "| 3 | 7 |\n",
       "| 4 | 8 |\n",
       "\n",
       "\n",
       "\n",
       "\n"
      ],
      "text/plain": [
       "[[1]]\n",
       "     [,1] [,2]\n",
       "[1,]    1    3\n",
       "[2,]    2    4\n",
       "\n",
       "[[2]]\n",
       "     [,1] [,2]\n",
       "[1,]    1    5\n",
       "[2,]    2    6\n",
       "[3,]    3    7\n",
       "[4,]    4    8\n"
      ]
     },
     "metadata": {},
     "output_type": "display_data"
    },
    {
     "data": {
      "text/html": [
       "'\\'str1\\' was missing, so this is the message'"
      ],
      "text/latex": [
       "'\\textbackslash{}'str1\\textbackslash{}' was missing, so this is the message'"
      ],
      "text/markdown": [
       "'\\'str1\\' was missing, so this is the message'"
      ],
      "text/plain": [
       "[1] \"'str1' was missing, so this is the message\""
      ]
     },
     "metadata": {},
     "output_type": "display_data"
    },
    {
     "data": {
      "text/html": [
       "'\\'str2\\' was missing, so this is the message'"
      ],
      "text/latex": [
       "'\\textbackslash{}'str2\\textbackslash{}' was missing, so this is the message'"
      ],
      "text/markdown": [
       "'\\'str2\\' was missing, so this is the message'"
      ],
      "text/plain": [
       "[1] \"'str2' was missing, so this is the message\""
      ]
     },
     "metadata": {},
     "output_type": "display_data"
    }
   ],
   "source": [
    "multiples3(foo,diag(2))\n",
    "multiples3(bar,diag(2))\n",
    "multiples3(baz,diag(2))"
   ]
  },
  {
   "cell_type": "markdown",
   "metadata": {},
   "source": [
    "##### Dealing with Ellipses"
   ]
  },
  {
   "cell_type": "code",
   "execution_count": 80,
   "metadata": {
    "vscode": {
     "languageId": "r"
    }
   },
   "outputs": [],
   "source": [
    "# The ellipsis allows extra arguments to be passed in without needing to be\n",
    "# explicitly defined in the argument list, and these arguments can then be\n",
    "# passed to another function call within the code body.\n",
    "myfibplot <- function(thresh,plotit=TRUE,...){\n",
    "  fibseq <- c(1,1)\n",
    "  counter <- 2\n",
    "  repeat{\n",
    "    fibseq <- c(fibseq,fibseq[counter-1]+fibseq[counter])\n",
    "    counter <- counter+1\n",
    "    if(fibseq[counter]>thresh){\n",
    "      break\n",
    "    }\n",
    "  }\n",
    "  \n",
    "  if(plotit){\n",
    "    plot(1:length(fibseq),fibseq,...)\n",
    "  } else {\n",
    "    return(fibseq)\n",
    "  }\n",
    "}"
   ]
  },
  {
   "cell_type": "code",
   "execution_count": 81,
   "metadata": {
    "vscode": {
     "languageId": "r"
    }
   },
   "outputs": [
    {
     "data": {
      "image/png": "[encoded data removed]",
      "text/plain": [
       "plot without title"
      ]
     },
     "metadata": {},
     "output_type": "display_data"
    }
   ],
   "source": [
    "myfibplot(150)"
   ]
  },
  {
   "cell_type": "code",
   "execution_count": 82,
   "metadata": {
    "vscode": {
     "languageId": "r"
    }
   },
   "outputs": [
    {
     "data": {
      "image/png": "[encoded data removed]",
      "text/plain": [
       "Plot with title \"Terms of the Fibonacci sequence\""
      ]
     },
     "metadata": {},
     "output_type": "display_data"
    }
   ],
   "source": [
    "myfibplot(150,type=\"b\",pch=4,lty=2,main=\"Terms of the Fibonacci sequence\",ylab=\"Fibonacci number\",xlab=\"Term (n)\")"
   ]
  },
  {
   "cell_type": "code",
   "execution_count": 83,
   "metadata": {
    "vscode": {
     "languageId": "r"
    }
   },
   "outputs": [],
   "source": [
    "# unpack arguments to a list\n",
    "unpackme <- function(...){\n",
    "  x <- list(...)\n",
    "  cat(\"Here is ... in its entirety as a list:\\n\")\n",
    "  print(x)\n",
    "  cat(\"\\nThe names of ... are:\",names(x),\"\\n\\n\")\n",
    "  cat(\"\\nThe classes of ... are:\",sapply(x,class))\n",
    "}"
   ]
  },
  {
   "cell_type": "code",
   "execution_count": 84,
   "metadata": {
    "vscode": {
     "languageId": "r"
    }
   },
   "outputs": [
    {
     "name": "stdout",
     "output_type": "stream",
     "text": [
      "Here is ... in its entirety as a list:\n",
      "$aa\n",
      "     [,1] [,2]\n",
      "[1,]    1    3\n",
      "[2,]    2    4\n",
      "\n",
      "$bb\n",
      "[1] TRUE\n",
      "\n",
      "$cc\n",
      "[1] \"two\"     \"strings\"\n",
      "\n",
      "$dd\n",
      "[1] 1 1 2 1\n",
      "Levels: 1 2\n",
      "\n",
      "\n",
      "The names of ... are: aa bb cc dd \n",
      "\n",
      "\n",
      "The classes of ... are: matrix logical character factor"
     ]
    }
   ],
   "source": [
    "unpackme(aa=matrix(1:4,2,2),bb=TRUE,cc=c(\"two\",\"strings\"),dd=factor(c(1,1,2,1)))"
   ]
  },
  {
   "cell_type": "code",
   "execution_count": 85,
   "metadata": {
    "vscode": {
     "languageId": "r"
    }
   },
   "outputs": [
    {
     "name": "stdout",
     "output_type": "stream",
     "text": [
      "Here is ... in its entirety as a list:\n",
      "[[1]]\n",
      "[1] \"a\"\n",
      "\n",
      "[[2]]\n",
      "[1] \"b\"\n",
      "\n",
      "[[3]]\n",
      "[1] \"c\"\n",
      "\n",
      "\n",
      "The names of ... are: \n",
      "\n",
      "\n",
      "The classes of ... are: character character character"
     ]
    }
   ],
   "source": [
    "unpackme('a','b','c')"
   ]
  },
  {
   "cell_type": "markdown",
   "metadata": {},
   "source": [
    "##### Disposable Functions"
   ]
  },
  {
   "cell_type": "code",
   "execution_count": 88,
   "metadata": {
    "vscode": {
     "languageId": "r"
    }
   },
   "outputs": [
    {
     "data": {
      "text/html": [
       "<table>\n",
       "<tbody>\n",
       "\t<tr><td>2</td><td>2</td><td>3</td><td>2</td></tr>\n",
       "\t<tr><td>2</td><td>2</td><td>3</td><td>2</td></tr>\n",
       "\t<tr><td>3</td><td>4</td><td>3</td><td>6</td></tr>\n",
       "\t<tr><td>3</td><td>4</td><td>3</td><td>6</td></tr>\n",
       "\t<tr><td>3</td><td>4</td><td>7</td><td>7</td></tr>\n",
       "\t<tr><td>3</td><td>4</td><td>7</td><td>7</td></tr>\n",
       "</tbody>\n",
       "</table>\n"
      ],
      "text/latex": [
       "\\begin{tabular}{llll}\n",
       "\t 2 & 2 & 3 & 2\\\\\n",
       "\t 2 & 2 & 3 & 2\\\\\n",
       "\t 3 & 4 & 3 & 6\\\\\n",
       "\t 3 & 4 & 3 & 6\\\\\n",
       "\t 3 & 4 & 7 & 7\\\\\n",
       "\t 3 & 4 & 7 & 7\\\\\n",
       "\\end{tabular}\n"
      ],
      "text/markdown": [
       "\n",
       "| 2 | 2 | 3 | 2 |\n",
       "| 2 | 2 | 3 | 2 |\n",
       "| 3 | 4 | 3 | 6 |\n",
       "| 3 | 4 | 3 | 6 |\n",
       "| 3 | 4 | 7 | 7 |\n",
       "| 3 | 4 | 7 | 7 |\n",
       "\n"
      ],
      "text/plain": [
       "     [,1] [,2] [,3] [,4]\n",
       "[1,] 2    2    3    2   \n",
       "[2,] 2    2    3    2   \n",
       "[3,] 3    4    3    6   \n",
       "[4,] 3    4    3    6   \n",
       "[5,] 3    4    7    7   \n",
       "[6,] 3    4    7    7   "
      ]
     },
     "metadata": {},
     "output_type": "display_data"
    }
   ],
   "source": [
    "foo <- matrix(c(2,3,3,4,2,4,7,3,3,6,7,2),3,4)\n",
    "apply(foo,MARGIN=2,FUN=function(x){sort(rep(x,2))})"
   ]
  },
  {
   "cell_type": "markdown",
   "metadata": {},
   "source": [
    "##### Recursive Functions"
   ]
  },
  {
   "cell_type": "code",
   "execution_count": 90,
   "metadata": {
    "vscode": {
     "languageId": "r"
    }
   },
   "outputs": [
    {
     "data": {
      "text/html": [
       "55"
      ],
      "text/latex": [
       "55"
      ],
      "text/markdown": [
       "55"
      ],
      "text/plain": [
       "[1] 55"
      ]
     },
     "metadata": {},
     "output_type": "display_data"
    }
   ],
   "source": [
    "myfibrec <- function(n){\n",
    "  if(n==1||n==2){\n",
    "    return(1)\n",
    "  } else {\n",
    "    return(myfibrec(n-1)+myfibrec(n-2))\n",
    "  }\n",
    "}\n",
    "myfibrec(10)"
   ]
  },
  {
   "cell_type": "code",
   "execution_count": null,
   "metadata": {
    "vscode": {
     "languageId": "r"
    }
   },
   "outputs": [],
   "source": []
  }
 ],
 "metadata": {
  "kernelspec": {
   "display_name": "R",
   "language": "R",
   "name": "ir"
  },
  "language_info": {
   "codemirror_mode": "r",
   "file_extension": ".r",
   "mimetype": "text/x-r-source",
   "name": "R",
   "pygments_lexer": "r",
   "version": "4.4.3"
  }
 },
 "nbformat": 4,
 "nbformat_minor": 4
}
